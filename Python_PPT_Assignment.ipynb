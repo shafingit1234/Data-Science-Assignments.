{
 "cells": [
  {
   "cell_type": "markdown",
   "id": "0fc727f7-fc3e-45d3-acc7-1947f6fcfbc2",
   "metadata": {},
   "source": [
    "1. Write a Python program to reverse a string without using any built-in string reversal functions."
   ]
  },
  {
   "cell_type": "code",
   "execution_count": 10,
   "id": "605dfdbf-f607-48ed-9890-6e313428cf41",
   "metadata": {},
   "outputs": [
    {
     "name": "stdout",
     "output_type": "stream",
     "text": [
      "Reverse of string  shafin  is  nifahs\n"
     ]
    },
    {
     "data": {
      "text/plain": [
       "'nifahs'"
      ]
     },
     "execution_count": 10,
     "metadata": {},
     "output_type": "execute_result"
    }
   ],
   "source": [
    "def reverseString(s):\n",
    "    ans = \"\"\n",
    "    for ch in s:\n",
    "        ans = ch + ans\n",
    "    print(\"Reverse of string \", s , \" is \" ,ans)\n",
    "    return ans;\n",
    "\n",
    "reverseString(\"shafin\")"
   ]
  },
  {
   "cell_type": "markdown",
   "id": "769dd17f-62c1-4a6f-9a99-5f29ea4facb1",
   "metadata": {},
   "source": [
    "2. Implement a function to check if a given string is a palindrome."
   ]
  },
  {
   "cell_type": "code",
   "execution_count": 12,
   "id": "2e070531-a306-4711-bb1c-cbd6713689ba",
   "metadata": {},
   "outputs": [
    {
     "name": "stdout",
     "output_type": "stream",
     "text": [
      "Reverse of string  1221  is  1221\n",
      "String is a palindrome!!\n"
     ]
    }
   ],
   "source": [
    "str_one = \"1221\"\n",
    "reverse_str = reverseString(str_one)\n",
    "if(str_one == reverse_str):\n",
    "    print(\"String is a palindrome!!\")\n",
    "else:\n",
    "    print(\"String is not a palindrome!!\")\n"
   ]
  },
  {
   "cell_type": "markdown",
   "id": "572acee2-2733-41ab-996c-cb41c0a4eb42",
   "metadata": {},
   "source": [
    "3. Write a program to find the largest element in a given list."
   ]
  },
  {
   "cell_type": "code",
   "execution_count": 21,
   "id": "3d4ef0e7-edc4-4b1a-95d6-b647c6cf0c13",
   "metadata": {},
   "outputs": [
    {
     "name": "stdout",
     "output_type": "stream",
     "text": [
      "Maximum element present in the list is  10101\n"
     ]
    }
   ],
   "source": [
    "import sys\n",
    "ls = [1,2,3,4,4,5,6,6,7,7,8,9,10101,1,2]\n",
    "mx = ~sys.maxsize\n",
    "for i in ls:\n",
    "    mx = max(mx, i)\n",
    "print(\"Maximum element present in the list is \" , mx)"
   ]
  },
  {
   "cell_type": "markdown",
   "id": "2923e7a4-e0fb-4a12-a6e1-ef5c175e3c3c",
   "metadata": {},
   "source": [
    "4. Implement a function to count the occurrence of each element in a list."
   ]
  },
  {
   "cell_type": "code",
   "execution_count": 26,
   "id": "010c0e24-eca7-4cf0-9b77-7163aec388b8",
   "metadata": {},
   "outputs": [
    {
     "name": "stdout",
     "output_type": "stream",
     "text": [
      "Element  1  frequency  2\n",
      "Element  2  frequency  2\n",
      "Element  3  frequency  1\n",
      "Element  4  frequency  2\n",
      "Element  5  frequency  1\n",
      "Element  6  frequency  2\n",
      "Element  7  frequency  2\n",
      "Element  8  frequency  1\n",
      "Element  9  frequency  1\n",
      "Element  10101  frequency  1\n"
     ]
    }
   ],
   "source": [
    "dc = dict()\n",
    "for i in ls:\n",
    "    # dc[i] = dc[i] + 1\n",
    "    if i in dc:\n",
    "        temp = dc[i]\n",
    "        dc[i] = temp + 1\n",
    "    else:\n",
    "        dc[i] = 1\n",
    "\n",
    "for key in dc:\n",
    "    print(\"Element \", key , \" frequency \", dc[key])\n"
   ]
  },
  {
   "cell_type": "markdown",
   "id": "6a3a393f-b639-43ad-a442-26260dbb4093",
   "metadata": {},
   "source": [
    "5. Write a Python program to find the second largest number in a list."
   ]
  },
  {
   "cell_type": "code",
   "execution_count": 28,
   "id": "8e1194e7-ae19-49f2-9bbe-a4e5bf865a43",
   "metadata": {},
   "outputs": [
    {
     "name": "stdout",
     "output_type": "stream",
     "text": [
      "second largest number in the given list is  9\n"
     ]
    }
   ],
   "source": [
    "import sys\n",
    "def findSecondLargestNumber(ls):\n",
    "    mx = ~sys.maxsize\n",
    "    for i in ls:\n",
    "        mx = max(mx, i)\n",
    "    ans = ~sys.maxsize\n",
    "    for i in ls:\n",
    "        if i == mx:\n",
    "            continue\n",
    "        ans = max(ans, i)\n",
    "    print(\"second largest number in the given list is \" , ans)\n",
    "    \n",
    "findSecondLargestNumber(ls)"
   ]
  },
  {
   "cell_type": "markdown",
   "id": "f12ced71-fd97-4749-ae21-bbe9b82612cf",
   "metadata": {},
   "source": [
    "6. Implement a function to remove duplicate elements from a list."
   ]
  },
  {
   "cell_type": "code",
   "execution_count": 34,
   "id": "bedde4bf-7b4f-4147-a63c-90410eaea9a8",
   "metadata": {},
   "outputs": [
    {
     "name": "stdout",
     "output_type": "stream",
     "text": [
      "List after removing duplicates \n",
      "1 2 3 4 6 7 11 "
     ]
    }
   ],
   "source": [
    "duplicateList = [1,11,1,1,1,1,2,2,2,2,3,3,3,3,3,3,4,4,4,4,4,4,6,6,7]\n",
    "st = set()\n",
    "for i in duplicateList:\n",
    "    if i in st:\n",
    "        continue\n",
    "    st.add(i)\n",
    "\n",
    "temp = list()\n",
    "for i in st:\n",
    "    temp.append(i)\n",
    "    \n",
    "print(\"List after removing duplicates \")\n",
    "for i in temp:\n",
    "    print(i , end=' ')\n"
   ]
  },
  {
   "cell_type": "markdown",
   "id": "5f49b29f-1bca-4592-a496-5e0b8fd9f2fb",
   "metadata": {},
   "source": [
    "7. Write a program to calculate the factorial of a given number."
   ]
  },
  {
   "cell_type": "code",
   "execution_count": 36,
   "id": "32c9f18e-2020-426d-b3ff-330dcb0b6464",
   "metadata": {},
   "outputs": [
    {
     "name": "stdout",
     "output_type": "stream",
     "text": [
      "Factorial of number  5  is  120\n"
     ]
    }
   ],
   "source": [
    "def findFactorial(m):\n",
    "    ans = 1\n",
    "    for i in range(1, m+1):\n",
    "        ans = ans*i;\n",
    "    print(\"Factorial of number \" , m , \" is \" , ans)\n",
    "\n",
    "findFactorial(5)"
   ]
  },
  {
   "cell_type": "markdown",
   "id": "48f6a8bc-2ec6-48dd-9fec-1519df36dfea",
   "metadata": {},
   "source": [
    "8. Implement a function to check if a given number is prime."
   ]
  },
  {
   "cell_type": "code",
   "execution_count": 41,
   "id": "46f916ed-747e-4e70-a4cf-b79f2acbbca0",
   "metadata": {},
   "outputs": [
    {
     "name": "stdout",
     "output_type": "stream",
     "text": [
      "number  7  is a prime number\n"
     ]
    }
   ],
   "source": [
    "def checkPrime(num):\n",
    "    ans = True\n",
    "    for i in range(2, num):\n",
    "        if num%i == 0:\n",
    "            ans = False\n",
    "            break\n",
    "    return ans\n",
    "num = 7\n",
    "temp = checkPrime(num)\n",
    "if temp == True:\n",
    "    print(\"number \", num , \" is a prime number\")\n",
    "else:\n",
    "    print(\"number \", num , \" is not a prime number\")"
   ]
  },
  {
   "cell_type": "markdown",
   "id": "eefb86f5-375f-41f7-9403-870924dd7d84",
   "metadata": {},
   "source": [
    "9. Write a Python program to sort a list of integers in ascending order."
   ]
  },
  {
   "cell_type": "code",
   "execution_count": 44,
   "id": "a41faa81-b662-441a-a7c5-c36d7eb08d86",
   "metadata": {},
   "outputs": [
    {
     "name": "stdout",
     "output_type": "stream",
     "text": [
      "List after sorting\n",
      "[0, 0, 0, 1, 1, 1, 1, 2, 2, 3, 4, 9, 9, 40]\n"
     ]
    }
   ],
   "source": [
    "numbers = [1, 3, 4, 2,9,9,0,0,0,1,2,1,1,40]\n",
    "# print(numbers.sort()) \n",
    "numbers.sort()\n",
    "print(\"List after sorting\");\n",
    "print(numbers)         \n",
    "   "
   ]
  },
  {
   "cell_type": "markdown",
   "id": "90122d4d-8051-4d71-9ffb-270a0689bef5",
   "metadata": {},
   "source": [
    "10. Implement a function to find the sum of all numbers in a list."
   ]
  },
  {
   "cell_type": "code",
   "execution_count": 45,
   "id": "1363ee3d-578a-4eb3-aee0-4685cd4665b3",
   "metadata": {},
   "outputs": [
    {
     "name": "stdout",
     "output_type": "stream",
     "text": [
      "Sum of all elements in the list called numbers is  73\n"
     ]
    }
   ],
   "source": [
    "sum = 0\n",
    "for i in numbers:\n",
    "    sum = sum + i\n",
    "print(\"Sum of all elements in the list called numbers is \" , sum)\n"
   ]
  },
  {
   "cell_type": "markdown",
   "id": "7ef851c0-6697-426a-8762-1d6f60775330",
   "metadata": {},
   "source": [
    "11. Write a program to find the common elements between two lists."
   ]
  },
  {
   "cell_type": "code",
   "execution_count": 50,
   "id": "7ef1c99b-9dba-4658-acc8-ced9fad66c13",
   "metadata": {},
   "outputs": [
    {
     "name": "stdout",
     "output_type": "stream",
     "text": [
      "Common elements are: \n",
      "[1, 2, 3]\n"
     ]
    }
   ],
   "source": [
    "ls_one = [1,2,3,3,3,3,4,2,3,4,6]\n",
    "ls_two = [1,2,3,7]\n",
    "ls_one.sort()\n",
    "ls_two.sort()\n",
    "\n",
    "ans = list()\n",
    "for i in ls_one:\n",
    "    # print(i)\n",
    "    if i in ls_two and i not in ans:\n",
    "        ans.append(i)\n",
    "        \n",
    "print(\"Common elements are: \")\n",
    "print(ans)"
   ]
  },
  {
   "cell_type": "markdown",
   "id": "49fe9e4e-0f73-4d6d-ac64-b6b60fb51f15",
   "metadata": {},
   "source": [
    "12. Implement a function to check if a given string is an anagram of another string."
   ]
  },
  {
   "cell_type": "code",
   "execution_count": 58,
   "id": "10f05832-1640-4eed-957c-deee49472e8b",
   "metadata": {},
   "outputs": [
    {
     "name": "stdout",
     "output_type": "stream",
     "text": [
      "strings  listen  ans  silent  are anagrams\n"
     ]
    }
   ],
   "source": [
    "def checkAnagram(s1, s2):\n",
    "    if len(s1) != len(s2):\n",
    "        return False\n",
    "    for ch in s1:\n",
    "        # print(ch)\n",
    "        if ch not in s2:\n",
    "            # print(\"Not anagram!!\")\n",
    "            return False\n",
    "    for ch in s2:\n",
    "        if ch not in s1:\n",
    "            return False\n",
    "    # print(\"Anagram!!\")\n",
    "    return True\n",
    "    \n",
    "s1 = \"listen\"\n",
    "s2 = \"silent\"\n",
    "if(checkAnagram(s1, s2)):\n",
    "    print(\"strings \" , s1, \" ans \" , s2 , \" are anagrams\")\n",
    "else:\n",
    "    print(\"s1 \",s1  , \" and s2\" , s2 , \" are not anagrams\")\n"
   ]
  },
  {
   "cell_type": "markdown",
   "id": "bf1207be-a6b0-4467-8f7e-a430d1dcda5a",
   "metadata": {},
   "source": [
    "13. Write a Python program to generate all permutations of a given string."
   ]
  },
  {
   "cell_type": "code",
   "execution_count": 59,
   "id": "9200b6cc-8d2a-4227-9872-ea81bb660efd",
   "metadata": {},
   "outputs": [
    {
     "name": "stdout",
     "output_type": "stream",
     "text": [
      "ABC\n",
      "ACB\n",
      "BAC\n",
      "BCA\n",
      "CBA\n",
      "CAB\n"
     ]
    }
   ],
   "source": [
    "def toString(List):\n",
    "    return ''.join(List)\n",
    "\n",
    "def permute(a, l, r):\n",
    "    if l == r:\n",
    "        print (toString(a))\n",
    "    else:\n",
    "        for i in range(l, r + 1):\n",
    "            a[l], a[i] = a[i], a[l]\n",
    "            permute(a, l + 1, r)\n",
    "            a[l], a[i] = a[i], a[l]\n",
    " \n",
    "string = \"ABC\"\n",
    "n = len(string)\n",
    "a = list(string)\n",
    "permute(a, 0, n-1)"
   ]
  },
  {
   "cell_type": "markdown",
   "id": "41981f87-8574-4d21-bb5f-22918afdd516",
   "metadata": {},
   "source": [
    "14. Implement a function to calculate the Fibonacci sequence up to a given number of terms."
   ]
  },
  {
   "cell_type": "code",
   "execution_count": 60,
   "id": "f71cc225-a4b4-4a70-a4bf-0eb2b830feca",
   "metadata": {},
   "outputs": [
    {
     "name": "stdin",
     "output_type": "stream",
     "text": [
      "How many terms?  8\n"
     ]
    },
    {
     "name": "stdout",
     "output_type": "stream",
     "text": [
      "Fibonacci sequence:\n",
      "0\n",
      "1\n",
      "1\n",
      "2\n",
      "3\n",
      "5\n",
      "8\n",
      "13\n"
     ]
    }
   ],
   "source": [
    "nterms = int(input(\"How many terms? \"))\n",
    "n1, n2 = 0, 1\n",
    "count = 0\n",
    "if nterms <= 0:\n",
    "   print(\"Please enter a positive integer\")\n",
    "elif nterms == 1:\n",
    "   print(\"Fibonacci sequence upto\",nterms,\":\")\n",
    "   print(n1)\n",
    "else:\n",
    "   print(\"Fibonacci sequence:\")\n",
    "   while count < nterms:\n",
    "       print(n1)\n",
    "       nth = n1 + n2\n",
    "       n1 = n2\n",
    "       n2 = nth\n",
    "       count += 1"
   ]
  },
  {
   "cell_type": "markdown",
   "id": "24eb533b-0325-44cc-83ea-c119686f297b",
   "metadata": {},
   "source": [
    "15. Write a program to find the median of a list of numbers."
   ]
  },
  {
   "cell_type": "code",
   "execution_count": 68,
   "id": "f3faed76-284a-4095-80b4-bb6e9d5e40be",
   "metadata": {},
   "outputs": [
    {
     "name": "stdout",
     "output_type": "stream",
     "text": [
      "The original list : [4, 5, 8, 9, 10, 17]\n",
      "<class 'int'>\n",
      "Median of list is : 8.5\n"
     ]
    }
   ],
   "source": [
    "test_list = [4, 5, 8, 9, 10, 17]\n",
    "print(\"The original list : \" + str(test_list))\n",
    "\n",
    "test_list.sort()\n",
    "mid = len(test_list) // 2\n",
    "# print(type(mid))\n",
    "res = (test_list[mid] + test_list[~mid]) / 2\n",
    "print(\"Median of list is : \" + str(res))"
   ]
  },
  {
   "cell_type": "markdown",
   "id": "900a2388-2162-4f3c-9cd7-177065be3a9e",
   "metadata": {},
   "source": [
    "16. Implement a function to check if a given list is sorted in non-decreasing order."
   ]
  },
  {
   "cell_type": "code",
   "execution_count": 74,
   "id": "5cf67df8-e0d9-4cd9-9e5a-f727106a26b5",
   "metadata": {},
   "outputs": [
    {
     "name": "stdout",
     "output_type": "stream",
     "text": [
      "yes!! sorted in decreasing order\n"
     ]
    }
   ],
   "source": [
    "ls = [1,2,3]\n",
    "temp = sorted(ls)\n",
    "if temp == ls:\n",
    "    print(\"yes!! sorted in decreasing order\")\n",
    "else:\n",
    "    print(\"No!! sorted in decreasing order\")"
   ]
  },
  {
   "cell_type": "markdown",
   "id": "8bf994d8-d92d-4f98-9afa-e87228ec175d",
   "metadata": {},
   "source": [
    "17. Write a Python program to find the intersection of two lists."
   ]
  },
  {
   "cell_type": "code",
   "execution_count": 75,
   "id": "04604866-1f64-49c0-9724-14b87423b357",
   "metadata": {},
   "outputs": [
    {
     "name": "stdout",
     "output_type": "stream",
     "text": [
      "[9, 11, 26, 28]\n"
     ]
    }
   ],
   "source": [
    "def intersection(lst1, lst2):\n",
    "    lst3 = [value for value in lst1 if value in lst2]\n",
    "    return lst3\n",
    "\n",
    "lst1 = [4, 9, 1, 17, 11, 26, 28, 54, 69]\n",
    "lst2 = [9, 9, 74, 21, 45, 11, 63, 28, 26]\n",
    "print(intersection(lst1, lst2))"
   ]
  },
  {
   "cell_type": "markdown",
   "id": "48c0b9cc-904f-406e-81ab-b4ace6e44c59",
   "metadata": {},
   "source": [
    "18. Implement a function to find the maximum subarray sum in a given list."
   ]
  },
  {
   "cell_type": "code",
   "execution_count": 145,
   "id": "9edcf145-dbbe-4c01-a54e-c8458082f14b",
   "metadata": {},
   "outputs": [
    {
     "name": "stdout",
     "output_type": "stream",
     "text": [
      "Maximum contiguous sum is 7\n"
     ]
    }
   ],
   "source": [
    "from sys import maxsize\n",
    " \n",
    " \n",
    "def maxSubArraySum(a, size):\n",
    " \n",
    "    max_so_far = -maxsize - 1\n",
    "    max_ending_here = 0\n",
    " \n",
    "    for i in range(0, size):\n",
    "        max_ending_here = max_ending_here + a[i]\n",
    "        if (max_so_far < max_ending_here):\n",
    "            max_so_far = max_ending_here\n",
    " \n",
    "        if max_ending_here < 0:\n",
    "            max_ending_here = 0\n",
    "    return max_so_far\n",
    "\n",
    " \n",
    " \n",
    "a = [-2, -3, 4, -1, -2, 1, 5, -3]\n",
    " \n",
    "print(\"Maximum contiguous sum is\", maxSubArraySum(a, len(a)))"
   ]
  },
  {
   "cell_type": "markdown",
   "id": "28fdf241-263a-4d98-8df5-9ed923af9e5f",
   "metadata": {},
   "source": [
    "19. Write a program to remove all vowels from a given string."
   ]
  },
  {
   "cell_type": "code",
   "execution_count": 77,
   "id": "adbed2dc-8450-4d7e-8a69-ecc4c02a3996",
   "metadata": {},
   "outputs": [
    {
     "name": "stdout",
     "output_type": "stream",
     "text": [
      "My nm s shfn!! ys\n"
     ]
    }
   ],
   "source": [
    "def rem_vowel(string):\n",
    "    vowels = ['a','e','i','o','u']\n",
    "    result = [letter for letter in string if letter.lower() not in vowels]\n",
    "    result = ''.join(result)\n",
    "    print(result)\n",
    "  \n",
    "\n",
    "string = \"My name is shafin!! yes\"\n",
    "rem_vowel(string)"
   ]
  },
  {
   "cell_type": "markdown",
   "id": "e27e2fcb-3265-4576-b2ff-eeeb0adb99ff",
   "metadata": {},
   "source": [
    "20. Implement a function to reverse the order of words in a given sentence."
   ]
  },
  {
   "cell_type": "code",
   "execution_count": 79,
   "id": "3e9cb217-f9f6-45c9-9578-80397b612eae",
   "metadata": {},
   "outputs": [
    {
     "name": "stdout",
     "output_type": "stream",
     "text": [
      "shafin is name My\n"
     ]
    }
   ],
   "source": [
    "def reverse_word(s, start, end):\n",
    "    while start < end:\n",
    "        s[start], s[end] = s[end], s[start]\n",
    "        start = start + 1\n",
    "        end -= 1\n",
    " \n",
    " \n",
    "s = \"My name is shafin\"\n",
    "s = list(s)\n",
    "start = 0\n",
    "while True:\n",
    "    try:\n",
    "        end = s.index(' ', start)\n",
    "        reverse_word(s, start, end - 1)\n",
    "        start = end + 1\n",
    " \n",
    "    except ValueError:\n",
    "        reverse_word(s, start, len(s) - 1)\n",
    "        break\n",
    "\n",
    "s.reverse()\n",
    "s = \"\".join(s)\n",
    " \n",
    "print(s)"
   ]
  },
  {
   "cell_type": "markdown",
   "id": "15ea620a-1595-4274-96d0-989a0ca5e90e",
   "metadata": {},
   "source": [
    "21. Write a Python program to check if two strings are anagrams of each other."
   ]
  },
  {
   "cell_type": "code",
   "execution_count": 80,
   "id": "3e06204e-d3cd-48a7-a1a1-de9567b7c764",
   "metadata": {},
   "outputs": [
    {
     "name": "stdout",
     "output_type": "stream",
     "text": [
      "strings  listen  ans  silent  are anagrams\n"
     ]
    }
   ],
   "source": [
    "def checkAnagram(s1, s2):\n",
    "    if len(s1) != len(s2):\n",
    "        return False\n",
    "    for ch in s1:\n",
    "        # print(ch)\n",
    "        if ch not in s2:\n",
    "            # print(\"Not anagram!!\")\n",
    "            return False\n",
    "    for ch in s2:\n",
    "        if ch not in s1:\n",
    "            return False\n",
    "    # print(\"Anagram!!\")\n",
    "    return True\n",
    "    \n",
    "s1 = \"listen\"\n",
    "s2 = \"silent\"\n",
    "if(checkAnagram(s1, s2)):\n",
    "    print(\"strings \" , s1, \" ans \" , s2 , \" are anagrams\")\n",
    "else:\n",
    "    print(\"s1 \",s1  , \" and s2\" , s2 , \" are not anagrams\")"
   ]
  },
  {
   "cell_type": "markdown",
   "id": "ed56e573-d78a-42be-9ca6-9a6bb3695110",
   "metadata": {},
   "source": [
    "22. Implement a function to find the first non-repeating character in a string."
   ]
  },
  {
   "cell_type": "code",
   "execution_count": 81,
   "id": "28a5b8a2-cc43-4938-896b-65519c9170e0",
   "metadata": {},
   "outputs": [
    {
     "name": "stdout",
     "output_type": "stream",
     "text": [
      "First non-repeating character is h\n"
     ]
    }
   ],
   "source": [
    "string = \"shafinleetcodegeeks\"\n",
    "index = -1\n",
    "fnc = \"\"\n",
    " \n",
    "if len(string) == 0 :\n",
    "  print(\"EMTPY STRING\");\n",
    " \n",
    "for i in string:\n",
    "    if string.count(i) == 1:\n",
    "        fnc += i\n",
    "        break\n",
    "    else:\n",
    "        index += 1\n",
    "if index == len(string)-1 :\n",
    "    print(\"All characters are repeating \")\n",
    "else:\n",
    "    print(\"First non-repeating character is\", fnc)"
   ]
  },
  {
   "cell_type": "markdown",
   "id": "4db8da73-5d2b-4d5a-90e2-89ad7f665a39",
   "metadata": {},
   "source": [
    "23. Write a program to find the prime factors of a given number."
   ]
  },
  {
   "cell_type": "code",
   "execution_count": 88,
   "id": "ea411873-b32a-4c25-a22b-4fa433b715ba",
   "metadata": {},
   "outputs": [
    {
     "name": "stdout",
     "output_type": "stream",
     "text": [
      "Prime factors of  315  are \n",
      "3 3 5 7 "
     ]
    }
   ],
   "source": [
    "import math\n",
    "\n",
    "def primeFactors(n):\n",
    "\n",
    "    while n % 2 == 0:\n",
    "        print(2 , end = ' ')\n",
    "        n = n / 2\n",
    "\n",
    "    for i in range(3,int(math.sqrt(n))+1,2):\n",
    "\n",
    "        while n % i== 0:\n",
    "            print(i , end = ' '),\n",
    "            n = n / i\n",
    "\n",
    "    if n > 2:\n",
    "        print(n , end = ' ')\n",
    "n = 315\n",
    "print(\"Prime factors of \", n, \" are \")\n",
    "primeFactors(n)"
   ]
  },
  {
   "cell_type": "markdown",
   "id": "42ecfe79-bee5-4692-bdf8-669e7af18a71",
   "metadata": {},
   "source": [
    "25. Write a Python program to merge two sorted lists into a single sorted list."
   ]
  },
  {
   "cell_type": "code",
   "execution_count": 89,
   "id": "a3924c66-42e6-405c-b711-6818e621b569",
   "metadata": {},
   "outputs": [
    {
     "name": "stdout",
     "output_type": "stream",
     "text": [
      "The original list 1 is : [1, 5, 6, 9, 11]\n",
      "The original list 2 is : [3, 4, 7, 8, 10]\n",
      "The combined sorted list is : [1, 3, 4, 5, 6, 7, 8, 9, 10, 11]\n"
     ]
    }
   ],
   "source": [
    "\n",
    "test_list1 = [1, 5, 6, 9, 11]\n",
    "test_list2 = [3, 4, 7, 8, 10]\n",
    "\n",
    "print(\"The original list 1 is : \" + str(test_list1))\n",
    "print(\"The original list 2 is : \" + str(test_list2))\n",
    "\n",
    "size_1 = len(test_list1)\n",
    "size_2 = len(test_list2)\n",
    " \n",
    "res = []\n",
    "i, j = 0, 0\n",
    " \n",
    "while i < size_1 and j < size_2:\n",
    "    if test_list1[i] < test_list2[j]:\n",
    "        res.append(test_list1[i])\n",
    "        i += 1\n",
    " \n",
    "    else:\n",
    "        res.append(test_list2[j])\n",
    "        j += 1\n",
    " \n",
    "res = res + test_list1[i:] + test_list2[j:]\n",
    "print(\"The combined sorted list is : \" + str(res))"
   ]
  },
  {
   "cell_type": "markdown",
   "id": "1d0d61cb-daaf-4af9-897e-07000d26933a",
   "metadata": {},
   "source": [
    "26. Implement a function to find the mode of a list of numbers."
   ]
  },
  {
   "cell_type": "code",
   "execution_count": 90,
   "id": "2dda3e1e-7893-4210-85f3-004247dd6fbf",
   "metadata": {},
   "outputs": [
    {
     "name": "stdout",
     "output_type": "stream",
     "text": [
      "Mode is / are: 5\n"
     ]
    }
   ],
   "source": [
    "from collections import Counter\n",
    "n_num = [1, 2, 3, 4, 5, 5]\n",
    "n = len(n_num)\n",
    " \n",
    "data = Counter(n_num)\n",
    "get_mode = dict(data)\n",
    "mode = [k for k, v in get_mode.items() if v == max(list(data.values()))]\n",
    " \n",
    "if len(mode) == n:\n",
    "    get_mode = \"No mode found\"\n",
    "else:\n",
    "    get_mode = \"Mode is / are: \" + ', '.join(map(str, mode))\n",
    "     \n",
    "print(get_mode)"
   ]
  },
  {
   "cell_type": "markdown",
   "id": "076e31c4-1065-4c7a-afb5-5c8236d2cf4c",
   "metadata": {},
   "source": [
    "27. Write a program to find the greatest common divisor (GCD) of two numbers."
   ]
  },
  {
   "cell_type": "code",
   "execution_count": 91,
   "id": "aefc68a1-da47-478b-a2ef-8a91da5efeef",
   "metadata": {},
   "outputs": [
    {
     "name": "stdout",
     "output_type": "stream",
     "text": [
      "GCD of 98 and 56 is 14\n"
     ]
    }
   ],
   "source": [
    "def gcd(a, b):\n",
    "    result = min(a, b)\n",
    " \n",
    "    while result:\n",
    "        if a % result == 0 and b % result == 0:\n",
    "            break\n",
    "        result -= 1\n",
    "    return result\n",
    " \n",
    "if __name__ == '__main__':\n",
    "    a = 98\n",
    "    b = 56\n",
    "    print(f\"GCD of {a} and {b} is {gcd(a, b)}\")"
   ]
  },
  {
   "cell_type": "markdown",
   "id": "4021bdb0-4fde-4480-b07a-08ce02756b16",
   "metadata": {},
   "source": [
    "28. Implement a function to calculate the square root of a given number."
   ]
  },
  {
   "cell_type": "code",
   "execution_count": 92,
   "id": "d10a985b-a26d-42a0-adce-c588dd2e6feb",
   "metadata": {},
   "outputs": [
    {
     "name": "stdout",
     "output_type": "stream",
     "text": [
      "3\n"
     ]
    }
   ],
   "source": [
    "def floorSqrt(x):\n",
    "    if (x == 0 or x == 1):\n",
    "        return x\n",
    "\n",
    "    i = 1\n",
    "    result = 1\n",
    "    while (result <= x):\n",
    " \n",
    "        i += 1\n",
    "        result = i * i\n",
    " \n",
    "    return i - 1\n",
    "\n",
    "x = 11\n",
    "print(floorSqrt(x))"
   ]
  },
  {
   "cell_type": "markdown",
   "id": "4c1af5ee-016c-402d-9d84-7e8b60ed5ad7",
   "metadata": {},
   "source": [
    "Write a Python program to check if a given string is a valid palindrome ignoring non-alphanumeric characters."
   ]
  },
  {
   "cell_type": "code",
   "execution_count": 99,
   "id": "5eece721-289d-4840-8c9a-57cff215a6f2",
   "metadata": {},
   "outputs": [
    {
     "name": "stdout",
     "output_type": "stream",
     "text": [
      "Yes\n"
     ]
    }
   ],
   "source": [
    "def isPalindrome(s):\n",
    "    return s == s[::-1]\n",
    " \n",
    "def removeNumbers(s):\n",
    "    numbers = ['1' , '2' , '3' , '4' , '5' , '6' , '7' , '8' , '9']\n",
    "    temp = \"\"\n",
    "    for ch in s:\n",
    "        if ch not in numbers:\n",
    "            temp = temp + ch\n",
    "    return temp\n",
    "# Driver code\n",
    "s = \"malay123432323alam\"\n",
    "temp = removeNumbers(s)\n",
    "ans = isPalindrome(temp)\n",
    " \n",
    "if ans:\n",
    "    print(\"Yes\")\n",
    "else:\n",
    "    print(\"No\")"
   ]
  },
  {
   "cell_type": "markdown",
   "id": "df9419a9-08aa-4f6f-85a8-3b4fd4f7a37c",
   "metadata": {},
   "source": [
    "30. Implement a function to find the minimum element in a rotated sorted list."
   ]
  },
  {
   "cell_type": "code",
   "execution_count": 101,
   "id": "e78ea405-cf38-46c8-810e-2a258de6267d",
   "metadata": {},
   "outputs": [
    {
     "name": "stdout",
     "output_type": "stream",
     "text": [
      "1\n"
     ]
    }
   ],
   "source": [
    "def findMin(arr, N):\n",
    "     \n",
    "    min_ele = arr[0];\n",
    "    for i in range(N) :\n",
    "        if arr[i] < min_ele :\n",
    "            min_ele = arr[i]\n",
    " \n",
    "    return min_ele;\n",
    "\n",
    "arr = [5, 6, 1, 2, 3, 4]\n",
    "N = len(arr)\n",
    " \n",
    "print(findMin(arr,N))\n",
    " "
   ]
  },
  {
   "cell_type": "markdown",
   "id": "81869c58-831d-427e-a379-dcc0961bfa9e",
   "metadata": {},
   "source": [
    "31. Write a program to find the sum of all even numbers in a list."
   ]
  },
  {
   "cell_type": "code",
   "execution_count": 102,
   "id": "31be1b1c-7efe-4568-ad19-3a40eda2ce03",
   "metadata": {},
   "outputs": [
    {
     "name": "stdout",
     "output_type": "stream",
     "text": [
      "The original list is : [345, 893, 1948, 34, 2346]\n",
      "Even digit sum : 40\n"
     ]
    }
   ],
   "source": [
    "test_list = [345, 893, 1948, 34, 2346]\n",
    "print(\"The original list is : \" + str(test_list))\n",
    "even_sum = 0\n",
    " \n",
    "for sub in test_list:\n",
    "    for ele in str(sub):\n",
    "         \n",
    "        if int(ele) % 2 == 0:\n",
    "            even_sum += int(ele)\n",
    "\n",
    "print(\"Even digit sum : \" + str(even_sum))"
   ]
  },
  {
   "cell_type": "markdown",
   "id": "ab426557-ca50-458b-92f0-ba9a585eeff1",
   "metadata": {},
   "source": [
    "32. Implement a function to calculate the power of a number using recursion."
   ]
  },
  {
   "cell_type": "code",
   "execution_count": 103,
   "id": "890ad7b4-4465-4c06-966a-5b8042ad4dd4",
   "metadata": {},
   "outputs": [
    {
     "name": "stdout",
     "output_type": "stream",
     "text": [
      "25\n"
     ]
    }
   ],
   "source": [
    "def power(N, P):\n",
    "    if P == 0:\n",
    "        return 1\n",
    "\n",
    "    return (N*power(N, P-1))\n",
    " \n",
    " \n",
    "# Driver code\n",
    "if __name__ == '__main__':\n",
    "    N = 5\n",
    "    P = 2\n",
    " \n",
    "    print(power(N, P))"
   ]
  },
  {
   "cell_type": "markdown",
   "id": "0b67a6db-e459-4840-b6cf-7e6d6026f908",
   "metadata": {},
   "source": [
    "33. Write a Python program to remove duplicates from a list while preserving the order."
   ]
  },
  {
   "cell_type": "code",
   "execution_count": 104,
   "id": "e3e480b3-d9b2-4fca-bd56-bc94cf97a78e",
   "metadata": {},
   "outputs": [
    {
     "name": "stdout",
     "output_type": "stream",
     "text": [
      "Original lists:\n",
      "[2, 4, 3, 5, 4, 6, 9, 2, 1]\n",
      "Remove duplicates from the said list while preserving the order:\n",
      "[2, 4, 3, 5, 6, 9, 1]\n"
     ]
    }
   ],
   "source": [
    "def remove_duplicates(lst):\n",
    "    return list(dict.fromkeys(lst).keys())\n",
    "\n",
    "nums = [2,4,3,5,4,6,9,2,1]\n",
    "print(\"Original lists:\")\n",
    "print(nums)\n",
    "result = remove_duplicates(nums)\n",
    "print(\"Remove duplicates from the said list while preserving the order:\")\n",
    "print(result)\n"
   ]
  },
  {
   "cell_type": "markdown",
   "id": "f2c0b4c8-58c3-4937-8947-c2168e559121",
   "metadata": {},
   "source": [
    "34. Implement a function to find the longest common prefix among a list of strings."
   ]
  },
  {
   "cell_type": "code",
   "execution_count": 105,
   "id": "8321bb73-3a29-42e3-ac8b-bdc3725db33e",
   "metadata": {},
   "outputs": [
    {
     "name": "stdout",
     "output_type": "stream",
     "text": [
      "The longest Common Prefix is : gee\n"
     ]
    }
   ],
   "source": [
    "def longestCommonPrefix( a):\n",
    "     \n",
    "    size = len(a)\n",
    "    if (size == 0):\n",
    "        return \"\"\n",
    " \n",
    "    if (size == 1):\n",
    "        return a[0]\n",
    "    a.sort()\n",
    "    end = min(len(a[0]), len(a[size - 1]))\n",
    "    i = 0\n",
    "    while (i < end and\n",
    "           a[0][i] == a[size - 1][i]):\n",
    "        i += 1\n",
    " \n",
    "    pre = a[0][0: i]\n",
    "    return pre\n",
    " \n",
    "# Driver Code\n",
    "if __name__ == \"__main__\":\n",
    " \n",
    "    input = [\"geeksforgeeks\", \"geeks\",\n",
    "                     \"geek\", \"geezer\"]\n",
    "    print(\"The longest Common Prefix is :\" ,\n",
    "                 longestCommonPrefix(input))\n",
    " "
   ]
  },
  {
   "cell_type": "markdown",
   "id": "76362657-d457-45c3-93f8-e78bb9ff8709",
   "metadata": {},
   "source": [
    "35. Write a program to check if a given number is a perfect square."
   ]
  },
  {
   "cell_type": "code",
   "execution_count": 106,
   "id": "4b5e1c65-b07b-452f-abcb-ba0da534ea85",
   "metadata": {},
   "outputs": [
    {
     "name": "stdout",
     "output_type": "stream",
     "text": [
      "No\n"
     ]
    }
   ],
   "source": [
    "import math\n",
    " \n",
    " \n",
    "def isPerfectSquare(x):\n",
    "\n",
    "    if(x >= 0):\n",
    "        sr = int(math.sqrt(x))\n",
    "        return ((sr*sr) == x)\n",
    "    return false\n",
    "\n",
    " \n",
    " \n",
    "x = 2502\n",
    "if (isPerfectSquare(x)):\n",
    "    print(\"Yes\")\n",
    "else:\n",
    "    print(\"No\")"
   ]
  },
  {
   "cell_type": "markdown",
   "id": "596357f4-da2d-4b58-98bd-cf9c802cb191",
   "metadata": {},
   "source": [
    "36. Implement a function to calculate the product of all elements in a list."
   ]
  },
  {
   "cell_type": "code",
   "execution_count": 107,
   "id": "ed441086-4bad-4818-a7a8-6d8d30485bc0",
   "metadata": {},
   "outputs": [
    {
     "name": "stdout",
     "output_type": "stream",
     "text": [
      "Product of elements in the list is  5040\n"
     ]
    }
   ],
   "source": [
    "ls = [1,2,3,4,5,6,7]\n",
    "\n",
    "prod = 1\n",
    "for i in ls:\n",
    "    prod = prod*i\n",
    "print(\"Product of elements in the list is \" , prod)"
   ]
  },
  {
   "cell_type": "markdown",
   "id": "2082da9c-2deb-4b1f-aa84-d63bbf5196c7",
   "metadata": {},
   "source": [
    "Write a Python program to reverse the order of words in a sentence while preserving the word order."
   ]
  },
  {
   "cell_type": "code",
   "execution_count": 110,
   "id": "d1334fb8-9160-4a36-b54e-73abd6838333",
   "metadata": {},
   "outputs": [
    {
     "name": "stdout",
     "output_type": "stream",
     "text": [
      "secrofedoC si doog ot nrael\n"
     ]
    }
   ],
   "source": [
    "def reverseWordSentence(Sentence):\n",
    "    words = Sentence.split(\" \")\n",
    "    newWords = [word[::-1] for word in words]\n",
    "    newSentence = \" \".join(newWords)\n",
    " \n",
    "    return newSentence\n",
    "Sentence = \"Codeforces is good to learn\"\n",
    "\n",
    "print(reverseWordSentence(Sentence))"
   ]
  },
  {
   "cell_type": "markdown",
   "id": "de4e5f16-a69c-424b-826f-4951935de331",
   "metadata": {},
   "source": [
    "38. Implement a function to find the missing number in a given list of consecutive numbers."
   ]
  },
  {
   "cell_type": "code",
   "execution_count": 112,
   "id": "ef663e9e-7da3-42c1-be41-bfc530ceb763",
   "metadata": {},
   "outputs": [
    {
     "name": "stdout",
     "output_type": "stream",
     "text": [
      "4\n"
     ]
    }
   ],
   "source": [
    "def findMissing(arr, N):\n",
    "    temp = [0] * (N+1)\n",
    " \n",
    "    for i in range(0, N):\n",
    "        temp[arr[i] - 1] = 1\n",
    " \n",
    "    for i in range(0, N+1):\n",
    "        if(temp[i] == 0):\n",
    "            ans = i + 1\n",
    " \n",
    "    print(ans)\n",
    " \n",
    "# Driver code\n",
    "if __name__ == '__main__':\n",
    "    arr = [1, 2, 3, 5]\n",
    "    N = len(arr)\n",
    "    findMissing(arr, N)"
   ]
  },
  {
   "cell_type": "markdown",
   "id": "e69c091b-102b-4885-8426-91813bf5393c",
   "metadata": {},
   "source": [
    "Write a program to find the sum of digits of a given number."
   ]
  },
  {
   "cell_type": "code",
   "execution_count": 114,
   "id": "dd6397c1-0fd4-4a92-843d-4d3d1d145d9e",
   "metadata": {},
   "outputs": [
    {
     "name": "stdout",
     "output_type": "stream",
     "text": [
      "21\n"
     ]
    }
   ],
   "source": [
    "def getSum(n):\n",
    " \n",
    "    sum = 0\n",
    "    while (n != 0):\n",
    " \n",
    "        sum = sum + int(n % 10)\n",
    "        n = int(n/10)\n",
    " \n",
    "    return sum\n",
    " \n",
    " \n",
    "# Driver code\n",
    "if __name__ == \"__main__\":\n",
    "    n = 687\n",
    "    print(getSum(n))"
   ]
  },
  {
   "cell_type": "markdown",
   "id": "682639b0-9c48-4e31-9f69-4091f160cc48",
   "metadata": {},
   "source": [
    "Implement a function to check if a given string is a valid palindrome considering case sensitivity."
   ]
  },
  {
   "cell_type": "code",
   "execution_count": 141,
   "id": "d286fcfa-e21d-421d-a846-18924679f37c",
   "metadata": {},
   "outputs": [
    {
     "name": "stdout",
     "output_type": "stream",
     "text": [
      "YES\n"
     ]
    }
   ],
   "source": [
    "def firstPos(str, start, end):\n",
    " \n",
    "    firstChar = -1\n",
    "\n",
    "    for i in range(start, end + 1):\n",
    "        if (str[i] >= 'a' and str[i] <= 'z') :\n",
    "            firstChar = i\n",
    "            break\n",
    " \n",
    "    return firstChar\n",
    "\n",
    "def lastPos(str, start, end):\n",
    " \n",
    "    lastChar = -1\n",
    "    for i in range(start, end - 1, -1) :\n",
    "        if (str[i] >= 'a' and str[i] <= 'z') :\n",
    "            lastChar = i\n",
    "            break\n",
    " \n",
    "    return lastChar\n",
    " \n",
    "\n",
    "def isPalindrome(str):\n",
    " \n",
    "    firstChar = 0\n",
    "    lastChar = len(str) - 1\n",
    "    ch = True\n",
    " \n",
    "    for i in range(len(str)) :\n",
    "        firstChar = firstPos(str, firstChar, lastChar);\n",
    "        lastChar = lastPos(str, lastChar, firstChar);\n",
    "\n",
    "        if (lastChar < 0 or firstChar < 0):\n",
    "            break\n",
    "        if (str[firstChar] == str[lastChar]):\n",
    "            firstChar += 1\n",
    "            lastChar -= 1\n",
    "            continue\n",
    "\n",
    "        ch = False\n",
    "        break\n",
    " \n",
    "    return (ch)\n",
    " \n",
    "if __name__ == \"__main__\":\n",
    "     \n",
    "    str = \"m     a 343 la y a l am\"\n",
    "    if (isPalindrome(str)):\n",
    "        print(\"YES\")\n",
    "    else:\n",
    "        print(\"NO\")"
   ]
  },
  {
   "cell_type": "markdown",
   "id": "12df5772-7411-42d1-9090-eff867af1ed7",
   "metadata": {},
   "source": [
    "41. Write a Python program to find the smallest missing positive integer in a list."
   ]
  },
  {
   "cell_type": "code",
   "execution_count": 140,
   "id": "118d5cf7-e9b3-40fe-be91-4cb571a1506b",
   "metadata": {},
   "outputs": [
    {
     "name": "stdout",
     "output_type": "stream",
     "text": [
      "1\n"
     ]
    }
   ],
   "source": [
    "def solution(A):\n",
    " \n",
    "    m = max(A)\n",
    "    if m < 1:\n",
    "        return 1\n",
    "    if len(A) == 1:\n",
    "        return 2 if A[0] == 1 else 1\n",
    "    l = [0] * m\n",
    "    for i in range(len(A)):\n",
    "        if A[i] > 0:\n",
    "            if l[A[i] - 1] != 1:\n",
    "                l[A[i] - 1] = 1\n",
    "    for i in range(len(l)):\n",
    "        if l[i] == 0:\n",
    "            return i + 1\n",
    "    return i + 2\n",
    " \n",
    " \n",
    "# Driver Code\n",
    "if __name__ == '__main__':\n",
    "    arr = [0, 10, 2, -10, -20]\n",
    "    print(solution(arr))"
   ]
  },
  {
   "cell_type": "code",
   "execution_count": 139,
   "id": "a45c4117-88b2-4edd-8583-3f3eaae71e09",
   "metadata": {},
   "outputs": [
    {
     "name": "stdout",
     "output_type": "stream",
     "text": [
      "Longest palindrome substring is: geeksskeeg\n",
      "Length is: 10\n"
     ]
    }
   ],
   "source": [
    "def printSubStr(str, low, high):\n",
    "    for i in range(low, high + 1):\n",
    "        print(str[i], end=\"\")\n",
    "\n",
    "def longestPalSubstr(str):\n",
    "    n = len(str)\n",
    "    maxLength = 1\n",
    "    start = 0\n",
    "\n",
    "    for i in range(n):\n",
    "        for j in range(i, n):\n",
    "            flag = 1\n",
    "\n",
    "            for k in range(0, ((j - i) // 2) + 1):\n",
    "                if (str[i + k] != str[j - k]):\n",
    "                    flag = 0\n",
    "\n",
    "            if (flag != 0 and (j - i + 1) > maxLength):\n",
    "                start = i\n",
    "                maxLength = j - i + 1\n",
    " \n",
    "    print(\"Longest palindrome substring is: \", end=\"\")\n",
    "    printSubStr(str, start, start + maxLength - 1)\n",
    "    return maxLength\n",
    " \n",
    " \n",
    "# Driver Code\n",
    "if __name__ == '__main__':\n",
    " \n",
    "    str = \"forgeeksskeegfor\"\n",
    "    print(\"\\nLength is:\", longestPalSubstr(str))"
   ]
  },
  {
   "cell_type": "markdown",
   "id": "daacdb62-f391-4a96-9aa1-dc157c74dc0f",
   "metadata": {},
   "source": [
    "43. Write a program to find the number of occurrences of a given element in a list."
   ]
  },
  {
   "cell_type": "code",
   "execution_count": 137,
   "id": "080be791-4c21-4dc8-9a10-93f0285bbd04",
   "metadata": {},
   "outputs": [
    {
     "name": "stdout",
     "output_type": "stream",
     "text": [
      "8 has occurred 5 times\n"
     ]
    }
   ],
   "source": [
    "def countX(lst, x):\n",
    "    count = 0\n",
    "    for ele in lst:\n",
    "        if (ele == x):\n",
    "            count = count + 1\n",
    "    return count\n",
    " \n",
    " \n",
    "# Driver Code\n",
    "lst = [8, 6, 8, 10, 8, 20, 10, 8, 8]\n",
    "x = 8\n",
    "print('{} has occurred {} times'.format(x,\n",
    "                                        countX(lst, x)))"
   ]
  },
  {
   "cell_type": "markdown",
   "id": "4f4bd192-205b-4894-ae25-21d5da70e99f",
   "metadata": {},
   "source": [
    "44. Implement a function to check if a given number is a perfect number."
   ]
  },
  {
   "cell_type": "code",
   "execution_count": 136,
   "id": "a03947e8-0f61-416f-b0fd-5a125e9f9861",
   "metadata": {},
   "outputs": [
    {
     "name": "stdout",
     "output_type": "stream",
     "text": [
      "Below are all perfect numbers till 10000\n",
      "6  is a perfect number\n",
      "28  is a perfect number\n",
      "496  is a perfect number\n",
      "8128  is a perfect number\n"
     ]
    }
   ],
   "source": [
    "def isPerfect( n ):\n",
    "    sum = 1\n",
    "    i = 2\n",
    "    while i * i <= n:\n",
    "        if n % i == 0:\n",
    "            sum = sum + i + n/i\n",
    "        i += 1\n",
    " \n",
    "     \n",
    "    return (True if sum == n and n!=1 else False)\n",
    "\n",
    "print(\"Below are all perfect numbers till 10000\")\n",
    "n = 2\n",
    "for n in range (10000):\n",
    "    if isPerfect (n):\n",
    "        print(n , \" is a perfect number\")"
   ]
  },
  {
   "cell_type": "markdown",
   "id": "cd1dc2ca-2fff-4521-8d6f-655db0473c41",
   "metadata": {},
   "source": [
    "45. Write a Python program to remove all duplicates from a string."
   ]
  },
  {
   "cell_type": "code",
   "execution_count": 124,
   "id": "97a92ee9-b6e3-4526-a2f6-3b5a34ca604d",
   "metadata": {},
   "outputs": [
    {
     "name": "stdout",
     "output_type": "stream",
     "text": [
      "geksfor\n"
     ]
    }
   ],
   "source": [
    "string=\"geeksforgeeks\"\n",
    "p=\"\"\n",
    "for char in string:\n",
    "    if char not in p:\n",
    "        p=p+char\n",
    "print(p)\n",
    "k=list(\"geeksforgeeks\")"
   ]
  },
  {
   "cell_type": "markdown",
   "id": "e35e2205-c0f8-47a5-adad-433b1efb9ed2",
   "metadata": {},
   "source": [
    "46. Implement a function to find the first missing positive"
   ]
  },
  {
   "cell_type": "code",
   "execution_count": 135,
   "id": "7bcbf2ba-6da1-4a72-8d98-655bb9120274",
   "metadata": {},
   "outputs": [
    {
     "name": "stdout",
     "output_type": "stream",
     "text": [
      "1\n"
     ]
    }
   ],
   "source": [
    "def solution(A):\n",
    " \n",
    "    m = max(A) \n",
    "    if m < 1:\n",
    "        return 1\n",
    "    if len(A) == 1:\n",
    "        return 2 if A[0] == 1 else 1\n",
    "    l = [0] * m\n",
    "    for i in range(len(A)):\n",
    "        if A[i] > 0:\n",
    "            if l[A[i] - 1] != 1:\n",
    "                l[A[i] - 1] = 1\n",
    "    for i in range(len(l)):\n",
    "        if l[i] == 0:\n",
    "            return i + 1\n",
    "    return i + 2\n",
    "\n",
    "if __name__ == '__main__':\n",
    "    arr = [0, 10, 2, -10, -20]\n",
    "    print(solution(arr))"
   ]
  },
  {
   "cell_type": "code",
   "execution_count": null,
   "id": "a98e6086-8c03-49fa-b6e4-95eeecbc0cc1",
   "metadata": {},
   "outputs": [],
   "source": []
  }
 ],
 "metadata": {
  "kernelspec": {
   "display_name": "Python 3 (ipykernel)",
   "language": "python",
   "name": "python3"
  },
  "language_info": {
   "codemirror_mode": {
    "name": "ipython",
    "version": 3
   },
   "file_extension": ".py",
   "mimetype": "text/x-python",
   "name": "python",
   "nbconvert_exporter": "python",
   "pygments_lexer": "ipython3",
   "version": "3.10.8"
  }
 },
 "nbformat": 4,
 "nbformat_minor": 5
}
