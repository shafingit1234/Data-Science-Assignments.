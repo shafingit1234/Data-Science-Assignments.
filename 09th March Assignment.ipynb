{
 "cells": [
  {
   "cell_type": "markdown",
   "id": "0bebeb4e-2624-4bdc-9a4c-8c761a8f81c2",
   "metadata": {},
   "source": [
    "Question 1: What are the Probability Mass Function (PMF) and Probability Density Function (PDF)? Explain with an example?"
   ]
  },
  {
   "cell_type": "code",
   "execution_count": 1,
   "id": "5eeed377-47f1-42d4-8c5b-91277c5c6184",
   "metadata": {},
   "outputs": [],
   "source": [
    "Answer_1 = \"\"\" \n",
    "Probability Mass Function (PMF) and Probability Density Function (PDF) are used to describe the probability distribution of a random variable.\n",
    "\n",
    "Probability Mass Function:-\n",
    "The PMF is a function that maps each possible value of a discrete random variable to its probability of occurence.\n",
    "It represents the probability that a random variable takes a certain value.\n",
    "The sum of probabilities of all possible values of the random variable is equal to 1.\n",
    "The PMF is defined as:\n",
    "    PMF(x) = P(X = x);\n",
    "Here X is a random variable, x is a possible value that X can take, and P(X = x) is the probability that X takes the value x.\n",
    "Example:- Consider the roll of a fair six-sided die. The possible values that the die can take are 1,2,3,4,5 and 6, each with a probability of 1/6.\n",
    "The PMF of the random variable X, which represents the number on the top face of the die, is:\n",
    "PMF(1) = 1/6, PMF(2) = 1/6, PMF(3) = 1/6, PMF(4) = 1/6, PMF(5) = 1/6, PMF(6) = 1/6.\n",
    "       \n",
    "Probability Density Function (PDF):\n",
    "PDF is a functin that describes the probability density of a continuous random variable.\n",
    "It represents the probability that a random variable falls within a certain range of values.\n",
    "The area under the curve of the PDF between any two points represents the probability that the random variable falls within the range.\n",
    "The integral of the PDF over the entire domain is equal to 1.\n",
    "The PDF is defined as:\n",
    "    PDF(x) = dF(x)/dx.\n",
    "Example:- Consider a normal distribution with a mean of 0 and a standard deviation of 1.\n",
    "The PDF of the random variable X, which represents the values that X can take, is:\n",
    "PDF(x) = 1/sqrt(2pi) exp(-(x^2)/2);\n",
    "\"\"\""
   ]
  },
  {
   "cell_type": "markdown",
   "id": "c717bf8f-0fc6-4a3c-b8d1-8764dcb76066",
   "metadata": {},
   "source": [
    "Question 2: What is cumulative density function (CDF)? Explain with an example. Why CDF is used?"
   ]
  },
  {
   "cell_type": "code",
   "execution_count": 3,
   "id": "c0867c3a-e838-429f-9347-f29ea8506919",
   "metadata": {},
   "outputs": [],
   "source": [
    "Answer_2=\"\"\" \n",
    "The Cumulative Distribution Function (CDF) is a functional concept in probability theory,\n",
    "and statistics that describes the probability that a random variable takes a value less than or equal to a given value.\n",
    "\n",
    "It is defined for both discrete and continous random variables.\n",
    "1. For a discrete random variable X, the CDF is defined as:\n",
    "    F(x) = P(X <= x)\n",
    "Where x is any real number, and P(X <= x) is the probablity that X takes a value less than or equal to x.\n",
    "\n",
    "2. For a continuous random variable X, the CDF is defined as the integral of the PDF from negative infinity to x:\n",
    "    F(x) = Integral from -Infinit to x of PDF(t)dt.\n",
    "Where PDF(x) is the Probability Density Function of X.\n",
    "\n",
    "Example:-\n",
    "Consider the roll of a fair six-sided die. The possible values that the die can take are 1,2,3,4,5 and 6, each with a probability of 1/6.\n",
    "The CDF of the random variable X, which represents the number on the top face of the die, is:\n",
    "F(x) = P(X <= x)\n",
    " = 0 for x < 1\n",
    " = 1/6 for 1 <= x <= 2\n",
    " = 2/6 for 2 <= x <= 3\n",
    " = 3/6 for 3 <= x <= 4\n",
    " = 4/6 for 4 <= x <= 5\n",
    " = 5/6 for 5 <= x < 6\n",
    " = 1 for x >= 6\n",
    "\"\"\""
   ]
  },
  {
   "cell_type": "markdown",
   "id": "d746813d-a7c0-46c3-97d4-93aed7a829a3",
   "metadata": {},
   "source": [
    "Question_3: What are some examples of situations where the normal distribution might be used as a model? Explain how the parameters of the normal distribution relate to the shape of the distribution."
   ]
  },
  {
   "cell_type": "code",
   "execution_count": 1,
   "id": "a64cc35e-80b4-401a-8878-73a869e20869",
   "metadata": {},
   "outputs": [],
   "source": [
    "Answer_3=\"\"\" \n",
    "Some examples of situations where the normal distribution might be used as a model include:-\n",
    "1. Heights or weights of a population: The normal distribution can be used to model the distribution of heights or\n",
    "weights of a population.\n",
    "\n",
    "2. Test scores: The normal distribution can be used to model the distribution of test scores in a population.\n",
    "\n",
    "3. Measurement errors: The normal distribution can be used to model the distribution of errors in measurements,\n",
    "such as errors in laboratory measurements.\n",
    "\n",
    "4. Financial returns: The normal distribution can be used to model the distribution of financial returns, such as stock prices.\n",
    "\n",
    "5. Time taken to complete a task: The normal distribution can be used to model the distribution of time taken to complete a task,\n",
    "such as the time taken to fill an order in a factory.\n",
    "\n",
    "The normal distribution is a symmetric distribution, which means that the mean, median, and mode are all equal.\n",
    "The shape of the distribution is bell-shaped, and the total area under the curve is equal to 1.\n",
    "The standard normal distribution is a special case of the normal distribution with a mean of 0 and a standard deviation of 1.\n",
    "The normal distribution is often used as a model in statistical analysis because of its properties,\n",
    "such as the central limit theorem, which states that the sum of a large number of independent,\n",
    "and identically distributed random variables will tend to a normal distribution.\n",
    "\n",
    "\"\"\""
   ]
  },
  {
   "cell_type": "markdown",
   "id": "f89dac46-3d5e-4ef3-8ec0-d7c8471f69e3",
   "metadata": {},
   "source": [
    "Question_4: Explain the importance of Normal Distribution. Give a few real-life examples of normal distribution."
   ]
  },
  {
   "cell_type": "code",
   "execution_count": 3,
   "id": "038daa3c-3f1a-4dc3-ba31-125d5d9ac4e2",
   "metadata": {},
   "outputs": [],
   "source": [
    "Answer_4 = \"\"\" \n",
    "The importance of the normal distribution can be explained as follows:\n",
    "\n",
    "1. Many natural phenomena follow a normal distribution: The normal distribution is observed in many natural phenomena, \n",
    "such as the heights and weights of a population, the measurement errors in laboratory experiments, the test scores of students,\n",
    "the time taken to complete a task, and many more.\n",
    "\n",
    "2. Statistical inference: The normal distribution is used extensively in statistical inference,\n",
    "which involves drawing conclusions about a population based on a sample of data. Many statistical tests,\n",
    "such as the t-test and ANOVA, assume that the data follow a normal distribution.\n",
    "\n",
    "3. Central limit theorem: The central limit theorem states that the sum of a large number of independent,\n",
    "and identically distributed random variables will tend to a normal distribution, regardless of the distribution of the individual variables.\n",
    "This property makes the normal distribution a fundamental concept in probability theory and statistics.\n",
    "\n",
    "Some real-life examples of the normal distribution are:\n",
    "\n",
    "1. Heights of adults: The heights of adults in a population follow a normal distribution,\n",
    "with a mean of around 5 feet 7 inches and a standard deviation of around 3 inches.\n",
    "2. Test scores: The scores on a standardized test, such as the SAT or GRE, follow a normal distribution,\n",
    "with a mean of around 500-600 and a standard deviation of around 100-200.\n",
    "3. Body temperature: The body temperature of a healthy human follows a normal distribution,\n",
    "with a mean of around 98.6 degrees Fahrenheit and a standard deviation of around 0.5 degrees.\n",
    "4. IQ scores: The IQ scores of a population follow a normal distribution, with a mean of 100 and a standard deviation of 15.\n",
    "5. Stock market returns: The daily returns on the stock market follow a normal distribution,\n",
    "with a mean of around 0 and a standard deviation of around 1-2%.\n",
    "\"\"\""
   ]
  },
  {
   "cell_type": "markdown",
   "id": "cceb7178-8d24-4365-a39c-e4a88a4b3817",
   "metadata": {},
   "source": [
    "Question_5: what is Bernaulli Distribution? Give an example. What is the difference between Bernoulli Distribution and Binomial Distribution?"
   ]
  },
  {
   "cell_type": "code",
   "execution_count": 4,
   "id": "27955cc2-3817-4006-a02a-069c82403df0",
   "metadata": {},
   "outputs": [],
   "source": [
    "Answer_5= \"\"\" \n",
    "The Bernoulli Distribution is a discrete probability distribution that models the outcome of a single binary event.\n",
    "It takes a single parameter p, which represents the probability of success for the event,\n",
    "and outputs a probability distribution for the event's outcomes.\n",
    "\n",
    "Example:-\n",
    "Consider flipping a fair coin. The Bernoulli distribution models this as a binary event where the outcome is either heads or tails.\n",
    "If we define \"success\" as getting heads, then the probability of success if 0.5, and the probability of failure (getting tails) is also 0.5.\n",
    "The bernoulli distribution would output a probability distribution where the probability of success is 0.5 and the probability of failure is 0.5.\n",
    "\n",
    "The key difference between the Bernoulli distribution and the binomial distribution is that the bernoulli distribution,\n",
    "models the outcome of a single event, while the binomial distribution models the number of successes in a fixed number of independent,\n",
    "and identical Bernoulli trials.\n",
    "In other words, the binomial distribution is the sum of multiple independent bernoulli random variables.\n",
    "\"\"\""
   ]
  },
  {
   "cell_type": "markdown",
   "id": "bc2db756-0e27-4e6d-8ca8-28ee294e2229",
   "metadata": {},
   "source": [
    "Question_6: Consider a dataset with a mean of 50 and a standard deviation of 10. If we assume that the dataset is normally distributed, what is the probability that a randomly selected observation will be greater than 60? Use the appropriate formula and show your calculations?"
   ]
  },
  {
   "cell_type": "code",
   "execution_count": 5,
   "id": "5955e3ca-6766-4c96-bc24-18303bb29057",
   "metadata": {},
   "outputs": [],
   "source": [
    "Answer_6= \"\"\" \n",
    "We can use the z-table to solve this question:\n",
    "    The appropriate formula to use is:\n",
    "    z = (x - μ) / σ\n",
    "    where x is the value of the observation you are interested in (in this case, x = 60),\n",
    "    μ is the mean of the dataset, and σ is the standard deviation of the dataset.\n",
    "    \n",
    "    after substituting the we will get z as 1.\n",
    "    \n",
    "    Now, we need to use the z-table to find the probability that a z-score is greater than 1.\n",
    "\n",
    "Using the z-table, we look up the probability corresponding to a z-score of 1.00 in the positive z-score column.\n",
    "The table tells us that the probability is 0.8413.\n",
    "\n",
    "The probabilty that we got from z-table is the probability of randomly selected number less than 60,\n",
    "because z-table gives us the probability of the values on the left side of 60.\n",
    "But we need the values on the right side (greater than 60) of 60. So we can get that probability by subtracting 0.8413 from 1 as:\n",
    "1 - 0.8413 = 0.1587\n",
    "\"\"\""
   ]
  },
  {
   "cell_type": "markdown",
   "id": "0c0f0a5c-aa13-4bbc-b0a1-eb48efb7dc4d",
   "metadata": {},
   "source": [
    "Question_7: Explain uniform distribution with an example?"
   ]
  },
  {
   "cell_type": "code",
   "execution_count": 6,
   "id": "a9f57515-57f7-480f-b6b2-7ab6c4317640",
   "metadata": {},
   "outputs": [],
   "source": [
    "Answer_7=\"\"\" \n",
    "Uniform distribution, also known as a rectangular distribution,\n",
    "is a probability distribution where all possible outcomes are equally likely to occur.\n",
    "If is often used in statistics to model situations where each outcome is equally likely to occur,\n",
    "such as rolling a fair die or picking a card from a well-shuffled deck.\n",
    "\n",
    "Example:\n",
    "Rolling a fair six-sided die: When rolling the die, each face has an equal probability of showing up,\n",
    "which is 1/6 or approximately 0.1667. This means that any number between 1 and 6 is equally likely to be rolled,\n",
    "and the probability of rolling any particular number is 1/6.\n",
    "\n",
    "In the above examples, the probability density function of the uniform distribution is constant over the entire range of possible outcomes.\n",
    "That is, the probability of any particular outcome is proportional to the size of the range of possible outcomes.\n",
    "\"\"\""
   ]
  },
  {
   "cell_type": "markdown",
   "id": "37c7d60b-4eca-4e33-a410-a9af3cfdb7b4",
   "metadata": {},
   "source": [
    "Question_8: What is the z score? State the importance of the z score."
   ]
  },
  {
   "cell_type": "code",
   "execution_count": 7,
   "id": "3f3ba92f-574b-4615-93ad-e0e4fe831577",
   "metadata": {},
   "outputs": [],
   "source": [
    "Answer_8=\"\"\"\n",
    "The z-score is a statistical measure that expresses how far a data point is from the mean of a distribution in terms of standard deviations.\n",
    "\n",
    "The formula for calculating the z-score of a data point is:\n",
    "z = (x - μ) / σ\n",
    "where x is the data point, μ is the mean of the distribution, and σ is the standard deviation.\n",
    "\n",
    "Importance:\n",
    "\n",
    "The z-score is important because it allows us to standardize data from different distributions,\n",
    "which can then be compared and analyzed more easily. By converting data into z-scores,\n",
    "we can compare observations from different samples or populations and make meaningful statements about their relative positions.\n",
    "The z-score is also useful in hypothesis testing, where it is used to calculate the probability of observing a value as extreme as the one observed,\n",
    "assuming a certain null hypothesis.\n",
    "\"\"\""
   ]
  },
  {
   "cell_type": "markdown",
   "id": "fd35dc3e-9a59-4aba-9ec0-fa4ac565a6d0",
   "metadata": {},
   "source": [
    "Question_9: what is central limit theorem? State the significance of the central limit theorem."
   ]
  },
  {
   "cell_type": "code",
   "execution_count": 8,
   "id": "49fd9f98-c3a7-46fd-9942-f8532bfc3ec5",
   "metadata": {},
   "outputs": [],
   "source": [
    "Answer_9=\"\"\" \n",
    "The Central Limit Theorem (CLT) is a fundamental result in probability theory and statistics that describes the behavior of the sum or average,\n",
    "of a large number of independent and identically distributed random variables. It states that, under certain conditions,\n",
    "the sum or average of such variables will converge to a normal distribution, regardless of the distribution of the individual variables.\n",
    "\n",
    "The significance of the CLT is that it provides a theoretical foundation for many statistical techniques that assume normally distributed data.\n",
    "For example, many hypothesis tests and confidence intervals rely on the assumption of normality, which is often justified by the CLT.\n",
    "Additionally, the CLT is important in practical applications such as quality control,\n",
    "where it is often necessary to estimate the mean and variance of a population based on a sample.\n",
    "\"\"\""
   ]
  },
  {
   "cell_type": "markdown",
   "id": "7d04a1aa-de60-4172-818c-f9a82ae9f715",
   "metadata": {},
   "source": [
    "Question_10: State the assumptions of the Central Limit Theorem."
   ]
  },
  {
   "cell_type": "code",
   "execution_count": null,
   "id": "455004b3-52cd-478b-accf-5a359c770ad4",
   "metadata": {},
   "outputs": [],
   "source": [
    "Answer_10 = \"\"\" \n",
    "The assumptions of the Central Limit Theorem are:\n",
    "\n",
    "1. Independence: The observations in the sample are independent of each other,\n",
    "meaning that the outcome of one observation does not influence the outcome of another observation.\n",
    "2. Sample size: The sample size is sufficiently large. The larger the sample size,\n",
    "the better the approximation to the normal distribution.\n",
    "3. Identically distributed: The sample data comes from a population that has a well-defined mean and variance.\n",
    "The observations in the sample are identically distributed, meaning that they come from the same population.\n",
    "4. Finite variance: The population has a finite variance. This assumption ensures that the sample variance is also finite.\n",
    "5. Non-skewed population distribution: The population distribution is not strongly skewed.\n",
    "A strongly skewed population distribution can affect the validity of the Central Limit Theorem,\n",
    "and a larger sample size may be required to approximate a normal distribution.\n",
    "\"\"\""
   ]
  }
 ],
 "metadata": {
  "kernelspec": {
   "display_name": "Python 3 (ipykernel)",
   "language": "python",
   "name": "python3"
  },
  "language_info": {
   "codemirror_mode": {
    "name": "ipython",
    "version": 3
   },
   "file_extension": ".py",
   "mimetype": "text/x-python",
   "name": "python",
   "nbconvert_exporter": "python",
   "pygments_lexer": "ipython3",
   "version": "3.10.8"
  }
 },
 "nbformat": 4,
 "nbformat_minor": 5
}
