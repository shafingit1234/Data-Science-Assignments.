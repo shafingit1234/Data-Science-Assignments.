{
 "cells": [
  {
   "cell_type": "code",
   "execution_count": 1,
   "id": "77dca18e-2b94-4a15-b34a-bddfe35986f9",
   "metadata": {},
   "outputs": [],
   "source": [
    "# Question: What is an Exception in python? Write the difference between Exceptions and syntax error?\n",
    "ans = \"\"\" \n",
    "    An exception is an error that happens during the execution of a program.\n",
    "    Whenever there is an error, python generates an exception that could be handled.\n",
    "    It basically prevents the program from getting crashed.\n",
    "    \n",
    "    1. Exceptions are much different from syntax errors, since they occur during the execution,\n",
    "    where as syntax error can be identified before the execution of program that means during compile time.\n",
    "    2. Exceptions occurs due to performing semantic error or by performing illegal operation,\n",
    "       for example dividing a number by zero.\n",
    "       Error on the other hand, occurs due to violatin of one or more grammar rules, resulting in\n",
    "       illegal parsing thereby causing error.\n",
    "    3. Computer detects an exception at the time of running the program.\n",
    "       Computer detects the syntax error at the time of compiling the program.\n",
    "\"\"\""
   ]
  },
  {
   "cell_type": "code",
   "execution_count": 10,
   "id": "38aad6fc-579a-4c31-b005-e5437cef6878",
   "metadata": {},
   "outputs": [
    {
     "name": "stdout",
     "output_type": "stream",
     "text": [
      "first 3.0\n",
      "second 1.6666666666666667\n",
      "Zero Division Error occured \n",
      "fourth 3.5\n"
     ]
    }
   ],
   "source": [
    "# Question: What happens when an exception is not handled? Explain with an example?\n",
    "ans = \"\"\" \n",
    "    Whenever exceptions occur, our program stops abnormally or it crashes at the point where exception occurs,\n",
    "    resulting in abnormal results.\n",
    "    Exception handling concept came as a solution to avoid abnormal execution of our program whenever it detects,\n",
    "    an exception.\n",
    "    We make use of try - except - else - finally blocks to solve the problem or handle the exception.\n",
    "    If exception is not handled, then our program will stop its execution when exception will be detected, resulting in,\n",
    "    undesired, abnormal outcome.\n",
    "    Below is an example:\n",
    "    \n",
    "\"\"\"\n",
    "# print(\"first\" , 6/2);\n",
    "# print(\"second\" , 5/3);\n",
    "# print(\"third\", 8/0);\n",
    "# print(\"fourth\" , 7/2);\n",
    "\n",
    "ans = \"\"\" when we will execute above code we will get a ZeroDivisionError,\n",
    " Interesting thing to note is that the instructions before the line that caused an exception,\n",
    " executed properly but instructions that were supposed to be executed after the instruction causing exception,\n",
    " is not executed.\n",
    " Exception handling comes up with a solution that do not ruin the flow of program execution and at the same time,\n",
    " it throws the exception on the screen\n",
    " Below written code shows how exception is handled\"\"\"\n",
    "print(\"first\" , 6/2);\n",
    "print(\"second\" , 5/3);\n",
    "try:\n",
    "    print(\"third\" , 8/0);\n",
    "except:\n",
    "    print(\"Zero Division Error occured \");\n",
    "print(\"fourth\" , 7/2);\n"
   ]
  },
  {
   "cell_type": "code",
   "execution_count": 12,
   "id": "5ed7fb2a-9e17-480c-80ac-f5c7958a48a3",
   "metadata": {},
   "outputs": [
    {
     "name": "stdout",
     "output_type": "stream",
     "text": [
      "-4\n",
      "-2\n",
      "-1\n",
      "Error successfully handled. integer division or modulo by zero\n",
      "1\n",
      "2\n"
     ]
    }
   ],
   "source": [
    "# Question: Which python statements are used to catch and handle exceptions? Explain with an example?\n",
    "ans = \"\"\" \n",
    "    We make use of try-except block to handle exceptions.\n",
    "    general syntax:\n",
    "    try:\n",
    "        //code that is suspicious\n",
    "    except Exception as E:\n",
    "        print(\"Here comes an error\", E);\n",
    "    Let's take an example where we have a number 'x', and I need to print,\n",
    "    numbers between range (-x , x) that can divide x.\n",
    "    Common and simple solution for this is to iterate through a for loop ranging\n",
    "    from -x to x and check whether numbers comming in between can divide x or not.\n",
    "    We will have 0 in between that can cause an error, to handle that we will put our\n",
    "    main login in try block, so as to avoid abnormal execution of program.\n",
    "\"\"\"\n",
    "num = 4;\n",
    "for i in range(-4,4):\n",
    "    try:\n",
    "        if(num%i == 0):\n",
    "            print(i);\n",
    "    except Exception as E:\n",
    "        print(\"Error successfully handled.\" , E);\n"
   ]
  },
  {
   "cell_type": "code",
   "execution_count": 18,
   "id": "5154108a-9ee6-4a7f-90a0-4b3a965dc9c4",
   "metadata": {},
   "outputs": [
    {
     "name": "stdout",
     "output_type": "stream",
     "text": [
      "Try and Else Example\n",
      "zero modulo error\n",
      "1\n",
      "Successfull Execution, this is an else block code.\n",
      "2\n",
      "Successfull Execution, this is an else block code.\n",
      "Successfull Execution, this is an else block code.\n",
      "*****************************\n",
      "Finally example\n",
      "kirpal\n",
      "shafin\n",
      "nishan\n",
      "\n",
      "File resource closed in finally block\n",
      "*****************************\n",
      "Raise Keyword Example\n"
     ]
    },
    {
     "ename": "Exception",
     "evalue": "Numbers less than 0 are negative, there is no room for negativity",
     "output_type": "error",
     "traceback": [
      "\u001b[0;31m---------------------------------------------------------------------------\u001b[0m",
      "\u001b[0;31mException\u001b[0m                                 Traceback (most recent call last)",
      "Cell \u001b[0;32mIn[18], line 47\u001b[0m\n\u001b[1;32m     45\u001b[0m x \u001b[38;5;241m=\u001b[39m \u001b[38;5;241m-\u001b[39m\u001b[38;5;241m1\u001b[39m;\n\u001b[1;32m     46\u001b[0m \u001b[38;5;28;01mif\u001b[39;00m x \u001b[38;5;241m<\u001b[39m \u001b[38;5;241m0\u001b[39m:\n\u001b[0;32m---> 47\u001b[0m     \u001b[38;5;28;01mraise\u001b[39;00m \u001b[38;5;167;01mException\u001b[39;00m(\u001b[38;5;124m'\u001b[39m\u001b[38;5;124mNumbers less than 0 are negative, there is no room for negativity\u001b[39m\u001b[38;5;124m'\u001b[39m);\n",
      "\u001b[0;31mException\u001b[0m: Numbers less than 0 are negative, there is no room for negativity"
     ]
    }
   ],
   "source": [
    "# Explain with an example a) try and else b) finally c) raise?\n",
    "ans = \"\"\" \n",
    "a) Try and Else:\n",
    "   Try: This block will test the logic that can result in causing an exception to occur.\n",
    "   Else: If there is no exception that means if try block is successfully executed, else block,\n",
    "   will also be executed. If there is an exception than control will not move to else block, instead,\n",
    "   except block will be executed.\n",
    "   Example goes below:\n",
    "\"\"\"\n",
    "print('Try and Else Example');\n",
    "num = 4;\n",
    "for i in range(0,4):\n",
    "    try:\n",
    "        if(num%i == 0):\n",
    "            print(i);\n",
    "    except:\n",
    "        print(\"zero modulo error\");\n",
    "    else:\n",
    "        print(\"Successfull Execution, this is an else block code.\");\n",
    "ans = \"\"\" \n",
    "b)finally: Finally block always gets executed either exception is generated or not.\n",
    "           It is helpful to close crucial resources like database connectivity resources,\n",
    "           file resources, that may be left opened if exception occurs making our program,\n",
    "           vulnerable to attacks.\n",
    "Example goes below:\n",
    "\"\"\"\n",
    "print('*****************************');\n",
    "print('Finally example');\n",
    "try:\n",
    "    with open(\"text.txt\" , \"r\") as f:\n",
    "        data = f.read();\n",
    "        print(data);\n",
    "except Exception as E:\n",
    "    print(\"These comes an error\" , E);\n",
    "finally:\n",
    "    f.close();\n",
    "    print(\"File resource closed in finally block\");\n",
    "ans = \"\"\" \n",
    "c)raise: The raise keyword is used to raise an exception.\n",
    "Helpful in creating custom exception handling classes or functions.\n",
    "Example goes below:\n",
    "\"\"\"\n",
    "print(\"*****************************\");\n",
    "print(\"Raise Keyword Example\");\n",
    "x = -1;\n",
    "if x < 0:\n",
    "    raise Exception('Numbers less than 0 are negative, there is no room for negativity');"
   ]
  },
  {
   "cell_type": "code",
   "execution_count": 21,
   "id": "7db4f8e4-f1ed-4200-8d3f-9f58c804ae1c",
   "metadata": {},
   "outputs": [
    {
     "name": "stdin",
     "output_type": "stream",
     "text": [
      "Enter your age: -20\n"
     ]
    },
    {
     "name": "stdout",
     "output_type": "stream",
     "text": [
      "Error raised, Age is negative!\n"
     ]
    }
   ],
   "source": [
    "# Question: What are custom exceptions in python? Why do we need custom exceptions? Explain with an example?\n",
    "ans = \"\"\" \n",
    "    Custom exceptions are user defined exceptions in python.\n",
    "    Although there are multiple in-built exceptions defined in python,\n",
    "    still many a times companies prefer to build there own custom exceptions,\n",
    "    depending on project requirements or product requirements.\n",
    "    For example suppose I want to create an exception that is raised if age,\n",
    "    entered by the user is negative, if positive go ahead.\n",
    "    Below goes the program:\n",
    "\"\"\"\n",
    "\n",
    "class validateAge(Exception):\n",
    "    def __init__(self, msg):\n",
    "        self.msg = msg;\n",
    "\n",
    "def validateage(age):\n",
    "    if age < 0:\n",
    "        raise validateAge(\"Error raised, Age is negative!\");\n",
    "    else:\n",
    "        print(\"Age is valid!! Go ahead\");\n",
    "try:\n",
    "    age = int(input(\"Enter your age:\"));\n",
    "    validateage(age);\n",
    "except validateAge as e:\n",
    "    print(e);\n",
    "    "
   ]
  },
  {
   "cell_type": "code",
   "execution_count": 33,
   "id": "98645560-4e7d-4901-8425-373865ee1fde",
   "metadata": {},
   "outputs": [
    {
     "name": "stdin",
     "output_type": "stream",
     "text": [
      "Enter your salary: 230\n"
     ]
    },
    {
     "name": "stdout",
     "output_type": "stream",
     "text": [
      "error, not in range\n"
     ]
    }
   ],
   "source": [
    "# Question: Create a custom exception class. Use this class to handle an exception?\n",
    "ans = \"\"\" \n",
    "I am creating a custom exception that will check that the salary amount entered is in valid range or not.\n",
    "\"\"\"\n",
    "class salaryNotInRangeError(Exception):\n",
    "    def __init__(self, msg, salary):\n",
    "        self.salary = salary;\n",
    "        self.msg = msg;\n",
    "        super().__init__(self.msg);\n",
    "def checkSalary(salary):\n",
    "    if not 5000 < salary < 15000:\n",
    "        raise salaryNotInRangeError(\"error, not in range\" , salary)\n",
    "    else:\n",
    "        print(\"in range bro, thoda zyada mehnat kar!!\");\n",
    "        \n",
    "try:\n",
    "    salary = int(input(\"Enter your salary:\"));\n",
    "    checkSalary(salary);\n",
    "except salaryNotInRangeError as e:\n",
    "    print(e);"
   ]
  },
  {
   "cell_type": "code",
   "execution_count": null,
   "id": "d31e6609-3d22-445a-bdd1-ee58f81a5ad3",
   "metadata": {},
   "outputs": [],
   "source": []
  }
 ],
 "metadata": {
  "kernelspec": {
   "display_name": "Python 3 (ipykernel)",
   "language": "python",
   "name": "python3"
  },
  "language_info": {
   "codemirror_mode": {
    "name": "ipython",
    "version": 3
   },
   "file_extension": ".py",
   "mimetype": "text/x-python",
   "name": "python",
   "nbconvert_exporter": "python",
   "pygments_lexer": "ipython3",
   "version": "3.10.8"
  }
 },
 "nbformat": 4,
 "nbformat_minor": 5
}
