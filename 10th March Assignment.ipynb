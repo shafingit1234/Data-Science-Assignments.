{
 "cells": [
  {
   "cell_type": "markdown",
   "id": "cd5652c7-e367-4686-a8cd-6e9e7a015e57",
   "metadata": {},
   "source": [
    "Q1: What is Estimation Statistics? Explain point estimate and interval estimate."
   ]
  },
  {
   "cell_type": "code",
   "execution_count": null,
   "id": "b6d74e6b-c4c7-4966-bfa6-0f57a3dc5024",
   "metadata": {},
   "outputs": [],
   "source": [
    "Answer = \"\"\" \n",
    "Estimation statistics is a branch of statistics that involves using data from a sample to make inferences about the population.\n",
    "The goal of estimation is to provide information about population parameters, such as the mean or proportion, based on a sample of data.\n",
    "There are two main types of estimates: point estimates and interval estimates.\n",
    "\n",
    "1. Point Estimate: A point estimate is a single value that is used to estimate a population parameter.\n",
    "It is obtained by using a sample statistic, such as the sample mean or sample proportion, to estimate the corresponding population parameter.\n",
    "\n",
    "2. Interval Estimate: An interval estimate, also called a confidence interval, is a range of values that is likely to contain,\n",
    "the true population parameter with a certain level of confidence. It is obtained by using a sample statistic,\n",
    "such as the sample mean or sample proportion, to calculate an interval of values that is likely to contain the true population parameter.\n",
    "\"\"\""
   ]
  },
  {
   "cell_type": "markdown",
   "id": "4b910d2d-5fc2-40ef-81ee-4df5758cb16d",
   "metadata": {},
   "source": [
    "Q2. Write a Python function to estimate the population mean using a sample mean and standard\n",
    "deviation."
   ]
  },
  {
   "cell_type": "code",
   "execution_count": 2,
   "id": "679ec0f9-9a46-4ce4-9d04-59b785b05563",
   "metadata": {},
   "outputs": [
    {
     "name": "stdout",
     "output_type": "stream",
     "text": [
      "Population mean: 2.0\n"
     ]
    }
   ],
   "source": [
    "Explanation=\"\"\" \n",
    "Our task is to estimate population mean using a sample mean and standard deviation. In above question, we talked about types of estimates.\n",
    "In interval estimate (confidence interval), if we know the range which is likely to contain the true population parameter with a,\n",
    "certain level of confidence, we can estimate the population mean using that range.\n",
    "To calculate the range, we will need to add and substract the margin error from the point of estimate mean (sample) mean.\n",
    "E(margin Error) = z(alpha/2)*(sample standard deviation)/square root of (size);\n",
    "Confidence interval = sample_mean +/- margin_Error\n",
    "alpha = significance value.\n",
    "\n",
    "Let's say we have a confidence value 95%, then alpha = 1 - CI(confidence value) = 1 - 0.95 = 0.05\n",
    "alpha/2 = 0.05/2 = 0.025\n",
    "z-value for the corresponding alpha will be -1.96 and since by using central limit theorem we know, the distribution for population mean is going to be normal\n",
    "the other extreme z-value (due to symmetricity) will be 1.96\n",
    "\n",
    "Now by applying the formula, we will get the lower_bound and upper_bound of the confidence range, using which one can estimate population mean.\n",
    "\"\"\"\n",
    "\n",
    "import math\n",
    "\n",
    "def estimatePopulation(s_mean, s_dev , n):\n",
    "    std_error = (s_dev)/(math.sqrt(n));\n",
    "    z_value = 1.96; # for CI = 95%\n",
    "    margin_error = z_value*std_error;\n",
    "    lower = s_mean - margin_error;\n",
    "    upper = s_mean + margin_error;\n",
    "    return ((lower+upper)/2);\n",
    "\n",
    "result = estimatePopulation(2,5,20000)\n",
    "\n",
    "print(f\"Population mean: {result}\")"
   ]
  },
  {
   "cell_type": "markdown",
   "id": "ef6b3a8f-e16a-4120-9bc9-a530f60f475b",
   "metadata": {},
   "source": [
    "Q3: What is Hypothesis testing? Why is it used? State the importance of Hypothesis testing."
   ]
  },
  {
   "cell_type": "code",
   "execution_count": null,
   "id": "08aa2dd1-b7b5-4c2f-aa25-de7a0c83e7e5",
   "metadata": {},
   "outputs": [],
   "source": [
    "Answer = \"\"\" \n",
    "Hypothesis testing is a statistical method used to make decisions or draw conclusions about a population based on a sample of data.\n",
    "It involves comparing a hypothesis or claim about a population parameter (such as a mean or proportion) with the data from a sample,\n",
    "in order to determine if the hypothesis is likely to be true.\n",
    "\n",
    "Hypothesis testing is used to test the validity of a theory or claim.\n",
    "\n",
    "For example, in medical research, hypothesis testing can be used to determine if a new drug is effective in treating a disease,\n",
    "by comparing its effects to a placebo. In business, hypothesis testing can be used to evaluate whether a new marketing strategy,\n",
    "is effective in increasing sales.\n",
    "\n",
    "The importance of hypothesis testing lies in its ability to provide evidence for or against a theory or claim, \n",
    "and to help researchers make informed decisions based on data.\n",
    "It allows researchers to determine if an observed difference between groups or variables is statistically significant or simply due to chance,\n",
    "and to quantify the level of uncertainty in their findings.\n",
    "This can help researchers to draw conclusions that are based on evidence and minimize the risk of drawing incorrect or unsupported conclusions.\n",
    "\"\"\""
   ]
  },
  {
   "cell_type": "markdown",
   "id": "1716962d-a3a2-46f3-9cd4-8ab29665603a",
   "metadata": {},
   "source": [
    "Q4. Create a hypothesis that states whether the average weight of male college students is greater than\n",
    "the average weight of female college students."
   ]
  },
  {
   "cell_type": "code",
   "execution_count": null,
   "id": "33e7ec2e-bae2-4953-9739-3d8aae2a1c13",
   "metadata": {},
   "outputs": [],
   "source": [
    "Answer = \"\"\" \n",
    "The null hypothesis would be:\n",
    "\n",
    "H0: The average weight of male college students is greater than the average weight of female college students.\n",
    "\n",
    "The alternative hypothesis would be:\n",
    "\n",
    "H1: The average weight of male college students is not greater than the average weight of female college students.\n",
    "\"\"\""
   ]
  },
  {
   "cell_type": "markdown",
   "id": "984191c2-f8a9-4b35-a259-b15a96c59915",
   "metadata": {},
   "source": [
    "Q5. Write a Python script to conduct a hypothesis test on the difference between two population means,\n",
    "given a sample from each population."
   ]
  },
  {
   "cell_type": "code",
   "execution_count": 3,
   "id": "5846d43c-bb8a-43b6-a0fa-3386f8eb228d",
   "metadata": {},
   "outputs": [
    {
     "name": "stdout",
     "output_type": "stream",
     "text": [
      "t-statistic:  -7.5982095854400145\n",
      "p-value:  1.1697272719607277e-12\n",
      "Reject null hypothesis\n"
     ]
    }
   ],
   "source": [
    "import numpy as np\n",
    "from scipy.stats import ttest_ind\n",
    "\n",
    "# create two random samples\n",
    "sample1 = np.random.normal(10, 2, 100)\n",
    "sample2 = np.random.normal(12, 2, 100)\n",
    "\n",
    "# conduct t-test\n",
    "t_stat, p_val = ttest_ind(sample1, sample2)\n",
    "\n",
    "# print results\n",
    "print(\"t-statistic: \", t_stat)\n",
    "print(\"p-value: \", p_val)\n",
    "\n",
    "# check if p-value is significant at 5% level\n",
    "if p_val < 0.05:\n",
    "    print(\"Reject null hypothesis\")\n",
    "else:\n",
    "    print(\"Fail to reject null hypothesis\")"
   ]
  },
  {
   "cell_type": "markdown",
   "id": "d0361567-cc31-4fb7-98fc-cd50ca3bc8e4",
   "metadata": {},
   "source": [
    "Q6: What is a null and alternative hypothesis? Give some examples."
   ]
  },
  {
   "cell_type": "code",
   "execution_count": null,
   "id": "0c05170a-df51-48d7-98ab-908e8a562471",
   "metadata": {},
   "outputs": [],
   "source": [
    "Answer = \"\"\" \n",
    "The null hypothesis (H0) states that there is no significant difference between two populations or variables.\n",
    "It is often the default or conventional position and is tested against the alternative hypothesis.\n",
    "In other words, it is the claim that researchers aim to reject or fail to reject based on the evidence from the data.\n",
    "\n",
    "The alternative hypothesis (H1) is the complement of the null hypothesis and states that there is a significant difference,\n",
    "between two populations or variables. It represents the claim that researchers seek to support or prove based on the evidence from the data.\n",
    "\n",
    "Examples:\n",
    "\n",
    "Null hypothesis: The average IQ scores of two groups of students are equal.\n",
    "Alternative hypothesis: The average IQ score of one group of students is significantly different from the other group.\n",
    "\n",
    "Null hypothesis: The new drug has no effect on curing a disease.\n",
    "Alternative hypothesis: The new drug is significantly more effective in curing the disease than the current drug.\n",
    "\"\"\""
   ]
  },
  {
   "cell_type": "markdown",
   "id": "850b6506-3954-4b66-bfe6-b3a4619e3bef",
   "metadata": {},
   "source": [
    "Q7: Write down the steps involved in hypothesis testing."
   ]
  },
  {
   "cell_type": "code",
   "execution_count": null,
   "id": "4ad1aee6-d975-4a37-8d55-a9e1d5636082",
   "metadata": {},
   "outputs": [],
   "source": [
    "Answer = \"\"\" \n",
    "The general steps involved in hypothesis testing are:\n",
    "\n",
    "1. State the null and alternative hypotheses: Identify the research question and define the null and alternative hypotheses,\n",
    "that represent the possible outcomes.\n",
    "2. Determine the test statistic: Choose an appropriate statistical test (e.g., t-test, ANOVA, chi-square),\n",
    "based on the research question and data type, and calculate the test statistic using the sample data.\n",
    "3. Set the significance level: Determine the level of significance (alpha) to use for the test.\n",
    "This is the probability of rejecting the null hypothesis when it is true and is typically set at 0.05.\n",
    "4. Calculate the p-value: Calculate the probability of observing the test statistic or a more extreme value under the null hypothesis.\n",
    "5. Make a decision: Compare the p-value to the significance level and make a decision whether to reject or fail to reject the null hypothesis.\n",
    "If the p-value is less than or equal to the significance level, reject the null hypothesis; otherwise, fail to reject the null hypothesis.\n",
    "\"\"\""
   ]
  },
  {
   "cell_type": "markdown",
   "id": "d95e7139-ad3f-41a5-9523-6dddf0ffa620",
   "metadata": {},
   "source": [
    "Q8. Define p-value and explain its significance in hypothesis testing."
   ]
  },
  {
   "cell_type": "code",
   "execution_count": null,
   "id": "edf110dd-afa7-459d-84f2-ca6fa6c7d068",
   "metadata": {},
   "outputs": [],
   "source": [
    "Answer= \"\"\" \n",
    "The p-value in hypothesis testing is the probability of observing a test statistic or a more extreme value,\n",
    "given that the null hypothesis is true. In other words, it is the probability of obtaining the observed data or more extreme data,\n",
    "if the null hypothesis is true.\n",
    "The p-value provides a measure of the strength of evidence against the null hypothesis.\n",
    "A small p-value indicates strong evidence against the null hypothesis, while a large p-value indicates weak evidence against the null hypothesis.\n",
    "\n",
    "The p-value is a key component of hypothesis testing because it helps researchers make decisions about the null hypothesis.\n",
    "If the p-value is small (e.g., less than or equal to the significance level),\n",
    "it suggests that the observed data is unlikely to have occurred by chance under the null hypothesis, and the null hypothesis is rejected.\n",
    "If the p-value is large (e.g., greater than the significance level), it suggests that the observed data is consistent with the null hypothesis,\n",
    "and the null hypothesis is not rejected.\n",
    "\"\"\""
   ]
  },
  {
   "cell_type": "markdown",
   "id": "e94d061d-a7fc-4a24-91cf-96b942014db7",
   "metadata": {},
   "source": [
    "Q9. Generate a Student's t-distribution plot using Python's matplotlib library, with the degrees of freedom\n",
    "parameter set to 10."
   ]
  },
  {
   "cell_type": "code",
   "execution_count": 6,
   "id": "73542e68-dad4-4f33-9c64-0112c2368825",
   "metadata": {},
   "outputs": [
    {
     "data": {
      "text/plain": [
       "(array([1.44900703e-04, 0.00000000e+00, 2.89801405e-04, 2.60821265e-03,\n",
       "        5.36132600e-03, 1.72431836e-02, 5.04254445e-02, 1.34902554e-01,\n",
       "        2.78788952e-01, 3.71525402e-01, 3.18781546e-01, 1.71997134e-01,\n",
       "        6.62196211e-02, 2.15902047e-02, 5.79602811e-03, 2.02860984e-03,\n",
       "        8.69404216e-04, 2.89801405e-04, 0.00000000e+00, 1.44900703e-04]),\n",
       " array([-6.64297876, -5.95285098, -5.2627232 , -4.57259542, -3.88246764,\n",
       "        -3.19233987, -2.50221209, -1.81208431, -1.12195653, -0.43182875,\n",
       "         0.25829903,  0.9484268 ,  1.63855458,  2.32868236,  3.01881014,\n",
       "         3.70893792,  4.39906569,  5.08919347,  5.77932125,  6.46944903,\n",
       "         7.15957681]),\n",
       " <BarContainer object of 20 artists>)"
      ]
     },
     "execution_count": 6,
     "metadata": {},
     "output_type": "execute_result"
    },
    {
     "data": {
      "image/png": "[encoded data removed]",
      "text/plain": [
       "<Figure size 640x480 with 1 Axes>"
      ]
     },
     "metadata": {},
     "output_type": "display_data"
    }
   ],
   "source": [
    "from scipy.stats import t\n",
    "import matplotlib.pyplot as plt\n",
    "\n",
    "x = t.rvs(df=10, size=10000);\n",
    "\n",
    "plt.hist(x, density=True, edgecolor='black', bins = 20)"
   ]
  },
  {
   "cell_type": "markdown",
   "id": "8f35520b-d419-4da4-88f1-d16453802e9a",
   "metadata": {},
   "source": [
    "Q10. Write a Python program to calculate the two-sample t-test for independent samples, given two\n",
    "random samples of equal size and a null hypothesis that the population means are equal."
   ]
  },
  {
   "cell_type": "code",
   "execution_count": 7,
   "id": "630eaf85-c03d-4922-9a95-72894111d03e",
   "metadata": {},
   "outputs": [
    {
     "name": "stdout",
     "output_type": "stream",
     "text": [
      "t-test statistic: -9.048438830604251\n",
      "p-value: 1.3658002609056925e-16\n",
      "Reject the null hypothesis\n"
     ]
    }
   ],
   "source": [
    "import numpy as np\n",
    "from scipy.stats import ttest_ind\n",
    "\n",
    "sample1 = np.random.normal(10, 2, 100)\n",
    "sample2 = np.random.normal(12, 2, 100)\n",
    "\n",
    "#calculate the t-test statistic and p-value\n",
    "t_statistic, p_value = ttest_ind(sample1, sample2)\n",
    "\n",
    "print(\"t-test statistic:\", t_statistic)\n",
    "print(\"p-value:\", p_value)\n",
    "\n",
    "#compare the p-value to the significance level\n",
    "alpha = 0.05\n",
    "if p_value < alpha:\n",
    "    print(\"Reject the null hypothesis\")\n",
    "else:\n",
    "    print(\"Fail to reject the null hypothesis\")"
   ]
  },
  {
   "cell_type": "markdown",
   "id": "b666d75a-df54-4c5b-b6b5-4357a5587340",
   "metadata": {},
   "source": [
    "Q11: What is Student’s t distribution? When to use the t-Distribution."
   ]
  },
  {
   "cell_type": "code",
   "execution_count": null,
   "id": "6b3eb293-fa65-45f9-95bc-813af55f6353",
   "metadata": {},
   "outputs": [],
   "source": [
    "Answer = \"\"\" \n",
    "Student's t distribution is a probability distribution that is used in hypothesis testing when the sample size is small and,\n",
    "the population standard deviation is unknown.\n",
    "It is similar to the standard normal distribution (z-distribution), but has heavier tails,\n",
    "which means it has more probability in the tails and less in the center compared to the standard normal distribution.\n",
    "The shape of the t-distribution depends on the sample size, with smaller sample sizes resulting in a more spread-out distribution.\n",
    "\n",
    "3The t-distribution is used in situations where the population standard deviation is unknown and must be estimated from the sample data.\n",
    "It is also used when the sample size is small (typically less than 30) and the population is normally distributed.\n",
    "The t-distribution allows for greater uncertainty in the estimate of the population standard deviation due to the smaller sample size.\n",
    "\"\"\""
   ]
  },
  {
   "cell_type": "markdown",
   "id": "cb650251-4c61-4c22-805c-a6acdccbe3a0",
   "metadata": {},
   "source": [
    "Q12: What is t-statistic? State the formula for t-statistic."
   ]
  },
  {
   "cell_type": "code",
   "execution_count": null,
   "id": "80f202dc-6deb-47ec-a9f9-5befbb8c888a",
   "metadata": {},
   "outputs": [],
   "source": [
    "Answer = \"\"\" \n",
    "The t-statistic is a measure of how many standard errors the sample mean is from the hypothesized population mean,\n",
    "under the assumption that the population variance is unknown and must be estimated from the sample data.\n",
    "It is used in hypothesis testing to determine whether the difference between the sample mean and,\n",
    "the hypothesized population mean is statistically significant.\n",
    "\n",
    "The formula for the t-statistic is:\n",
    "t = (x̄ - μ) / (s / √n)\n",
    "\n",
    "where:\n",
    "x̄ is the sample mean\n",
    "μ is the hypothesized population mean\n",
    "s is the sample standard deviation\n",
    "n is the sample size\n",
    "√n is the square root of the sample size\n",
    "\"\"\""
   ]
  },
  {
   "cell_type": "markdown",
   "id": "bcc2b9e6-1d33-4fda-bea0-cf5b2033523d",
   "metadata": {},
   "source": [
    "Q13. A coffee shop owner wants to estimate the average daily revenue for their shop. They take a random\n",
    "sample of 50 days and find the sample mean revenue to be $500 with a standard deviation of $50.\n",
    "Estimate the population mean revenue with a 95% confidence interval."
   ]
  },
  {
   "cell_type": "code",
   "execution_count": null,
   "id": "932385dd-6c64-45ea-98d0-cef6df439b7f",
   "metadata": {},
   "outputs": [],
   "source": [
    "Answer = \"\"\" \n",
    "To estimate the population mean revenue with a 95% confidence interval, we can use the following formula:\n",
    "Confidence Interval = sample mean ± margin of error\n",
    "where the margin of error is given by:\n",
    "Margin of Error = critical value * standard error\n",
    "\n",
    "The standard error is the standard deviation of the sample divided by the square root of the sample size:\n",
    "Standard Error = standard deviation / sqrt(sample size)\n",
    "Substituting the values given in the problem statement, we get:\n",
    "\n",
    "Standard Error = 50 / sqrt(50) = 7.07\n",
    "Margin of Error = 1.96 * 7.07 = 13.85\n",
    "\n",
    "Therefore, the 95% confidence interval for the population mean revenue is:\n",
    "500 ± 13.85, or (486.15, 513.85)\n",
    "We can be 95% confident that the true population mean revenue falls within this interval.\n",
    "\"\"\""
   ]
  },
  {
   "cell_type": "markdown",
   "id": "330c800c-8e8c-4af5-906e-a42cd8bf87e4",
   "metadata": {},
   "source": [
    "Q14. A researcher hypothesizes that a new drug will decrease blood pressure by 10 mmHg. They conduct a\n",
    "clinical trial with 100 patients and find that the sample mean decrease in blood pressure is 8 mmHg with a\n",
    "standard deviation of 3 mmHg. Test the hypothesis with a significance level of 0.05."
   ]
  },
  {
   "cell_type": "code",
   "execution_count": null,
   "id": "f632ca92-ebce-44d7-b6a5-0144da462c9f",
   "metadata": {},
   "outputs": [],
   "source": [
    "Answer = \"\"\" \n",
    "The following values are given in the question:\n",
    "\n",
    "Population Mean = 10\n",
    "Sample Size = n = 100\n",
    "Sample Mean = 8\n",
    "Standard Deviation = 3\n",
    "Significance Level = 0.05\n",
    "Confidence Interval = 0.95\n",
    "\n",
    "My null and alternate hypothesis are as follows:\n",
    "\n",
    "Null Hypothesis = H0 => Population Mean = 10\n",
    "Alternate Hypothesis = H1 => Population Mean != 10\n",
    "\n",
    "From utilizing z-table i obgtained values for z-score:\n",
    "\n",
    "z-score = ± 1.96, for a confidence value of 95% since significance level is 5%\n",
    "\n",
    "Then I utilized the follwing z-test formula:\n",
    "(x̄ - μ) / (s / √n) where s is deviation.\n",
    "\n",
    "I got the following value: -0.66\n",
    "As -0.66 lies outside the region ± 1.96, that means it lies in the rejection region.\n",
    "So my final conclusion was:\n",
    "Reject the null hypothesis\n",
    "\"\"\""
   ]
  },
  {
   "cell_type": "markdown",
   "id": "ccfe3fc8-1b56-4781-891e-6457ef4f4684",
   "metadata": {},
   "source": [
    "Q15. An electronics company produces a certain type of product with a mean weight of 5 pounds and a\n",
    "standard deviation of 0.5 pounds. A random sample of 25 products is taken, and the sample mean weight\n",
    "is found to be 4.8 pounds. Test the hypothesis that the true mean weight of the products is less than 5\n",
    "pounds with a significance level of 0.01."
   ]
  },
  {
   "cell_type": "code",
   "execution_count": null,
   "id": "75cb2d8e-4ab9-48ab-b14f-c058fa1fbe25",
   "metadata": {},
   "outputs": [],
   "source": [
    "Answer = \"\"\" \n",
    "The following values are given in the question:\n",
    "\n",
    "Population Mean = 5\n",
    "Sample Size = n = 25\n",
    "Sample Mean = 4.8\n",
    "Standard Deviation = 0.5\n",
    "Significance Level = 0.01\n",
    "Confidence Interval = 0.99\n",
    "\n",
    "My null and alternate hypothesis are as follows:\n",
    "\n",
    "Null Hypothesis = H0 => Population Mean = 5\n",
    "Alternate Hypothesis = H1 => Population Mean < 5\n",
    "\n",
    "Then I utilized the follwing z-test formula:\n",
    "(x̄ - μ) / (s / √n) where s is deviation.\n",
    "\n",
    "I got the following value: -2\n",
    "From utilizing z-table i obgtained values for z-score of -2:\n",
    "z-score = 0.02275\n",
    "Which also becomes my p-value:\n",
    "p-value = 0.02275\n",
    "Then i checked whether p-value < significance value\n",
    "0.02775 < 0.01\n",
    "False\n",
    "So my final conclusion was:\n",
    "Failed to reject null hypothesis\n",
    "\"\"\""
   ]
  },
  {
   "cell_type": "markdown",
   "id": "1eecc29e-0d18-47fb-b8d8-509d9bf06f71",
   "metadata": {},
   "source": [
    "Q16. Two groups of students are given different study materials to prepare for a test. The first group (n1 =\n",
    "30) has a mean score of 80 with a standard deviation of 10, and the second group (n2 = 40) has a mean\n",
    "score of 75 with a standard deviation of 8. Test the hypothesis that the population means for the two\n",
    "groups are equal with a significance level of 0.01."
   ]
  },
  {
   "cell_type": "code",
   "execution_count": null,
   "id": "072396cc-fe56-4f28-9887-98c172df16c4",
   "metadata": {},
   "outputs": [],
   "source": [
    "Answer = \"\"\" \n",
    "My null and alternate hypothesis are as follows:\n",
    "\n",
    "Null Hypothesis = H0 => Population Mean of Group 1 = Population Mean of Group 2\n",
    "Alternate Hypothesis = H1 => Population Mean of Group 1 != Population Mean of Group 2\n",
    "\n",
    "I got the value of t by utilizing two sample T-test formula as:\n",
    "\n",
    "t = 2.37\n",
    "\n",
    "Then I utilized t-table to look for the value of t for the following parameters:\n",
    "\n",
    "Degrees of Freedom = 68\n",
    "Significance Value = 0.01\n",
    "\n",
    "I got the following value of t from the table:\n",
    "\n",
    "t = ± 2.638\n",
    "\n",
    "Since 2.37 lies in the region ±2.638 so, the final conclusion was:\n",
    "\n",
    "Failed to reject null hypothesis\n",
    "Population mean for two groups are equal\n",
    "\"\"\""
   ]
  },
  {
   "cell_type": "markdown",
   "id": "209d390a-2a73-4497-9edd-cff7b06ca48e",
   "metadata": {},
   "source": [
    "Q17. A marketing company wants to estimate the average number of ads watched by viewers during a TV\n",
    "program. They take a random sample of 50 viewers and find that the sample mean is 4 with a standard\n",
    "deviation of 1.5. Estimate the population mean with a 99% confidence interval."
   ]
  },
  {
   "cell_type": "code",
   "execution_count": null,
   "id": "5f173680-d3ef-4ddd-99ce-a81979e09218",
   "metadata": {},
   "outputs": [],
   "source": [
    "Answer = \"\"\"  \n",
    "To estimate the population mean with a 99% confidence interval, we can use the following formula:\n",
    "CI = X̄ ± z*(σ/√n)\n",
    "\n",
    "Where:\n",
    "\n",
    "X̄ = sample mean (4)\n",
    "z = z-score corresponding to the confidence level (99%)\n",
    "σ = population standard deviation (1.5)\n",
    "n = sample size (50)\n",
    "To find the z-score, we can use a standard normal distribution table. For a 99% confidence level, the z-score is\n",
    "z-score = 2.576.\n",
    "Plugging in the values, we get:\n",
    "CI = 4 ± 2.576*(1.5/√50)\n",
    "CI = 4 ± 0.665\n",
    "Therefore, the 99% confidence interval for the population mean of the number of ads watched by viewers during a TV program is (3.335, 4.665).\n",
    "We are 99% confident that the true population mean falls within this interval.\n",
    "\"\"\""
   ]
  }
 ],
 "metadata": {
  "kernelspec": {
   "display_name": "Python 3 (ipykernel)",
   "language": "python",
   "name": "python3"
  },
  "language_info": {
   "codemirror_mode": {
    "name": "ipython",
    "version": 3
   },
   "file_extension": ".py",
   "mimetype": "text/x-python",
   "name": "python",
   "nbconvert_exporter": "python",
   "pygments_lexer": "ipython3",
   "version": "3.10.8"
  }
 },
 "nbformat": 4,
 "nbformat_minor": 5
}
