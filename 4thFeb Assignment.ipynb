{
 "cells": [
  {
   "cell_type": "code",
   "execution_count": 20,
   "id": "c649b0fa-2ed9-4292-a0c9-035ba29605b0",
   "metadata": {},
   "outputs": [
    {
     "name": "stdout",
     "output_type": "stream",
     "text": [
      "-------------------Before Sorting-------------\n",
      "[('Sachin Tendulkar', 34357), ('Ricky Ponting', 27483), ('Jack Kallis', 25534), ('Virat Kohli', 24936)]\n",
      "-------------------After Sorting---------------\n",
      "[('Virat Kohli', 24936), ('Jack Kallis', 25534), ('Ricky Ponting', 27483), ('Sachin Tendulkar', 34357)]\n"
     ]
    }
   ],
   "source": [
    "# Question: Create a python program to sort the given list of tuples based on integer value using a lambda function.\n",
    "data_set = [('Sachin Tendulkar', 34357), ('Ricky Ponting', 27483), ('Jack Kallis', 25534), ('Virat Kohli', 24936)];\n",
    "print(\"-------------------Before Sorting-------------\");\n",
    "print(data_set);\n",
    "custom_func = lambda x : x[1];\n",
    "data_set.sort(key = custom_func);\n",
    "print(\"-------------------After Sorting---------------\");\n",
    "print(data_set);"
   ]
  },
  {
   "cell_type": "code",
   "execution_count": 22,
   "id": "7cf54b9f-7378-4221-9a8e-692545a833ee",
   "metadata": {},
   "outputs": [
    {
     "name": "stdout",
     "output_type": "stream",
     "text": [
      "--------------------Data before operation performed-------\n",
      "[1, 2, 3, 4, 5, 7, 8, 9, 10]\n",
      "--------------------Data after operation performed--------\n",
      "[1, 4, 9, 16, 25, 49, 64, 81, 100]\n"
     ]
    }
   ],
   "source": [
    "# Question: Write a python program to find the squares of all the numbers in the given list of integers using lambda and map functions.\n",
    "data_set = [1,2,3,4,5,7,8,9,10];\n",
    "print(\"--------------------Data before operation performed-------\");\n",
    "print(data_set);\n",
    "ans=list(map(lambda x : x**2 , data_set));\n",
    "print(\"--------------------Data after operation performed--------\");\n",
    "print(ans);"
   ]
  },
  {
   "cell_type": "code",
   "execution_count": 25,
   "id": "fd98930e-4af3-4619-9c91-549b5e892148",
   "metadata": {},
   "outputs": [
    {
     "name": "stdout",
     "output_type": "stream",
     "text": [
      "-------------------Data before operation is performed------------\n",
      "[1, 2, 3, 4, 5, 6, 7, 8, 9, 10]\n",
      "-------------------Data after operation is performed-------------\n",
      "('1', '2', '3', '4', '5', '6', '7', '8', '9', '10')\n"
     ]
    }
   ],
   "source": [
    "# Question: Write a python program to convert the given list of integers into a tuple of strings. Use map and lambda functions.\n",
    "data_set = [1, 2, 3, 4, 5, 6, 7, 8, 9, 10];\n",
    "print(\"-------------------Data before operation is performed------------\")\n",
    "print(data_set);\n",
    "ans = tuple(map(lambda x : str(x) , data_set));\n",
    "print(\"-------------------Data after operation is performed-------------\");\n",
    "print(ans)"
   ]
  },
  {
   "cell_type": "code",
   "execution_count": 35,
   "id": "b7756adc-034a-4416-a224-af4acf93af4d",
   "metadata": {},
   "outputs": [
    {
     "name": "stdout",
     "output_type": "stream",
     "text": [
      "------------list------------\n",
      "[1, 2, 3, 4, 5, 6, 7, 8, 9, 10, 11, 12, 13, 14, 15, 16, 17, 18, 19, 20, 21, 22, 23, 24, 25]\n",
      "------------product---------\n",
      "15511210043330985984000000\n"
     ]
    }
   ],
   "source": [
    "# Write a python program using reduce function to compute the product of a list containing numbers from 1 to 25;\n",
    "from functools import reduce;\n",
    "lst = list(range(1,26));\n",
    "print(\"------------list------------\");\n",
    "print(lst);\n",
    "ans = reduce(lambda x,y : x*y , lst);\n",
    "print(\"------------product---------\");\n",
    "print(ans)"
   ]
  },
  {
   "cell_type": "code",
   "execution_count": 39,
   "id": "2634f699-8e9a-4f53-8bae-80df65282249",
   "metadata": {},
   "outputs": [
    {
     "name": "stdout",
     "output_type": "stream",
     "text": [
      "[6, 60, 90, 120]\n"
     ]
    }
   ],
   "source": [
    "# Write a python program to filter the numbers in a given list that are divisible by 2 and 3 using the filter function.\n",
    "data_set = [2, 3, 6, 9, 27, 60, 90, 120, 55, 46];\n",
    "ans = list(filter(lambda x : x%3 == 0 and x%2 == 0, data_set));\n",
    "print(ans)"
   ]
  },
  {
   "cell_type": "code",
   "execution_count": 48,
   "id": "d76c6463-7bdc-4fb8-8ed2-62f0c15929ee",
   "metadata": {},
   "outputs": [
    {
     "name": "stdout",
     "output_type": "stream",
     "text": [
      "['php', 'aba', 'radar', 'level', 'aabaa', 'cccbbbbccc', 'aabbbbaa', 'abcddcba']\n"
     ]
    }
   ],
   "source": [
    "# Write a python program to find palindromes in the given list of strings using lambda and filter function\n",
    "data_set = ['python', 'php', 'aba', 'radar', 'level' , 'aabaa'\n",
    "           ,'cccbbbbccc' , 'aabbbbaa' , 'abcddcba'];\n",
    "def func(str):\n",
    "    if len(str) == 1:\n",
    "        return True;\n",
    "    mid = int(len(str)/2);\n",
    "    if len(str)%2 == 0:\n",
    "        if str[0:mid] == (str[mid:len(str)])[::-1]:\n",
    "            return True;\n",
    "    else:\n",
    "        if str[0:mid] == (str[mid+1:len(str)])[::-1]:\n",
    "            return True;\n",
    "    \n",
    "    return False;\n",
    "ans = list(filter(lambda x : func(x) == True , data_set));\n",
    "print(\"-------------Filtered Out Palindromic Strings----------\")\n",
    "print(ans)"
   ]
  },
  {
   "cell_type": "code",
   "execution_count": null,
   "id": "f2ff8b55-617b-4365-8f99-294f014b7bb5",
   "metadata": {},
   "outputs": [],
   "source": []
  }
 ],
 "metadata": {
  "kernelspec": {
   "display_name": "Python 3 (ipykernel)",
   "language": "python",
   "name": "python3"
  },
  "language_info": {
   "codemirror_mode": {
    "name": "ipython",
    "version": 3
   },
   "file_extension": ".py",
   "mimetype": "text/x-python",
   "name": "python",
   "nbconvert_exporter": "python",
   "pygments_lexer": "ipython3",
   "version": "3.10.8"
  }
 },
 "nbformat": 4,
 "nbformat_minor": 5
}
