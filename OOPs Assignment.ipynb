{
 "cells": [
  {
   "cell_type": "code",
   "execution_count": 1,
   "id": "b1ad635d-c9f9-463e-86b0-297420baa3ee",
   "metadata": {},
   "outputs": [],
   "source": [
    "# Question: Explain class and object with respect to Object oriented Programming. Give a suitable Example.\n",
    "ans = \"\"\" \n",
    "    Class is detailed description, blueprint, the definition of what an object will be, but it is not the object itself.\n",
    "    Object on the other hand is an instance of a class.\n",
    "    Consider an example of cars, by hearing this word we can imagine that we are talking about a vehicle with four wheels,\n",
    "    with interior, with engine, with steering wheel etc, this imagined vehicle can be said to be as a class but when\n",
    "    we imagine cars of different companies like hyundai i20, tata sierra ev, mahindra xuv 400 etc,\n",
    "    such cars do exists in real life and can be said as objects made while considering cars as a class or blueprint.\n",
    "\"\"\""
   ]
  },
  {
   "cell_type": "code",
   "execution_count": 2,
   "id": "91f64ec0-4be1-4517-ac29-d4cbceedd21d",
   "metadata": {},
   "outputs": [],
   "source": [
    "# Question: Name the four pillars of oops.\n",
    "ans = \"\"\" \n",
    "1. Inheritance\n",
    "2. Polymorphism\n",
    "3. Encapsulation\n",
    "4. Abstraction\n",
    "\"\"\""
   ]
  },
  {
   "cell_type": "code",
   "execution_count": 6,
   "id": "0e93ea6c-9db8-4320-8a88-d1a35e88956f",
   "metadata": {},
   "outputs": [
    {
     "name": "stdout",
     "output_type": "stream",
     "text": [
      "Object name: shafin Object age: 20\n",
      "Object name: kirpal Object age: 20\n"
     ]
    }
   ],
   "source": [
    "# Question: Explain why the init() function is used, Give suitable example.\n",
    "ans=\"\"\"\n",
    "    __init__() is a constructor in python. Constructors are used to initialize(assign values) to the data members of the class,\n",
    "    when an object of the class is created.\n",
    "    It is similar to function since just like function it consists of collection of statements(instructions),\n",
    "    that are executed at the time of Object cretaion.\n",
    "    Suppose I make a class called details helping in creating objects storing name and age of students.\n",
    "    class details:\n",
    "        def __init__(self, name, age):\n",
    "            self.name = name;\n",
    "            self.age = age;\n",
    "        def disp(self):\n",
    "            print('Object name:',self.name,'Object age:',self.age);\n",
    "    shafin = details('shafin', 20);\n",
    "    kirpal = details('kirpal' ,20);\n",
    "    shafin.disp();\n",
    "    kirpal.disp();\n",
    "    output:\n",
    "    Object name: shafin Object age: 20\n",
    "    Object name: kirpal Object age: 20\n",
    "    \n",
    "    In above program, while creating object shafin, kirpal; __init__ function is acting as a mediator to map object values to 'details' data members.\n",
    "    \n",
    "\"\"\""
   ]
  },
  {
   "cell_type": "code",
   "execution_count": 10,
   "id": "ee526efa-4fb4-4fa5-aeb4-80fbb0bbff12",
   "metadata": {},
   "outputs": [
    {
     "name": "stdout",
     "output_type": "stream",
     "text": [
      "This is me, shafin!!\n"
     ]
    }
   ],
   "source": [
    "# Question: Why self is used in oops?\n",
    "ans = \"\"\" \n",
    "    self represents the instance of the class.\n",
    "    By using the 'self' we can access the attributes and methods of the class in python.\n",
    "    It binds the attributes with the given arguments.\n",
    "    Self helps class to identify which methods or data members belongs to it.\n",
    "    Also self is not a reserved keyword, we can write any other variable name instead of self but it should be the first argument,\n",
    "    so that class can use it for binding purposes.\n",
    "    example:\n",
    "    class print_hello:\n",
    "        def p_hello(shafin):\n",
    "            print(\"This is me, shafin!!\");\n",
    "    a = print_hello();\n",
    "    a.p_hello();\n",
    "    output:\n",
    "    This is me, shafin!!\n",
    "    If I won't pass shafin in p_hello as parameter an error will occur since class will not able to decide whether method defined belongs to it or not.\n",
    "\"\"\""
   ]
  },
  {
   "cell_type": "code",
   "execution_count": 11,
   "id": "e1e413c1-3af4-4465-8678-68ed09dece1f",
   "metadata": {},
   "outputs": [
    {
     "name": "stdout",
     "output_type": "stream",
     "text": [
      "shafin Kirpal\n"
     ]
    }
   ],
   "source": [
    "# Question: What is inheritance? Give an example for each type of inheritance.\n",
    "ans = \"\"\" \n",
    "    Inheritance allows us to define a class that inherits all the methods and properties from another class.\n",
    "    Parent class: is the class being inherited from, also called base class.\n",
    "    Child class: is the class that inherits from another class, also called derived class.\n",
    "    Example:\n",
    "    I am creating a parent class named Person that will have student names as data members and a method to print the names.\n",
    "    I will create a child class named Student inheriting Person class and\n",
    "    I will be able to pass object names as parameters directly in Student since its child class of Person and will be able to use its data members.\n",
    "    class Person:\n",
    "        def __init__(self, fname, lname):\n",
    "            self.firstname = fname;\n",
    "            self.lastname = lname;\n",
    "        def printname(self):\n",
    "            print(self.firstname, self.lastname);\n",
    "    class Student(Person):\n",
    "        pass\n",
    "    stud = Student(\"shafin\" , \"Kirpal\");\n",
    "    stud.printname();\n",
    "    Output:\n",
    "    shafin Kirpal\n",
    "\"\"\"\n",
    "class Person:\n",
    "    def __init__(self, fname, lname):\n",
    "        self.firstname = fname;\n",
    "        self.lastname = lname;\n",
    "    def printname(self):\n",
    "        print(self.firstname, self.lastname);\n",
    "class Student(Person):\n",
    "    pass\n",
    "stud = Student(\"shafin\" , \"Kirpal\");\n",
    "stud.printname();"
   ]
  },
  {
   "cell_type": "code",
   "execution_count": null,
   "id": "03a00596-7233-4c2f-a04c-813608c33f67",
   "metadata": {},
   "outputs": [],
   "source": []
  }
 ],
 "metadata": {
  "kernelspec": {
   "display_name": "Python 3 (ipykernel)",
   "language": "python",
   "name": "python3"
  },
  "language_info": {
   "codemirror_mode": {
    "name": "ipython",
    "version": 3
   },
   "file_extension": ".py",
   "mimetype": "text/x-python",
   "name": "python",
   "nbconvert_exporter": "python",
   "pygments_lexer": "ipython3",
   "version": "3.10.8"
  }
 },
 "nbformat": 4,
 "nbformat_minor": 5
}
