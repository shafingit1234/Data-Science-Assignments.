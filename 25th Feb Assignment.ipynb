{
 "cells": [
  {
   "cell_type": "code",
   "execution_count": 2,
   "id": "3223b494-1d6a-4df8-9aea-fade102d88a4",
   "metadata": {},
   "outputs": [],
   "source": [
    "# Consider following code to answer further questions:\n",
    "import pandas as pd\n",
    "course_name = ['Data Science', 'Machine Learning', 'Big Data', 'Data Engineer']\n",
    "duration = [2,3,6,4]\n",
    "df = pd.DataFrame(data = {'course_name' : course_name, 'duration' : duration})"
   ]
  },
  {
   "cell_type": "code",
   "execution_count": 4,
   "id": "1fb204a0-36d3-49a7-92e8-a0f8057d1218",
   "metadata": {},
   "outputs": [
    {
     "name": "stdout",
     "output_type": "stream",
     "text": [
      "********* Date present in second row ****\n",
      "course_name    Machine Learning\n",
      "duration                      3\n",
      "Name: 1, dtype: object\n"
     ]
    }
   ],
   "source": [
    "# QUestion 1 Write a code to print the data present in the second row of the dataframe, df.\n",
    "for i, j in df.iterrows():\n",
    "    if(i == 1):\n",
    "        print(\"********* Date present in second row ****\");\n",
    "        print(j);\n",
    "        break;"
   ]
  },
  {
   "cell_type": "code",
   "execution_count": 5,
   "id": "79fe5d34-bb23-4a4f-9b2f-7b760cf0f3c6",
   "metadata": {},
   "outputs": [],
   "source": [
    "# Question 2 What is the difference between the functions loc and iloc in pandas.Dataframe?\n",
    "ans = \"\"\" \n",
    "The main difference between the two methods is:-\n",
    "loc:- gets rows (and/or columns) with particular labels.\n",
    "iloc:- gets rows(and/or columns) at integer locations.\n",
    "\"\"\""
   ]
  },
  {
   "cell_type": "code",
   "execution_count": 9,
   "id": "0c910355-83a3-4456-90fd-1a20f37bd75e",
   "metadata": {},
   "outputs": [
    {
     "name": "stdout",
     "output_type": "stream",
     "text": [
      "******** updated Date *******\n",
      "        course_name  duration\n",
      "3     Data Engineer         4\n",
      "0      Data Science         2\n",
      "1  Machine Learning         3\n",
      "2          Big Data         6\n",
      "******** output for new_df.loc[2]\n",
      "course_name    Big Data\n",
      "duration              6\n",
      "Name: 2, dtype: object\n",
      "******* output for new_df.iloc[2]\n",
      "course_name    Machine Learning\n",
      "duration                      3\n",
      "Name: 1, dtype: object\n"
     ]
    }
   ],
   "source": [
    "# Question 3 Reindex the given dataframe using a variable reindex = [3,01,2] and store it in the variable, new_diff then find the output for both new_df.loc[2] and new_df.iloc[2];\n",
    "reindex = [3,0,1,2];\n",
    "new_df = df.reindex(reindex);\n",
    "print(\"******** updated Date *******\");\n",
    "print(new_df);\n",
    "print(\"******** output for new_df.loc[2]\");\n",
    "print(new_df.loc[2]);\n",
    "print(\"******* output for new_df.iloc[2]\");\n",
    "print(new_df.iloc[2]);\n",
    "\n",
    "ans = \"\"\" Yes there is a difference in the outputs, since the index of new_df is now [3,0,1,2], new_df.loc[] will print the row at the label 2 in the index.\n",
    "Similarly, new_df.iloc[2] returns the row that has the integer position 2 in the index.\"\"\""
   ]
  },
  {
   "cell_type": "code",
   "execution_count": 11,
   "id": "da59098f-c2a9-4df1-91a2-d5fa4fe08b26",
   "metadata": {},
   "outputs": [
    {
     "name": "stdout",
     "output_type": "stream",
     "text": [
      "   column_1  column_2  column_3  column_4  column_5  column_6\n",
      "1  0.494939  0.895527  0.001509  0.755818  0.462643  0.341777\n",
      "2  0.426606  0.650054  0.425418  0.663069  0.915990  0.241651\n",
      "3  0.178090  0.945772  0.832288  0.939126  0.820923  0.576962\n",
      "4  0.576781  0.199474  0.081989  0.194964  0.242000  0.124616\n",
      "5  0.624695  0.104026  0.996429  0.662424  0.567148  0.380538\n",
      "6  0.486676  0.499400  0.248753  0.396738  0.244729  0.172366\n"
     ]
    }
   ],
   "source": [
    "# Consider the below code to answer further questions.\n",
    "import pandas as pd\n",
    "import numpy as np\n",
    "columns = ['column_1', 'column_2', 'column_3', 'column_4', 'column_5', 'column_6']\n",
    "indices = [1,2,3,4,5,6]\n",
    "#Creating a dataframe:\n",
    "df1 = pd.DataFrame(np.random.rand(6,6), columns = columns, index = indices)\n",
    "print(df1)"
   ]
  },
  {
   "cell_type": "code",
   "execution_count": 23,
   "id": "e4a72fde-5259-4052-ad6f-42f215a96569",
   "metadata": {},
   "outputs": [
    {
     "name": "stdout",
     "output_type": "stream",
     "text": [
      "Mean of Each Column:- [0.464631047013537, 0.5490422157511219, 0.43106453823519586, 0.6020231258935308, 0.5422389345613344, 0.3063182947187595]\n",
      "**********************\n",
      "Standard Deviation of Column-2:- 0.34938576859059767\n"
     ]
    }
   ],
   "source": [
    "#Question 4 Write a code to find the following statistical measurements for the above dataframe df1 i) mean of each and every column present in the dataframe. ii) Standard Deviation of column, 'column_2'>\n",
    "mean_list = list();\n",
    "std_list= list();\n",
    "# print(df1.columns);\n",
    "for j in list(df1.columns):\n",
    "    # print(j);\n",
    "    mean_list.append(df1[j].mean());\n",
    "    std_list.append(df1[j].std());\n",
    "print(f\"Mean of Each Column:- {mean_list}\");\n",
    "print(\"**********************\")\n",
    "print(f\"Standard Deviation of Column-2:- {std_list[1]}\");"
   ]
  },
  {
   "cell_type": "code",
   "execution_count": 24,
   "id": "ddb79d1b-fa88-441b-bb6d-72eca7bc7e82",
   "metadata": {},
   "outputs": [
    {
     "name": "stdout",
     "output_type": "stream",
     "text": [
      "******* updated Data *****\n",
      "   column_1  column_2  column_3  column_4  column_5  column_6\n",
      "1  0.494939  0.895527  0.001509  0.755818  0.462643  0.341777\n",
      "2  0.426606   new_val  0.425418  0.663069  0.915990  0.241651\n",
      "3  0.178090  0.945772  0.832288  0.939126  0.820923  0.576962\n",
      "4  0.576781  0.199474  0.081989  0.194964  0.242000  0.124616\n",
      "5  0.624695  0.104026  0.996429  0.662424  0.567148  0.380538\n",
      "6  0.486676    0.4994  0.248753  0.396738  0.244729  0.172366\n",
      "********** Error Occured, Reason mentioned below ******\n",
      "The error is generated because one of the elements in the column is non numeric(string) and while finding the mean the program is trying to addd that string numeric value of the column, which is not possible!!\n"
     ]
    }
   ],
   "source": [
    "#Question 5 Replace the data present in the second row of column, 'column_2' by a string variable then find the mean of column, column_2.\n",
    "df1['column_2'].loc[2] = 'new_val';\n",
    "print(\"******* updated Data *****\");\n",
    "print(df1);\n",
    "try:\n",
    "    val = df1['column_2'].mean();\n",
    "    print(val);\n",
    "except:\n",
    "    print(\"********** Error Occured, Reason mentioned below ******\");\n",
    "    print(\"The error is generated because one of the elements in the column is non numeric(string) and while finding the mean the program is trying to addd that string numeric value of the column, which is not possible!!\");"
   ]
  },
  {
   "cell_type": "code",
   "execution_count": 25,
   "id": "4fbe4abe-960b-4098-b657-abe7434fcaff",
   "metadata": {},
   "outputs": [],
   "source": [
    "#Question 6 What do you understand about the windows function in pandas and list the types of windows functions?\n",
    "ans = \"\"\" \n",
    "In pandas, a window function is a way to apply a calculation to a specific subset of data, called a \"window\" that moves through the dataset. This allows for calculations to be made on a rolling or expanding basis, dependeing on the type of window function used.\n",
    "\n",
    "The types of window functions available in pandas are:-\n",
    "1. Rolling functions:- These functions compute a rolling statistic over a defined window size. Examples include rolling mean, rolling sum, rolling standard deviation, etc.\n",
    "2. Expanding Functions:- These functions compute a cumulative statistic over the entire dataset up to the current point. Examples include expanding sum, expanding mean, etc.\n",
    "3. Exponentially weighted functions: These functios compute a rolling statistic with weights that decay exponentially as the distance from the current point increases. Examples include exponentially weighted mean, exponentially weighted standard deviation, etc.\n",
    "4. Cumulative functions:- These functions compute a cumulative statistic over the entire dataset up to the current point. Examples include cumsum, cummax, cummin, etc.\n",
    "5. Aggregating functions:-  These functions perform a groupby-style operation on a rolling or expanding window. Examples include groupby.mean(), groupby.sum(), etc.\n",
    "\"\"\""
   ]
  },
  {
   "cell_type": "code",
   "execution_count": 29,
   "id": "3a23b30f-3334-4ce1-b664-5a9dc467ceaf",
   "metadata": {},
   "outputs": [
    {
     "name": "stdout",
     "output_type": "stream",
     "text": [
      "Date:-  2023-03-17\n",
      "Month of current date:-  April\n",
      "Year of current date:-  2023\n"
     ]
    }
   ],
   "source": [
    "#Question 7 Write a code to print only the current month and year at the time of answering this questions.\n",
    "from datetime import date\n",
    "today = date.today();\n",
    "print(\"Date:- \" , today);\n",
    "res = str(today).split(\"-\");\n",
    "year = int(res[0]);\n",
    "month = int(res[1]);\n",
    "months = ['January' , 'February' , 'March' , 'April' , 'May' , 'June' , 'July' , 'August' , 'September' , 'October' , 'November' , 'December'];\n",
    "print(\"Month of current date:- \" , months[month]);\n",
    "print(\"Year of current date:- \" , year);"
   ]
  },
  {
   "cell_type": "code",
   "execution_count": 1,
   "id": "37bd0d8e-224f-4814-9f17-3b7e575676c3",
   "metadata": {},
   "outputs": [
    {
     "name": "stdin",
     "output_type": "stream",
     "text": [
      "Enter date in the format YYYY-MM-DD 2004-05-17\n",
      "Enter date in the format YYYY-MM-DD 2002-04-16\n"
     ]
    },
    {
     "name": "stdout",
     "output_type": "stream",
     "text": [
      "First Date Entered by You:  2004-05-17\n",
      "Second Date entered by you:  2002-04-16\n",
      "762 days, 0:00:00\n",
      "Hours:-  18288\n",
      "Minutes:-  1097280.0\n",
      "Seconds:-  65836800\n",
      "Days:-  762\n"
     ]
    }
   ],
   "source": [
    "#Question 8 Write a python program that takes in two dates as input and calculates the difference between them in days, hours and minutes using Pandas time delta. The program should prompt the user to enter the dates and display the result.\n",
    "from datetime import datetime;\n",
    "date1 = input(\"Enter date in the format YYYY-MM-DD\");\n",
    "date2 = input(\"Enter date in the format YYYY-MM-DD\");\n",
    "# date1 = '2023-12-22'\n",
    "# First Date Entered by You:  2004-05-17\n",
    "# Second Date entered by you:  2002-04-16\n",
    "date_time1 = datetime.strptime(date1 , '%Y-%m-%d').date();\n",
    "date_time2 = datetime.strptime(date2 , '%Y-%m-%d').date();\n",
    "print(\"First Date Entered by You: \" , date_time1);\n",
    "print(\"Second Date entered by you: \" ,date_time2);\n",
    "diff = date_time1 - date_time2;\n",
    "print(diff);\n",
    "days= diff.days;\n",
    "seconds = days*24*3600 + diff.seconds;\n",
    "minutes = days*24*60 + diff.seconds/60;\n",
    "hours = days*24;\n",
    "print(\"Hours:- \" , hours);\n",
    "print(\"Minutes:- \" , minutes);\n",
    "print(\"Seconds:- \" , seconds);\n",
    "print(\"Days:- \" , days);\n"
   ]
  },
  {
   "cell_type": "code",
   "execution_count": 24,
   "id": "e1753127-76bc-4d6a-8126-a6ff522a84ff",
   "metadata": {},
   "outputs": [
    {
     "name": "stdin",
     "output_type": "stream",
     "text": [
      "Enter the filepath:  https://raw.githubusercontent.com/datasciencedojo/datasets/master/titanic.csv\n",
      "Enter the column name:  Pclass\n",
      "Enter category order:  ascending\n"
     ]
    },
    {
     "name": "stdout",
     "output_type": "stream",
     "text": [
      "******************* Initial Data:- **************\n",
      "             Survived  Pclass                                                 Name     Sex   Age  SibSp  Parch            Ticket     Fare Cabin Embarked\n",
      "PassengerId                                                                                                                                             \n",
      "1                   0       3                              Braund, Mr. Owen Harris    male  22.0      1      0         A/5 21171   7.2500   NaN        S\n",
      "2                   1       1  Cumings, Mrs. John Bradley (Florence Briggs Thayer)  female  38.0      1      0          PC 17599  71.2833   C85        C\n",
      "3                   1       3                               Heikkinen, Miss. Laina  female  26.0      0      0  STON/O2. 3101282   7.9250   NaN        S\n",
      "4                   1       1         Futrelle, Mrs. Jacques Heath (Lily May Peel)  female  35.0      1      0            113803  53.1000  C123        S\n",
      "5                   0       3                             Allen, Mr. William Henry    male  35.0      0      0            373450   8.0500   NaN        S\n",
      "6                   0       3                                     Moran, Mr. James    male   NaN      0      0            330877   8.4583   NaN        Q\n",
      "7                   0       1                              McCarthy, Mr. Timothy J    male  54.0      0      0             17463  51.8625   E46        S\n",
      "******************* Updated data:- ***************\n"
     ]
    },
    {
     "data": {
      "text/html": [
       "<div>\n",
       "<style scoped>\n",
       "    .dataframe tbody tr th:only-of-type {\n",
       "        vertical-align: middle;\n",
       "    }\n",
       "\n",
       "    .dataframe tbody tr th {\n",
       "        vertical-align: top;\n",
       "    }\n",
       "\n",
       "    .dataframe thead th {\n",
       "        text-align: right;\n",
       "    }\n",
       "</style>\n",
       "<table border=\"1\" class=\"dataframe\">\n",
       "  <thead>\n",
       "    <tr style=\"text-align: right;\">\n",
       "      <th></th>\n",
       "      <th>Survived</th>\n",
       "      <th>Pclass</th>\n",
       "      <th>Name</th>\n",
       "      <th>Sex</th>\n",
       "      <th>Age</th>\n",
       "      <th>SibSp</th>\n",
       "      <th>Parch</th>\n",
       "      <th>Ticket</th>\n",
       "      <th>Fare</th>\n",
       "      <th>Cabin</th>\n",
       "      <th>Embarked</th>\n",
       "    </tr>\n",
       "    <tr>\n",
       "      <th>PassengerId</th>\n",
       "      <th></th>\n",
       "      <th></th>\n",
       "      <th></th>\n",
       "      <th></th>\n",
       "      <th></th>\n",
       "      <th></th>\n",
       "      <th></th>\n",
       "      <th></th>\n",
       "      <th></th>\n",
       "      <th></th>\n",
       "      <th></th>\n",
       "    </tr>\n",
       "  </thead>\n",
       "  <tbody>\n",
       "    <tr>\n",
       "      <th>446</th>\n",
       "      <td>1</td>\n",
       "      <td>1</td>\n",
       "      <td>Dodge, Master. Washington</td>\n",
       "      <td>male</td>\n",
       "      <td>4.00</td>\n",
       "      <td>0</td>\n",
       "      <td>2</td>\n",
       "      <td>33638</td>\n",
       "      <td>81.8583</td>\n",
       "      <td>A34</td>\n",
       "      <td>S</td>\n",
       "    </tr>\n",
       "    <tr>\n",
       "      <th>311</th>\n",
       "      <td>1</td>\n",
       "      <td>1</td>\n",
       "      <td>Hays, Miss. Margaret Bechstein</td>\n",
       "      <td>female</td>\n",
       "      <td>24.00</td>\n",
       "      <td>0</td>\n",
       "      <td>0</td>\n",
       "      <td>11767</td>\n",
       "      <td>83.1583</td>\n",
       "      <td>C54</td>\n",
       "      <td>C</td>\n",
       "    </tr>\n",
       "    <tr>\n",
       "      <th>310</th>\n",
       "      <td>1</td>\n",
       "      <td>1</td>\n",
       "      <td>Francatelli, Miss. Laura Mabel</td>\n",
       "      <td>female</td>\n",
       "      <td>30.00</td>\n",
       "      <td>0</td>\n",
       "      <td>0</td>\n",
       "      <td>PC 17485</td>\n",
       "      <td>56.9292</td>\n",
       "      <td>E36</td>\n",
       "      <td>C</td>\n",
       "    </tr>\n",
       "    <tr>\n",
       "      <th>308</th>\n",
       "      <td>1</td>\n",
       "      <td>1</td>\n",
       "      <td>Penasco y Castellana, Mrs. Victor de Satode (M...</td>\n",
       "      <td>female</td>\n",
       "      <td>17.00</td>\n",
       "      <td>1</td>\n",
       "      <td>0</td>\n",
       "      <td>PC 17758</td>\n",
       "      <td>108.9000</td>\n",
       "      <td>C65</td>\n",
       "      <td>C</td>\n",
       "    </tr>\n",
       "    <tr>\n",
       "      <th>307</th>\n",
       "      <td>1</td>\n",
       "      <td>1</td>\n",
       "      <td>Fleming, Miss. Margaret</td>\n",
       "      <td>female</td>\n",
       "      <td>NaN</td>\n",
       "      <td>0</td>\n",
       "      <td>0</td>\n",
       "      <td>17421</td>\n",
       "      <td>110.8833</td>\n",
       "      <td>NaN</td>\n",
       "      <td>C</td>\n",
       "    </tr>\n",
       "    <tr>\n",
       "      <th>306</th>\n",
       "      <td>1</td>\n",
       "      <td>1</td>\n",
       "      <td>Allison, Master. Hudson Trevor</td>\n",
       "      <td>male</td>\n",
       "      <td>0.92</td>\n",
       "      <td>1</td>\n",
       "      <td>2</td>\n",
       "      <td>113781</td>\n",
       "      <td>151.5500</td>\n",
       "      <td>C22 C26</td>\n",
       "      <td>S</td>\n",
       "    </tr>\n",
       "    <tr>\n",
       "      <th>711</th>\n",
       "      <td>1</td>\n",
       "      <td>1</td>\n",
       "      <td>Mayne, Mlle. Berthe Antonine (\"Mrs de Villiers\")</td>\n",
       "      <td>female</td>\n",
       "      <td>24.00</td>\n",
       "      <td>0</td>\n",
       "      <td>0</td>\n",
       "      <td>PC 17482</td>\n",
       "      <td>49.5042</td>\n",
       "      <td>C90</td>\n",
       "      <td>C</td>\n",
       "    </tr>\n",
       "  </tbody>\n",
       "</table>\n",
       "</div>"
      ],
      "text/plain": [
       "             Survived  Pclass  \\\n",
       "PassengerId                     \n",
       "446                 1       1   \n",
       "311                 1       1   \n",
       "310                 1       1   \n",
       "308                 1       1   \n",
       "307                 1       1   \n",
       "306                 1       1   \n",
       "711                 1       1   \n",
       "\n",
       "                                                          Name     Sex    Age  \\\n",
       "PassengerId                                                                     \n",
       "446                                  Dodge, Master. Washington    male   4.00   \n",
       "311                             Hays, Miss. Margaret Bechstein  female  24.00   \n",
       "310                             Francatelli, Miss. Laura Mabel  female  30.00   \n",
       "308          Penasco y Castellana, Mrs. Victor de Satode (M...  female  17.00   \n",
       "307                                    Fleming, Miss. Margaret  female    NaN   \n",
       "306                             Allison, Master. Hudson Trevor    male   0.92   \n",
       "711           Mayne, Mlle. Berthe Antonine (\"Mrs de Villiers\")  female  24.00   \n",
       "\n",
       "             SibSp  Parch    Ticket      Fare    Cabin Embarked  \n",
       "PassengerId                                                      \n",
       "446              0      2     33638   81.8583      A34        S  \n",
       "311              0      0     11767   83.1583      C54        C  \n",
       "310              0      0  PC 17485   56.9292      E36        C  \n",
       "308              1      0  PC 17758  108.9000      C65        C  \n",
       "307              0      0     17421  110.8833      NaN        C  \n",
       "306              1      2    113781  151.5500  C22 C26        S  \n",
       "711              0      0  PC 17482   49.5042      C90        C  "
      ]
     },
     "execution_count": 24,
     "metadata": {},
     "output_type": "execute_result"
    }
   ],
   "source": [
    "# Question 9 Write a python program that reads a csv file containing categorical data and converts a specified column to a categorical data type. The program should prompt the user to enter the file path, column name, and category order, and then display the sorted data?\n",
    "import pandas as pd;\n",
    "filepath = input(\"Enter the filepath: \");\n",
    "column = input('Enter the column name: ');\n",
    "order = input('Enter category order: ');\n",
    "print(\"******************* Initial Data:- **************\");\n",
    "\n",
    "df = pd.read_csv(filepath , index_col = 0);\n",
    "print(df.head(7).to_string());\n",
    "df[column].astype('category');\n",
    "if order == 'ascending':\n",
    "    df = df.sort_values(by=column , ascending = True);\n",
    "elif order == 'descending':\n",
    "    df = df.sort_values(by = column , ascending = True);\n",
    "print(\"******************* Updated data:- ***************\");\n",
    "df.head(7)"
   ]
  },
  {
   "cell_type": "code",
   "execution_count": 2,
   "id": "730b36fe-2394-49c2-9002-645bec9ced89",
   "metadata": {},
   "outputs": [],
   "source": [
    "# Question 10 Write a Python program that reads a CSV file containing sales data for different products and visualizes the data using a stacked bar chart to show the sales of each product category over time. The program should prompt the user to enter the file path and display the chart.\n",
    "filepath = input('Enter filepath: ')\n",
    "\n",
    "df = pd.read_csv(filepath)\n",
    "df['Date'] = pd.to_datetime(df['Date'])\n",
    "grouped = df.groupby(['Product', 'Date']).sum()\n",
    "pivot = grouped.unstack(level=0)\n",
    "pivot.plot(kind='bar', stacked=True)"
   ]
  },
  {
   "cell_type": "code",
   "execution_count": 12,
   "id": "d1d7a79a-5c46-47fa-bd94-25cc749d117e",
   "metadata": {},
   "outputs": [
    {
     "name": "stdin",
     "output_type": "stream",
     "text": [
      "Enter Filepath:  ./csvFiles/student_data.csv\n"
     ]
    },
    {
     "name": "stdout",
     "output_type": "stream",
     "text": [
      "+----------+----------+\n",
      "Statistic | Value\n",
      "Mean:    83.5\n",
      "Median:    85.0\n",
      "Mode:    0    85\n",
      "Name: Test_Score, dtype: int64\n",
      "+----------+----------+\n"
     ]
    }
   ],
   "source": [
    "# Question no. 11.\n",
    "import pandas as pd;\n",
    "filepath = input('Enter Filepath: ')\n",
    "\n",
    "df = pd.read_csv(filepath)\n",
    "\n",
    "# print(df['Student_ID']);\n",
    "mean = df['Test_Score'].mean()\n",
    "median = df['Test_Score'].median()\n",
    "mode = df['Test_Score'].mode()\n",
    "\n",
    "print(\"+----------+----------+\")\n",
    "print(\"Statistic | Value\")\n",
    "print(f\"Mean:    {mean}\")\n",
    "print(f\"Median:    {median}\")\n",
    "print(f\"Mode:    {mode}\")\n",
    "print(\"+----------+----------+\")\n"
   ]
  },
  {
   "cell_type": "code",
   "execution_count": null,
   "id": "e69cc0cd-380e-4f2f-9550-13a9161501d2",
   "metadata": {},
   "outputs": [],
   "source": []
  }
 ],
 "metadata": {
  "kernelspec": {
   "display_name": "Python 3 (ipykernel)",
   "language": "python",
   "name": "python3"
  },
  "language_info": {
   "codemirror_mode": {
    "name": "ipython",
    "version": 3
   },
   "file_extension": ".py",
   "mimetype": "text/x-python",
   "name": "python",
   "nbconvert_exporter": "python",
   "pygments_lexer": "ipython3",
   "version": "3.10.8"
  }
 },
 "nbformat": 4,
 "nbformat_minor": 5
}
