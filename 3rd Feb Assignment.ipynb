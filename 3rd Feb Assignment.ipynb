{
 "cells": [
  {
   "cell_type": "code",
   "execution_count": 12,
   "id": "91e942fd-cc01-4642-b659-ffb8eed8e0d8",
   "metadata": {},
   "outputs": [
    {
     "name": "stdout",
     "output_type": "stream",
     "text": [
      "---------------Odd numbers between 1 and 26 are: \n",
      "[1, 3, 5, 7, 9, 11, 13, 15, 17, 19, 21, 23, 25]\n"
     ]
    }
   ],
   "source": [
    "# Which keyword is used to create a function? Create a function to return a list of odd numbers in the range of 1 to 25.\n",
    "ans = \"\"\" def keyword is used for creating a function.\n",
    "function to return a list of odd numbers:\n",
    "ls = list(range(1,26));\n",
    "def getOddNumber(ls):\n",
    "    res = list();\n",
    "    for i in ls:\n",
    "        if i%2 != 0:\n",
    "            res.append(i);\n",
    "    return res;\n",
    "print(getOddNumber(ls));\n",
    "\"\"\"\n",
    "ls = list(range(1,26));\n",
    "def getOddNumber(ls):\n",
    "    res = list();\n",
    "    for i in ls:\n",
    "        if i%2 != 0:\n",
    "            res.append(i);\n",
    "    return res;\n",
    "print(\"---------------Odd numbers between 1 and 26 are: \");\n",
    "print(getOddNumber(ls));"
   ]
  },
  {
   "cell_type": "code",
   "execution_count": 21,
   "id": "66ee7495-e7af-41d1-87d0-ffc07455c348",
   "metadata": {},
   "outputs": [
    {
     "name": "stdout",
     "output_type": "stream",
     "text": [
      "This is a key: firstName This is the value: shafin\n",
      "This is a key: LastName This is the value: Lincoln\n"
     ]
    }
   ],
   "source": [
    "# Why *args and **kwargs is used in some functions? Create a function each for *args and **kwargs to demonstrate their use.\n",
    "ans = \"\"\"\n",
    "    1. *args is used to pass a non-key worded, variable-length argument list. What it allows us to do is take in more arguments than the number of formal arguments that you previously defined.\n",
    "    with *args any number of extra arguments can be tacked on to your current formal parameter.\n",
    "    Example:\n",
    "    suppose I want to make a multiply function that takes any number of arguments and is able to multiply them all together, It can be done using *args.\n",
    "    def multiplyThemAll(*args):\n",
    "        res = 1;\n",
    "        for i in args:\n",
    "            res = res * i;\n",
    "        return res;\n",
    "    print(multiplyThemAll(1,2,3,4,5,6,7,8));\n",
    "    Output:\n",
    "    40320\n",
    "    \n",
    "    2. **kwargs is used to pass a keyworded, variable length argument list. ** allows us to pass through keyword arguments(and any number of them).\n",
    "    One can think of the kwargs as being a dictionary that maps each keyword to the value that we pass alongside it. That is why when we iterate over the kwargs there doesn't seem to be any order in which they were printed out.\n",
    "    Example:\n",
    "    def sample(**kwargs):\n",
    "        for k, v in kwargs.items():\n",
    "            print(\"This is a key:\" , k, \"This is the value:\", v);\n",
    "    \n",
    "    sample(1234 = 'shafin', 2345 = 'Kirpal');\n",
    "    output:\n",
    "    This is a key: firstName This is the value: shafin\n",
    "    This is a key: LastName This is the value: Lincoln\n",
    "\"\"\""
   ]
  },
  {
   "cell_type": "code",
   "execution_count": 22,
   "id": "75f05d68-744a-4ec1-a3e1-f0ad9e855cb4",
   "metadata": {},
   "outputs": [
    {
     "name": "stdout",
     "output_type": "stream",
     "text": [
      "s\n",
      "h\n",
      "a\n",
      "f\n",
      "i\n",
      "n\n"
     ]
    }
   ],
   "source": [
    "# What is an iterator in python? Name the method used to initialise the iterator object and the method used for iteration. Use these methods to print the first five elements of the given list [2,4,6,8,10,12,14,16,18,20]\n",
    "ans = \"\"\" An iterator is an object that contains a countable number of values. It is an object that can be iteratred upon, meaning that you can traverse through all the values.\n",
    "Lists, Tuples, Dictionaries and sets are all iterable objects.\n",
    "Example:\n",
    "mystr = \"shafin\"\n",
    "myit = iter(mystr)\n",
    "\n",
    "print(next(myit))\n",
    "print(next(myit))\n",
    "print(next(myit))\n",
    "print(next(myit))\n",
    "print(next(myit))\n",
    "print(next(myit))\n",
    "output:\n",
    "s\n",
    "h\n",
    "a\n",
    "f\n",
    "i\n",
    "n\n",
    "In above example, string \"shafin\" is not an iterator object but it is an iterable object, to convert it into an iterator object we use iter() method.\n",
    "And to iterate through the iterable object converted into an iterator object we make use of next() method.\n",
    "\"\"\""
   ]
  },
  {
   "cell_type": "code",
   "execution_count": 56,
   "id": "190cedd5-40d9-4b74-837a-d22eb092fad4",
   "metadata": {},
   "outputs": [
    {
     "name": "stdout",
     "output_type": "stream",
     "text": [
      "0 1 2 3 4 5 6 7 8 9 "
     ]
    }
   ],
   "source": [
    "# What is a generator function in python? Why yield keyword is used? Give an example of a generator function?\n",
    "ans = \"\"\"\n",
    "A generator is a function that returns an iterator that produces a sequence of values when iterated over.\n",
    "Generators are useful when we want to produce a large sequence of values, but we don't want to store all of them in memory at once.\n",
    "Similarly like normal function, we can define a generator function using def keyword, but instead of return keyword we make use of yield keyword.\n",
    "Yield keyword is used to produce a value from the generator.\n",
    "\n",
    "When the generator function is called, it does not execute the function body immediately. Instead, it returns a generator object tha can be iterated over to produce the values.\n",
    "Example:\n",
    "Generator function to produce sequence of number.\n",
    "def generate_sequence(n):\n",
    "    count = 0;\n",
    "    while count < n:\n",
    "        yield count;\n",
    "        count = count + 1;\n",
    "ans = generate_sequence(10);\n",
    "for val in ans:\n",
    "    print(val, end=\" \");\n",
    "    \n",
    "output:\n",
    "0 1 2 3 4 5 6 7 8 9\n",
    "\"\"\""
   ]
  },
  {
   "cell_type": "code",
   "execution_count": 52,
   "id": "743fd338-d411-4978-8b23-c804aed93074",
   "metadata": {},
   "outputs": [
    {
     "name": "stdout",
     "output_type": "stream",
     "text": [
      "Primes between 1 and 1000, found using generator function.\n",
      "\n",
      "[2, 3, 5, 7, 11, 13, 17, 19, 23, 29, 31, 37, 41, 43, 47, 53, 59, 61, 67, 71, 73, 79, 83, 89, 97, 101, 103, 107, 109, 113, 127, 131, 137, 139, 149, 151, 157, 163, 167, 173, 179, 181, 191, 193, 197, 199, 211, 223, 227, 229, 233, 239, 241, 251, 257, 263, 269, 271, 277, 281, 283, 293, 307, 311, 313, 317, 331, 337, 347, 349, 353, 359, 367, 373, 379, 383, 389, 397, 401, 409, 419, 421, 431, 433, 439, 443, 449, 457, 461, 463, 467, 479, 487, 491, 499, 503, 509, 521, 523, 541, 547, 557, 563, 569, 571, 577, 587, 593, 599, 601, 607, 613, 617, 619, 631, 641, 643, 647, 653, 659, 661, 673, 677, 683, 691, 701, 709, 719, 727, 733, 739, 743, 751, 757, 761, 769, 773, 787, 797, 809, 811, 821, 823, 827, 829, 839, 853, 857, 859, 863, 877, 881, 883, 887, 907, 911, 919, 929, 937, 941, 947, 953, 967, 971, 977, 983, 991, 997]\n",
      "--------------------------Primes that are less than 20:----\n",
      "\n",
      "[2, 3, 5, 7, 11, 13, 17, 19]\n"
     ]
    }
   ],
   "source": [
    "# Create a generator function for prime numbers less than 1000. Use the next() method to print the first 20 prime numbers.\n",
    "def checkPrime(num):\n",
    "    for i in range(2, num):\n",
    "        if num%i == 0:\n",
    "            return False;\n",
    "    return True;\n",
    "def getPrimes(n):\n",
    "    count = 2 ;\n",
    "    while count < n:\n",
    "        if checkPrime(count) == True:\n",
    "            yield count;\n",
    "        count = count+1;\n",
    "ans = getPrimes(1000);\n",
    "res = list();\n",
    "for i in ans:\n",
    "    res.append(i);\n",
    "print(\"Primes between 1 and 1000, found using generator function.\");\n",
    "print();\n",
    "print(res);\n",
    "print(\"--------------------------Primes that are less than 20:----\")\n",
    "res2 = list();\n",
    "for i in res:\n",
    "    if i < 20:\n",
    "        res2.append(i);\n",
    "print();\n",
    "print(res2);"
   ]
  },
  {
   "cell_type": "code",
   "execution_count": 25,
   "id": "35a60fbb-34b3-4a24-9e61-e98372df6c38",
   "metadata": {},
   "outputs": [
    {
     "name": "stdout",
     "output_type": "stream",
     "text": [
      "-----------Fibonacci series goes here----------\n",
      "0 1 1 2 3 5 8 13 21 34 "
     ]
    }
   ],
   "source": [
    "# Write a python program to print the first 10 fibonacci numbers using while loop\n",
    "n = 10;\n",
    "def printFib(n):\n",
    "    a =0;\n",
    "    b =1;\n",
    "    counter = 0;\n",
    "    while counter != n:\n",
    "        print(a , end = \" \");\n",
    "        counter = counter+1;\n",
    "        temp = b;\n",
    "        b = a + b;\n",
    "        a = temp;\n",
    "print(\"-----------Fibonacci series goes here----------\");\n",
    "printFib(n);"
   ]
  },
  {
   "cell_type": "code",
   "execution_count": 28,
   "id": "d3c7b2f7-c52b-44d3-a0fc-42f58b9c9977",
   "metadata": {},
   "outputs": [
    {
     "name": "stdout",
     "output_type": "stream",
     "text": [
      "---------Iterating using comprehension-----\n",
      "['p', 'w', 's', 'k', 'i', 'l', 'l', 's']\n"
     ]
    }
   ],
   "source": [
    "# Write a list comprehension to iterate through the given string: \"pwskills\"\n",
    "string = \"pwskills\";\n",
    "res = [i for i in string ]\n",
    "print(\"---------Iterating using comprehension-----\")\n",
    "print(res)"
   ]
  },
  {
   "cell_type": "code",
   "execution_count": 40,
   "id": "ba39d384-305e-42f4-959f-42d9da4e3b3f",
   "metadata": {},
   "outputs": [
    {
     "name": "stdin",
     "output_type": "stream",
     "text": [
      "Enter a number:  1111221111\n"
     ]
    },
    {
     "name": "stdout",
     "output_type": "stream",
     "text": [
      "Number: 1111221111 Is a palindrome.\n"
     ]
    }
   ],
   "source": [
    "# Write a python program to check whether a given number is palindrome or not using while loop.\n",
    "def checkPalindrome(n):\n",
    "    num = 0;\n",
    "    temp = n;\n",
    "    # print(num)\n",
    "    while n > 0:\n",
    "        # print(n%10)\n",
    "        num = num*10 + int(n%10);\n",
    "        n = int(n/10);\n",
    "    # print(num);\n",
    "    if num == temp:\n",
    "        return True;\n",
    "    return False;\n",
    "num = int(input(\"Enter a number: \"));\n",
    "if(checkPalindrome(num) == True):\n",
    "    print(\"Number:\", num, \"Is a palindrome.\");\n",
    "else:\n",
    "    print(\"Number:\", num, \"Is not a palindrome.\");"
   ]
  },
  {
   "cell_type": "code",
   "execution_count": 42,
   "id": "0eb4d772-93b8-4cf7-b1ad-001f8125d356",
   "metadata": {},
   "outputs": [
    {
     "name": "stdout",
     "output_type": "stream",
     "text": [
      "Odd numbers between 1 and 100, found using comprehension.\n",
      "[1, 3, 5, 7, 9, 11, 13, 15, 17, 19, 21, 23, 25, 27, 29, 31, 33, 35, 37, 39, 41, 43, 45, 47, 49, 51, 53, 55, 57, 59, 61, 63, 65, 67, 69, 71, 73, 75, 77, 79, 81, 83, 85, 87, 89, 91, 93, 95, 97, 99]\n"
     ]
    }
   ],
   "source": [
    "# Write a code to print odd numbers from 1 to 100 using list comprehension.\n",
    "ls = list(range(1,101));\n",
    "res = [i for i in ls if i%2 != 0];\n",
    "print(\"Odd numbers between 1 and 100, found using comprehension.\");\n",
    "print(res);"
   ]
  },
  {
   "cell_type": "code",
   "execution_count": null,
   "id": "976bc6c2-7c34-4723-a3e5-b847a9acc4af",
   "metadata": {},
   "outputs": [],
   "source": []
  }
 ],
 "metadata": {
  "kernelspec": {
   "display_name": "Python 3 (ipykernel)",
   "language": "python",
   "name": "python3"
  },
  "language_info": {
   "codemirror_mode": {
    "name": "ipython",
    "version": 3
   },
   "file_extension": ".py",
   "mimetype": "text/x-python",
   "name": "python",
   "nbconvert_exporter": "python",
   "pygments_lexer": "ipython3",
   "version": "3.10.8"
  }
 },
 "nbformat": 4,
 "nbformat_minor": 5
}
