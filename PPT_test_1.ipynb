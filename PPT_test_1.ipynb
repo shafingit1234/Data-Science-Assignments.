{
 "cells": [
  {
   "cell_type": "markdown",
   "id": "a63c2a34-fec7-4dbc-b9ef-9eab0b08408f",
   "metadata": {},
   "source": [
    "Question_1 Write a function that takes a list of numbers as input and returns a new list containing only the even numbers from the input list. Use list comprehension to solve this problem."
   ]
  },
  {
   "cell_type": "code",
   "execution_count": 8,
   "id": "17e7858e-58b1-4d86-935e-e67c3367c01e",
   "metadata": {},
   "outputs": [
    {
     "name": "stdin",
     "output_type": "stream",
     "text": [
      "Enter number of elements :  10\n",
      "\n",
      "Enter the numbers :  1 2 3 4 5 6 7 8 9 10\n"
     ]
    },
    {
     "name": "stdout",
     "output_type": "stream",
     "text": [
      "\n",
      "Original List is -  [1, 2, 3, 4, 5, 6, 7, 8, 9, 10]\n",
      "\n",
      "Even Number List is -  [2, 4, 6, 8, 10]\n"
     ]
    }
   ],
   "source": [
    "def find_even_numbers():\n",
    "    n = int(input(\"Enter number of elements : \"))\n",
    "    ls = list(map(int,\n",
    "        input(\"\\nEnter the numbers : \").strip().split()))[:n]\n",
    "    print(\"\\nOriginal List is - \", ls)\n",
    "    even_list = [ele for ele in ls if ele%2 == 0]\n",
    "    print(\"\\nEven Number List is - \", even_list)\n",
    "    \n",
    "find_even_numbers()"
   ]
  },
  {
   "cell_type": "markdown",
   "id": "d1d9c52a-f4a7-4ac5-a4e7-9c2552793564",
   "metadata": {},
   "source": [
    "Question_2: Implement a decorator function called ‘timer’ that measures the execution time of a function. The ‘timer’ decorator should print the time taken by the decorated function to execute. Use the ‘time’ module in Python to calculate the execution time."
   ]
  },
  {
   "cell_type": "code",
   "execution_count": 13,
   "id": "e4ea3b51-f5a0-47ba-b75d-8385d298ad27",
   "metadata": {},
   "outputs": [
    {
     "name": "stdin",
     "output_type": "stream",
     "text": [
      "Enter number of elements :  10\n",
      "\n",
      "Enter the numbers :  1 2 3 4 5 6 7 8 9 10\n"
     ]
    },
    {
     "name": "stdout",
     "output_type": "stream",
     "text": [
      "\n",
      "Original List is -  [1, 2, 3, 4, 5, 6, 7, 8, 9, 10]\n",
      "\n",
      "Even Number List is -  [2, 4, 6, 8, 10]\n",
      "Execution time is:  6.308593511581421  seconds\n"
     ]
    }
   ],
   "source": [
    "import time\n",
    "\n",
    "\n",
    "def find_execution_time(func):\n",
    "    start = time.time();\n",
    "    func();\n",
    "    end = time.time();\n",
    "    print(\"Execution time is: \" , (end - start) , \" seconds\");\n",
    "    # return (end - start);\n",
    "\n",
    "find_execution_time(find_even_numbers)\n"
   ]
  },
  {
   "cell_type": "markdown",
   "id": "99172ddd-6694-410c-93f5-705d5ff0587b",
   "metadata": {},
   "source": [
    "Question_3: Write a function called ‘calculate_mean’ that takes a list of numbers as input and returns the mean (average) of the numbers. The function should calculate the mean using the sum of the numbers divided by the total count."
   ]
  },
  {
   "cell_type": "code",
   "execution_count": 19,
   "id": "7ef7bc4e-659d-4844-8860-6e4737ab33bd",
   "metadata": {},
   "outputs": [
    {
     "name": "stdin",
     "output_type": "stream",
     "text": [
      "Enter the size  5\n",
      "\n",
      "Enter the numbers :  1 2 3 4 5\n"
     ]
    },
    {
     "name": "stdout",
     "output_type": "stream",
     "text": [
      "Mean is  3.0\n"
     ]
    }
   ],
   "source": [
    "def find_mean(ls):\n",
    "    sum = 0;\n",
    "    count = 0;\n",
    "    for i in ls:\n",
    "        sum = sum + i;\n",
    "        count= count + 1;\n",
    "    mean = sum/count;\n",
    "    print(\"Mean is \" , mean);\n",
    "    # return sum / sze;\n",
    "\n",
    "n = int(input(\"Enter the size \"));\n",
    "ls = list(map(int,\n",
    "        input(\"\\nEnter the numbers : \").strip().split()))[:n]\n",
    "find_mean(ls)"
   ]
  },
  {
   "cell_type": "markdown",
   "id": "64a30494-1e76-44b3-a7b1-e7b75f1f1ceb",
   "metadata": {},
   "source": [
    "Question_4: Write a function called ‘perform_hypothesis_test’ that takes two lists of numbers as input, representing two samples. The function should perform a two-sample t-test and return the p-value. Use the ‘scipy.stats’ module in Python to calculate the t-test and p-value."
   ]
  },
  {
   "cell_type": "code",
   "execution_count": 22,
   "id": "ced029e9-51a5-485a-b4cb-29f6410c9c9c",
   "metadata": {},
   "outputs": [
    {
     "name": "stdout",
     "output_type": "stream",
     "text": [
      "P_value is :  0.09434977284243756\n",
      "t_stats is :  -1.8973665961010275\n"
     ]
    }
   ],
   "source": [
    "from scipy import stats\n",
    "def perform_hypothesis_test(sample1, sample2):\n",
    "    t_statistics , p_value = stats.ttest_ind(sample1, sample2);\n",
    "    return t_statistics , p_value;\n",
    "\n",
    "sample1 = [5,10,15,20,25]\n",
    "sample2 = [10,20,30,40,50]\n",
    "\n",
    "t_test , p_value = perform_hypothesis_test(sample1, sample2);\n",
    "print(\"P_value is : \" , p_value);\n",
    "print(\"t_stats is : \" , t_test);"
   ]
  },
  {
   "cell_type": "code",
   "execution_count": null,
   "id": "5390ebc0-9240-48a1-bf16-c7f7866a805f",
   "metadata": {},
   "outputs": [],
   "source": []
  }
 ],
 "metadata": {
  "kernelspec": {
   "display_name": "Python 3 (ipykernel)",
   "language": "python",
   "name": "python3"
  },
  "language_info": {
   "codemirror_mode": {
    "name": "ipython",
    "version": 3
   },
   "file_extension": ".py",
   "mimetype": "text/x-python",
   "name": "python",
   "nbconvert_exporter": "python",
   "pygments_lexer": "ipython3",
   "version": "3.10.8"
  }
 },
 "nbformat": 4,
 "nbformat_minor": 5
}
