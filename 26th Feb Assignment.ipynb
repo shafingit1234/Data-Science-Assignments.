{
 "cells": [
  {
   "cell_type": "code",
   "execution_count": 15,
   "id": "fb6973c7-758e-495b-afa9-ca100ff8516f",
   "metadata": {},
   "outputs": [],
   "source": [
    "# Consider below code to answer further questions?\n",
    "import numpy as np\n",
    "list_ = [ '1' , '2' , '3' , '4' , '5'];\n",
    "array_list = np.array(object = list_);"
   ]
  },
  {
   "cell_type": "code",
   "execution_count": 16,
   "id": "4579fcfe-9a3a-4bcc-9053-93139b69e6c7",
   "metadata": {},
   "outputs": [
    {
     "name": "stdout",
     "output_type": "stream",
     "text": [
      "Datatype of list_ :-  <class 'list'>\n",
      "Datatype of array_list:-  <class 'numpy.ndarray'>\n"
     ]
    }
   ],
   "source": [
    "# Question 1 Is there any difference in the data type of variables list_ and array_list? If there is then write a code to print the data types of both the variables?\n",
    "ans = \"\"\"Yes,\n",
    "there is a difference in the data type of variables list_ and array_list. list_ is a Python list object,\n",
    "while array_list is a NumPy array object.\"\"\"\n",
    "print(\"Datatype of list_ :- \" , type(list_));\n",
    "print(\"Datatype of array_list:- \", type(array_list));"
   ]
  },
  {
   "cell_type": "code",
   "execution_count": 17,
   "id": "7b22eedf-fb8a-466e-8a24-5417717c9464",
   "metadata": {},
   "outputs": [
    {
     "name": "stdout",
     "output_type": "stream",
     "text": [
      "DataType for element 1 present in list is <class 'str'>\n",
      "DataType for element 2 present in list is <class 'str'>\n",
      "DataType for element 3 present in list is <class 'str'>\n",
      "DataType for element 4 present in list is <class 'str'>\n",
      "DataType for element 5 present in list is <class 'str'>\n",
      "DataType for element 1 present in array_list is <class 'numpy.str_'>\n",
      "DataType for element 2 present in array_list is <class 'numpy.str_'>\n",
      "DataType for element 3 present in array_list is <class 'numpy.str_'>\n",
      "DataType for element 4 present in array_list is <class 'numpy.str_'>\n",
      "DataType for element 5 present in array_list is <class 'numpy.str_'>\n"
     ]
    }
   ],
   "source": [
    "#Question 2 Write a code to print the data type of each and every element of both the variabels list_ and array_list.\n",
    "for item in list_:\n",
    "    print(f\"DataType for element {item} present in list is {type(item)}\");\n",
    "for item in array_list:\n",
    "    print(f\"DataType for element {item} present in array_list is {type(item)}\");"
   ]
  },
  {
   "cell_type": "code",
   "execution_count": 20,
   "id": "4f231bed-e0c1-47dd-af08-3eb58c3b18f1",
   "metadata": {},
   "outputs": [
    {
     "name": "stdout",
     "output_type": "stream",
     "text": [
      "DataType for element 1 present in list is <class 'str'>\n",
      "DataType for element 2 present in list is <class 'str'>\n",
      "DataType for element 3 present in list is <class 'str'>\n",
      "DataType for element 4 present in list is <class 'str'>\n",
      "DataType for element 5 present in list is <class 'str'>\n",
      "DataType for element 1 present in array_list is <class 'numpy.int64'>\n",
      "DataType for element 2 present in array_list is <class 'numpy.int64'>\n",
      "DataType for element 3 present in array_list is <class 'numpy.int64'>\n",
      "DataType for element 4 present in array_list is <class 'numpy.int64'>\n",
      "DataType for element 5 present in array_list is <class 'numpy.int64'>\n",
      "****************************************************\n",
      "Datatype changes from <class 'numpy.str_'> to <class 'numpy.int64'>\n"
     ]
    }
   ],
   "source": [
    "#Question 3 considering the following changes in the variable, arrya_list\n",
    "array_list = np.array(object = list_ , dtype = int);\n",
    "# will there be any difference in the data type of the elements present in both the variables, list_ and array_list? If so then print the data types of each and every element present in both the variables, list_ and array_list?\n",
    "ans = \"\"\" Yes there will be difference in the data type of the elements present in array_list,\n",
    "but not in case of List_.\"\"\"\n",
    "for item in list_:\n",
    "    print(f\"DataType for element {item} present in list is {type(item)}\");\n",
    "for item in array_list:\n",
    "    print(f\"DataType for element {item} present in array_list is {type(item)}\");\n",
    "\n",
    "new_type = \"<class 'numpy.int64'>\";\n",
    "old_type = \"<class 'numpy.str_'>\";\n",
    "print(\"****************************************************\");\n",
    "print(f\"Datatype changes from {old_type} to {new_type}\");"
   ]
  },
  {
   "cell_type": "code",
   "execution_count": 21,
   "id": "d9cd7759-f54b-400d-8f11-05d54b04f6f1",
   "metadata": {},
   "outputs": [],
   "source": [
    "# consider below code to answer further questions?\n",
    "import numpy as np\n",
    "num_list = [ [ 1 , 2 , 3 ] , [ 4 , 5 , 6 ] ]\n",
    "num_array = np.array(object = num_list)"
   ]
  },
  {
   "cell_type": "code",
   "execution_count": 23,
   "id": "13f5744f-3174-4ab2-922c-84b001d2295d",
   "metadata": {},
   "outputs": [
    {
     "name": "stdout",
     "output_type": "stream",
     "text": [
      "Characteristics of num_array shape:-  (2, 3)\n",
      "Characteristics of num_array size:-  6\n"
     ]
    }
   ],
   "source": [
    "#Question 4 Write a code to find the following characteristics of variable, num_arrya?\n",
    "# i) shape ii) size.\n",
    "print(\"Characteristics of num_array shape:- \" , num_array.shape);\n",
    "print(\"Characteristics of num_array size:- \" , num_array.size);"
   ]
  },
  {
   "cell_type": "code",
   "execution_count": 24,
   "id": "7b581cad-5f91-4e93-8200-c9abee789d78",
   "metadata": {},
   "outputs": [
    {
     "name": "stdout",
     "output_type": "stream",
     "text": [
      "[[0. 0. 0.]\n",
      " [0. 0. 0.]\n",
      " [0. 0. 0.]]\n"
     ]
    }
   ],
   "source": [
    "#Question 5 Write a code to create numpy array of 3*3 matrix containing zeros only, using a numpy array creation function.\n",
    "zeros_matrix = np.zeros((3,3));\n",
    "print(zeros_matrix);"
   ]
  },
  {
   "cell_type": "code",
   "execution_count": 25,
   "id": "bde6382d-a7b3-44a4-a989-d70defbdd067",
   "metadata": {},
   "outputs": [
    {
     "name": "stdout",
     "output_type": "stream",
     "text": [
      "[[1. 0. 0. 0. 0.]\n",
      " [0. 1. 0. 0. 0.]\n",
      " [0. 0. 1. 0. 0.]\n",
      " [0. 0. 0. 1. 0.]\n",
      " [0. 0. 0. 0. 1.]]\n"
     ]
    }
   ],
   "source": [
    "#Question 6 Create an identity matrix of shape(5,5) using numpy functions?\n",
    "identity_matrix = np.eye(5);\n",
    "print(identity_matrix);"
   ]
  },
  {
   "cell_type": "code",
   "execution_count": null,
   "id": "ece304d5-5501-428c-a836-705294b955e5",
   "metadata": {},
   "outputs": [],
   "source": []
  }
 ],
 "metadata": {
  "kernelspec": {
   "display_name": "Python 3 (ipykernel)",
   "language": "python",
   "name": "python3"
  },
  "language_info": {
   "codemirror_mode": {
    "name": "ipython",
    "version": 3
   },
   "file_extension": ".py",
   "mimetype": "text/x-python",
   "name": "python",
   "nbconvert_exporter": "python",
   "pygments_lexer": "ipython3",
   "version": "3.10.8"
  }
 },
 "nbformat": 4,
 "nbformat_minor": 5
}
