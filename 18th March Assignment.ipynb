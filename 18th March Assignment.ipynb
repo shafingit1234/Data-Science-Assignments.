{
 "cells": [
  {
   "cell_type": "markdown",
   "id": "cb023616-9cc0-48c0-82c2-b356d4e20b56",
   "metadata": {},
   "source": [
    "Q1. What is the Filter method in feature selection, and how does it work?"
   ]
  },
  {
   "cell_type": "code",
   "execution_count": 1,
   "id": "a5e4cfc2-a44c-42e0-9293-e8cda8419090",
   "metadata": {},
   "outputs": [],
   "source": [
    "Answer = \"\"\"\n",
    "In Filter method, features are selected on the basis of statistics measuers.\n",
    "This method does not depend on the learning algorithm and chooses the features as a pre-processing step.\n",
    "This method filters out the irrelevant feature and redundant columns from the model by using different metrics through ranking.\n",
    "The advantage of using filter methods is that is needs low computational time and does not overfit the data.\n",
    "\n",
    "Some common techniques of Filter methods are:-\n",
    "1. Information Gain\n",
    "2. Chi-Square Test\n",
    "3. Fisher's Score.\n",
    "4. Missing Value Ratio.\n",
    "\n",
    "Filter criteria for selecting the best feature:-\n",
    "Select independent features with\n",
    "1. High Correlation with the target variable.\n",
    "2. Low correlation with another independent variable.\n",
    "3. Higher information gain or mutual information of the independent variable.\n",
    "\"\"\""
   ]
  },
  {
   "cell_type": "markdown",
   "id": "f11159cc-133b-4408-a567-d0acc7a579bd",
   "metadata": {},
   "source": [
    "Q2. How does the Wrapper method differ from the Filter method in feature selection?"
   ]
  },
  {
   "cell_type": "code",
   "execution_count": 2,
   "id": "d864715b-0409-47d6-8d5b-11c27d90911e",
   "metadata": {},
   "outputs": [],
   "source": [
    "Answer = \"\"\"\n",
    "Filter Method:-\n",
    "1. The significance of features are measured by their association with a dependent variable.\n",
    "2. Faster as compared to wrapper.\n",
    "3. Statistical ways are applied to evaluate a subset of features.\n",
    "4. It might fail to find out the best subset of features.\n",
    "\n",
    "Wrapper Method:-\n",
    "1. The best subset of the features is measured by a really training model on it.\n",
    "2. Very expensive mathematically.\n",
    "3. Here we use cross validation.\n",
    "4. It can always supply the best subset of features.\n",
    "\"\"\""
   ]
  },
  {
   "cell_type": "markdown",
   "id": "0f8f9c9a-8551-4d23-9129-a8ad69a7e88a",
   "metadata": {},
   "source": [
    "Q3. What are some common techniques used in Embedded feature selection methods?"
   ]
  },
  {
   "cell_type": "code",
   "execution_count": 4,
   "id": "ba04cc67-f6a5-49b3-833f-65527c56d934",
   "metadata": {},
   "outputs": [],
   "source": [
    "Answer = \"\"\" \n",
    "Embedded methods combines the qualities of filter and wrapper methods.\n",
    "It's implemented by algorithms that have their own built-in feature selection methods.\n",
    "Some common techniques used in Embedded feature selection are:-\n",
    "1. Lasso Regression\n",
    "2. Ridge Regression\n",
    "3. Regularized trees.\n",
    "4. Memetic Algorithm.\n",
    "5. Decision Trees.\n",
    "etc.\n",
    "\"\"\""
   ]
  },
  {
   "cell_type": "markdown",
   "id": "cea1c5cf-a266-47e1-b651-aadced4679ac",
   "metadata": {},
   "source": [
    "Q4. What are some drawbacks of using the Filter method for feature selection?"
   ]
  },
  {
   "cell_type": "code",
   "execution_count": 5,
   "id": "39733cab-a24d-401a-b934-66f105f5fbfa",
   "metadata": {},
   "outputs": [],
   "source": [
    "Answer = \"\"\" \n",
    "Major drawback:- No interaction with classification model for feature selection, thereby ignoring feature dependencies,\n",
    "and considers each feature separately in case of univariate techniques, leading to low computational performance\n",
    "as compared to other techniques of feature selection.\n",
    "\"\"\""
   ]
  },
  {
   "cell_type": "markdown",
   "id": "c75dd00d-409a-4a31-9385-a85fef74333b",
   "metadata": {},
   "source": [
    "Q5. In which situations would you prefer using the Filter method over the Wrapper method for feature\n",
    "selection?"
   ]
  },
  {
   "cell_type": "code",
   "execution_count": 6,
   "id": "19a27ae8-8a38-4d10-9216-9c089bd6bc5b",
   "metadata": {},
   "outputs": [],
   "source": [
    "Answer= \"\"\" \n",
    "Filter Feature selection methods use statistical techniques to evaluate the relationship between each input variable and the target variable,\n",
    "and these scores are used as the basis to choose those input variables that will be used in the model.\n",
    "\n",
    "Wrapper methods create many models with different subsets of input features and select those features that result in the best performing model\n",
    "according to a performance metric. These methods are unconcerned with the variable types.\n",
    "\n",
    "Filter method should be preferred over the wrapper method when:-\n",
    "1. We have a large dataset, to avoid computational overhead we can go with filter feature selection method.\n",
    "2. When we have less resources, and we need a promising a model, we can prefer filter method over wrapper method.\n",
    "\"\"\""
   ]
  },
  {
   "cell_type": "markdown",
   "id": "ba0c87f1-11b8-49f6-a767-1ec81dac28e2",
   "metadata": {},
   "source": [
    "Q6. In a telecom company, you are working on a project to develop a predictive model for customer churn.\n",
    "You are unsure of which features to include in the model because the dataset contains several different\n",
    "ones. Describe how you would choose the most pertinent attributes for the model using the Filter Method."
   ]
  },
  {
   "cell_type": "code",
   "execution_count": 7,
   "id": "0409e872-3fbd-4647-bdc4-e6bd772aaede",
   "metadata": {},
   "outputs": [],
   "source": [
    "Answer = \"\"\" \n",
    "We can make use of filter feature selection techniques to check dependence between input variables so as to identify most relevant inputs to the target.\n",
    "Some techniques that we can go for:\n",
    "1. Pearson's Correlation:-\n",
    "It is used as a measure for quantifying linear dependence between two continuous variables X and Y. Its values varies from -1 to +1.\n",
    "it is given as P(x, y) = Covariance(X, Y) / std_deviation(X) * std_deviation(Y);\n",
    "The more the value of P is towards 1, more they are correlated which means one of them is irrelevant.\n",
    "The more the value of P is towards -1, less they are correlated, which means both x, y are relevant for the prediction.\n",
    "\n",
    "2. Chi-Square: It is a statistical test applied to the groups of cateogrical features,\n",
    "to evaluate the likelihood of correlation or association between them using their frequency distribution.\n",
    "Chi-square measures how expected count E and observed count O deviates each other.\n",
    "When two features are independent, the observed count is close to the expected count, thus we will have smaller chi-square value.\n",
    "Higher the chi-square value the feature is more dependent on the response and it can be selected for model training.\n",
    "\n",
    "3. Anova:- Variance is the measurement of the spread between numbers in a variable.\n",
    "It measures how far a number is from the mean and every number in a variable.\n",
    "The variance of a feature determines how much is it impacting the response variable.\n",
    "It the variance is low, it implies there is no impact of this feature on response and vice-versa.\n",
    "Anova of variance is a statistical method, used to check the means of two or more groups that are significantly different from each other.\n",
    "Anova uses F-test to check it there is any significant difference between the groups, if there is no significant difference between the groups,\n",
    "which means all variances are equal, the result of anova's F-ratio will be close to 1, stating the input is not fit for model training.\n",
    "\n",
    "\"\"\""
   ]
  },
  {
   "cell_type": "markdown",
   "id": "4addeee6-e924-4417-87bc-90cb76a54baa",
   "metadata": {},
   "source": [
    "Q7. You are working on a project to predict the outcome of a soccer match. You have a large dataset with\n",
    "many features, including player statistics and team rankings. Explain how you would use the Embedded\n",
    "method to select the most relevant features for the model."
   ]
  },
  {
   "cell_type": "code",
   "execution_count": null,
   "id": "0b0cb4f7-c7c0-45bd-862e-e7c3e232544c",
   "metadata": {},
   "outputs": [],
   "source": [
    "Answer = \"\"\"  \n",
    "Embedded methods perform feature selection and training of the algorithm in parallel,\n",
    "in other words the feature selection process is an integral part of the classification/regressor model.\n",
    "We can make use of Lasso technique in order to dismiss irrelevant input variables from the soccer dataset.\n",
    "Lasso is a shrinkage method that performs both variable selection and regularization at the same time.\n",
    "It is a regularization technique, where in the coefficients are shrinked to 0.\n",
    "If the coefficient are set to 0 after applying lasso operation, then the feature is said to be discarded,\n",
    "remaining feature can be now considered for furthur model training.\n",
    "\"\"\""
   ]
  },
  {
   "cell_type": "markdown",
   "id": "a59b33df-43e2-4298-92cb-a7882f53b58b",
   "metadata": {},
   "source": [
    "Q8. You are working on a project to predict the price of a house based on its features, such as size, location,\n",
    "and age. You have a limited number of features, and you want to ensure that you select the most important\n",
    "ones for the model. Explain how you would use the Wrapper method to select the best set of features for the\n",
    "predictor."
   ]
  },
  {
   "cell_type": "code",
   "execution_count": null,
   "id": "3c83d5ea-9cbf-40b0-b0d5-55f656a769d3",
   "metadata": {},
   "outputs": [],
   "source": [
    "Answer = \"\"\"  \n",
    "Most commonly used techniques under wrapper methos are:\n",
    "1. Forward Selection\n",
    "2. Backward Selection\n",
    "3. Bi-Directional Elimination\n",
    "\n",
    "For the given question, my target feature is price of the house.\n",
    "If we follow forward selection approach, we need to follow below steps:\n",
    "1. Choose a significance level (for example SI= 0.05 with a 95% confidence level)\n",
    "2. Fit all possible simple regression models by considering one feature at a time.\n",
    "Total 'n' models are possible. Select the feature with the lowest p-value.\n",
    "3. Fit all possible models with one extra feature added to the previously selected feature(s).\n",
    "4. Again, select the feature with a minimum p-value. If p_value < significance level then go the step 3, otherwise terminate the process.\n",
    "By following above mentioned steps, we will be left with a list of best features relevant for the our target feature.\n",
    "\"\"\""
   ]
  }
 ],
 "metadata": {
  "kernelspec": {
   "display_name": "Python 3 (ipykernel)",
   "language": "python",
   "name": "python3"
  },
  "language_info": {
   "codemirror_mode": {
    "name": "ipython",
    "version": 3
   },
   "file_extension": ".py",
   "mimetype": "text/x-python",
   "name": "python",
   "nbconvert_exporter": "python",
   "pygments_lexer": "ipython3",
   "version": "3.10.8"
  }
 },
 "nbformat": 4,
 "nbformat_minor": 5
}
