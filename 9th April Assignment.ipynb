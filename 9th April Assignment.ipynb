{
 "cells": [
  {
   "cell_type": "markdown",
   "id": "c984e4b9-0586-41a0-af02-5a2fd9f7a2d1",
   "metadata": {},
   "source": [
    "Question 1 : What is Bayes' theorem?"
   ]
  },
  {
   "cell_type": "code",
   "execution_count": null,
   "id": "04bfc9c2-d8e2-478b-a588-e3de4dae51cc",
   "metadata": {},
   "outputs": [],
   "source": [
    "Answer_one = \"\"\"\n",
    "Bayes' theorem is a way of updating our beliefs about the likelihood of something happening, based on new information that we receive.\n",
    "For example, let's say that you want to know the likelihood of catching a cold. You know that the probability of catching a cold is generally low,\n",
    "but it increases if you are exposed to someone who already has a cold.\n",
    "Now, suppose you learn that your co-worker has just come down with a cold. This new information changes your initial belief about the \n",
    "likelihood of catching a cold. Bayes' theorem helps you to update your belief by taking into account the new information.\n",
    "In essence, Bayes' theorem is a mathematical formula that allows you to calculate the probability of something happening, \n",
    "given what you know about the situation. It's a tool that can help you make better decisions by incorporating new \n",
    "information and updating your beliefs accordingly.\n",
    "\"\"\""
   ]
  },
  {
   "cell_type": "markdown",
   "id": "ccfa55d8-391a-4990-b16c-de065f138246",
   "metadata": {},
   "source": [
    "Question 2: What is formula for Bayes Theorem?"
   ]
  },
  {
   "cell_type": "code",
   "execution_count": null,
   "id": "69af99e2-341a-467d-817c-5da687cc4cc0",
   "metadata": {},
   "outputs": [],
   "source": [
    "Answer_two = \"\"\"\n",
    "The formula for Bayes' theorem can be stated as follows:\n",
    "\n",
    "P(A/B) = [ P(B/A) * P(A) ] / P(B)\n",
    "where:\n",
    "P(A|B) is the probability of event A given that event B has occurred\n",
    "P(B|A) is the probability of event B given that event A has occurred\n",
    "P(A) is the prior probability of event A\n",
    "P(B) is the prior probability of event B\n",
    "\n",
    "In other words, Bayes' theorem tells us how to calculate the probability of A, given the probability of B and the conditional\n",
    "Probability of B given A.\n",
    "It allows us to update our beliefs about the probability of A in light of new evidence B.\n",
    "\n",
    "\"\"\""
   ]
  },
  {
   "cell_type": "markdown",
   "id": "12fff1d9-87df-4494-837d-d71d3bcf6521",
   "metadata": {},
   "source": [
    "Question 3 : How is Bayes' theorem used in practice?"
   ]
  },
  {
   "cell_type": "code",
   "execution_count": null,
   "id": "08082261-8676-4191-904f-d332e03ff55c",
   "metadata": {},
   "outputs": [],
   "source": [
    "Answer_three = \"\"\"\n",
    "Bayes' theorem is used in a wide range of practical applications, from medical diagnosis to spam filtering.\n",
    "Here are a few examples:\n",
    "Medical diagnosis: Bayes' theorem can be used to calculate the probability of a patient having a particular disease, \n",
    "based on their symptoms and other diagnostic tests. For example, if a patient presents with a certain set of symptoms, \n",
    "a doctor can use Bayes' theorem to calculate the probability of a specific disease, and then order additional tests to confirm the diagnosis.\n",
    "\n",
    "Spam filtering: Bayes' theorem can be used to classify emails as spam or non-spam. The algorithm looks at the words in the \n",
    "email and calculates the probability that the email is spam, based on the frequency of words that are commonly found in spam emails.\n",
    "\n",
    "Risk assessment: Bayes' theorem can be used to assess the risk of a particular event occurring, such as a natural disaster \n",
    "or a terrorist attack. The probability of the event can be estimated based on historical data and other relevant information, \n",
    "and then used to inform decision-making and risk management strategies.\n",
    "\n",
    "Machine learning: Bayes' theorem is used in various machine learning algorithms, such as Naive Bayes classifiers, \n",
    "which can be trained to predict the probability of a certain outcome based on a set of input variables.\n",
    "\n",
    "In all of these applications, Bayes' theorem allows us to update our beliefs and make more informed decisions based on new information.\n",
    "\"\"\""
   ]
  },
  {
   "cell_type": "markdown",
   "id": "4d1e4f73-0980-4f78-a134-1eb1ce1806d7",
   "metadata": {},
   "source": [
    "Question 4 : What is the relationship between Bayes' theorem and conditional probability?"
   ]
  },
  {
   "cell_type": "code",
   "execution_count": null,
   "id": "a335fd49-1cfb-4c89-989b-201ac85768d6",
   "metadata": {},
   "outputs": [],
   "source": [
    "Answer_four = \"\"\"\n",
    "Bayes' theorem is essentially a statement about conditional probability. It provides a way to calculate the conditional probability of an event A,\n",
    "given some new information or evidence B.\n",
    "\n",
    "The formula for Bayes' theorem involves two conditional probabilities: P(A|B) and P(B|A). P(A|B) represents the probability of A \n",
    "given that B has occurred, while P(B|A) represents the probability of B given that A has occurred.\n",
    "\n",
    "Bayes' theorem tells us how to calculate the probability of A given B, based on these two conditional probabilities and the \n",
    "prior probabilities of A and B. In other words, it tells us how to update our beliefs about the probability of A, \n",
    "based on the new information provided by B.\n",
    "\n",
    "So, in essence, Bayes' theorem is a tool for working with conditional probabilities, \n",
    "and is particularly useful when we need to update our beliefs in light of new evidence or information.\n",
    "\"\"\""
   ]
  },
  {
   "cell_type": "markdown",
   "id": "b62626f8-314a-44b1-8934-1efe2c42b084",
   "metadata": {},
   "source": [
    "Question 5 : How do you choose which type of Naive Bayes classifier to use for any given problem?"
   ]
  },
  {
   "cell_type": "code",
   "execution_count": null,
   "id": "17be3793-c6e8-495c-97e1-257bd4eb85ed",
   "metadata": {},
   "outputs": [],
   "source": [
    "Answer_five = \"\"\"\n",
    "When selecting a type of Naive Bayes classifier to use for a given problem, there are several factors to consider, including:\n",
    "\n",
    "1. Nature of the problem: The type of Naive Bayes classifier you choose may depend on the nature of the problem you are trying to solve. \n",
    "For example, if you are working with text classification, you may choose a Multinomial Naive Bayes classifier,\n",
    "while if you are working with continuous data, you may choose a Gaussian Naive Bayes classifier.\n",
    "\n",
    "2. Distribution of the data: The distribution of the data may also influence your choice of classifier. If the data is normally distributed, \n",
    "a Gaussian Naive Bayes classifier may be appropriate, while if the data has a categorical distribution, \n",
    "a Multinomial Naive Bayes classifier may be more appropriate.\n",
    "\n",
    "3. Size and quality of the dataset: The size and quality of the dataset may also influence your choice of classifier. \n",
    "If you have a small dataset, a Multinomial Naive Bayes classifier may be more robust, while if you have a large dataset, \n",
    "a Gaussian Naive Bayes classifier may be more efficient.\n",
    "\n",
    "4. Performance requirements: The performance requirements of the problem may also influence your choice of classifier. \n",
    "If you need a fast classifier that can handle large volumes of data, a Bernoulli Naive Bayes classifier may be appropriate, \n",
    "while if you need a more accurate classifier, a Gaussian Naive Bayes classifier may be more suitable.\n",
    "\n",
    "In general, it's a good idea to experiment with different types of naive bayes classifiers and evaluate their performance on your specific problem, \n",
    "using metrics such as accuracy, precision, recall, and F1 score.\n",
    "This can help you determine which classifier is best suited to your needs.\n",
    "\"\"\""
   ]
  },
  {
   "cell_type": "markdown",
   "id": "8ec61c6f-6e7e-4491-9da7-582d7470aadc",
   "metadata": {},
   "source": [
    "Question 6 : Assignment:\n",
    "You have a dataset with two features, X1 and X2, and two possible classes, A and B. You want to use Naive Bayes to classify a new instance with features X1 = 3 and X2 = 4. The following table shows the frequency of each feature value for each class:\n",
    "\n",
    "Class\tX1=1\tX1=2\tX1=3\tX2=1\tX2=2\tX2=3\tX2=4\n",
    "A\t       3\t  3\t      4\t     4\t      3\t      3\t     3\n",
    "B\t       2\t  2\t      1\t     2\t      2\t      2\t     3\n",
    "Assuming equal prior probabilities for each class, which class would Naive Bayes predict the new instance to belong to?\n",
    "\n"
   ]
  },
  {
   "cell_type": "code",
   "execution_count": null,
   "id": "de2d24ab-3f16-4a28-9468-5ab4bc7edf13",
   "metadata": {},
   "outputs": [],
   "source": [
    "Answer_six = \"\"\"\n",
    "To classify the new instance with features X1 = 3 and X2 = 4 using Naive Bayes, we need to calculate the posterior probabilities \n",
    "for each class, given these feature values. We can do this using Bayes' theorem:\n",
    "\n",
    "P(A|X1=3,X2=4) = P(X1=3,X2=4|A) * P(A) / P(X1=3,X2=4)\n",
    "\n",
    "P(B|X1=3,X2=4) = P(X1=3,X2=4|B) * P(B) / P(X1=3,X2=4)\n",
    "\n",
    "Since the prior probabilities for A and B are assumed to be equal, we can simplify this to:\n",
    "\n",
    "P(A|X1=3,X2=4) = P(X1=3,X2=4|A) / P(X1=3,X2=4)\n",
    "\n",
    "P(B|X1=3,X2=4) = P(X1=3,X2=4|B) / P(X1=3,X2=4)\n",
    "\n",
    "To calculate the probabilities, we need to use the Naive Bayes assumption that the features are conditionally independent, \n",
    "given the class. This allows us to factorize the joint probability distribution as follows:\n",
    "\n",
    "P(X1=3,X2=4|A) = P(X1=3|A) * P(X2=4|A)\n",
    "\n",
    "P(X1=3,X2=4|B) = P(X1=3|B) * P(X2=4|B)\n",
    "\n",
    "We can estimate these probabilities from the frequency table provided:\n",
    "P(X1=3|A) = 4/10\n",
    "\n",
    "P(X1=3|B) = 1/7\n",
    "\n",
    "P(X2=4|A) = 3/10\n",
    "\n",
    "P(X2=4|B) = 1/7\n",
    "\n",
    "To calculate the denominator, we need to use the law of total probability:\n",
    "P(X1=3,X2=4) = P(X1=3,X2=4|A) * P(A) + P(X1=3,X2=4|B) * P(B)\n",
    "We can estimate these probabilities from the frequency table provided:\n",
    "P(X1=3,X2=4|A) = P(X1=3|A) * P(X2=4|A) = (4/10) * (3/10) = 12/100\n",
    "\n",
    "P(X1=3,X2=4|B) = P(X1=3|B) * P(X2=4|B) = (1/7) * (1/7) = 1/49\n",
    "\n",
    "P(A) = P(B) = 0.5\n",
    "Therefore:\n",
    "P(X1=3,X2=4) = (12/100) * 0.5 + (1/49) * 0.5 = 0.124\n",
    "\n",
    "Now we can plug these values into the formula for the posterior probabilities:\n",
    "P(A|X1=3,X2=4) = (4/10) * (3/10) / 0.124 = 0.967\n",
    "\n",
    "P(B|X1=3,X2=4) = (1/7) * (1/7) / 0.124 = 0.033\n",
    "Therefore, Naive Bayes would predict that the new instance with features X1=3 and X2=4 belongs to class A, \n",
    "since it has a much higher posterior probability than class B.\n",
    "\"\"\""
   ]
  }
 ],
 "metadata": {
  "kernelspec": {
   "display_name": "Python 3 (ipykernel)",
   "language": "python",
   "name": "python3"
  },
  "language_info": {
   "codemirror_mode": {
    "name": "ipython",
    "version": 3
   },
   "file_extension": ".py",
   "mimetype": "text/x-python",
   "name": "python",
   "nbconvert_exporter": "python",
   "pygments_lexer": "ipython3",
   "version": "3.10.8"
  }
 },
 "nbformat": 4,
 "nbformat_minor": 5
}
