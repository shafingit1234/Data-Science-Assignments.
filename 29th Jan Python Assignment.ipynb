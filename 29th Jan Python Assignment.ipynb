{
 "cells": [
  {
   "cell_type": "code",
   "execution_count": 1,
   "id": "67087a14-6cfa-441b-9021-7fdc5a95c275",
   "metadata": {},
   "outputs": [],
   "source": [
    "# Question: Who developed python programming langauge?\n",
    "ans=\"\"\"Guido Van Rossum\"\"\";"
   ]
  },
  {
   "cell_type": "code",
   "execution_count": 2,
   "id": "91b0787c-d9ca-42ba-b16f-da737a1e2783",
   "metadata": {},
   "outputs": [],
   "source": [
    "# Which type of Programming does python support?\n",
    "ans=\"\"\" Python is an interpreted programming language, which supports multiple programming paradigms like Object Oriented programming, Structured programming and functional programming paradigms.\"\"\""
   ]
  },
  {
   "cell_type": "code",
   "execution_count": 4,
   "id": "3a94faae-5c29-4f50-a79c-60d211a5a8fe",
   "metadata": {},
   "outputs": [],
   "source": [
    "# Is Python case sensitive when dealing with identifiers?\n",
    "ans=\"\"\"Yes, language = 'python' and Language = 'Java', here language and Language will be considered as two different identifiers.\"\"\""
   ]
  },
  {
   "cell_type": "code",
   "execution_count": 5,
   "id": "7ea5a4b9-21ac-484e-baf5-89996c10b3ae",
   "metadata": {},
   "outputs": [],
   "source": [
    "# Is python code compiled or interpreted.\n",
    "ans=\"\"\" Python code is both compiled and interpreted, where in interpretation work is more as compared to compilation work.\"\"\""
   ]
  },
  {
   "cell_type": "code",
   "execution_count": 6,
   "id": "3e50f3a3-3b9d-4a4a-9c99-898299025ed3",
   "metadata": {},
   "outputs": [],
   "source": [
    "# Name a few blocks of code used to define in python language?\n",
    "ans=\"\"\" In Python, to define a block of code we use Indentation. Indentation refers to whitespaces at the beginning of the line.\"\"\""
   ]
  },
  {
   "cell_type": "code",
   "execution_count": 7,
   "id": "fc94ef4d-b900-453f-9fc6-08a60b48c9f2",
   "metadata": {},
   "outputs": [],
   "source": [
    "# State a character used to give single line comments in python?\n",
    "ans=\"\"\" we use '#' at the beginning of the line that is to be made as a comment.\"\"\""
   ]
  },
  {
   "cell_type": "code",
   "execution_count": 9,
   "id": "7b3bc3c2-a215-49c4-9b2e-186b9e02d5f9",
   "metadata": {},
   "outputs": [],
   "source": [
    "# Mention functions which can help us to find the version of python that we are currently working on?\n",
    "ans = \"\"\" sys.version => this function can help us to find the version of python that we are currently working on. \"\"\""
   ]
  },
  {
   "cell_type": "code",
   "execution_count": 10,
   "id": "eb13f479-d11a-4339-b479-03b573e4f1ce",
   "metadata": {},
   "outputs": [],
   "source": [
    "# Python supports creation of anonymous functions at runtime, using a construct callled?\n",
    "ans=\"\"\" Lambda construct \"\"\""
   ]
  },
  {
   "cell_type": "code",
   "execution_count": 11,
   "id": "83f02a45-26b4-4181-82af-67f2bf4d5eb2",
   "metadata": {},
   "outputs": [],
   "source": [
    "# What does pip stands for?\n",
    "ans =\"\"\" Preferred Installer Program \"\"\""
   ]
  },
  {
   "cell_type": "code",
   "execution_count": 12,
   "id": "3aa9a557-5348-4dc5-8179-cd532c8d5bf6",
   "metadata": {},
   "outputs": [],
   "source": [
    "# Mention a few built in functions in python?\n",
    "ans = \"\"\" some built in function: print() => prints on console, type() => returns type(datatype) of element passed as arguments\n",
    ", str() converts passed argument to string format, range() => return a sequence of numbers, starting from 0 and increments by 1(by default),\n",
    " list() => returns a list, len() => returns the length of an object.\"\"\""
   ]
  },
  {
   "cell_type": "code",
   "execution_count": 13,
   "id": "fd0573b8-01a1-4c91-b5f9-89b698f8f5a4",
   "metadata": {},
   "outputs": [],
   "source": [
    "# What is maximum possible length of an identifier in python?\n",
    "ans = \"\"\"Identifiers can be of any length.\"\"\""
   ]
  },
  {
   "cell_type": "code",
   "execution_count": 14,
   "id": "6d156ece-2d48-4451-bb07-ded71cfc4412",
   "metadata": {},
   "outputs": [],
   "source": [
    "# what are benefits of using python?\n",
    "ans = \"\"\" Extensive support libraries;\n",
    "Large active community base;\n",
    "Easy to read, learn and write,\n",
    "User friendly data-structures,\n",
    "Dynamically typed language,\n",
    "Portable and Interactive,\n",
    "Highly Efficient,\n",
    "Portable across Operating systems. \"\"\""
   ]
  },
  {
   "cell_type": "code",
   "execution_count": 15,
   "id": "d1c27a8f-03fa-4cae-acb7-6fceec35f844",
   "metadata": {},
   "outputs": [],
   "source": [
    "# How is memory managed in python?\n",
    "ans = \"\"\" There are two parts of memory i) Stack memory and ii) Heap memory.\n",
    "The methods/method calls and the references are stored in stack memory and all the values objects are stored in a private heap.\n",
    "Whenever a function is called it is stored or pushed in function call stack, local variable assignment is done there, as soon as function is executed all those assignments are then deleted.\n",
    "Heap memory is allocated during the execution of instructions written py programmers. The variables that are needed outside of method or function calls or are shared within multiple functions globally are stored in Heap memory.\n",
    "Unreferenced objects in python are cleaned by garbage collector.\"\"\";"
   ]
  },
  {
   "cell_type": "code",
   "execution_count": 16,
   "id": "4edb4a15-6c09-4e3a-b74f-8b5fba636cac",
   "metadata": {},
   "outputs": [],
   "source": [
    "# How to install python on Windows and set path variables?\n",
    "ans = \"\"\" To Install, open browser to python website and download Python version for windows.\n",
    "Double click on the downloaded file and install python for all users, and ensure that python is added to your path, click on Install now to begin.\n",
    "After installation is complete, click Disable path length limit and then close.\n",
    "\n",
    "To set path variables.\n",
    "RIght click this pc, go to properties,\n",
    "click on advanced system settings,\n",
    "click on environment variables,\n",
    "in system variable section, select path variable and click on edit.\n",
    "click on new and enter python's install directory.\"\"\";"
   ]
  },
  {
   "cell_type": "code",
   "execution_count": null,
   "id": "e72cf503-4025-41d7-9012-e4e072918fe5",
   "metadata": {},
   "outputs": [],
   "source": [
    "# Is Indentation required in python?\n",
    "ans = \"\"\" Yes, Indentation is very important in python.\"\"\";"
   ]
  }
 ],
 "metadata": {
  "kernelspec": {
   "display_name": "Python 3 (ipykernel)",
   "language": "python",
   "name": "python3"
  },
  "language_info": {
   "codemirror_mode": {
    "name": "ipython",
    "version": 3
   },
   "file_extension": ".py",
   "mimetype": "text/x-python",
   "name": "python",
   "nbconvert_exporter": "python",
   "pygments_lexer": "ipython3",
   "version": "3.10.8"
  }
 },
 "nbformat": 4,
 "nbformat_minor": 5
}
