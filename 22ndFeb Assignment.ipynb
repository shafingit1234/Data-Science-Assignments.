{
 "cells": [
  {
   "cell_type": "code",
   "execution_count": 3,
   "id": "238afece-00c5-4dda-a36c-7906c434dfa2",
   "metadata": {},
   "outputs": [
    {
     "name": "stdout",
     "output_type": "stream",
     "text": [
      "github-repo-link goes below:\n",
      "https://github.com/shafingit1234/Youtube-Scrapper-Project\n",
      "AWS link:\n",
      "http://youtubescrapperproject-env.eba-dgfmf4gm.ap-northeast-1.elasticbeanstalk.com/\n",
      "Demo Link:\n",
      "https://drive.google.com/file/d/1EZXGkne-vKHNSWNENGdO1riw9u6FMDAK/view?usp=share_link\n"
     ]
    }
   ],
   "source": [
    "Quick_Information_About_My_project=\"\"\" \n",
    "1. I implemented this project on visual studio code,\n",
    "so if you will try to run it on jupyter notebook, you might face some errors.\n",
    "2. I tried deploying my project on AWS platform, it got deployed,\n",
    "but I am facing some environment issues which is why,\n",
    "pages are not getting loaded.\n",
    "3. Full code for this project-cum-assignment is present in github repository named as Youtube-Scrapper-Project.\n",
    "\"\"\"\n",
    "print(\"github-repo-link goes below:\");\n",
    "print(\"https://github.com/shafingit1234/Youtube-Scrapper-Project\");\n",
    "print(\"AWS link:\");\n",
    "print(\"http://youtubescrapperproject-env.eba-dgfmf4gm.ap-northeast-1.elasticbeanstalk.com/\");\n",
    "print(\"Demo Link:\");\n",
    "print(\"https://drive.google.com/file/d/1EZXGkne-vKHNSWNENGdO1riw9u6FMDAK/view?usp=share_link\");"
   ]
  },
  {
   "cell_type": "code",
   "execution_count": null,
   "id": "c472eb7e-b9b4-4893-a2b0-577c72f5e124",
   "metadata": {},
   "outputs": [],
   "source": [
    "# Important libraries to import\n",
    "from selenium import webdriver\n",
    "from selenium.webdriver.common.by import By\n",
    "from selenium.webdriver.support.ui import WebDriverWait\n",
    "from selenium.webdriver.support import expected_conditions as EC\n",
    "from flask import Flask, render_template, request, jsonify\n",
    "from flask_cors import CORS, cross_origin\n",
    "import logging\n",
    "import csv\n",
    "logging.basicConfig(\n",
    "    filename='Assignment_Youtube_Scrapper.log', level=logging.INFO)"
   ]
  },
  {
   "cell_type": "code",
   "execution_count": null,
   "id": "4a00f2a2-2029-4a12-80e5-4e561eddb9ab",
   "metadata": {},
   "outputs": [],
   "source": [
    "# Question1: python program to fetch video url links.\n",
    "links = []\n",
    "driver = webdriver.Chrome()\n",
    "driver.get(\"https://www.youtube.com/@PW-Foundation/videos\")\n",
    "user_data = driver.find_elements(\"xpath\", '//*[@id=\"video-title-link\"]')\n",
    "        # //*[@id = \"thumbnail\"]/yt-image/img\n",
    "\n",
    "for i in user_data:\n",
    "    links.append(i.get_attribute('href'))\n",
    "    if (len(links) == 5):\n",
    "        break\n"
   ]
  },
  {
   "cell_type": "code",
   "execution_count": 2,
   "id": "73084376-35fa-4ab5-86f8-d1e3501114ce",
   "metadata": {},
   "outputs": [],
   "source": [
    "# Question2: python program to fetch thumbnail url?\n",
    "thumbnails = [];\n",
    "url_thumbnails = driver.find_elements('xpath', '//*[@id=\"thumbnail\"]/yt-image/img')\n",
    "        # //*[@id = \"thumbnail\"]/yt-image/img\n",
    "for i in url_thumbnails:\n",
    "    txt = i.get_attribute('src')\n",
    "    # print(txt)\n",
    "    thumbnails.append(txt)\n",
    "    if (len(thumbnails) == 5):\n",
    "        break"
   ]
  },
  {
   "cell_type": "code",
   "execution_count": null,
   "id": "380e806a-1b94-4802-ad5b-876b89fda17a",
   "metadata": {},
   "outputs": [],
   "source": [
    "# Question3: python program to fetch Title of Video?\n",
    "titles = [];\n",
    "for i in user_data:\n",
    "    titles.append(i.get_attribute('href'))\n",
    "    if (len(titles) == 5):\n",
    "        break"
   ]
  },
  {
   "cell_type": "code",
   "execution_count": null,
   "id": "533cf583-86c9-4343-abd3-37db310e4902",
   "metadata": {},
   "outputs": [],
   "source": [
    "# Question4: Python program to fetch views of videos?\n",
    "views=[];\n",
    "views_data = driver.find_elements(\"xpath\", '//*[@id=\"metadata-line\"]/span[1]')\n",
    "for i in views_data:\n",
    "# print(i.text)\n",
    "    views.append(i.text)\n",
    "    if (len(views) == 5):\n",
    "        break"
   ]
  },
  {
   "cell_type": "code",
   "execution_count": null,
   "id": "0ed0f09d-edd6-432c-aaa3-9e1bb0f02b46",
   "metadata": {},
   "outputs": [],
   "source": [
    "# Question5: Python program to fetch time of posting of videos?\n",
    "time =[];\n",
    "time_data = driver.find_elements(\"xpath\", '//*[@id=\"metadata-line\"]/span[2]')\n",
    "for i in time_data:\n",
    "    # print(i.text)\n",
    "    time.append(i.text)\n",
    "    if (len(time) == 5):\n",
    "        break"
   ]
  },
  {
   "cell_type": "code",
   "execution_count": null,
   "id": "80438268-1d0c-4a8e-80f8-49d967b756c9",
   "metadata": {},
   "outputs": [],
   "source": [
    "# Code to save data fetched in a csv file?\n",
    "collection = list()\n",
    "for i in range(0, 5):\n",
    "    dict = {}\n",
    "    dict['link'] = links[i]\n",
    "    if (thumbnails[i] == None):\n",
    "        dict['thumbnail'] = 'Unable to fetch Thumbnail URL!!'\n",
    "    else:\n",
    "        dict['thumbnail'] = thumbnails[i]\n",
    "    dict['title'] = titles[i]\n",
    "    dict['view'] = views[i]\n",
    "    dict['time'] = time[i]\n",
    "    collection.append(dict)\n",
    "header = ['video link', 'thumbnail Link', 'title', 'view', 'time']\n",
    "# Code To create csv file.\n",
    "with open('youtube_details.csv', 'w', encoding='UTF8', newline='') as f:\n",
    "    writer = csv.writer(f)\n",
    "    writer.writerow(header)\n",
    "    for i in collection:\n",
    "        data = list()\n",
    "        data.append(i['link'])\n",
    "        data.append(i['thumbnail'])\n",
    "        data.append(i['title'])\n",
    "        data.append(i['view'])\n",
    "        data.append(i['time'])\n",
    "        writer.writerow(data)"
   ]
  },
  {
   "cell_type": "code",
   "execution_count": null,
   "id": "296f8cee-d2e9-4b85-b99e-c09024207c46",
   "metadata": {},
   "outputs": [],
   "source": []
  }
 ],
 "metadata": {
  "kernelspec": {
   "display_name": "Python 3 (ipykernel)",
   "language": "python",
   "name": "python3"
  },
  "language_info": {
   "codemirror_mode": {
    "name": "ipython",
    "version": 3
   },
   "file_extension": ".py",
   "mimetype": "text/x-python",
   "name": "python",
   "nbconvert_exporter": "python",
   "pygments_lexer": "ipython3",
   "version": "3.10.8"
  }
 },
 "nbformat": 4,
 "nbformat_minor": 5
}
