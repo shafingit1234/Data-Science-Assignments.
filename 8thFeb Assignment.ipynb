{
 "cells": [
  {
   "cell_type": "code",
   "execution_count": 5,
   "id": "1e5db2af-3e3a-494c-8dc8-ae6e87f7c953",
   "metadata": {},
   "outputs": [
    {
     "name": "stdout",
     "output_type": "stream",
     "text": [
      "Area of a rectangle:- 24\n",
      "Area of a circle:- 153.86\n"
     ]
    }
   ],
   "source": [
    "# Question: what is abstraction in oops? Explain with an example?\n",
    "ans = \"\"\" \n",
    "    Abstraction is one of four important pillars of object oriented programming paradigm.\n",
    "    It is used to hide the backgroud details or any unnecessary implementation.\n",
    "    For Example: we go to bank to withdraw money from our back account.\n",
    "    We simply insert our atm card, enter the details and amount to be withdrawn, then within a minute or two we are with our amount.\n",
    "    We never think what is happening behind, how did I get my money just by following simple steps.This is abstraction. \n",
    "    The process through which money came out of the atm machine is abstracted or hidden.\n",
    "    \n",
    "    In python we can achieve abstraction by incorporating abstract classes and methods:\n",
    "    Any class that contains abstract methods is called abstract class.\n",
    "    Abstract methods do not include any implementations.\n",
    "    Code Example:\n",
    "    from abc import ABC\n",
    "    class type_shape(ABC):\n",
    "        def area(self):\n",
    "            pass;\n",
    "    class Rectangle(type_shape):\n",
    "        length = 6;\n",
    "        breadth= 4;\n",
    "        def area(self):\n",
    "            return self.length * self.breadth;\n",
    "    class Circle(type_shape):\n",
    "        radius = 7;\n",
    "        def area(self):\n",
    "            return 3.14*self.radius*self.radius;\n",
    "    r = Rectangle();\n",
    "    c = Circle();\n",
    "    print(\"Area of a rectangle:-\", r.area());\n",
    "    print(\"Area of a circle:-\", c.area());\n",
    "    output:\n",
    "    Area of a rectangle:- 24\n",
    "    Area of a circle:- 153.86\n",
    "    \n",
    "    Explanation:\n",
    "    First we created an abstract class named type_shape acting as abstract base class implemented with abc module.\n",
    "    This class has an abstract method named area.\n",
    "    Then we create two more classes inheriting the abstract base class type_shape.\n",
    "    These two classes are capable of overwriting the area method present in abstract base class in their very own manner.\n",
    "    \n",
    "\"\"\"\n"
   ]
  },
  {
   "cell_type": "code",
   "execution_count": 2,
   "id": "e928a27e-cc13-4020-b3f9-c9004959c273",
   "metadata": {},
   "outputs": [],
   "source": [
    "# Question: Differentiate between abstraction and encapsulation. Explain with an example?\n",
    "ans = \"\"\" \n",
    "    1. Abstraction solves the problem and issues that arise at the design state.\n",
    "       Encapsulation solves the problem and issue that arise at the implementation stage.\n",
    "    2. Abstraction allows you to focus on what the object does instead of how it does it.\n",
    "       Encapsulation enables you to hide the code and data into a single unit to secure the data from the outside world.\n",
    "    3. Abstraction is generally applied during design level.\n",
    "       Encapsulation is generally applied during the implementation level.\n",
    "    4. Example for abstraction:\n",
    "        suppose you want to create a banking application and you are asked to collect all the information about your customer.\n",
    "        There are chances that you will come up with a lot of information about the customer.\n",
    "        But, not all of the information is required to create a banking application.\n",
    "        We need to select only the useful information for our banking application from that pool.\n",
    "        Since we have selected the customer infromation from a larger pool, the process is referrred to as abstraction.\n",
    "        \n",
    "       Example for Encapsulation:\n",
    "        Taking the example of mobile device. With the help of mobile devices, you can perform various functions like taking a picture,\n",
    "        sending a message, recording video/audio and much more.\n",
    "        We don't need to understand the internal functioning of the mentioned features.\n",
    "        We don't need to know how your camera calculates gamma correction or identifies a human face in an image.\n",
    "        We just need to learn the software interface. This is encapsulatin.\n",
    "\"\"\";\n"
   ]
  },
  {
   "cell_type": "code",
   "execution_count": 3,
   "id": "90052d65-152b-4542-bafe-e1a778120a65",
   "metadata": {},
   "outputs": [],
   "source": [
    "# Question: What is abc module in python? Why is it used?\n",
    "ans = \"\"\" \n",
    " While programming it is necessary to verify whether an object implements a given method or property.\n",
    " We can make use of isinstance or hasattr methods to check whether the input conforms to a particular identity.\n",
    " But sometimes it is not that convenient to use such method over a myriad of different properties and methods.\n",
    " As a solution: Python introduced a concept called Abstract Base Class (abc).\n",
    " \n",
    " The main goal of the abstract base class is to provide a standardized way to test whether an object adheres to a given specification.\n",
    " It can also prevent any attempt to instantiate a subclass that doesn't override a particular method in the superclass.\n",
    " Example:\n",
    " from abc import ABC;\n",
    " class type_shape(ABC):\n",
    "     def area(self):\n",
    "         pass;\n",
    " In above example we have created an abstract class having an abstract method.\n",
    "\"\"\""
   ]
  },
  {
   "cell_type": "code",
   "execution_count": 9,
   "id": "20df399d-81d6-4e6f-8d02-1e6f0f8d5f06",
   "metadata": {},
   "outputs": [],
   "source": [
    "# Question: Can we create an instance of an abstract class? Explain your answer?\n",
    "ans = \"\"\"\n",
    "    An abstract class is a class, but not one you can create objects from directly.\n",
    "    Its purpose is to define how other classes should look like, i.e. what methods and properties they are expected to have.\n",
    "    If we create an abstract class, and create an object of it, error will not be thrown,\n",
    "    but that object is of no use since abstract classes are just a blueprint upon which by using inheritance other classes are defined.\n",
    "\"\"\"\n",
    "\n"
   ]
  },
  {
   "cell_type": "code",
   "execution_count": null,
   "id": "929f48e1-41dd-4f44-8119-042a64991a96",
   "metadata": {},
   "outputs": [],
   "source": []
  }
 ],
 "metadata": {
  "kernelspec": {
   "display_name": "Python 3 (ipykernel)",
   "language": "python",
   "name": "python3"
  },
  "language_info": {
   "codemirror_mode": {
    "name": "ipython",
    "version": 3
   },
   "file_extension": ".py",
   "mimetype": "text/x-python",
   "name": "python",
   "nbconvert_exporter": "python",
   "pygments_lexer": "ipython3",
   "version": "3.10.8"
  }
 },
 "nbformat": 4,
 "nbformat_minor": 5
}
