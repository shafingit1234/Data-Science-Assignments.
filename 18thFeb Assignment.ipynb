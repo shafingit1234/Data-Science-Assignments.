{
 "cells": [
  {
   "cell_type": "code",
   "execution_count": 1,
   "id": "92a514c4-0cd1-4679-ba76-c0ab99715316",
   "metadata": {},
   "outputs": [],
   "source": [
    "# What is an API? Give an example, where an API is used in real life.\n",
    "ans = \"\"\" \n",
    "    API stands for Application Programming Interface, it is a software interface that allows two applications,\n",
    "    (that can be built using dissimilar frameworks or technologies), interact with each other without any user intervention.\n",
    "    It is a collection of software functions and procedures. In simple terms, API means a software code that can be accessed or executed.\n",
    "    API is defined as code that helps two different software's to communicate and exchange data with each other.\n",
    "    \n",
    "    Real Life Example:\n",
    "    Suppose you went to a restaurant to have a feast, waitor came to you and asked for the order.\n",
    "    You gave him your order along with some customization to be done, and then waitor goes in the kitchen,\n",
    "    after some time comes back with your order.\n",
    "    Here if we pay attention to the work of the waitor, he/she is acting as an interface between a hungry beast and\n",
    "    the kitchen where food is getting prepared. You will neither go to the kitchen to collect your order nor will you tell,\n",
    "    the kitchen staff what you want, all of this is being taken care by our humble waitor.\n",
    "    APi does similar work, it takes our request and responds by giving us desired results.\n",
    "\"\"\""
   ]
  },
  {
   "cell_type": "code",
   "execution_count": 2,
   "id": "ae1dfe96-597a-45ba-b42e-36cb48cba890",
   "metadata": {},
   "outputs": [],
   "source": [
    "# Give advantages and disadvantages of using API?\n",
    "ans = \"\"\" \n",
    "Advantages of using API:-\n",
    "1. Integrating new functionalities:- one can easily integrate new api's to there web app,\n",
    "and can do more with there product.\n",
    "2. Communication:- Impoves communication between disparate systems.\n",
    "3. Provides a way to automate tasks.\n",
    "Disadvantages of using API:-\n",
    "1. Cost:- Providing an API is expensive in terms of development time,\n",
    "    there will be maintenance cost also.\n",
    "2. Security Exposure:- Adding an API, adds another attack surface to your website.\n",
    "\"\"\""
   ]
  },
  {
   "cell_type": "code",
   "execution_count": 3,
   "id": "43054713-e2df-47fb-98ec-7411a4c76910",
   "metadata": {},
   "outputs": [],
   "source": [
    "# What is web api? Differentiate between api and web api?\n",
    "ans = \"\"\" \n",
    "A web api is just like any other api, with a difference in way or protocol used for establishing communication between applications.\n",
    "It follows HTTP protocol to establish communication.\n",
    "\n",
    "Difference between api and web api:-\n",
    "API's can be made to follow any protocol like TCP/IP , HTTP, SMTP protocol etc,\n",
    "However web api only follows HTTP protocol to fulfill communication between applications.\n",
    "\"\"\""
   ]
  },
  {
   "cell_type": "code",
   "execution_count": 4,
   "id": "4a3401e9-f825-4dcf-96c5-649dd3378d84",
   "metadata": {},
   "outputs": [],
   "source": [
    "# Explain rest and soap architecture. Mention shortcomings of soap.\n",
    "ans = \"\"\" \n",
    "REST API:- rest api is an application programming interface that uses a representaional state transfer architecture.\n",
    "It uses HTTP to request access and use data.\n",
    "Rest architecture constraints:\n",
    "1. Uniform Interface: This constraints simplifies the architecture by providing a uniform way of interacting with a given server.\n",
    "2. Client-server Architecture: This contraint essentially says that servers and clients should only know resource URL's and that's all.\n",
    "3. Statelessness: This constraint means, every request is treated as new, with no sessions nor history.\n",
    "4. Cacheability: Caching in rest should be applied to resource when applicable. This can be done on both server or client side.\n",
    "5. Layered System: Rest enables using a layered system architecture.\n",
    "6. Code on Demand: This means that you are able to, upon need, provide executable code to the client.\n",
    "\n",
    "SOAP api architecture is based on interactions between three components: a service provider, a service requester, and an optional service registry.\n",
    "a soap message is encoded as an XML document.\n",
    "\n",
    "\"\"\""
   ]
  },
  {
   "cell_type": "code",
   "execution_count": 5,
   "id": "317b7449-1357-4504-80be-6bdf8d71b2f2",
   "metadata": {},
   "outputs": [],
   "source": [
    "# Differentiate between rest and soap.\n",
    "ans = \"\"\" \n",
    "REST API:-\n",
    "1. Relies on Respresentational State transfer architecture using HTTP.\n",
    "2. Generally transports data in JSON. It is based on URI. Because Rest follows stateless model,\n",
    "It does not enforces message format as XML or JSON.\n",
    "3. It works with get, post, put, delete.\n",
    "4. Works over HTTP and HTTPS.\n",
    "5. Less structured\n",
    "\n",
    "SOAP API:-\n",
    "1. Relies on Simple Object Access Protocol.\n",
    "2. Transports data in standard XML format.\n",
    "3. It works with WSDL(Web services Description Language)\n",
    "4. Works over HTTP, HTTPS, SMTP, XMPP.\n",
    "5. Highly Structured/typed.\n",
    "\"\"\""
   ]
  },
  {
   "cell_type": "code",
   "execution_count": null,
   "id": "c02fe80d-5fa1-4e35-9c0d-b3a11d8bbbbe",
   "metadata": {},
   "outputs": [],
   "source": []
  }
 ],
 "metadata": {
  "kernelspec": {
   "display_name": "Python 3 (ipykernel)",
   "language": "python",
   "name": "python3"
  },
  "language_info": {
   "codemirror_mode": {
    "name": "ipython",
    "version": 3
   },
   "file_extension": ".py",
   "mimetype": "text/x-python",
   "name": "python",
   "nbconvert_exporter": "python",
   "pygments_lexer": "ipython3",
   "version": "3.10.8"
  }
 },
 "nbformat": 4,
 "nbformat_minor": 5
}
