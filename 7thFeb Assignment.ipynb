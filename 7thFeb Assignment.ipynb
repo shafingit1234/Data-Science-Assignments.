{
 "cells": [
  {
   "cell_type": "code",
   "execution_count": 13,
   "id": "ad490e15-b682-42a1-9971-eec92104f093",
   "metadata": {},
   "outputs": [
    {
     "name": "stdin",
     "output_type": "stream",
     "text": [
      "Enter Password:-  abc132#$%d\n"
     ]
    },
    {
     "name": "stdout",
     "output_type": "stream",
     "text": [
      "Valid Password!!\n"
     ]
    }
   ],
   "source": [
    "\"\"\"Question: You are writing code for a company. The requirement of the company is that you create a python function that will check whether the password entered by the user is correct or not. The function should take the password as input and return the string \"Valid Password\" if the entered password follows the below-given password guidelines else it should return \"Invalid password.\n",
    "Guidelines:\n",
    "1. The password should contain at least two uppercase letters and at least two lowercase letters.\n",
    "2. The password should contain at least a number and three special characters.\n",
    "3. The length of the password should be 10 characters long.\n",
    "\"\"\"\n",
    "from functools import reduce;\n",
    "def checkPassword(password):\n",
    "    sze = len(password);\n",
    "    if sze < 10:\n",
    "        print(\"Invalid Password!!\");\n",
    "        print(\"Your password should be 10 characters long!!\");\n",
    "        return ;\n",
    "    statement = \"1212\"\n",
    "    numbers = [\"1\", \"2\", \"3\", \"4\", \"5\",\"6\",\"7\",\"8\",\"9\"];\n",
    "    special_characters=[\"!\",\"#\",\"$\",\"%\",\"&\",\"'\",\"(\",\")\",\"*\",\"+\",\",\",\"-\",\".\",\"/\",\":\",\";\",\"<\",\">\",\"<=\",\">=\",\"?\",\"@\",\"[\",\"]\", \"^\", \"_\",\"`\",\"{\",\"}\",\"|\",\"~\",\"\\\\\"];\n",
    "    chck = list(filter(lambda x : password.count(x) >= 1, numbers));\n",
    "    if len(chck) < 1:\n",
    "        print(\"Invalid Password!!, There should be atleast 1 number.\");\n",
    "        return ;\n",
    "    # chck = reduce(lambda x : sum = sum + password.count(x), special_characters);\n",
    "    sum = 0;\n",
    "    for i in special_characters:\n",
    "        sum = sum + password.count(i);\n",
    "        if sum >=3:\n",
    "            break;\n",
    "    \n",
    "    if sum < 3:\n",
    "        print(\"Invalid Password!!, There should be atleast 3 special characters.\");\n",
    "        return ;\n",
    "    print(\"Valid Password!!\");\n",
    "    return ;\n",
    "def main():\n",
    "    password = input(\"Enter Password:- \");\n",
    "    checkPassword(password);\n",
    "    return;\n",
    "main();\n",
    "\n",
    "\n",
    "    \n",
    "    "
   ]
  },
  {
   "cell_type": "code",
   "execution_count": 19,
   "id": "f4a3f666-d38b-4ec4-9843-c77c1f25ba86",
   "metadata": {},
   "outputs": [
    {
     "name": "stdout",
     "output_type": "stream",
     "text": [
      "problem One:- Check if the string starts with a particular letter.\n"
     ]
    },
    {
     "name": "stdin",
     "output_type": "stream",
     "text": [
      "Enter String abcd\n",
      "Enter letter a\n"
     ]
    },
    {
     "name": "stdout",
     "output_type": "stream",
     "text": [
      "True\n",
      "\n",
      "Problem Two:- Check if the string is numeric\n"
     ]
    },
    {
     "name": "stdin",
     "output_type": "stream",
     "text": [
      "Enter String 1234\n"
     ]
    },
    {
     "name": "stdout",
     "output_type": "stream",
     "text": [
      "True\n",
      "\n",
      "Problem Three: sort a list of tuples having fruit names and their quantity\n",
      "Original List\n",
      "[('Apple', 21), ('Banana', 13), ('Mango', 4), ('Guava', 35)]\n",
      "After sort\n",
      "[('Mango', 4), ('Banana', 13), ('Apple', 21), ('Guava', 35)]\n",
      "\n",
      "Problem Four:- Find the squares of numbers from 1 to 10.\n",
      "[1, 4, 9, 16, 25, 36, 49, 64, 81, 100]\n",
      "\n",
      "Problem Five:- Find Cube root of numbers from 1 to 10\n",
      "[1.0, 1.2599210498948732, 1.4422495703074083, 1.5874010519681994, 1.7099759466766968, 1.8171205928321397, 1.912931182772389, 2.0, 2.080083823051904, 2.154434690031884]\n",
      "\n",
      "Problem six:- Check if a given number is even:\n"
     ]
    },
    {
     "name": "stdin",
     "output_type": "stream",
     "text": [
      "Enter a number 44\n"
     ]
    },
    {
     "name": "stdout",
     "output_type": "stream",
     "text": [
      "True\n",
      "\n",
      "Problem seven:- Filter odd numbers from the given list:\n",
      "[1, 2, 3, 4, 5, 6, 7, 8, 9, 10]\n",
      "-----------------\n",
      "[1, 3, 5, 7, 9]\n",
      "\n",
      "Problem Eight:- Sort a list of integers into positive and negative integers list\n",
      "Result goes here:-\n",
      "[-5, -4, -3, -2, -1, 0, 1, 2, 3, 4, 5, 6]\n"
     ]
    }
   ],
   "source": [
    "\"\"\" Question: Solve the below-given questions using at least one of the following.\n",
    "1. lambda function.\n",
    "2. filter function.\n",
    "3. map function.\n",
    "4. List comprehension.\n",
    "    Check if the string starts with a particular letter.\n",
    "    Check if the string is numeric\n",
    "    sort a list of tuples having fruit names and their quantity.\n",
    "    find the squares of numbers from 1 to 10.\n",
    "    find the cube root of numbers from 1 to 10.\n",
    "    check if a given number is even.\n",
    "    filter odd numbers from the given list.\n",
    "    sort a list of integers into positive and negative lists.\"\"\"\n",
    "def problemOne():\n",
    "    print(\"problem One:- Check if the string starts with a particular letter.\");\n",
    "    string = input(\"Enter String\");\n",
    "    letter = input(\"Enter letter\");\n",
    "    starts_with = lambda x : True if x.startswith(letter) else False;\n",
    "    print(starts_with(string));\n",
    "def problemTwo():\n",
    "    print(\"Problem Two:- Check if the string is numeric\")\n",
    "    string = input(\"Enter String\");\n",
    "    is_num = lambda q:q.isdigit();\n",
    "    print(is_num(string));\n",
    "    \n",
    "def problemThree():\n",
    "    print(\"Problem Three: sort a list of tuples having fruit names and their quantity\");\n",
    "    list_of_tuple = [('Apple' , 21) , ('Banana' , 13) , ('Mango',4) , ('Guava' , 35)];\n",
    "    print(\"Original List\");\n",
    "    print(list_of_tuple);\n",
    "    list_of_tuple.sort(key = lambda x : x[1]);\n",
    "    print(\"After sort\");\n",
    "    print(list_of_tuple);\n",
    "\n",
    "def problemFour():\n",
    "    print(\"Problem Four:- Find the squares of numbers from 1 to 10.\");\n",
    "    nums = list(range(1,11));\n",
    "    res = list(map(lambda x : x**2 , nums));\n",
    "    print(res);\n",
    "\n",
    "def problemFive():\n",
    "    print(\"Problem Five:- Find Cube root of numbers from 1 to 10\");\n",
    "    nums = list(range(1,11));\n",
    "    res = list(map(lambda x : x**(1./3.) , nums));\n",
    "    print(res);\n",
    "    \n",
    "def problemSix():\n",
    "    print(\"Problem six:- Check if a given number is even:\");\n",
    "    num = int(input(\"Enter a number\"));\n",
    "    ans = lambda x : True if x%2 == 0 else False;\n",
    "    print(ans(num));\n",
    "    \n",
    "def problemSeven():\n",
    "    print(\"Problem seven:- Filter odd numbers from the given list:\");\n",
    "    ls = [1,2,3,4,5,6,7,8,9,10];\n",
    "    print(ls);\n",
    "    print('-----------------');\n",
    "    res = list(filter(lambda x: x%2 != 0, ls));\n",
    "    print(res);\n",
    "\n",
    "def problemEight():\n",
    "    print(\"Problem Eight:- Sort a list of integers into positive and negative integers list\");\n",
    "    ls = [1,2,3,4,5,6,-1,-2,-3,-4,-5,0];\n",
    "    neg_ls = list(filter(lambda x : x < 0 , ls));\n",
    "    pos_ls = list(filter(lambda x : x >= 0 , ls));\n",
    "    neg_ls.sort();\n",
    "    pos_ls.sort();\n",
    "    neg_ls.extend(pos_ls);\n",
    "    print(\"Result goes here:-\")\n",
    "    print(neg_ls);\n",
    "\n",
    "def main():\n",
    "    problemOne();\n",
    "    print();\n",
    "    problemTwo();\n",
    "    print();\n",
    "    problemThree();\n",
    "    print();\n",
    "    problemFour();\n",
    "    print();\n",
    "    problemFive();\n",
    "    print();\n",
    "    problemSix();\n",
    "    print();\n",
    "    problemSeven();\n",
    "    print();\n",
    "    problemEight();\n",
    "\n",
    "main();\n",
    "\n",
    "\n"
   ]
  },
  {
   "cell_type": "code",
   "execution_count": null,
   "id": "7b72f632-fae9-49d6-a2d2-c83d7d338381",
   "metadata": {},
   "outputs": [],
   "source": []
  }
 ],
 "metadata": {
  "kernelspec": {
   "display_name": "Python 3 (ipykernel)",
   "language": "python",
   "name": "python3"
  },
  "language_info": {
   "codemirror_mode": {
    "name": "ipython",
    "version": 3
   },
   "file_extension": ".py",
   "mimetype": "text/x-python",
   "name": "python",
   "nbconvert_exporter": "python",
   "pygments_lexer": "ipython3",
   "version": "3.10.8"
  }
 },
 "nbformat": 4,
 "nbformat_minor": 5
}
