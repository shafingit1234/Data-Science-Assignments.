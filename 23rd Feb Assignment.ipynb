{
 "cells": [
  {
   "cell_type": "code",
   "execution_count": 3,
   "id": "de26918c-6bd7-4ebd-9eaf-b3ef087d6006",
   "metadata": {},
   "outputs": [
    {
     "name": "stdout",
     "output_type": "stream",
     "text": [
      "0     4\n",
      "1     8\n",
      "2    15\n",
      "3    16\n",
      "4    23\n",
      "5    42\n",
      "dtype: int64\n"
     ]
    }
   ],
   "source": [
    "# Create a panda series that contains the following data:- 4,8,15,16,23,42\n",
    "import pandas as pd;\n",
    "lst = [4,8,15,16,23,42];\n",
    "data = pd.Series(lst);\n",
    "print(data);"
   ]
  },
  {
   "cell_type": "code",
   "execution_count": 10,
   "id": "27fb921d-c4fe-4951-9ac7-095503421464",
   "metadata": {},
   "outputs": [
    {
     "name": "stdout",
     "output_type": "stream",
     "text": [
      "0    20\n",
      "1     4\n",
      "2    34\n",
      "3    10\n",
      "4    41\n",
      "5    24\n",
      "6    11\n",
      "7    19\n",
      "8    16\n",
      "9    48\n",
      "dtype: int64\n"
     ]
    }
   ],
   "source": [
    "# Create a variable of list type containing 10 elements in it, and apply pandas.Series function on the variable print it.\n",
    "import random;\n",
    "lst = list();\n",
    "for i in range(0,10):\n",
    "    lst.append(random.randint(0,50));\n",
    "data = pd.Series(lst);\n",
    "print(data);"
   ]
  },
  {
   "cell_type": "code",
   "execution_count": 13,
   "id": "3c4e4b7f-32c0-4898-b396-e4ae34ccd312",
   "metadata": {},
   "outputs": [
    {
     "name": "stdout",
     "output_type": "stream",
     "text": [
      "  Name  Age Gender\n",
      " Alice   25 Female\n",
      "   Bob   30   Male\n",
      "Claire   27 Female\n"
     ]
    }
   ],
   "source": [
    "# Create a pandas Dataframe that contains the following data.\n",
    "data_to_add = {'Name' : ['Alice' , 'Bob' , 'Claire'] ,\n",
    "               'Age' : [25 , 30 , 27] , \n",
    "              'Gender' : ['Female' , 'Male' , 'Female']};\n",
    "\n",
    "df = pd.DataFrame(data_to_add).to_string(index=False);\n",
    "# blankIndex=[''] * len(df)\n",
    "# df.index=blankIndex\n",
    "print(df);"
   ]
  },
  {
   "cell_type": "code",
   "execution_count": 23,
   "id": "590875e2-2a23-4ec7-a94c-00050b7632af",
   "metadata": {},
   "outputs": [
    {
     "name": "stdout",
     "output_type": "stream",
     "text": [
      "Data using Dataframes\n",
      "     Name  Age  CllG\n",
      "0  shafin   20  VITB\n",
      "1  Kirpal   20  UIET\n",
      "Data using Series\n",
      "Name    [shafin, Kirpal]\n",
      "Age             [20, 20]\n",
      "CllG        [VITB, UIET]\n",
      "dtype: object\n"
     ]
    }
   ],
   "source": [
    "# What is dataframe in pandas and how is it different from pandas.series? Explain with example.\n",
    "ans=\"\"\" \n",
    "Pandas Dataframe is two-dimensional size-mutable,\n",
    "potentially heterogenous tabular data structure with labeled axes (rows and coloumns).\n",
    "A data frame is a two-dimensional data structure.\n",
    "i.e Data is aligned in a tabular fashion in rows and coloumns.Pandas DataFrame consists of three principal components, the data, the row and columns.\n",
    "\n",
    "Series allows us to formulate one-dimensional data structure for storing the data.\n",
    "It restricts us to store homogenous data only.\n",
    "Once size is allocated to the series, it is immutable for us to resize the series created.\n",
    "On the other hand,\n",
    "DataFrame allows us to formulate two-dimensional data structure for storing the data.\n",
    "It allows us to store heterogenous data in tabular fashion.\n",
    "It is mutable, which means elements can be easily added or dropped in an existing dataframe.\n",
    "\n",
    "\"\"\"\n",
    "# Example to show difference between series and dataframe\n",
    "\n",
    "lst = {'Name' : ['shafin', 'Kirpal'] , 'Age' : [20 , 20] , 'CllG' : ['VITB' , 'UIET']}\n",
    "data = pd.DataFrame(lst);\n",
    "print(\"Data using Dataframes\");\n",
    "print(data);\n",
    "data = pd.Series(lst);\n",
    "print(\"Data using Series\")\n",
    "print(data);\n",
    "ans = \"\"\" \n",
    "As we can see, series is considering shafin and kirpal as a single entity or a list, leading to \n",
    "a bad visualization of data, but using dataframe we can have a good visualisation of data.\n",
    "\"\"\""
   ]
  },
  {
   "cell_type": "code",
   "execution_count": 29,
   "id": "6f8d50aa-18c4-4e79-a4f7-dbbe4ebc761f",
   "metadata": {},
   "outputs": [
    {
     "name": "stdout",
     "output_type": "stream",
     "text": [
      "  Name  Age   CllG\n",
      "Shafin   20   VITB\n",
      "Kirpal   20 UIETPU\n"
     ]
    }
   ],
   "source": [
    "# What are some common functions you can use to manipulate data in a Pandas DataFrame? Can you give an example of when you might use on of these functions.\n",
    "ans = \"\"\"  \n",
    "We can retrieve particular rows and coloumns by using dataframe functions.\n",
    "df['coloumn_name'] := will fetch me whole coloumn as a series object.\n",
    "df.[loc[i]]:- By using loc attribute we can return one or more specified rows.\n",
    "df.[loc[i , j]]: Returns ith row and jth row.\n",
    "\n",
    "we can add index based on our wish, using index keyword or parameter in DataFrame:-\n",
    "pd.DataFrame(data , index = ['i1' , 'i2' , 'i3']);\n",
    "We can load csv files into a DataFrame using read_csv\n",
    "df = pd.read_csv(\"data.csv\");\n",
    "We can use to_string() method to print entire DataFrame.\n",
    "We can use head() method to return headers and a specified number of rows, starting from the top.\n",
    "we can use tail() method to return the headers and a specified number of rows, starting from the bottom.\n",
    "\n",
    "When will I use DataFrame Functions?\n",
    "Common functions that I have used till now are\n",
    "index=False, to_string(), .head(), .tail() and .read_csv('file name').\n",
    "Situation where I used above mentioned function,\n",
    "I had a task to print dictionary in tabular format,\n",
    "using dataframe I was able to do that, but indexing was bugging me up,\n",
    "to remove that I made use of to_string(index=False), where to_string() helps in printing the dataframe and index=False hides indexing.\n",
    "\"\"\"\n",
    "# Example>\n",
    "lst = {'Name' : ['Shafin' , 'Kirpal'] , 'Age' : [20,20] , 'CllG': ['VITB' , 'UIETPU']};\n",
    "data = pd.DataFrame(lst);\n",
    "print(data.to_string(index=False));"
   ]
  },
  {
   "cell_type": "code",
   "execution_count": 30,
   "id": "7ba16809-2ffd-4500-a11a-255e229ae85b",
   "metadata": {},
   "outputs": [],
   "source": [
    "# Which of the following is mutable in nature Series, DataFrame, Panel?\n",
    "ans = \"\"\" \n",
    "All Pandas data structure are value-mutable in nature, except Series all are size mutables.\n",
    "Series:- Value mutable, Size Immutable(Size can't be changed once allocated)\n",
    "DataFrames:- Value mutable, Size mutable(both value and size can be changed)\n",
    "Panel:- value mutable, size mutable(both value and size can be changed)\n",
    "\"\"\""
   ]
  },
  {
   "cell_type": "code",
   "execution_count": 42,
   "id": "984924ea-82cc-47da-b92d-2385c988bb2a",
   "metadata": {},
   "outputs": [
    {
     "name": "stdout",
     "output_type": "stream",
     "text": [
      "List One goes below **************\n",
      "0                 Data-Science\n",
      "1               Full Stack Web\n",
      "2    Stock Market Fundamentals\n",
      "3                     Java Dsa\n",
      "Name: Courses, dtype: object\n",
      "List two goes below **************\n",
      "0    [sudhanshu, krish]\n",
      "1                Hitesh\n",
      "2            CA teacher\n",
      "3          Naveen Reddy\n",
      "Name: Mentors, dtype: object\n",
      "combined series as a dataframe goes below**********\n",
      "\n",
      "                  Courses            Mentors\n",
      "             Data-Science [sudhanshu, krish]\n",
      "           Full Stack Web             Hitesh\n",
      "Stock Market Fundamentals         CA teacher\n",
      "                 Java Dsa       Naveen Reddy\n"
     ]
    }
   ],
   "source": [
    "# Create a DataFrame using Multiple Series. Explain with an example?\n",
    "course = pd.Series(['Data-Science' , 'Full Stack Web' , 'Stock Market Fundamentals' , 'Java Dsa'], name = 'Courses');\n",
    "print(\"List One goes below **************\")\n",
    "print(course);\n",
    "mentors = pd.Series([['sudhanshu' , 'krish'], 'Hitesh' , 'CA teacher' , 'Naveen Reddy'], name = 'Mentors');\n",
    "print(\"List two goes below **************\")\n",
    "print(mentors);\n",
    "df = pd.concat([course, mentors], axis = 1).to_string(index=False);\n",
    "print(\"combined series as a dataframe goes below**********\");\n",
    "print();\n",
    "print(df)\n"
   ]
  },
  {
   "cell_type": "code",
   "execution_count": null,
   "id": "df2f8f0d-ca04-4ad8-8d83-15537018b7f9",
   "metadata": {},
   "outputs": [],
   "source": []
  }
 ],
 "metadata": {
  "kernelspec": {
   "display_name": "Python 3 (ipykernel)",
   "language": "python",
   "name": "python3"
  },
  "language_info": {
   "codemirror_mode": {
    "name": "ipython",
    "version": 3
   },
   "file_extension": ".py",
   "mimetype": "text/x-python",
   "name": "python",
   "nbconvert_exporter": "python",
   "pygments_lexer": "ipython3",
   "version": "3.10.8"
  }
 },
 "nbformat": 4,
 "nbformat_minor": 5
}
