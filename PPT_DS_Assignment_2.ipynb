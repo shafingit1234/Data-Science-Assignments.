{
 "cells": [
  {
   "cell_type": "markdown",
   "id": "cf8dded0-3ef8-4802-b5be-17c52c2d6fe5",
   "metadata": {},
   "source": [
    "Question 1. Scenario: A company wants to analyze the sales performance of its products in different regions. They have collected the following data:\n",
    "   Region A: [10, 15, 12, 8, 14]\n",
    "   Region B: [18, 20, 16, 22, 25]\n",
    "   Calculate the mean sales for each region.\n"
   ]
  },
  {
   "cell_type": "code",
   "execution_count": 1,
   "id": "2ce4b9af-a0c2-4c20-8b33-adf97cc651e9",
   "metadata": {},
   "outputs": [
    {
     "name": "stdout",
     "output_type": "stream",
     "text": [
      "Mean for region A is  11.8\n",
      "Mean for region B is  20.2\n"
     ]
    }
   ],
   "source": [
    "import pandas as pd;\n",
    "import numpy as np;\n",
    "Region_A = [10, 15, 12, 8, 14]\n",
    "Region_B = [18, 20, 16, 22, 25]\n",
    "mean_a = np.mean(Region_A);\n",
    "mean_b = np.mean(Region_B);\n",
    "print(\"Mean for region A is \" , mean_a);\n",
    "print(\"Mean for region B is \" , mean_b);"
   ]
  },
  {
   "cell_type": "markdown",
   "id": "084caaef-63a7-48c3-a51c-7c21647fb059",
   "metadata": {},
   "source": [
    "Question 2. Scenario: A survey is conducted to measure customer satisfaction on a scale of 1 to 5. The data collected is as follows:\n",
    "   [4, 5, 2, 3, 5, 4, 3, 2, 4, 5]\n",
    "   Calculate the mode of the survey responses.\n"
   ]
  },
  {
   "cell_type": "code",
   "execution_count": 4,
   "id": "363aa17c-4198-495b-a865-49e0cf1aea53",
   "metadata": {},
   "outputs": [
    {
     "name": "stdout",
     "output_type": "stream",
     "text": [
      "Mode is  4\n"
     ]
    }
   ],
   "source": [
    "import statistics as stats;\n",
    "arr = [4,5,2,3,5,4,3,2,4,5]\n",
    "mode_arr = np.array(arr);\n",
    "print(\"Mode is \" , stats.mode(mode_arr))"
   ]
  },
  {
   "cell_type": "markdown",
   "id": "1630df21-8904-4fdc-a23b-ec4a65ecfb4b",
   "metadata": {},
   "source": [
    "Question 3. Scenario: A company wants to compare the salaries of two departments. The salary data for Department A and Department B are as follows:\n",
    "   Department A: [5000, 6000, 5500, 7000]\n",
    "   Department B: [4500, 5500, 5800, 6000, 5200]\n",
    "   Calculate the median salary for each department.\n"
   ]
  },
  {
   "cell_type": "code",
   "execution_count": 5,
   "id": "c647a96a-ff5a-4b17-acf3-83e6fcf4f508",
   "metadata": {},
   "outputs": [
    {
     "name": "stdout",
     "output_type": "stream",
     "text": [
      "Department A  5750.0\n",
      "Department B  5500\n"
     ]
    }
   ],
   "source": [
    "department_a = [5000,6000,5500,7000];\n",
    "department_b = [4500, 5500, 5800, 6000, 5200];\n",
    "dept_a_median = stats.median(np.array(department_a))\n",
    "dept_b_median = stats.median(np.array(department_b))\n",
    "print(\"Department A \" , dept_a_median)\n",
    "print(\"Department B \" , dept_b_median)"
   ]
  },
  {
   "cell_type": "markdown",
   "id": "7738b571-bff6-41d0-ad37-d7e29a80be16",
   "metadata": {},
   "source": [
    "Question 4. Scenario: A data analyst wants to determine the variability in the daily stock prices of a company. The data collected is as follows:\n",
    "   [25.5, 24.8, 26.1, 25.3, 24.9]\n",
    "   Calculate the range of the stock prices.\n"
   ]
  },
  {
   "cell_type": "code",
   "execution_count": 7,
   "id": "702c9af6-988d-435e-85c8-46f083a6bfc6",
   "metadata": {},
   "outputs": [
    {
     "name": "stdout",
     "output_type": "stream",
     "text": [
      "Range is  ( 26.1  ,  24.8 )\n"
     ]
    }
   ],
   "source": [
    "data = [25.5, 24.8, 26.1, 25.3, 24.9];\n",
    "mx = max(data)\n",
    "mn = min(data)\n",
    "print(\"Range is \" , \"(\", mx , \" , \" , mn , \")\")"
   ]
  },
  {
   "cell_type": "markdown",
   "id": "a94e4498-143d-4ec8-97eb-143451d486ac",
   "metadata": {},
   "source": [
    "\n",
    "Question 5. Scenario: A study is conducted to compare the performance of two different teaching methods. The test scores of the students in each group are as follows:\n",
    "   Group A: [85, 90, 92, 88, 91]\n",
    "   Group B: [82, 88, 90, 86, 87]\n",
    "   Perform a t-test to determine if there is a significant difference in the mean scores between the two groups.\n"
   ]
  },
  {
   "cell_type": "code",
   "execution_count": 16,
   "id": "ba82120e-0b8c-467a-8576-c3d7a66d75ed",
   "metadata": {},
   "outputs": [
    {
     "name": "stdout",
     "output_type": "stream",
     "text": [
      "Value of calculated t variable is  0.5725011578657094\n",
      "value of tabular value of t is  2.3060041350333704\n",
      "\n",
      "H0 accepted, which means that means of two samples are not significantly different!\n"
     ]
    }
   ],
   "source": [
    "import numpy as np\n",
    "import scipy.stats\n",
    "import math\n",
    "group_a = [85, 90, 92, 88, 91]\n",
    "group_b = [82, 88, 90, 86, 87]\n",
    "# I will be performing two sample test for independent population size.\n",
    "# so first find mean of both the samples.\n",
    "n1 = len(group_a)\n",
    "n2 = len(group_b)\n",
    "x_1 = np.mean(group_a)\n",
    "x_2 = np.mean(group_b)\n",
    "# print(mean_a)\n",
    "# Now calculate combined standard deviation\n",
    "sum_a = 0\n",
    "for i in group_a:\n",
    "    sum_a = sum_a + (i - x_1)*(i - x_1)\n",
    "    \n",
    "sum_b = 0;\n",
    "for i in group_b:\n",
    "    sum_b =sum_b + (i - x_2) * (i - x_2)\n",
    "\n",
    "combined_sd = (sum_a + sum_b)/(n1 + n2 - 2)\n",
    "combined_sd = math.sqrt(combined_sd)\n",
    "standard_sd = combined_sd/(math.sqrt((1/n1) + (1/n2)))\n",
    "t_cal = (x_1 - x_2)/standard_sd\n",
    "degree_of_freedom = n1 + n2 - 2;\n",
    "\n",
    "# print(t_cal)\n",
    "\n",
    "print(\"Value of calculated t variable is \" , t_cal);\n",
    "\n",
    "t_table = scipy.stats.t.ppf(q=1-.05/2,df=degree_of_freedom)\n",
    "# print(t_table)\n",
    "print(\"value of tabular value of t is \" , t_table);\n",
    "print()\n",
    "if t_cal > t_table:\n",
    "    print(\"H0 rejected, which means that means of two samples are significantly different!\")\n",
    "else:\n",
    "    print(\"H0 accepted, which means that means of two samples are not significantly different!\")\n",
    "    "
   ]
  },
  {
   "cell_type": "markdown",
   "id": "9b4e21e2-89ea-4dd0-b3aa-7689456584a9",
   "metadata": {},
   "source": [
    "Question 6. Scenario: A company wants to analyze the relationship between advertising expenditure and sales. The data collected is as follows:\n",
    "   Advertising Expenditure (in thousands): [10, 15, 12, 8, 14]\n",
    "   Sales (in thousands): [25, 30, 28, 20, 26]\n",
    "   Calculate the correlation coefficient between advertising expenditure and sales.\n"
   ]
  },
  {
   "cell_type": "code",
   "execution_count": 21,
   "id": "de92dac2-718b-429f-afeb-064049e26636",
   "metadata": {},
   "outputs": [
    {
     "name": "stdout",
     "output_type": "stream",
     "text": [
      "Correlation Coefficient for the given samples is  0.8757511375750133\n"
     ]
    }
   ],
   "source": [
    "advert = [10, 15, 12, 8, 14]\n",
    "sales = [25, 30, 28, 20, 26]\n",
    "x = np.mean(advert)\n",
    "y = np.mean(sales)\n",
    "sum = 0;\n",
    "sum_a = 0;\n",
    "sum_b = 0;\n",
    "for i in range(0, len(advert)):\n",
    "    # print(advert[i])\n",
    "    sum = sum + (advert[i] - x)*(sales[i] - y)\n",
    "    sum_a = sum_a + (advert[i] - x)*(advert[i] - x);\n",
    "    sum_b = sum_b + (sales[i] - y)*(sales[i] - y);\n",
    "\n",
    "denominator = math.sqrt(sum_a * sum_b);\n",
    "numerator = sum;\n",
    "r = numerator/denominator\n",
    "print(\"Correlation Coefficient for the given samples is \" , r)\n"
   ]
  },
  {
   "cell_type": "markdown",
   "id": "53cbf068-bdfa-4d8e-a37f-b382a1017c22",
   "metadata": {},
   "source": [
    "Question 7 Scenario: A survey is conducted to measure the heights of a group of people. The data collected is as follows:\n",
    "   [160, 170, 165, 155, 175, 180, 170]\n",
    "   Calculate the standard deviation of the heights.\n"
   ]
  },
  {
   "cell_type": "code",
   "execution_count": 33,
   "id": "4f4a451e-8bae-4826-bbf7-5d396bff8fee",
   "metadata": {},
   "outputs": [
    {
     "name": "stdout",
     "output_type": "stream",
     "text": [
      "7.953949089757174\n"
     ]
    }
   ],
   "source": [
    "import statistics as stats\n",
    "heights = [160, 170, 165, 155, 175, 180, 170]\n",
    "sd = np.std(heights)\n",
    "print(sd)\n"
   ]
  },
  {
   "cell_type": "markdown",
   "id": "26206744-c31a-4060-8546-41ed7bf28aa1",
   "metadata": {},
   "source": [
    "Question 8. Scenario :A company wants to analyze the relationship between employee tenure and job satisfaction. The data collected is as follows:\n",
    "   Employee Tenure (in years): [2, 3, 5, 4, 6, 2, 4]\n",
    "   Job Satisfaction (on a scale of 1 to 10): [7, 8, 6, 9, 5, 7, 6]\n",
    "   Perform a linear regression analysis to predict job satisfaction based on employee tenure.\n"
   ]
  },
  {
   "cell_type": "code",
   "execution_count": 13,
   "id": "acd9db6b-037a-47e3-8b73-31145d6c8d48",
   "metadata": {},
   "outputs": [
    {
     "name": "stdout",
     "output_type": "stream",
     "text": [
      "                            OLS Regression Results                            \n",
      "==============================================================================\n",
      "Dep. Variable:                      y   R-squared:                       0.229\n",
      "Model:                            OLS   Adj. R-squared:                 -0.157\n",
      "Method:                 Least Squares   F-statistic:                    0.5926\n",
      "Date:                Sat, 15 Jul 2023   Prob (F-statistic):              0.522\n",
      "Time:                        12:08:06   Log-Likelihood:                -6.7223\n",
      "No. Observations:                   4   AIC:                             17.44\n",
      "Df Residuals:                       2   BIC:                             16.22\n",
      "Df Model:                           1                                         \n",
      "Covariance Type:            nonrobust                                         \n",
      "==============================================================================\n",
      "                 coef    std err          t      P>|t|      [0.025      0.975]\n",
      "------------------------------------------------------------------------------\n",
      "const          8.7500      2.756      3.175      0.087      -3.107      20.607\n",
      "x1            -0.5000      0.650     -0.770      0.522      -3.295       2.295\n",
      "==============================================================================\n",
      "Omnibus:                          nan   Durbin-Watson:                   2.667\n",
      "Prob(Omnibus):                    nan   Jarque-Bera (JB):                0.963\n",
      "Skew:                           1.155   Prob(JB):                        0.618\n",
      "Kurtosis:                       2.333   Cond. No.                         13.4\n",
      "==============================================================================\n",
      "\n",
      "Notes:\n",
      "[1] Standard Errors assume that the covariance matrix of the errors is correctly specified.\n"
     ]
    },
    {
     "name": "stderr",
     "output_type": "stream",
     "text": [
      "/opt/conda/lib/python3.10/site-packages/statsmodels/stats/stattools.py:74: ValueWarning: omni_normtest is not valid with less than 8 observations; 4 samples were given.\n",
      "  warn(\"omni_normtest is not valid with less than 8 observations; %i \"\n"
     ]
    }
   ],
   "source": [
    "import numpy as np\n",
    "import pandas as pd\n",
    "import matplotlib.pyplot\n",
    "import seaborn as sns\n",
    "from sklearn.model_selection import train_test_split\n",
    "import statsmodels.api as sm\n",
    "emp = [2, 3, 5, 4, 6, 2, 4];\n",
    "job = [7, 8, 6, 9, 5, 7, 6];\n",
    "\n",
    "x = emp\n",
    "y = job\n",
    "X_train, X_test, y_train, y_test = train_test_split( x, y, train_size = 0.7, test_size = 0.3, random_state = 100 )\n",
    "x_train_sm = sm.add_constant(X_train)\n",
    "lr = sm.OLS(y_train, x_train_sm).fit()\n",
    "# lr.params\n",
    "print(lr.summary())"
   ]
  },
  {
   "cell_type": "code",
   "execution_count": 16,
   "id": "8aa88ae6-8558-4c25-a128-c8d5e246d3e1",
   "metadata": {},
   "outputs": [
    {
     "data": {
      "text/plain": [
       "array([7.25, 6.25, 7.75])"
      ]
     },
     "execution_count": 16,
     "metadata": {},
     "output_type": "execute_result"
    }
   ],
   "source": [
    "# Add a constant to X_test\n",
    "X_test_sm = sm.add_constant(X_test)\n",
    "y_pred = lr.predict(X_test_sm)\n",
    "y_pred"
   ]
  },
  {
   "cell_type": "code",
   "execution_count": 18,
   "id": "65770856-1a49-440f-ab93-17c534ec161a",
   "metadata": {},
   "outputs": [
    {
     "name": "stdout",
     "output_type": "stream",
     "text": [
      "RMSE:  0.6291528696058952\n",
      "R-squared:  0.4062500000000011\n"
     ]
    }
   ],
   "source": [
    "# Evaluation metrics\n",
    "from sklearn.metrics import mean_squared_error\n",
    "from sklearn.metrics import r2_score\n",
    "#RMSE value\n",
    "print( \"RMSE: \",np.sqrt( mean_squared_error( y_test, y_pred ) ))\n",
    "#R-squared value\n",
    "print( \"R-squared: \",r2_score( y_test, y_pred ) )"
   ]
  },
  {
   "cell_type": "markdown",
   "id": "fcb0ef69-2840-4d33-b21c-a9ed88df61ac",
   "metadata": {},
   "source": [
    "Question 9. Scenario: A study is conducted to compare the effectiveness of two different medications. The recovery times of the patients in each group are as follows:\n",
    "   Medication A: [10, 12, 14, 11, 13]\n",
    "   Medication B: [15, 17, 16, 14, 18]\n",
    "   Perform an analysis of variance (ANOVA) to determine if there is a significant difference in the mean recovery times between the two medications.\n"
   ]
  },
  {
   "cell_type": "code",
   "execution_count": 66,
   "id": "dca11f03-0180-41b0-a898-8c816f20461f",
   "metadata": {},
   "outputs": [
    {
     "name": "stdout",
     "output_type": "stream",
     "text": [
      "Value of F calculated : 1.0\n",
      "Value of F critical at 0.05 signficance level: 5.317655071578714\n",
      "There is no significant difference in mean!!\n"
     ]
    }
   ],
   "source": [
    "import statsmodels.api as sm\n",
    "from statsmodels.formula.api import ols\n",
    "import scipy.stats\n",
    "a = [10, 12, 14, 11, 13]\n",
    "b = [15, 17, 16, 14, 18]\n",
    "x_a = np.mean(a)\n",
    "x_b = np.mean(b)\n",
    "n_a = len(a)\n",
    "n_b = len(b)\n",
    "T = x_a + x_b\n",
    "N = n_a + n_b\n",
    "Correction_factor = (T*T)/N\n",
    "sum_a = 0\n",
    "sum_b = 0\n",
    "sum_squares_a = 0\n",
    "sum_squares_b = 0\n",
    "for i in range(0 , len(a)):\n",
    "    sum_a = sum_a + a[i]\n",
    "    sum_b = sum_b + b[i]\n",
    "    sum_squares_a = sum_squares_a + a[i]*a[i]\n",
    "    sum_squares_b = sum_squares_b + b[i]*b[i]\n",
    "sum_a = sum_a * sum_a\n",
    "sum_b = sum_b * sum_b\n",
    "ssc = (sum_a/n_a) + (sum_b / n_b) - Correction_factor\n",
    "sst = sum_squares_a + sum_squares_b - Correction_factor\n",
    "sse = sst - ssc\n",
    "msc = ssc\n",
    "mse = sse/(N - 2)\n",
    "df = N-1\n",
    "F = 0\n",
    "dfn = 0\n",
    "dfd = 0\n",
    "if mse > msc:\n",
    "    F = mse / msc\n",
    "    dfn = N - 2\n",
    "    dfd = 1\n",
    "else:\n",
    "    F = msc/msc\n",
    "    dfn = 1\n",
    "    dfd = N - 2\n",
    "\n",
    "F_c = scipy.stats.f.ppf(q=1-.05, dfn=dfn, dfd=dfd)\n",
    "\n",
    "print(\"Value of F calculated :\", F)\n",
    "print(\"Value of F critical at 0.05 signficance level:\", F_c)\n",
    "if F > F_c:\n",
    "    print(\"There is significant difference in mean!!\")\n",
    "else:\n",
    "    print(\"There is no significant difference in mean!!\");"
   ]
  },
  {
   "cell_type": "markdown",
   "id": "bb34d4f1-b0de-496d-badc-4f6f5140c5ab",
   "metadata": {},
   "source": [
    "Question 10. Scenario: A company wants to analyze customer feedback ratings on a scale of 1 to 10. The data collected is\n",
    "\n",
    " as follows:\n",
    "    [8, 9, 7, 6, 8, 10, 9, 8, 7, 8]\n",
    "    Calculate the 75th percentile of the feedback ratings.\n"
   ]
  },
  {
   "cell_type": "code",
   "execution_count": 20,
   "id": "6f8617e9-0a56-4f83-9b40-eeec5119c56e",
   "metadata": {},
   "outputs": [
    {
     "data": {
      "text/plain": [
       "8.75"
      ]
     },
     "execution_count": 20,
     "metadata": {},
     "output_type": "execute_result"
    }
   ],
   "source": [
    "data = [8, 9, 7, 6, 8, 10, 9, 8, 7, 8]\n",
    "ans = np.percentile(data, 75)\n",
    "ans"
   ]
  },
  {
   "cell_type": "markdown",
   "id": "91c87a22-427e-4320-b2aa-588997db43d0",
   "metadata": {},
   "source": [
    "Question 11. Scenario: A quality control department wants to test the weight consistency of a product. The weights of a sample of products are as follows:\n",
    "    [10.2, 9.8, 10.0, 10.5, 10.3, 10.1]\n",
    "    Perform a hypothesis test to determine if the mean weight differs significantly from 10 grams.\n"
   ]
  },
  {
   "cell_type": "code",
   "execution_count": 68,
   "id": "8b993c8d-b50b-4c1f-8c80-dce1a6827e6c",
   "metadata": {},
   "outputs": [
    {
     "name": "stdout",
     "output_type": "stream",
     "text": [
      "T-statistic value:  1.5126584522688367\n",
      "P-Value:  0.19077595151110102\n",
      "Mean weight does not differ significantly!!\n"
     ]
    }
   ],
   "source": [
    "Null_hypothesis = \"Mean weight does not differ significantly!!\"\n",
    "Alternate = \"Mean weight differs signicantly!!\"\n",
    "import numpy as np\n",
    "from scipy import stats \n",
    "from numpy.random import seed\n",
    "from numpy.random import randn\n",
    "from numpy.random import normal\n",
    "from scipy.stats import ttest_1samp\n",
    "data = [10.2, 9.8, 10.0, 10.5, 10.3, 10.1]\n",
    "alpha = 0.05\n",
    "t_stat, p_value = ttest_1samp(data, popmean=10)\n",
    "print(\"T-statistic value: \", t_stat)  \n",
    "print(\"P-Value: \", p_value)\n",
    "if(p_value <= alpha):\n",
    "    print(Alternate);\n",
    "else:\n",
    "    print(Null_hypothesis)"
   ]
  },
  {
   "cell_type": "markdown",
   "id": "adb731e3-82aa-4352-a848-65c39f134003",
   "metadata": {},
   "source": [
    "Question 12. Scenario: A company wants to analyze the click-through rates of two different website designs. The number of clicks for each design is as follows:\n",
    "    Design A: [100, 120, 110, 90, 95]\n",
    "    Design B: [80, 85, 90, 95, 100]\n",
    "    Perform a chi-square test to determine if there is a significant difference in the click-through rates between the two designs.\n"
   ]
  },
  {
   "cell_type": "code",
   "execution_count": 75,
   "id": "3a9cc66c-9ab4-4d51-abbc-a210bb4ee46e",
   "metadata": {},
   "outputs": [
    {
     "name": "stdout",
     "output_type": "stream",
     "text": [
      "T-statistic value:  1.5126584522688367\n",
      "P-Value:  0.19077595151110102\n",
      "There is no significant difference!!\n"
     ]
    }
   ],
   "source": [
    "Null = \"There is no significant difference!!\"\n",
    "Alternate = \"There is significant difference!!\"\n",
    "alpha = 0.05\n",
    "A = [100, 120, 110, 90, 95]\n",
    "B = [80, 85, 90, 95, 100]\n",
    "import numpy as np\n",
    "from scipy import stats \n",
    "from numpy.random import seed\n",
    "from numpy.random import randn\n",
    "from numpy.random import normal\n",
    "from scipy.stats import ttest_1samp\n",
    "data = [10.2, 9.8, 10.0, 10.5, 10.3, 10.1]\n",
    "alpha = 0.05\n",
    "t_stat, p_value = ttest_1samp(data, popmean=10)\n",
    "print(\"T-statistic value: \", t_stat)  \n",
    "print(\"P-Value: \", p_value)\n",
    "if(p_value <= alpha):\n",
    "    print(Alternate);\n",
    "else:\n",
    "    print(Null)"
   ]
  },
  {
   "cell_type": "markdown",
   "id": "a489f03d-d9fd-4e75-86c4-6cfa940f5cee",
   "metadata": {},
   "source": [
    "Question 13. Scenario: A survey is conducted to measure customer satisfaction with a product on a scale of 1 to 10. The data collected is as follows:\n",
    "    [7, 9, 6, 8, 10, 7, 8, 9, 7, 8]\n",
    "    Calculate the 95% confidence interval for the population mean satisfaction score.\n"
   ]
  },
  {
   "cell_type": "code",
   "execution_count": 70,
   "id": "eee0cab2-1a9e-4af9-a503-35bf07a9d119",
   "metadata": {},
   "outputs": [
    {
     "name": "stdout",
     "output_type": "stream",
     "text": [
      "(7.043561120599888, 8.756438879400113)\n"
     ]
    },
    {
     "name": "stderr",
     "output_type": "stream",
     "text": [
      "/tmp/ipykernel_77/1496723857.py:4: DeprecationWarning: Use of keyword argument `alpha` for method `interval` is deprecated. Use first positional argument or keyword argument `confidence` instead.\n",
      "  rnge = st.t.interval(alpha=0.95, df=len(data)-1, loc=x, scale=st.sem(data))\n"
     ]
    }
   ],
   "source": [
    "import scipy.stats as st\n",
    "data =  [7, 9, 6, 8, 10, 7, 8, 9, 7, 8] ;\n",
    "x = np.mean(data)\n",
    "rnge = st.t.interval(alpha=0.95, df=len(data)-1, loc=x, scale=st.sem(data))\n",
    "print(rnge)"
   ]
  },
  {
   "cell_type": "markdown",
   "id": "aa51ddab-8d53-493e-8c5f-62af245f1791",
   "metadata": {},
   "source": [
    "Question 14. Scenario: A company wants to analyze the effect of temperature on product performance. The data collected is as follows:\n",
    "    Temperature (in degrees Celsius): [20, 22, 23, 19, 21]\n",
    "    Performance (on a scale of 1 to 10): [8, 7, 9, 6, 8]\n",
    "    Perform a simple linear regression to predict performance based on temperature.\n"
   ]
  },
  {
   "cell_type": "code",
   "execution_count": 60,
   "id": "e2e258e0-59fc-4131-8109-572255e445c1",
   "metadata": {},
   "outputs": [
    {
     "name": "stdout",
     "output_type": "stream",
     "text": [
      "Predicted Array: \n"
     ]
    },
    {
     "data": {
      "text/plain": [
       "array([[8.]])"
      ]
     },
     "execution_count": 60,
     "metadata": {},
     "output_type": "execute_result"
    }
   ],
   "source": [
    "import numpy as np\n",
    "import pandas as pd\n",
    "from sklearn.model_selection import train_test_split\n",
    "from sklearn.linear_model import LinearRegression\n",
    "from sklearn.metrics import r2_score\n",
    "import matplotlib.pyplot as plt\n",
    "import seaborn as sns\n",
    "x =   [20, 22, 23, 19, 21];\n",
    "y =  [8, 7, 9, 6, 8]\n",
    "x_train, x_test, y_train, y_test = train_test_split(x,y, test_size = 0.2, random_state = 0)\n",
    "# print(x_train)\n",
    "# print(x_test)\n",
    "# print(y_train)\n",
    "# print(y_test)\n",
    "\n",
    "linreg = LinearRegression()\n",
    "x_train = np.array(x_train).reshape(-1,1)\n",
    "y_train = np.array(y_train).reshape(-1,1)\n",
    "linreg.fit(x_train, y_train)\n",
    "\n",
    "y_pred = linreg.predict(np.array(x_test).reshape(-1,1))\n",
    "print(\"Predicted Array: \")\n",
    "y_pred"
   ]
  },
  {
   "cell_type": "markdown",
   "id": "94c4ef7b-6141-4d06-b1f7-02701fcfec4f",
   "metadata": {},
   "source": [
    "Question 15. Scenario: A study is conducted to compare the preferences of two groups of participants. The preferences are measured on a Likert scale from 1 to 5. The data collected is as follows:\n",
    "    Group A: [4, 3, 5, 2, 4]\n",
    "  Group B: [3, 2, 4, 3, 3]\n",
    "    Perform a Mann-Whitney U test to determine if there is a significant difference in the median preferences between the two groups.\n"
   ]
  },
  {
   "cell_type": "code",
   "execution_count": 76,
   "id": "d9852409-afc1-4b9c-82a8-7af1e2714f07",
   "metadata": {},
   "outputs": [
    {
     "name": "stdout",
     "output_type": "stream",
     "text": [
      "There is significant difference!!\n"
     ]
    }
   ],
   "source": [
    "x_1 = [4, 3, 5, 2, 4]\n",
    "x_2 =  [3, 2, 4, 3, 3]\n",
    "statistic , p_value = stats.mannwhitneyu(x_1, x_2, alternative='two-sided')\n",
    "Null = \"There is no difference!!\"\n",
    "Alternate =\"There is significant difference!!\"\n",
    "alpha = 0.05\n",
    "if(p_value < 0.05):\n",
    "    print(Null)\n",
    "else:\n",
    "    print(Alternate)"
   ]
  },
  {
   "cell_type": "markdown",
   "id": "ae37f220-0454-48ca-baa7-4f1d76f1d1ef",
   "metadata": {},
   "source": [
    "Question 16. Scenario: A company wants to analyze the distribution of customer ages. The data collected is as follows:\n",
    "    [25, 30, 35, 40, 45, 50, 55, 60, 65, 70]\n",
    "    Calculate the interquartile range (IQR) of the ages.\n"
   ]
  },
  {
   "cell_type": "code",
   "execution_count": 59,
   "id": "3d6207a5-6fe6-4dff-a07e-be7d8d218529",
   "metadata": {},
   "outputs": [
    {
     "data": {
      "text/plain": [
       "22.5"
      ]
     },
     "execution_count": 59,
     "metadata": {},
     "output_type": "execute_result"
    }
   ],
   "source": [
    "import numpy as np\n",
    "\n",
    "#define array of data\n",
    "data = np.array([25, 30, 35, 40, 45, 50, 55, 60, 65, 70])\n",
    "\n",
    "#calculate interquartile range \n",
    "q3, q1 = np.percentile(data, [75 ,25])\n",
    "iqr = q3 - q1\n",
    "\n",
    "#display interquartile range \n",
    "iqr"
   ]
  },
  {
   "cell_type": "markdown",
   "id": "997e4dcd-c3ea-4649-b93c-00292b9b263e",
   "metadata": {},
   "source": [
    "Question 17. Scenario: A study is conducted to compare the performance of three different machine learning algorithms. The accuracy scores for each algorithm are as follows:\n",
    "    Algorithm A: [0.85, 0.80, 0.82, 0.87, 0.83]\n",
    "    Algorithm B: [0.78, 0.82, 0.84, 0.80, 0.79]\n",
    "    Algorithm C: [0.90, 0.88, 0.89, 0.86, 0.87]\n",
    "    Perform a Kruskal-Wallis test to determine if there is a significant difference in the median accuracy scores between the algorithms.\n"
   ]
  },
  {
   "cell_type": "code",
   "execution_count": 77,
   "id": "c8fa0699-4e67-48fe-822a-670f05d898b2",
   "metadata": {},
   "outputs": [
    {
     "name": "stdout",
     "output_type": "stream",
     "text": [
      "The median is equal across all groups\n"
     ]
    }
   ],
   "source": [
    "group1 =  [0.85, 0.80, 0.82, 0.87, 0.83] \n",
    "group2 = [0.78, 0.82, 0.84, 0.80, 0.79]\n",
    "group3 = [0.90, 0.88, 0.89, 0.86, 0.87]\n",
    "statistic , p_value = stats.kruskal(group1, group2, group3)\n",
    "Null = \"The median is equal across all groups\"\n",
    "Alternate =\"The medina is not equal across all groups\"\n",
    "alpha = 0.05\n",
    "if(p_value < alpha):\n",
    "    print(Null)\n",
    "else:\n",
    "    print(Alternate)"
   ]
  },
  {
   "cell_type": "markdown",
   "id": "546dbd24-5bee-4a02-8072-7a7308844799",
   "metadata": {},
   "source": [
    "Question 18. Scenario: A company wants to analyze the effect of price on sales. The data collected is as follows:\n",
    "    Price (in dollars): [10, 15, 12, 8, 14]\n",
    "    Sales: [100, 80, 90, 110, 95]\n",
    "    Perform a simple linear regression to predict\n",
    "\n",
    " sales based on price.\n"
   ]
  },
  {
   "cell_type": "code",
   "execution_count": 58,
   "id": "812851b6-71fd-4207-9d3b-edf590fbb08d",
   "metadata": {},
   "outputs": [
    {
     "name": "stdout",
     "output_type": "stream",
     "text": [
      "Predicted Array: \n"
     ]
    },
    {
     "data": {
      "text/plain": [
       "array([[95.38167939]])"
      ]
     },
     "execution_count": 58,
     "metadata": {},
     "output_type": "execute_result"
    }
   ],
   "source": [
    "import numpy as np\n",
    "import pandas as pd\n",
    "from sklearn.model_selection import train_test_split\n",
    "from sklearn.linear_model import LinearRegression\n",
    "from sklearn.metrics import r2_score\n",
    "import matplotlib.pyplot as plt\n",
    "import seaborn as sns\n",
    "x =  [10, 15, 12, 8, 14];\n",
    "y =  [100, 80, 90, 110, 95] \n",
    "x_train, x_test, y_train, y_test = train_test_split(x,y, test_size = 0.2, random_state = 0)\n",
    "# print(x_train)\n",
    "# print(x_test)\n",
    "# print(y_train)\n",
    "# print(y_test)\n",
    "\n",
    "linreg = LinearRegression()\n",
    "x_train = np.array(x_train).reshape(-1,1)\n",
    "y_train = np.array(y_train).reshape(-1,1)\n",
    "linreg.fit(x_train, y_train)\n",
    "\n",
    "y_pred = linreg.predict(np.array(x_test).reshape(-1,1))\n",
    "print(\"Predicted Array: \")\n",
    "y_pred"
   ]
  },
  {
   "cell_type": "markdown",
   "id": "66794cec-9fd1-4bde-8773-7e5fd4dc910c",
   "metadata": {},
   "source": [
    "Question 19. Scenario: A survey is conducted to measure the satisfaction levels of customers with a new product. The data collected is as follows:\n",
    "    [7, 8, 9, 6, 8, 7, 9, 7, 8, 7]\n",
    "    Calculate the standard error of the mean satisfaction score.\n"
   ]
  },
  {
   "cell_type": "code",
   "execution_count": 21,
   "id": "55c369e3-3ee2-43cc-b49d-0175fab0cc9d",
   "metadata": {},
   "outputs": [
    {
     "name": "stdout",
     "output_type": "stream",
     "text": [
      "standard_error:  0.2898275349237887\n"
     ]
    }
   ],
   "source": [
    "import math\n",
    "data = [7, 8, 9, 6, 8, 7, 9, 7, 8, 7]\n",
    "x = np.mean(data)\n",
    "sum = 0;\n",
    "for i in data:\n",
    "    sum = sum + (i - x)*(i - x)\n",
    "n = len(data)\n",
    "s = math.sqrt(sum / n)\n",
    "standard_error = s/(math.sqrt(n))\n",
    "print(\"standard_error: \" , standard_error)"
   ]
  },
  {
   "cell_type": "markdown",
   "id": "ffaf2916-6485-484a-9017-cbe348c14ea6",
   "metadata": {},
   "source": [
    "Question 20. Scenario: A company wants to analyze the relationship between advertising expenditure and sales. The data collected is as follows:\n",
    "    Advertising Expenditure (in thousands): [10, 15, 12, 8, 14]\n",
    "    Sales (in thousands): [25, 30, 28, 20, 26]\n",
    "    Perform a multiple regression analysis to predict sales based on advertising expenditure.\n"
   ]
  },
  {
   "cell_type": "code",
   "execution_count": 28,
   "id": "a56bdd15-b3e6-4e6f-af1f-75c80fa458dd",
   "metadata": {},
   "outputs": [
    {
     "name": "stdout",
     "output_type": "stream",
     "text": [
      "[10, 15, 8, 14]\n",
      "[12]\n",
      "[25, 30, 20, 26]\n",
      "[28]\n"
     ]
    }
   ],
   "source": [
    "import numpy as np\n",
    "import pandas as pd\n",
    "from sklearn.model_selection import train_test_split\n",
    "from sklearn.linear_model import LinearRegression\n",
    "from sklearn.metrics import r2_score\n",
    "import matplotlib.pyplot as plt\n",
    "import seaborn as sns\n",
    "x =  [10, 15, 12, 8, 14];\n",
    "y =  [25, 30, 28, 20, 26];\n",
    "x_train, x_test, y_train, y_test = train_test_split(x,y, test_size = 0.2, random_state = 0)\n",
    "print(x_train)\n",
    "print(x_test)\n",
    "print(y_train)\n",
    "print(y_test)"
   ]
  },
  {
   "cell_type": "code",
   "execution_count": 32,
   "id": "73d83875-2411-499d-9347-5df43da028d2",
   "metadata": {},
   "outputs": [
    {
     "data": {
      "text/html": [
       "<style>#sk-container-id-1 {color: black;background-color: white;}#sk-container-id-1 pre{padding: 0;}#sk-container-id-1 div.sk-toggleable {background-color: white;}#sk-container-id-1 label.sk-toggleable__label {cursor: pointer;display: block;width: 100%;margin-bottom: 0;padding: 0.3em;box-sizing: border-box;text-align: center;}#sk-container-id-1 label.sk-toggleable__label-arrow:before {content: \"▸\";float: left;margin-right: 0.25em;color: #696969;}#sk-container-id-1 label.sk-toggleable__label-arrow:hover:before {color: black;}#sk-container-id-1 div.sk-estimator:hover label.sk-toggleable__label-arrow:before {color: black;}#sk-container-id-1 div.sk-toggleable__content {max-height: 0;max-width: 0;overflow: hidden;text-align: left;background-color: #f0f8ff;}#sk-container-id-1 div.sk-toggleable__content pre {margin: 0.2em;color: black;border-radius: 0.25em;background-color: #f0f8ff;}#sk-container-id-1 input.sk-toggleable__control:checked~div.sk-toggleable__content {max-height: 200px;max-width: 100%;overflow: auto;}#sk-container-id-1 input.sk-toggleable__control:checked~label.sk-toggleable__label-arrow:before {content: \"▾\";}#sk-container-id-1 div.sk-estimator input.sk-toggleable__control:checked~label.sk-toggleable__label {background-color: #d4ebff;}#sk-container-id-1 div.sk-label input.sk-toggleable__control:checked~label.sk-toggleable__label {background-color: #d4ebff;}#sk-container-id-1 input.sk-hidden--visually {border: 0;clip: rect(1px 1px 1px 1px);clip: rect(1px, 1px, 1px, 1px);height: 1px;margin: -1px;overflow: hidden;padding: 0;position: absolute;width: 1px;}#sk-container-id-1 div.sk-estimator {font-family: monospace;background-color: #f0f8ff;border: 1px dotted black;border-radius: 0.25em;box-sizing: border-box;margin-bottom: 0.5em;}#sk-container-id-1 div.sk-estimator:hover {background-color: #d4ebff;}#sk-container-id-1 div.sk-parallel-item::after {content: \"\";width: 100%;border-bottom: 1px solid gray;flex-grow: 1;}#sk-container-id-1 div.sk-label:hover label.sk-toggleable__label {background-color: #d4ebff;}#sk-container-id-1 div.sk-serial::before {content: \"\";position: absolute;border-left: 1px solid gray;box-sizing: border-box;top: 0;bottom: 0;left: 50%;z-index: 0;}#sk-container-id-1 div.sk-serial {display: flex;flex-direction: column;align-items: center;background-color: white;padding-right: 0.2em;padding-left: 0.2em;position: relative;}#sk-container-id-1 div.sk-item {position: relative;z-index: 1;}#sk-container-id-1 div.sk-parallel {display: flex;align-items: stretch;justify-content: center;background-color: white;position: relative;}#sk-container-id-1 div.sk-item::before, #sk-container-id-1 div.sk-parallel-item::before {content: \"\";position: absolute;border-left: 1px solid gray;box-sizing: border-box;top: 0;bottom: 0;left: 50%;z-index: -1;}#sk-container-id-1 div.sk-parallel-item {display: flex;flex-direction: column;z-index: 1;position: relative;background-color: white;}#sk-container-id-1 div.sk-parallel-item:first-child::after {align-self: flex-end;width: 50%;}#sk-container-id-1 div.sk-parallel-item:last-child::after {align-self: flex-start;width: 50%;}#sk-container-id-1 div.sk-parallel-item:only-child::after {width: 0;}#sk-container-id-1 div.sk-dashed-wrapped {border: 1px dashed gray;margin: 0 0.4em 0.5em 0.4em;box-sizing: border-box;padding-bottom: 0.4em;background-color: white;}#sk-container-id-1 div.sk-label label {font-family: monospace;font-weight: bold;display: inline-block;line-height: 1.2em;}#sk-container-id-1 div.sk-label-container {text-align: center;}#sk-container-id-1 div.sk-container {/* jupyter's `normalize.less` sets `[hidden] { display: none; }` but bootstrap.min.css set `[hidden] { display: none !important; }` so we also need the `!important` here to be able to override the default hidden behavior on the sphinx rendered scikit-learn.org. See: https://github.com/scikit-learn/scikit-learn/issues/21755 */display: inline-block !important;position: relative;}#sk-container-id-1 div.sk-text-repr-fallback {display: none;}</style><div id=\"sk-container-id-1\" class=\"sk-top-container\"><div class=\"sk-text-repr-fallback\"><pre>LinearRegression()</pre><b>In a Jupyter environment, please rerun this cell to show the HTML representation or trust the notebook. <br />On GitHub, the HTML representation is unable to render, please try loading this page with nbviewer.org.</b></div><div class=\"sk-container\" hidden><div class=\"sk-item\"><div class=\"sk-estimator sk-toggleable\"><input class=\"sk-toggleable__control sk-hidden--visually\" id=\"sk-estimator-id-1\" type=\"checkbox\" checked><label for=\"sk-estimator-id-1\" class=\"sk-toggleable__label sk-toggleable__label-arrow\">LinearRegression</label><div class=\"sk-toggleable__content\"><pre>LinearRegression()</pre></div></div></div></div></div>"
      ],
      "text/plain": [
       "LinearRegression()"
      ]
     },
     "execution_count": 32,
     "metadata": {},
     "output_type": "execute_result"
    }
   ],
   "source": [
    "linreg = LinearRegression()\n",
    "x_train = np.array(x_train).reshape(-1,1)\n",
    "y_train = np.array(y_train).reshape(-1,1)\n",
    "linreg.fit(x_train, y_train)"
   ]
  },
  {
   "cell_type": "code",
   "execution_count": 55,
   "id": "e06e46c8-a6f3-45c2-a6f7-5099caddd219",
   "metadata": {},
   "outputs": [
    {
     "name": "stdout",
     "output_type": "stream",
     "text": [
      "Predicted Array: \n"
     ]
    },
    {
     "data": {
      "text/plain": [
       "array([[25.53435115]])"
      ]
     },
     "execution_count": 55,
     "metadata": {},
     "output_type": "execute_result"
    }
   ],
   "source": [
    "y_pred = linreg.predict(np.array(x_test).reshape(-1,1))\n",
    "print(\"Predicted Array: \")\n",
    "y_pred"
   ]
  },
  {
   "cell_type": "code",
   "execution_count": null,
   "id": "11d73b25-14d5-4f69-b86f-e0820e50d5e6",
   "metadata": {},
   "outputs": [],
   "source": []
  }
 ],
 "metadata": {
  "kernelspec": {
   "display_name": "Python 3 (ipykernel)",
   "language": "python",
   "name": "python3"
  },
  "language_info": {
   "codemirror_mode": {
    "name": "ipython",
    "version": 3
   },
   "file_extension": ".py",
   "mimetype": "text/x-python",
   "name": "python",
   "nbconvert_exporter": "python",
   "pygments_lexer": "ipython3",
   "version": "3.10.8"
  }
 },
 "nbformat": 4,
 "nbformat_minor": 5
}
