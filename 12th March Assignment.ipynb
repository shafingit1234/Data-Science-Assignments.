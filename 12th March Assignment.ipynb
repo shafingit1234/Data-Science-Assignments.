{
 "cells": [
  {
   "cell_type": "markdown",
   "id": "c60c7713-b0ae-4c5c-8e12-66cc12cf8684",
   "metadata": {},
   "source": [
    "Q1. Calculate the 95% confidence interval for a sample of data with a mean of 50 and a standard deviation\n",
    "of 5 using Python. Interpret the results."
   ]
  },
  {
   "cell_type": "code",
   "execution_count": null,
   "id": "66141169-d614-4a84-a92a-42a560983764",
   "metadata": {},
   "outputs": [],
   "source": [
    "Answer = \"\"\" \n",
    "To calculate the 95% confidence interval for a sample of data with a mean of 50 and a standard deviation of 5 using Python, we can use the scipy.stats module. Specifically, we can use the t.interval() function from this module, which calculates the confidence interval for a given sample mean, sample size, and confidence level, assuming that the underlying population follows a normal distribution.\n",
    "\n",
    "Here's the Python code to calculate the 95% confidence interval for the given sample data:\n",
    "\"\"\"\n",
    "import scipy.stats as stats\n",
    "import numpy as np\n",
    "sample_mean = 50\n",
    "sample_std = 5\n",
    "sample_size = 100 # assuming a sample size of 100 for illustration purposes\n",
    "\n",
    "# Calculate the 95% confidence interval using the t-distribution\n",
    "ci = stats.t.interval(0.95, df=sample_size-1, loc=sample_mean, scale=sample_std/np.sqrt(sample_size))\n",
    "\n",
    "# Print the results\n",
    "print(f\"The 95% confidence interval is {ci}\")"
   ]
  },
  {
   "cell_type": "markdown",
   "id": "1cf43e42-78a5-4ea0-95fd-573b13848de2",
   "metadata": {},
   "source": [
    "Q2. Conduct a chi-square goodness of fit test to determine if the distribution of colors of M&Ms in a bag\n",
    "matches the expected distribution of 20% blue, 20% orange, 20% green, 10% yellow, 10% red, and 20%\n",
    "brown. Use Python to perform the test with a significance level of 0.05."
   ]
  },
  {
   "cell_type": "code",
   "execution_count": null,
   "id": "971fa5e1-916b-44e6-b390-2f6ba5f77530",
   "metadata": {},
   "outputs": [],
   "source": [
    "Answer = \"\"\"  \n",
    "To conduct a chi-square goodness of fit test in Python, we can use the scipy.stats module.\n",
    "Specifically, we can use the chisquare() function from this module,\n",
    "which calculates the chi-square test statistic and p-value for a given set of observed and expected frequencies.\n",
    "\n",
    "Here's the Python code to conduct a chi-square goodness of fit test for the distribution of colors of M&Ms in a bag:\n",
    "\"\"\"\n",
    "import numpy as np\n",
    "import scipy.stats as stats\n",
    "\n",
    "# Observed frequencies\n",
    "obs = np.array([48, 27, 24, 15, 10, 16])\n",
    "\n",
    "# Expected frequencies (assuming equal distribution of colors)\n",
    "exp = np.array([0.2, 0.2, 0.2, 0.1, 0.1, 0.2]) * np.sum(obs)\n",
    "\n",
    "# Calculate the chi-square test statistic and p-value\n",
    "stat, pval = stats.chisquare(obs, f_exp=exp)\n",
    "\n",
    "# Print the results\n",
    "print(f\"The chi-square test statistic is {stat:.3f}\")\n",
    "print(f\"The p-value is {pval:.3f}\")\n",
    "\n",
    "if pval < 0.05:\n",
    "    print(\"We reject the null hypothesis that the observed distribution of colors matches the expected distribution.\")\n",
    "else:\n",
    "    print(\"We fail to reject the null hypothesis that the observed distribution of colors matches the expected distribution.\")"
   ]
  },
  {
   "cell_type": "markdown",
   "id": "20ec1113-f1ec-4419-87e6-2ba8dbf284da",
   "metadata": {},
   "source": [
    "Q3. Use Python to calculate the chi-square statistic and p-value for a contingency table with the following\n",
    "data, Interpret the results of the test"
   ]
  },
  {
   "cell_type": "code",
   "execution_count": null,
   "id": "3b35f343-5b71-441a-9f39-4f55346a0970",
   "metadata": {},
   "outputs": [],
   "source": [
    "Answer = \"\"\" \n",
    "\n",
    "\"\"\"\n",
    "import numpy as np\n",
    "from scipy.stats import chi2_contingency\n",
    "\n",
    "# Define the contingency table\n",
    "observed = np.array([[20, 15], [10, 25], [15, 20]])\n",
    "\n",
    "# Calculate the chi-square statistic, p-value, degrees of freedom, and expected frequencies\n",
    "chi2, p, dof, expected = chi2_contingency(observed)\n",
    "\n",
    "# Print the results\n",
    "print(f\"Chi-square statistic: {chi2}\")\n",
    "print(f\"P-value: {p}\")\n",
    "print(f\"Degrees of freedom: {dof}\")\n",
    "print(\"Expected frequencies:\\n\", expected)"
   ]
  },
  {
   "cell_type": "markdown",
   "id": "30149039-6825-4bfa-968f-b6e7829d258e",
   "metadata": {},
   "source": [
    "Q4. A study of the prevalence of smoking in a population of 500 individuals found that 60 individuals\n",
    "smoked. Use Python to calculate the 95% confidence interval for the true proportion of individuals in the\n",
    "population who smoke."
   ]
  },
  {
   "cell_type": "code",
   "execution_count": null,
   "id": "c48ecba0-0b4d-4256-b058-16cadb4311bb",
   "metadata": {},
   "outputs": [],
   "source": [
    "Answer = \"\"\"\n",
    "To calculate the 95% confidence interval for the true proportion of individuals in the population who smoke, we can use the formula:\n",
    "\n",
    "CI = p ± z(sqrt(p(1-p)/n))\n",
    "\n",
    "Where:\n",
    "\n",
    "p is the sample proportion (number of individuals who smoke divided by the total sample size)\n",
    "z is the critical value from the standard normal distribution for the desired confidence level\n",
    "(95% confidence level corresponds to z=1.96) n is the sample size Using Python, we can calculate this as follows:\n",
    "\"\"\"\n",
    "import math\n",
    "\n",
    "# sample size\n",
    "n = 500\n",
    "\n",
    "# number of individuals who smoke\n",
    "x = 60\n",
    "\n",
    "# sample proportion\n",
    "p = x/n\n",
    "\n",
    "# critical value for 95% confidence level\n",
    "z = 1.96\n",
    "\n",
    "# calculate standard error\n",
    "se = math.sqrt(p*(1-p)/n)\n",
    "\n",
    "# calculate confidence interval\n",
    "lower = p - z*se\n",
    "upper = p + z*se\n",
    "\n",
    "print(\"95% Confidence Interval: ({:.4f}, {:.4f})\".format(lower, upper))"
   ]
  },
  {
   "cell_type": "markdown",
   "id": "4384c1ac-3798-453c-ad0f-8ea412eca504",
   "metadata": {},
   "source": [
    "Q5. Calculate the 90% confidence interval for a sample of data with a mean of 75 and a standard deviation\n",
    "of 12 using Python. Interpret the results."
   ]
  },
  {
   "cell_type": "code",
   "execution_count": null,
   "id": "a8dc9be5-8e4d-4aef-ae03-afd1cf8b10bd",
   "metadata": {},
   "outputs": [],
   "source": [
    "Answer = \"\"\" \n",
    "To calculate the 90% confidence interval for a sample of data with a mean of 75 and a standard deviation of 12, we can use the formula:\n",
    "\n",
    "CI = x̄ ± z*(s/√n)\n",
    "\n",
    "Where:\n",
    "\n",
    "x̄ is the sample mean s is the sample standard deviation\n",
    "n is the sample size\n",
    "z is the critical value from the standard normal distribution for the desired confidence level (90% confidence level corresponds to z=1.645)\n",
    "Using Python, we can calculate this as follows:\n",
    "\"\"\"\n",
    "import math\n",
    "\n",
    "# sample mean\n",
    "x_bar = 75\n",
    "\n",
    "# sample standard deviation\n",
    "s = 12\n",
    "\n",
    "# sample size\n",
    "n = 100\n",
    "\n",
    "# critical value for 90% confidence level\n",
    "z = 1.645\n",
    "\n",
    "# calculate standard error\n",
    "se = s/math.sqrt(n)\n",
    "\n",
    "# calculate confidence interval\n",
    "lower = x_bar - z*se\n",
    "upper = x_bar + z*se\n",
    "\n",
    "print(\"90% Confidence Interval: ({:.4f}, {:.4f})\".format(lower, upper))"
   ]
  },
  {
   "cell_type": "markdown",
   "id": "67bd0755-5cbd-4277-8350-8bb8f841e2d5",
   "metadata": {},
   "source": [
    "Q6. Use Python to plot the chi-square distribution with 10 degrees of freedom. Label the axes and shade the\n",
    "area corresponding to a chi-square statistic of 15."
   ]
  },
  {
   "cell_type": "code",
   "execution_count": null,
   "id": "fb789653-a0ff-4e86-95ca-e19e3d4d0471",
   "metadata": {},
   "outputs": [],
   "source": [
    "Answer = \"\"\"\n",
    "\n",
    "\"\"\"\n",
    "import numpy as np\n",
    "import matplotlib.pyplot as plt\n",
    "from scipy.stats import chi2\n",
    "\n",
    "# degrees of freedom\n",
    "df = 10\n",
    "\n",
    "# x-values for the plot\n",
    "x = np.linspace(0, 30, 500)\n",
    "\n",
    "# probability density function values\n",
    "pdf = chi2.pdf(x, df)\n",
    "\n",
    "# create the plot\n",
    "fig, ax = plt.subplots(figsize=(8, 4))\n",
    "ax.plot(x, pdf, color='black', linewidth=2)\n",
    "\n",
    "# shade the area corresponding to a chi-square statistic of 15\n",
    "x_shade = np.linspace(15, 30, 500)\n",
    "ax.fill_between(x_shade, chi2.pdf(x_shade, df), color='blue', alpha=0.3)\n",
    "\n",
    "# add labels and a title\n",
    "ax.set_xlabel('Chi-Square Statistic')\n",
    "ax.set_ylabel('Probability Density')\n",
    "ax.set_title('Chi-Square Distribution with 10 Degrees of Freedom')\n",
    "\n",
    "# show the plot\n",
    "plt.show()"
   ]
  },
  {
   "cell_type": "markdown",
   "id": "9386743d-575e-4c34-80b4-151237cd7cd2",
   "metadata": {},
   "source": [
    "Q7. A random sample of 1000 people was asked if they preferred Coke or Pepsi. Of the sample, 520\n",
    "preferred Coke. Calculate a 99% confidence interval for the true proportion of people in the population who\n",
    "prefer Coke."
   ]
  },
  {
   "cell_type": "code",
   "execution_count": null,
   "id": "2c4fe17e-e9d9-4cbc-9ff6-5f2fe39e1c7b",
   "metadata": {},
   "outputs": [],
   "source": [
    "Answer = \"\"\"\n",
    "\"\"\"\n",
    "import math\n",
    "\n",
    "# sample size\n",
    "n = 1000\n",
    "\n",
    "# number of individuals who prefer Coke\n",
    "x = 520\n",
    "\n",
    "# sample proportion\n",
    "p = x/n\n",
    "\n",
    "# critical value for 99% confidence level\n",
    "z = 2.576\n",
    "\n",
    "# calculate standard error\n",
    "se = math.sqrt(p*(1-p)/n)\n",
    "\n",
    "# calculate confidence interval\n",
    "lower = p - z*se\n",
    "upper = p + z*se\n",
    "\n",
    "print(\"99% Confidence Interval: ({:.4f}, {:.4f})\".format(lower, upper))"
   ]
  },
  {
   "cell_type": "markdown",
   "id": "37dbba95-a604-41d0-96ec-88343b23a297",
   "metadata": {},
   "source": [
    "Q8. A researcher hypothesizes that a coin is biased towards tails. They flip the coin 100 times and observe\n",
    "45 tails. Conduct a chi-square goodness of fit test to determine if the observed frequencies match the\n",
    "expected frequencies of a fair coin. Use a significance level of 0.05."
   ]
  },
  {
   "cell_type": "code",
   "execution_count": null,
   "id": "a3b5b206-dd2f-47f3-80ed-0bcaa0e919b4",
   "metadata": {},
   "outputs": [],
   "source": [
    "Answer = \"\"\" \"\"\"\n",
    "import scipy.stats as stats\n",
    "\n",
    "# Define null hypothesis, alternative hypothesis, and significance level\n",
    "null_hypothesis = \"The coin is fair.\"\n",
    "alternative_hypothesis = \"The coin is biased towards tails.\"\n",
    "significance_level = 0.05\n",
    "\n",
    "# Define observed values and expected values\n",
    "observed_values = [45, 55]  # 45 tails, 55 heads\n",
    "expected_values = [50, 50]  # assuming a fair coin\n",
    "\n",
    "# Calculate the chi-square statistic and p-value\n",
    "chi_square_statistic, p_value = stats.chisquare(observed_values, expected_values)\n",
    "\n",
    "# Compare p-value to significance level to determine whether to reject null hypothesis\n",
    "if p_value < significance_level:\n",
    "    print(f\"Reject the null hypothesis. {alternative_hypothesis}\")\n",
    "else:\n",
    "    print(f\"Fail to reject the null hypothesis. {null_hypothesis}\")"
   ]
  },
  {
   "cell_type": "markdown",
   "id": "50a3e2c6-09ff-4e59-9047-27412e8ca5d2",
   "metadata": {},
   "source": [
    "Q9. A study was conducted to determine if there is an association between smoking status (smoker or\n",
    "non-smoker) and lung cancer diagnosis (yes or no). The results are shown in the contingency table below.\n",
    "Conduct a chi-square test for independence to determine if there is a significant association between\n",
    "smoking status and lung cancer diagnosis."
   ]
  },
  {
   "cell_type": "code",
   "execution_count": null,
   "id": "51b69357-8eac-48b5-8f53-869a01a30be1",
   "metadata": {},
   "outputs": [],
   "source": [
    "import scipy.stats as stats\n",
    "import numpy as np\n",
    "\n",
    "# Create the contingency table\n",
    "obs = np.array([[60, 140], [30, 170]])\n",
    "\n",
    "# Calculate the chi-square test statistic, p-value, degrees of freedom and expected frequencies\n",
    "chi2_stat, p_val, dof, expected_freq = stats.chi2_contingency(obs)\n",
    "\n",
    "# Print the results\n",
    "print(\"Chi-square test statistic: \", chi2_stat)\n",
    "print(\"Degrees of freedom: \", dof)\n",
    "print(\"P-value: \", p_val)\n",
    "print(\"Expected frequencies: \\n\", expected_freq)"
   ]
  },
  {
   "cell_type": "markdown",
   "id": "a0823163-605d-4ed3-b08b-45a1bd5905e5",
   "metadata": {},
   "source": [
    "Q10. A study was conducted to determine if the proportion of people who prefer milk chocolate, dark\n",
    "chocolate, or white chocolate is different in the U.S. versus the U.K. A random sample of 500 people from\n",
    "the U.S. and a random sample of 500 people from the U.K. were surveyed. The results are shown in the\n",
    "contingency table below. Conduct a chi-square test for independence to determine if there is a significant\n",
    "association between chocolate preference and country of origin."
   ]
  },
  {
   "cell_type": "code",
   "execution_count": null,
   "id": "81a72859-2421-4447-98f1-137a59c42364",
   "metadata": {},
   "outputs": [],
   "source": [
    "import numpy as np\n",
    "import scipy.stats as stats\n",
    "\n",
    "# Define null hypothesis, alternative hypothesis, and significance level\n",
    "null_hypothesis = \"There is no association between chocolate preference and country of origin.\"\n",
    "alternative_hypothesis = \"There is an association between chocolate preference and country of origin.\"\n",
    "significance_level = 0.01\n",
    "\n",
    "# Define observed values\n",
    "observed_values = np.array([[200, 150, 150], [225, 175, 100]])\n",
    "\n",
    "# Calculate expected values\n",
    "row_totals = observed_values.sum(axis=1)\n",
    "column_totals = observed_values.sum(axis=0)\n",
    "sample_size = observed_values.sum()\n",
    "expected_values = np.outer(row_totals, column_totals) / sample_size\n",
    "\n",
    "# Calculate the chi-square statistic and p-value\n",
    "chi_square_statistic, p_value, _, _ = stats.chi2_contingency(observed_values)\n",
    "\n",
    "# Compare p-value to significance level to determine whether to reject null hypothesis\n",
    "if p_value < significance_level:\n",
    "    print(f\"Reject the null hypothesis. {alternative_hypothesis}\")\n",
    "else:\n",
    "    print(f\"Fail to reject the null hypothesis. {null_hypothesis}\")\n",
    "\n",
    "# Print the observed and expected values, and the chi-square statistic and p-value\n",
    "print(\"Observed values:\")\n",
    "print(observed_values)\n",
    "print(\"Expected values:\")\n",
    "print(expected_values)\n",
    "print(f\"Chi-square statistic: {chi_square_statistic}\")\n",
    "print(f\"P-value: {p_value}\")"
   ]
  },
  {
   "cell_type": "markdown",
   "id": "75fa5033-73cb-4cdf-b72b-b63f994ed7b0",
   "metadata": {},
   "source": [
    "Q11. A random sample of 30 people was selected from a population with an unknown mean and standard\n",
    "deviation. The sample mean was found to be 72 and the sample standard deviation was found to be 10.\n",
    "Conduct a hypothesis test to determine if the population mean is significantly different from 70. Use a\n",
    "significance level of 0.05."
   ]
  },
  {
   "cell_type": "code",
   "execution_count": null,
   "id": "b64ebc7f-d8e8-4d7b-b9a0-bf59d300ee90",
   "metadata": {},
   "outputs": [],
   "source": [
    "import scipy.stats as stats\n",
    "\n",
    "# Define null hypothesis, alternative hypothesis, and significance level\n",
    "null_hypothesis = \"The population mean is equal to 70.\"\n",
    "alternative_hypothesis = \"The population mean is not equal to 70.\"\n",
    "significance_level = 0.05\n",
    "\n",
    "# Define sample mean, sample standard deviation, sample size, and hypothesized population mean\n",
    "sample_mean = 72\n",
    "sample_std_dev = 10\n",
    "sample_size = 30\n",
    "hypothesized_mean = 70\n",
    "\n",
    "# Calculate the t-statistic and p-value\n",
    "t_statistic, p_value = stats.ttest_1samp([sample_mean], hypothesized_mean)\n",
    "\n",
    "# Compare p-value to significance level to determine whether to reject null hypothesis\n",
    "if p_value < significance_level:\n",
    "    print(f\"Reject the null hypothesis. {alternative_hypothesis}\")\n",
    "else:\n",
    "    print(f\"Fail to reject the null hypothesis. {null_hypothesis}\")\n",
    "\n",
    "# Print the t-statistic, p-value, and 95% confidence interval for the population mean\n",
    "print(f\"t-statistic: {t_statistic}\")\n",
    "print(f\"p-value: {p_value}\")\n",
    "print(f\"95% confidence interval for population mean: {stats.t.interval(0.95, sample_size-1, loc=sample_mean, scale=sample_std_dev/np.sqrt(sample_size))"
   ]
  },
  {
   "cell_type": "code",
   "execution_count": null,
   "id": "f105cc9f-73de-41de-8443-31e25140b91e",
   "metadata": {},
   "outputs": [],
   "source": []
  }
 ],
 "metadata": {
  "kernelspec": {
   "display_name": "Python 3 (ipykernel)",
   "language": "python",
   "name": "python3"
  },
  "language_info": {
   "codemirror_mode": {
    "name": "ipython",
    "version": 3
   },
   "file_extension": ".py",
   "mimetype": "text/x-python",
   "name": "python",
   "nbconvert_exporter": "python",
   "pygments_lexer": "ipython3",
   "version": "3.10.8"
  }
 },
 "nbformat": 4,
 "nbformat_minor": 5
}
