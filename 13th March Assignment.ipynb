{
 "cells": [
  {
   "cell_type": "markdown",
   "id": "69ba9e2b-5573-4280-928c-a00ab9204fd0",
   "metadata": {},
   "source": [
    "Q1. Explain the assumptions required to use ANOVA and provide examples of violations that could impact the validity of the results."
   ]
  },
  {
   "cell_type": "code",
   "execution_count": null,
   "id": "ec4c2138-dd36-4949-9732-23678554924b",
   "metadata": {},
   "outputs": [],
   "source": [
    "Answer = \"\"\" \n",
    "ANOVA (Analysis of Variance) is a statistical test used to determine whether there are any significant differences between means \n",
    "of two or more groups. \n",
    "\n",
    "The basic assumptions of ANOVA are as follows:\n",
    "\n",
    "1. Normality: The data should be normally distributed within each group.\n",
    "\n",
    "2. Homogeneity of variance: The variance of the data in each group should be approximately equal.\n",
    "\n",
    "3. Independence: The observations in each group should be independent of each other.\n",
    "\n",
    "If any of these assumptions are violated, the results of the ANOVA may not be valid. \n",
    "Here are some examples of violations that could impact the validity of the results:\n",
    "\n",
    "1. Non-normality: If the data in any of the groups is not normally distributed, \n",
    "this can affect the validity of the ANOVA results. For example, \n",
    "if the data in one group is skewed, the mean of that group may not be a good representation of the data.\n",
    "\n",
    "2. Heterogeneity of variance: If the variance of the data in each group is significantly different, \n",
    "this can affect the validity of the ANOVA results. For example, if one group has a much larger variance than the other groups,\n",
    "this can make it more difficult to detect differences between means.\n",
    "\n",
    "3. Dependence: If the observations in any of the groups are not independent, this can affect the validity of the ANOVA results. \n",
    "For example, if the observations in one group are paired (e.g., before and after measurements), \n",
    "this violates the independence assumption and can lead to spurious results.\n",
    "\"\"\""
   ]
  },
  {
   "cell_type": "markdown",
   "id": "04fbab63-64fa-4e96-abd1-403f0c6a6fc7",
   "metadata": {},
   "source": [
    "Q2. What are the three types of ANOVA, and in what situations would each be used?"
   ]
  },
  {
   "cell_type": "code",
   "execution_count": 1,
   "id": "c080911c-90f0-4d69-a174-29e2b0b365c2",
   "metadata": {},
   "outputs": [],
   "source": [
    "Answer = \"\"\" \n",
    "There are three types of ANOVA:\n",
    "\n",
    "1. One-way ANOVA: This type of ANOVA is used when there is only one independent variable, \n",
    "which has three or more levels (or groups). \n",
    "One-way ANOVA is used to determine if there are any significant differences between the means of the different levels/groups.\n",
    "For example, one-way ANOVA can be used to compare the average weight loss among three different diet groups.\n",
    "\n",
    "2. Two-way ANOVA: This type of ANOVA is used when there are two independent variables, both of which have two or more levels.\n",
    "Two-way ANOVA is used to determine if there are any significant main effects \n",
    "(i.e., the effect of each independent variable on the dependent variable) and/or\n",
    "interaction effects (i.e., the combined effect of the two independent variables on the dependent variable). \n",
    "For example, two-way ANOVA can be used to compare the average sales of two different products (product A and product B)\n",
    "in two different regions (North and South).\n",
    "\n",
    "3. MANOVA (Multivariate Analysis of Variance): This type of ANOVA is used when there are two or more dependent \n",
    "variables (i.e., outcome variables) and one or more independent variables. \n",
    "MANOVA is used to determine if there are any significant differences between the means of the dependent \n",
    "variables across the different levels of the independent variable. \n",
    "For example, MANOVA can be used to compare the average scores on multiple personality \n",
    "traits (e.g., extroversion, agreeableness, neuroticism) between different age groups (young, middle-aged, and old).\n",
    "\"\"\""
   ]
  },
  {
   "cell_type": "markdown",
   "id": "c14fd05e-1e78-4506-9f38-dd29c100c7db",
   "metadata": {},
   "source": [
    "Q3. What is the partitioning of variance in ANOVA, and why is it important to understand this concept?"
   ]
  },
  {
   "cell_type": "code",
   "execution_count": 2,
   "id": "2640776d-d534-43e8-b76f-0b5c382bd4ce",
   "metadata": {},
   "outputs": [],
   "source": [
    "Answer = \"\"\" \n",
    "Partitioning of variance in ANOVA (Analysis of Variance) refers to the process of decomposing \n",
    "the total variation in the data into different sources of variation. \n",
    "In other words, ANOVA breaks down the total variation in the dependent variable into the \n",
    "variation explained by the independent variable(s) and the variation that is not explained by the independent variable(s). \n",
    "This is important because it helps us understand how much of the variation in the dependent \n",
    "variable can be attributed to the independent variable(s).\n",
    "\n",
    "The partitioning of variance in ANOVA is typically represented by the following equation:\n",
    "\n",
    "1. Total variation = Variation explained by independent variable(s) + Variation not explained by independent variable(s)\n",
    "\n",
    "2. The variation explained by the independent variable(s) is referred to as the \"between-group\" variation, \n",
    "while the variation not explained by the independent variable(s) is referred to as the \"within-group\" variation.\n",
    "\n",
    "Understanding the partitioning of variance is important in ANOVA because it helps us determine \n",
    "if there is a significant difference between the means of the different groups being compared. \n",
    "If the variation explained by the independent variable(s) (i.e., the between-group variation)\n",
    "is much larger than the variation not explained by the independent variable(s) (i.e., the within-group variation), \n",
    "then it suggests that there is a significant difference between the means of the groups being compared.\n",
    "\"\"\""
   ]
  },
  {
   "cell_type": "markdown",
   "id": "a79a2a7d-6330-45ff-939c-93dda079bb87",
   "metadata": {},
   "source": [
    "Q4. How would you calculate the total sum of squares (SST), explained sum of squares (SSE), and residual sum of squares (SSR) in a one-way ANOVA using Python?"
   ]
  },
  {
   "cell_type": "code",
   "execution_count": 3,
   "id": "f8c4e156-5860-4c1b-88c6-66a415894261",
   "metadata": {},
   "outputs": [
    {
     "name": "stdout",
     "output_type": "stream",
     "text": [
      "SST = 223.33333333333337\n",
      "SSE = 223.33333333333337\n",
      "SSR = 0.0\n"
     ]
    }
   ],
   "source": [
    "import scipy.stats as stats\n",
    "\n",
    "# create three sample groups\n",
    "group1 = [10, 12, 14, 16, 18]\n",
    "group2 = [8, 11, 14, 17, 20]\n",
    "group3 = [9, 12, 15, 18, 21]\n",
    "\n",
    "# concatenate the groups\n",
    "data = group1 + group2 + group3\n",
    "\n",
    "# calculate the mean of the data\n",
    "mean = sum(data) / len(data)\n",
    "\n",
    "# calculate the total sum of squares (SST)\n",
    "SST = sum([(x - mean)**2 for x in data])\n",
    "\n",
    "# calculate the sum of squares between (SSB)\n",
    "SSB = len(group1) * (sum([(x - mean)**2 for x in group1]) / len(group1))\n",
    "SSB += len(group2) * (sum([(x - mean)**2 for x in group2]) / len(group2))\n",
    "SSB += len(group3) * (sum([(x - mean)**2 for x in group3]) / len(group3))\n",
    "\n",
    "# calculate the explained sum of squares (SSE)\n",
    "SSE = SSB\n",
    "\n",
    "# calculate the residual sum of squares (SSR)\n",
    "SSR = SST - SSE\n",
    "\n",
    "print(\"SST =\", SST)\n",
    "print(\"SSE =\", SSE)\n",
    "print(\"SSR =\", SSR)"
   ]
  },
  {
   "cell_type": "markdown",
   "id": "eb8af88e-5246-467e-a19f-ab38c4c869c5",
   "metadata": {},
   "source": [
    "Q5. In a two-way ANOVA, how would you calculate the main effects and interaction effects using Python?"
   ]
  },
  {
   "cell_type": "code",
   "execution_count": 2,
   "id": "21c21f10-e2b1-4d27-8479-ccfb464b668e",
   "metadata": {},
   "outputs": [],
   "source": [
    "import pandas as pd\n",
    "import statsmodels.api as sm\n",
    "from statsmodels.formula.api import ols\n",
    "\n",
    "# Load data into a pandas dataframe\n",
    "data = pd.read_csv('data.csv')\n",
    "\n",
    "# Fit the two-way ANOVA model\n",
    "model = ols('dependent_variable ~ independent_variable_1 + independent_variable_2 + independent_variable_1 * independent_variable_2', data=data).fit()\n",
    "\n",
    "# Calculate the main effects\n",
    "main_effects = sm.stats.anova_lm(model, typ=1)\n",
    "print(main_effects)\n",
    "\n",
    "# Calculate the interaction effect\n",
    "interaction_effect = sm.stats.anova_lm(model, typ=2)\n",
    "print(interaction_effect)"
   ]
  },
  {
   "cell_type": "markdown",
   "id": "de8883f5-1c6e-4849-85dc-4b44ceba7376",
   "metadata": {},
   "source": [
    "Q6. Suppose you conducted a one-way ANOVA and obtained an F-statistic of 5.23 and a p-value of 0.02. What can you conclude about the differences between the groups, and how would you interpret these results?"
   ]
  },
  {
   "cell_type": "code",
   "execution_count": 6,
   "id": "573e3b27-aab7-4c9c-a53a-2a8d429f487a",
   "metadata": {},
   "outputs": [],
   "source": [
    "Answer= \"\"\" \n",
    "If we conducted a one-way ANOVA and obtained an F-statistic of 5.23 and a p-value of 0.02, \n",
    "we can conclude that there is at least one significant difference between the means of the groups being compared. \n",
    "The F-statistic tells us the ratio of the variance between the groups to the variance within the groups. \n",
    "A larger F-statistic indicates a greater difference between the group means compared to the variation within the groups. \n",
    "The p-value tells us the probability of obtaining a result as extreme as the observed result if there were no true differences between the groups.\n",
    "\n",
    "With a p-value of 0.02, we can interpret this result as follows: if there were no true differences between the groups, \n",
    "we would only expect to obtain a result as extreme as an F-statistic of 5.23 or higher by chance 2% of the time. \n",
    "Therefore, we reject the null hypothesis (that there are no true differences between the groups) and conclude that \n",
    "there is sufficient evidence to suggest that at least one of the group means is different from the others.\n",
    "\"\"\""
   ]
  },
  {
   "cell_type": "markdown",
   "id": "78489ee0-3449-47ad-9c59-7cea348f2764",
   "metadata": {},
   "source": [
    "Q7. In a repeated measures ANOVA, how would you handle missing data, and what are the potential consequences of using different methods to handle missing data?"
   ]
  },
  {
   "cell_type": "code",
   "execution_count": 7,
   "id": "fc5f9347-975b-4146-bc8e-60f3385dc68f",
   "metadata": {},
   "outputs": [],
   "source": [
    "Answer = \"\"\"\n",
    "In a repeated measures ANOVA, missing data can be handled in several ways:\n",
    "\n",
    "1. Listwise deletion: This method involves excluding any cases with missing data from the analysis. \n",
    "This can be done using the dropna() function in pandas. While this approach is simple, \n",
    "it may result in a loss of statistical power if a large amount of data is missing.\n",
    "\n",
    "2. Mean imputation: This method involves replacing missing values with the mean of the non-missing values. \n",
    "This can be done using the fillna() function in pandas. While this approach is simple and easy to implement, \n",
    "it may underestimate the variability of the data and result in biased estimates.\n",
    "\n",
    "3. Last observation carried forward (LOCF): This method involves imputing missing values with the last observed value. \n",
    "This can be done using the fillna(method='ffill') function in pandas. While this approach is useful for data with a temporal order, \n",
    "it may not be appropriate for all situations and may result in biased estimates.\n",
    "\n",
    "4. Multiple imputation: This method involves imputing missing values multiple times using a statistical model, \n",
    "and then combining the results to obtain estimates and standard errors. This can be done using the fancyimpute library in Python.\n",
    "While this approach is more sophisticated and can produce more accurate estimates than mean imputation or LOCF, \n",
    "it is computationally intensive and requires careful consideration of the underlying assumptions.\n",
    "\n",
    "The potential consequences of using different methods to handle missing data in a repeated measures ANOVA include \n",
    "bias in the estimated means, standard errors, and effect sizes, as well as a loss of statistical power.\n",
    "It's important to carefully consider the underlying assumptions and potential limitations of each method \n",
    "and choose the approach that is most appropriate for the specific dataset and research question.\n",
    "Additionally, it may be beneficial to conduct sensitivity analyses to assess the robustness of the \n",
    "results to different methods of handling missing data.\n",
    "\"\"\""
   ]
  },
  {
   "cell_type": "markdown",
   "id": "78dfb2c6-21ff-49d0-b871-525f68be1d76",
   "metadata": {},
   "source": [
    "Q8. What are some common post-hoc tests used after ANOVA, and when would you use each one? Provide an example of a situation where a post-hoc test might be necessary."
   ]
  },
  {
   "cell_type": "code",
   "execution_count": 8,
   "id": "b20b9376-053e-4917-8b2e-8059395d669f",
   "metadata": {},
   "outputs": [],
   "source": [
    "Answer = \"\"\"\n",
    "Post-hoc tests are used after ANOVA to make pairwise comparisons between groups when the overall ANOVA result is statistically significant.\n",
    "The purpose of post-hoc tests is to determine which specific groups differ from each other \n",
    "and to control for the familywise error rate, which is the probability of making at least one Type I error \n",
    "(false positive) across all the pairwise comparisons.\n",
    "\n",
    "Here are some common post-hoc tests used after ANOVA, along with an example of a situation where each one might be necessary:\n",
    "\n",
    "1. Tukey's HSD (honestly significant difference) test: This test is a conservative post-hoc test that is\n",
    "commonly used when the sample sizes are equal across groups.\n",
    "It controls for the familywise error rate by adjusting the significance level for each pairwise comparison. \n",
    "For example, if we have four groups (A, B, C, D), and the overall ANOVA result is significant,\n",
    "we might use Tukey's HSD test to determine which specific groups differ from each other.\n",
    "If the test shows that group A is significantly different from group B and group C, but not group D,\n",
    "we can conclude that group A is significantly different from groups B and C, but not group D.\n",
    "\n",
    "2. Bonferroni correction: This test is a simple and commonly used method to adjust the significance level \n",
    "for each pairwise comparison. It divides the significance level (usually 0.05) by the number of comparisons being made.\n",
    "For example, if we have four groups (A, B, C, D), and the overall ANOVA result is significant, \n",
    "we might use the Bonferroni correction to determine which specific groups differ from each other. \n",
    "If the test shows that group A is significantly different from group B, group C, and group D, we can conclude \n",
    "that group A is significantly different from all the other groups.\n",
    "\n",
    "3. Dunnett's test: This test is used when we have one control group and several treatment groups. \n",
    "It compares each treatment group to the control group, while controlling for the overall familywise error rate. \n",
    "For example, if we have one control group and three treatment groups (A, B, C), and the overall ANOVA result is\n",
    "significant, we might use Dunnett's test to determine which specific treatment groups differ from the control group.\n",
    "If the test shows that group A is significantly different from the control group, but groups B and C are \n",
    "not significantly different from the control group, we can conclude that group A is significantly different from the control group,\n",
    "but groups B and C are not.\n",
    "\n",
    "4. Scheffe's test: This test is a conservative post-hoc test that is used when the sample sizes are unequal across groups. \n",
    "It controls for the familywise error rate by adjusting the significance level for each pairwise comparison.\n",
    "For example, if we have four groups (A, B, C, D), and the overall ANOVA result is significant, \n",
    "we might use Scheffe's test to determine which specific groups differ from each other. \n",
    "If the test shows that group A is significantly different from group B and group C,\n",
    "but not group D, we can conclude that group A is significantly different from groups B and C, but not group D.\n",
    "\"\"\""
   ]
  },
  {
   "cell_type": "markdown",
   "id": "c3eb5802-3740-4681-b9ce-7b30a2a243d9",
   "metadata": {},
   "source": [
    "Q9. A researcher wants to compare the mean weight loss of three diets: A, B, and C. They collect data from 50 participants who were randomly assigned to one of the diets. Conduct a one-way ANOVA using Python to determine if there are any significant differences between the mean weight loss of the three diets. Report the F-statistic and p-value, and interpret the results."
   ]
  },
  {
   "cell_type": "code",
   "execution_count": 9,
   "id": "c5b6c900-b6f7-4639-bdd8-2362c7197af6",
   "metadata": {},
   "outputs": [
    {
     "name": "stdout",
     "output_type": "stream",
     "text": [
      "F-statistic: 176.89689491604346\n",
      "p-value: 1.63227843737611e-28\n"
     ]
    }
   ],
   "source": [
    "\n",
    "import scipy.stats as stats\n",
    "\n",
    "# Sample data\n",
    "diet_A = [4.2, 5.1, 3.7, 6.2, 4.9, 2.8, 5.4, 4.7, 3.9, 4.1,\n",
    "          3.3, 5.5, 4.8, 5.3, 3.9, 6.1, 4.3, 3.5, 5.2, 5.0,\n",
    "          5.6, 3.8, 5.8, 4.0, 5.7]\n",
    "diet_B = [2.9, 1.9, 2.5, 2.3, 3.2, 2.7, 1.8, 3.1, 2.6, 3.0,\n",
    "          2.4, 2.0, 2.8, 2.2, 2.1, 2.6, 2.7, 1.6, 2.4, 2.9,\n",
    "          3.0, 1.8, 2.1, 2.3, 2.6]\n",
    "diet_C = [1.3, 0.9, 1.1, 1.6, 1.4, 1.8, 1.2, 1.5, 2.0, 1.4,\n",
    "          1.7, 1.3, 1.9, 1.0, 1.6, 1.2, 1.8, 1.4, 1.1, 1.7,\n",
    "          1.5, 1.6, 1.9, 1.2, 1.4]\n",
    "\n",
    "# One-way ANOVA\n",
    "f_statistic, p_value = stats.f_oneway(diet_A, diet_B, diet_C)\n",
    "\n",
    "# Print results\n",
    "print(\"F-statistic:\", f_statistic)\n",
    "print(\"p-value:\", p_value)\n"
   ]
  },
  {
   "cell_type": "markdown",
   "id": "acdaef35-cf56-4e73-a98c-544ab195c3fc",
   "metadata": {},
   "source": [
    "Q10. A company wants to know if there are any significant differences in the average time it takes to complete a task using three different software programs: Program A, Program B, and Program C. They randomly assign 30 employees to one of the programs and record the time it takes each employee to complete the task. Conduct a two-way ANOVA using Python to determine if there are any main effects or interaction effects between the software programs and employee experience level (novice vs. experienced). Report the F-statistics and p-values, and interpret the results."
   ]
  },
  {
   "cell_type": "code",
   "execution_count": 5,
   "id": "42907074-e253-45c4-8dd1-44e7ba25a705",
   "metadata": {},
   "outputs": [],
   "source": [
    "import pandas as pd\n",
    "import statsmodels.api as sm\n",
    "from statsmodels.formula.api import ols\n",
    "\n",
    "data = pd.read_csv(\"task_completion_times.csv\")\n",
    "\n",
    "# Next, we can use the ols function from the statsmodels.formula.api module to create a model formula for the two-way ANOVA:\n",
    "\n",
    "model = ols('Time ~ C(Program) + C(Experience) + C(Program):C(Experience)', data=data).fit()\n",
    "# Here, we're using the C function to indicate that Program and Experience are categorical variables, and : to indicate the interaction term between Program and Experience.\n",
    "\n",
    "# We can then use the anova_lm function from the statsmodels.api module to obtain the ANOVA table and calculate the F-statistics and p-values:\n",
    "anova_table = sm.stats.anova_lm(model, typ=2)\n",
    "print(anova_table)"
   ]
  },
  {
   "cell_type": "markdown",
   "id": "38a31446-3b6f-48bd-a4a7-374e6d392ac1",
   "metadata": {},
   "source": [
    "Q11. An educational researcher is interested in whether a new teaching method improves student test scores. They randomly assign 100 students to either the control group (traditional teaching method) or the experimental group (new teaching method) and administer a test at the end of the semester. Conduct a two-sample t-test using Python to determine if there are any significant differences in test scores between the two groups. If the results are significant, follow up with a post-hoc test to determine which group(s) differ significantly from each other."
   ]
  },
  {
   "cell_type": "code",
   "execution_count": 13,
   "id": "c639c005-3c7b-461b-8af6-888a66bf35a3",
   "metadata": {},
   "outputs": [],
   "source": [
    "# To conduct a two-sample t-test in Python, we first need to import the necessary packages and read in the data:\n",
    "import pandas as pd\n",
    "from scipy.stats import ttest_ind\n",
    "\n",
    "data = pd.read_csv(\"test_scores.csv\")\n",
    "\n",
    "#The data should be in a CSV file with two columns: \"Group\" (control or experimental) and \"Score\" (the test score).\n",
    "#We can then use the ttest_ind function from the scipy.stats module to conduct a two-sample t-test:\n",
    "\n",
    "\n",
    "control_scores = data[data[\"Group\"] == \"control\"][\"Score\"]\n",
    "experimental_scores = data[data[\"Group\"] == \"experimental\"][\"Score\"]\n",
    "t, p = ttest_ind(control_scores, experimental_scores)\n",
    "print(\"t = {:.2f}, p = {:.4f}\".format(t, p))"
   ]
  },
  {
   "cell_type": "markdown",
   "id": "1b802bcd-7a37-404e-b28d-830d8e09ef72",
   "metadata": {},
   "source": [
    "Q12. A researcher wants to know if there are any significant differences in the average daily sales of three retail stores: Store A, Store B, and Store C. They randomly select 30 days and record the sales for each store n those days. Conduct a repeated measures ANOVA using Python to determine if there are any significant differences in sales between the three stores. If the results are significant, follow up with a post- h c test to determine which store(s) differ significantly from each other."
   ]
  },
  {
   "cell_type": "code",
   "execution_count": 6,
   "id": "b9a98cd8-f32f-4282-b786-fc44fb594cd2",
   "metadata": {},
   "outputs": [],
   "source": [
    "import pandas as pd\n",
    "import statsmodels.api as sm\n",
    "from statsmodels.formula.api import ols\n",
    "\n",
    "# Create a dataframe with sales data\n",
    "sales_data = {'Store': ['A']*30 + ['B']*30 + ['C']*30, \n",
    "              'Day': list(range(1, 31))*3, \n",
    "              'Sales': [100, 120, 130, 110, 130, 140, 90, 110, 120, 80,\n",
    "                        100, 130, 140, 120, 140, 150, 110, 130, 140, 100,\n",
    "                        90, 110, 120, 100, 120, 130, 80, 100, 110, 70,\n",
    "                        80, 100, 110, 90, 110, 120, 70, 90, 100, 60,\n",
    "                        70, 90, 100, 80, 100, 110, 60, 80, 90, 50,\n",
    "                        60, 80, 90, 70, 90, 100, 50, 70, 80, 40,\n",
    "                        50, 70, 80, 60, 80, 90, 40, 60, 70, 30,\n",
    "                        40, 60, 70, 50, 70, 80, 30, 50, 60, 20,\n",
    "                        30, 50, 60, 40, 60, 70, 20, 40, 50, 10,\n",
    "                        20, 40, 50, 30, 50, 60, 10, 30, 40, 0]}\n",
    "\n",
    "sales_df = pd.DataFrame(sales_data)\n",
    "\n",
    "# Conduct one-way repeated measures ANOVA\n",
    "rm_anova = sm.stats.anova.AnovaRM(data=sales_df, depvar='Sales', subject='Day', \n",
    "                                  within=['Store'], aggregate_func='mean')\n",
    "result = rm_anova.fit()\n",
    "\n",
    "# Print ANOVA table\n",
    "print(result.summary())\n",
    "\n",
    "# Conduct post-hoc tests using Tukey's HSD test\n",
    "from statsmodels.stats.multicomp import MultiComparison\n",
    "\n",
    "comp = MultiComparison(sales_df['Sales'], sales_df['Store'])\n",
    "tukey_result = comp.tukeyhsd()\n",
    "\n",
    "# Print post-hoc results\n",
    "print(tukey_result.summary())"
   ]
  },
  {
   "cell_type": "code",
   "execution_count": null,
   "id": "fb871eee-cafe-45da-94b4-39a944649b50",
   "metadata": {},
   "outputs": [],
   "source": []
  }
 ],
 "metadata": {
  "kernelspec": {
   "display_name": "Python 3 (ipykernel)",
   "language": "python",
   "name": "python3"
  },
  "language_info": {
   "codemirror_mode": {
    "name": "ipython",
    "version": 3
   },
   "file_extension": ".py",
   "mimetype": "text/x-python",
   "name": "python",
   "nbconvert_exporter": "python",
   "pygments_lexer": "ipython3",
   "version": "3.10.8"
  }
 },
 "nbformat": 4,
 "nbformat_minor": 5
}
