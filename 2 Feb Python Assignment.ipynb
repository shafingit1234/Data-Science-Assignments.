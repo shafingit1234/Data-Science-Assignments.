{
 "cells": [
  {
   "cell_type": "code",
   "execution_count": 3,
   "id": "94706faa-09c6-4903-b157-9cd2b846eea7",
   "metadata": {},
   "outputs": [],
   "source": [
    "# Explain with an example when to use a for loop and a while loop.\n",
    "ans = \"\"\" We can use for loop to iterate through iteratable data structures like lists where as while can come handy when we want continuation of loop till a certain condition is satisfied or not.\n",
    "Example: suppose I have a list l = [1,2,3,4], and I want to find sum of elements present in the list. For this task it is better to use for loop as compared to while loop, since it is syntactically easy\n",
    "to extract elements from the list using for loop as compared to while loop.\n",
    "sum = 0;\n",
    "for i in l:\n",
    "    sum = sum + i;\n",
    "print(sum);\n",
    "Now suppose I want to write an algorithm so as to get digit sum of a number given by user, for example 123 has digit sum as 1+2+3 = 6, for this task it is preferred to use while loop since I know at what condition my algo has to stop.\n",
    "digitSum = 0;\n",
    "num = int(input(\"Enter the number\"));\n",
    "while num>0:\n",
    "    digitSum = digitSum + num%10;\n",
    "    num = num/10;\n",
    "print(digitSum);\n",
    "\"\"\";"
   ]
  },
  {
   "cell_type": "code",
   "execution_count": 4,
   "id": "2de347f9-9d31-4f25-b8bf-4aa984167114",
   "metadata": {},
   "outputs": [
    {
     "name": "stdout",
     "output_type": "stream",
     "text": [
      "Using For Loop:\n",
      "sum is: 55 product is: 3628800\n",
      "Using While loop:\n",
      "sum is: 55 product is: 3628800\n"
     ]
    }
   ],
   "source": [
    "# Write a python program to print the sum and product of the first 10 natural numbers using for and while loop.\n",
    "def usingFor():\n",
    "    print(\"Using For Loop:\");\n",
    "    sum = 0;\n",
    "    prod = 1;\n",
    "    for i in range(1,11):\n",
    "        sum = sum + i;\n",
    "        prod = prod*i;\n",
    "    print(\"sum is:\", sum,\"product is:\", prod);\n",
    "\n",
    "def usingWhile():\n",
    "    print(\"Using While loop:\");\n",
    "    sum = 0;\n",
    "    prod = 1;\n",
    "    i=1;\n",
    "    while i<=10:\n",
    "        sum = sum + i;\n",
    "        prod = prod*i;\n",
    "        i = i+1;\n",
    "    print(\"sum is:\", sum,\"product is:\", prod);\n",
    "usingFor();\n",
    "usingWhile();\n",
    "    "
   ]
  },
  {
   "cell_type": "code",
   "execution_count": 5,
   "id": "72911607-2b56-4df8-9c50-60edb6b2a166",
   "metadata": {},
   "outputs": [
    {
     "name": "stdin",
     "output_type": "stream",
     "text": [
      "Enter units consumed:  825\n"
     ]
    },
    {
     "name": "stdout",
     "output_type": "stream",
     "text": [
      "8\n",
      "Total expense: 12550.0\n"
     ]
    }
   ],
   "source": [
    "# Create a python a program to compute the electricity bill for a household.\n",
    "units = int(input(\"Enter units consumed: \"));\n",
    "res = 0;\n",
    "temp = int(units/100);\n",
    "print(temp);\n",
    "k = temp;\n",
    "while temp > 0:\n",
    "    if temp > 3:\n",
    "        res =res + 100*20;\n",
    "    elif temp == 3:\n",
    "        res =res+ 100*10;\n",
    "    elif temp == 2:\n",
    "        res =res + 100*6;\n",
    "    elif temp == 1:\n",
    "        res =res+ 100*4.5;\n",
    "    units = units-100;\n",
    "    temp = temp-1;\n",
    "if units > 0:\n",
    "    if k >= 3:\n",
    "        res = res + units*20;\n",
    "    elif k >= 2:\n",
    "        res = res + units*10;\n",
    "    elif k >= 1:\n",
    "        res = res + units*6;\n",
    "    elif k >= 0:\n",
    "        res = res + units*4.5;\n",
    "print(\"Total expense:\",res);"
   ]
  },
  {
   "cell_type": "code",
   "execution_count": 4,
   "id": "eb356614-aed3-435f-887d-0c8ac7e82763",
   "metadata": {},
   "outputs": [
    {
     "name": "stdout",
     "output_type": "stream",
     "text": [
      "Task using for loop: \n",
      "[1, 2, 3, 4, 5, 6, 7, 8, 9, 10, 11, 12, 13, 14, 15, 16, 17, 18, 19, 20, 21, 22, 23, 24, 25, 26, 27, 28, 29, 30, 31, 32, 33, 34, 35, 36, 37, 38, 39, 40, 41, 42, 43, 44, 45, 46, 47, 48, 49, 50, 51, 52, 53, 54, 55, 56, 57, 58, 59, 60, 61, 62, 63, 64, 65, 66, 67, 68, 69, 70, 71, 72, 73, 74, 75, 76, 77, 78, 79, 80, 81, 82, 83, 84, 85, 86, 87, 88, 89, 90, 91, 92, 93, 94, 95, 96, 97, 98, 99, 100, 8, 64, 125, 216, 512, 1000, 1728, 2744, 3375, 4096, 5832, 8000, 10648, 13824, 15625, 17576, 21952, 27000, 32768, 39304, 42875, 46656, 54872, 64000, 74088, 85184, 91125, 97336, 110592, 125000, 140608, 157464, 166375, 175616, 195112, 216000, 238328, 262144, 274625, 287496, 314432, 343000, 373248, 405224, 421875, 438976, 474552, 512000, 551368, 592704, 614125, 636056, 681472, 729000, 778688, 830584, 857375, 884736, 941192, 1000000]\n",
      "Task using while loop: \n",
      "[1, 2, 3, 4, 5, 6, 7, 8, 9, 10, 11, 12, 13, 14, 15, 16, 17, 18, 19, 20, 21, 22, 23, 24, 25, 26, 27, 28, 29, 30, 31, 32, 33, 34, 35, 36, 37, 38, 39, 40, 41, 42, 43, 44, 45, 46, 47, 48, 49, 50, 51, 52, 53, 54, 55, 56, 57, 58, 59, 60, 61, 62, 63, 64, 65, 66, 67, 68, 69, 70, 71, 72, 73, 74, 75, 76, 77, 78, 79, 80, 81, 82, 83, 84, 85, 86, 87, 88, 89, 90, 91, 92, 93, 94, 95, 96, 97, 98, 99, 100, 8, 64, 125, 216, 512, 1000, 1728, 2744, 3375, 4096, 5832, 8000, 10648, 13824, 15625, 17576, 21952, 27000, 32768, 39304, 42875, 46656, 54872, 64000, 74088, 85184, 91125, 97336, 110592, 125000, 140608, 157464, 166375, 175616, 195112, 216000, 238328, 262144, 274625, 287496, 314432, 343000, 373248, 405224, 421875, 438976, 474552, 512000, 551368, 592704, 614125, 636056, 681472, 729000, 778688, 830584, 857375, 884736, 941192, 1000000]\n"
     ]
    }
   ],
   "source": [
    "# Create a list of numbers from 1 to 100. User for loop and while loop to calculate the cube of each number and if the cube of that number is divisible by 4 or 5 then append that number in a list and print that list.\n",
    "def usingForLoop(l):\n",
    "    # l = list(range(1,101));\n",
    "    # print(l);\n",
    "    for i in range(0,len(l)):\n",
    "        item = l[i];\n",
    "        cube = item*item*item;\n",
    "        if cube%4 == 0 or cube%5 == 0:\n",
    "            l.append(cube);\n",
    "\n",
    "    print(l);\n",
    "def usingWhileLoop(l):\n",
    "    size = len(l);\n",
    "    i = 0;\n",
    "    while i < size:\n",
    "        item = l[i];\n",
    "        cube = item*item*item;\n",
    "        if cube%4 == 0 or cube%5 == 0:\n",
    "            l.append(cube);\n",
    "        i = i+1;\n",
    "    print(l);\n",
    "l = list(range(1,101));\n",
    "print(\"Task using for loop: \");\n",
    "usingForLoop(l);\n",
    "l = list(range(1,101));\n",
    "print(\"Task using while loop: \");\n",
    "usingWhileLoop(l);"
   ]
  },
  {
   "cell_type": "code",
   "execution_count": 1,
   "id": "8003abe5-76d0-47d6-a2da-4cc40494742f",
   "metadata": {},
   "outputs": [
    {
     "name": "stdout",
     "output_type": "stream",
     "text": [
      "12\n"
     ]
    }
   ],
   "source": [
    "# Write a program to filter count vowels in the below-given string.\n",
    "string = \"I want to become a data scientist\";\n",
    "vowel = ['a','i','e','o','u'];\n",
    "count = 0;\n",
    "for i in string.split():\n",
    "    str = i.lower();\n",
    "    for j in str:\n",
    "        if j in vowel:\n",
    "            count = count+1;\n",
    "print(count);"
   ]
  },
  {
   "cell_type": "code",
   "execution_count": null,
   "id": "b75f77b9-8688-4b0e-8b05-9efb0eb30d36",
   "metadata": {},
   "outputs": [],
   "source": []
  }
 ],
 "metadata": {
  "kernelspec": {
   "display_name": "Python 3 (ipykernel)",
   "language": "python",
   "name": "python3"
  },
  "language_info": {
   "codemirror_mode": {
    "name": "ipython",
    "version": 3
   },
   "file_extension": ".py",
   "mimetype": "text/x-python",
   "name": "python",
   "nbconvert_exporter": "python",
   "pygments_lexer": "ipython3",
   "version": "3.10.8"
  }
 },
 "nbformat": 4,
 "nbformat_minor": 5
}
