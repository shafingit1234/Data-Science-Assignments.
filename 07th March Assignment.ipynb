{
 "cells": [
  {
   "cell_type": "markdown",
   "id": "9e3f78c0-e8b8-4440-9029-f80d3893b9e6",
   "metadata": {},
   "source": [
    "Question 1: What are the three measuers of central tendency?"
   ]
  },
  {
   "cell_type": "code",
   "execution_count": 1,
   "id": "dcb2f2f9-779d-4024-bef5-8903253b7ac6",
   "metadata": {},
   "outputs": [],
   "source": [
    "Answer_1 = \"\"\" \n",
    "The three central tendency measures are:\n",
    "\n",
    "Mean: The mean is the average of a set of values.\n",
    "It is calculated by summing all the values in a dataset and then dividing the sum by the total number of values.\n",
    "\n",
    "Median: The median is the middle value in a dataset when the values are arranged in ascending or descending order.\n",
    "If the dataset has an even number of values, the median is calculated by taking the average of the two middle values.\n",
    "\n",
    "Mode: The mode is the value that appears most frequently in a dataset.\n",
    "If there are multiple values that appear with the same frequency,\n",
    "then the dataset is said to have multiple modes.\n",
    "\"\"\""
   ]
  },
  {
   "cell_type": "markdown",
   "id": "55db4b5b-3c2d-4d51-98ba-e139c8440618",
   "metadata": {},
   "source": [
    "Question 2: What is the difference between the mean, median, and mode? How they used to measure the central tendency of a dataset?"
   ]
  },
  {
   "cell_type": "code",
   "execution_count": 3,
   "id": "6e8dfbb7-16bb-4e81-8fb3-8026081b152c",
   "metadata": {},
   "outputs": [],
   "source": [
    "Answer_2= \"\"\" \n",
    "The mean, median, and mode are all measures of central tendency, but they differ in how they represent the center of a dataset.\n",
    "\n",
    "The mean is the arithmetic average of a set of values.\n",
    "It is calculated by adding up all the values in the dataset and dividing by the total number of values.\n",
    "The mean is sensitive to extreme values, which means that a few unusually high or low values can significantly impact the mean.\n",
    "\n",
    "The median is the middle value in a dataset when the values are arranged in order from smallest to largest. If there is an even number of values,\n",
    "the median is the average of the two middle values.\n",
    "The median is a good measure of central tendency when the dataset contains extreme values or outliers, as it is not affected by these values.\n",
    "\n",
    "The mode is the value that appears most frequently in a dataset. A dataset can have more than one mode,\n",
    "if there are multiple values that appear with the same frequency.\n",
    "The mode is a good measure of central tendency for categorical data or discrete variables.\n",
    "\n",
    "To measure the central tendency of a dataset, you can use any of these measures depending on the nature of the data and,\n",
    "the research question you are trying to answer.\n",
    "The mean is commonly used for continuous variables that are normally distributed,\n",
    "while the median is often used for skewed data or when outliers are present.\n",
    "The mode is useful for categorical data or when you want to know the most common value in a dataset.\n",
    "\"\"\""
   ]
  },
  {
   "cell_type": "markdown",
   "id": "dd8585b1-bdae-427a-9fac-36445bc32ccc",
   "metadata": {},
   "source": [
    "Question 3: Measure the three measures of central tendency for the given height data:\n",
    "    [178,177,176,177,178.2,178,175,179,180,175,178.9,176.2,177,172.5,178,176.5]"
   ]
  },
  {
   "cell_type": "code",
   "execution_count": 4,
   "id": "5d70b1a6-de21-46dc-88ee-adb211550c0a",
   "metadata": {},
   "outputs": [
    {
     "name": "stdout",
     "output_type": "stream",
     "text": [
      "Mean height is: 177.01875\n",
      "Median height is: 177.0\n",
      "Mode height is: 178\n"
     ]
    }
   ],
   "source": [
    "import statistics \n",
    "\n",
    "height_data = [178,177,176,177,178.2,178,175,179,180,175,178.9,176.2,177,172.5,178,176.5]\n",
    "\n",
    "mean_height = statistics.mean(height_data)\n",
    "print(\"Mean height is:\", mean_height)\n",
    "\n",
    "median_height = statistics.median(height_data)\n",
    "print(\"Median height is:\", median_height)\n",
    "\n",
    "mode_height = statistics.mode(height_data)\n",
    "print(\"Mode height is:\", mode_height)"
   ]
  },
  {
   "cell_type": "markdown",
   "id": "561d210f-14c5-4048-a519-da20251f9a5a",
   "metadata": {},
   "source": [
    "Question 4: Find the Standard deviation for the given data:\n",
    "[178,177,176,177,178.2,178,175,179,180,175,178.9,176.2,177,172.5,178,176.5]"
   ]
  },
  {
   "cell_type": "code",
   "execution_count": 5,
   "id": "03df9009-ff50-4237-8c53-fb319a249f3c",
   "metadata": {},
   "outputs": [
    {
     "name": "stdout",
     "output_type": "stream",
     "text": [
      "Standard deviation of height data is: 1.8472389305844188\n"
     ]
    }
   ],
   "source": [
    "import statistics\n",
    "\n",
    "height_data = [178,177,176,177,178.2,178,175,179,180,175,178.9,176.2,177,172.5,178,176.5]\n",
    "\n",
    "std_height = statistics.stdev(height_data)\n",
    "print(\"Standard deviation of height data is:\", std_height)"
   ]
  },
  {
   "cell_type": "markdown",
   "id": "49b0e1ae-2272-4d62-b51b-cc36d70af34a",
   "metadata": {},
   "source": [
    "Question 5: How are measures of dispersion such as range, variance, and standard deviation used to describe the spread of a dataset? Provide an example?"
   ]
  },
  {
   "cell_type": "code",
   "execution_count": 6,
   "id": "e26b3795-4054-460b-9b84-6b67cd344671",
   "metadata": {},
   "outputs": [],
   "source": [
    "Answer_5 = \"\"\" \n",
    "Measures of dispersion such as range, variance, and standard deviation are used to describe the spread or variability of a dataset.\n",
    "They give an idea of how spread out the data points are from the central tendency.\n",
    "\n",
    "Range: The range is the difference between the maximum and minimum values in a dataset. It gives a rough estimate of the spread of the data.\n",
    "For example, if we have a dataset of test scores with a range of 40, we can say that the scores are spread out over a range of 40 points.\n",
    "\n",
    "Variance: The variance is the average of the squared differences from the mean. It measures how much the data points deviate from the mean.\n",
    "A higher variance indicates a greater spread of the data. For example, if we have a dataset of the heights of students in a class with a variance of 4,\n",
    "we can say that the heights of the students are spread out over a range of 2 cm on either side of the mean.\n",
    "\n",
    "Standard deviation: The standard deviation is the square root of the variance. It measures the spread of the data in the same units as the original data.\n",
    "A higher standard deviation indicates a greater spread of the data.\n",
    "For example, if we have a dataset of the weights of apples in a basket with a standard deviation of 2 kg,\n",
    "we can say that the weights of the apples are spread out over a range of 4 kg on either side of the mean.\n",
    "\n",
    "As an example, consider the following dataset of test scores:\n",
    "\n",
    "[85, 90, 75, 80, 95, 70, 85, 90, 80, 75]\n",
    "\n",
    "The mean score is 82, and we can calculate the measures of dispersion as follows:\n",
    "\n",
    "Range: The range is the difference between the maximum and minimum values, which is 25 (95 - 70).\n",
    "Variance: The variance is the average of the squared differences from the mean, which is 62.5.\n",
    "Standard deviation: The standard deviation is the square root of the variance, which is approximately 7.91.\n",
    "\"\"\""
   ]
  },
  {
   "cell_type": "markdown",
   "id": "bd645ddf-7619-4ad2-baec-19d399c2d37a",
   "metadata": {},
   "source": [
    "Question_6: What is Venn Diagram?"
   ]
  },
  {
   "cell_type": "code",
   "execution_count": 7,
   "id": "ce1bac1b-7a1d-4f2a-ad30-94752684ec20",
   "metadata": {},
   "outputs": [],
   "source": [
    "Answer_6 = \"\"\" \n",
    "A Venn diagram is a visual representation of the relationships between sets of data.\n",
    "It is a diagram that shows all possible logical relations between a finite collection of sets,\n",
    "often represented as circles that overlap or are disjoint.\n",
    "Venn diagrams are commonly used to illustrate simple set relationships in logic, statistics, probability, and computer science.\n",
    "\n",
    "In a Venn diagram, each circle represents a set, and the region where the circles overlap represents the intersection of those sets.\n",
    "The areas outside the circles represent the complement of those sets.\n",
    "\"\"\""
   ]
  },
  {
   "cell_type": "markdown",
   "id": "de5fa0b6-6653-46b4-beb0-d62184ef0fa7",
   "metadata": {},
   "source": [
    "Question 7: For the two given sets A = (2,3,4,5,6,7) & B = (0,2,6,8,10).Find:\n",
    "(i) A ⋂ B (ii) A ⋃ B"
   ]
  },
  {
   "cell_type": "code",
   "execution_count": 8,
   "id": "bd6b5358-cb3b-483e-8bcd-bb5a470a2c3f",
   "metadata": {},
   "outputs": [
    {
     "name": "stdout",
     "output_type": "stream",
     "text": [
      "Intersection of A and B: {2, 6}\n",
      "Union of A and B: {0, 2, 3, 4, 5, 6, 7, 8, 10}\n"
     ]
    }
   ],
   "source": [
    "A = {2, 3, 4, 5, 6, 7}\n",
    "B = {0, 2, 6, 8, 10}\n",
    "intersection = A.intersection(B)\n",
    "print(\"Intersection of A and B:\", intersection)\n",
    "union = A.union(B)\n",
    "print(\"Union of A and B:\", union)"
   ]
  },
  {
   "cell_type": "markdown",
   "id": "1ab252be-efcc-4205-b553-7379657161f9",
   "metadata": {},
   "source": [
    "Question_8; What do you understand about skewness in data?"
   ]
  },
  {
   "cell_type": "code",
   "execution_count": 9,
   "id": "6b3ae330-293e-4676-8bab-36d9eaa628d2",
   "metadata": {},
   "outputs": [],
   "source": [
    "Answer_8 = \"\"\" \n",
    "In statistics, skewness is a measure of the asymmetry of a probability distribution.\n",
    "Skewness refers to the degree to which the data is not symmetrically distributed around the mean.\n",
    "It indicates whether the data is skewed to the left or to the right of the mean.\n",
    "\n",
    "If a distribution is symmetrical, then it has zero skewness.\n",
    "If the tail of the distribution is longer on the right side than on the left side, then the distribution is said to be positively skewed,\n",
    "and it has a positive skewness. On the other hand, if the tail of the distribution is longer on the left side than on the right side,\n",
    "then the distribution is said to be negatively skewed, and it has a negative skewness.\n",
    "\"\"\""
   ]
  },
  {
   "cell_type": "markdown",
   "id": "351be40d-2acf-47d0-9eb5-43ddeac48ea1",
   "metadata": {},
   "source": [
    "Question 9: If a data is right skewed then what will be the position of median with respect to mean?"
   ]
  },
  {
   "cell_type": "code",
   "execution_count": 11,
   "id": "cdb33394-39f1-4717-b58f-4a772d603569",
   "metadata": {},
   "outputs": [],
   "source": [
    "Answer_9 = \"\"\" \n",
    "If a data set is right-skewed, it means that the tail of the distribution is longer on the right side, and the data is concentrated on the left side of the distribution.\n",
    "In this case, the mean is greater than the median.\n",
    "\n",
    "To understand why this is the case, consider a right-skewed distribution like income.\n",
    "In this distribution, there are a small number of individuals who earn very high incomes,\n",
    "which pull the mean to the right.\n",
    "However, most people earn lower incomes, so the median is not as affected by the high earners and remains closer to the center of the distribution.\n",
    "Therefore, the median will be to the left of the mean in a right-skewed distribution.\n",
    "\"\"\""
   ]
  },
  {
   "cell_type": "markdown",
   "id": "38fa9353-cfe1-4d3e-9676-448e49774c08",
   "metadata": {},
   "source": [
    "Question_10: Explain the difference between covariance and correlation. How are these measuers used in statistical analysis?"
   ]
  },
  {
   "cell_type": "code",
   "execution_count": 12,
   "id": "5f991a37-990a-4b15-9a06-dd1d9d43c7cb",
   "metadata": {},
   "outputs": [],
   "source": [
    "Answer_10 = \"\"\" \n",
    "Covariance and correlation are two statistical measures that are used to quantify the relationship between two variables.\n",
    "Covariance is a measure of how two variables vary together. It measures the degree to which two variables are linearly related.\n",
    "A positive covariance indicates that the two variables move in the same direction, while a negative covariance indicates that they move in opposite directions.\n",
    "However, the magnitude of covariance does not have a standardized scale and it can be affected by the scale of the variables being measured.\n",
    "\n",
    "Correlation, on the other hand, is a measure of the strength and direction of the linear relationship between two variables.\n",
    "Correlation ranges from -1 to +1, where -1 indicates a perfect negative correlation, 0 indicates no correlation, and +1 indicates a perfect positive correlation.\n",
    "Correlation is standardized, which means that it is not affected by the scale of the variables being measured.\n",
    "\n",
    "In statistical analysis, covariance and correlation are used to assess the relationship between two variables.\n",
    "They help to identify patterns and trends in the data, and to determine the strength and direction of the relationship between the variables.\n",
    "They are also used to test hypotheses and to make predictions about the behavior of the variables.\n",
    "\"\"\""
   ]
  },
  {
   "cell_type": "markdown",
   "id": "05d9b1d3-909a-4817-9798-3f9a55a4563b",
   "metadata": {},
   "source": [
    "Question_11: What is the formula for calculating the sample mean? Provide an example calculation for a dataset?"
   ]
  },
  {
   "cell_type": "code",
   "execution_count": null,
   "id": "06f20e8f-625b-4769-bb0c-b91797e4ff61",
   "metadata": {},
   "outputs": [],
   "source": [
    "Answer_11 = \"\"\" \n",
    "The formula for calculating the sample mean is:\n",
    "\n",
    "Sample Mean = (Sum of all observations) / (Number of observations)\n",
    "In other words, the sample mean is calculated by adding up all the values in a sample and dividing by the number of observations in the sample.\n",
    "\n",
    "Here is an example calculation:\n",
    "\n",
    "Suppose we have the following dataset: [4, 7, 9, 12, 15]\n",
    "\n",
    "To calculate the sample mean, we add up all the values and divide by the number of observations:\n",
    "\n",
    "Sample Mean = (4 + 7 + 9 + 12 + 15) / 5 = 47 / 5 = 9.4\n",
    "\n",
    "Therefore, the sample mean for this dataset is 9.4.\n",
    "\"\"\""
   ]
  },
  {
   "cell_type": "markdown",
   "id": "68545249-ef43-40eb-a99e-b731fd64b772",
   "metadata": {},
   "source": [
    "Question_12: For a normal distribution data what is the relationship between its measure of central tendency?"
   ]
  },
  {
   "cell_type": "code",
   "execution_count": null,
   "id": "d6f6bf91-5383-4a4e-9290-05a359cba0b2",
   "metadata": {},
   "outputs": [],
   "source": [
    "Answer_12 = \"\"\" \n",
    "For a normal distribution, the measures of central tendency, namely the mean, median, and mode, are all equal.\n",
    "In other words, they have the same value.\n",
    "\n",
    "This is because a normal distribution is a symmetric distribution, with equal amounts of data on both sides of the mean.\n",
    "The median, which is the middle value of the dataset,\n",
    "is also the same as the mean in a normal distribution.\n",
    "\n",
    "Additionally, the mode, which is the value that occurs most frequently in the dataset, is also equal to the mean and median in a normal distribution.\n",
    "\n",
    "Therefore, for a normal distribution, the mean, median, and mode are all the same value,\n",
    "and they all represent the center or midpoint of the distribution.\n",
    "\"\"\""
   ]
  },
  {
   "cell_type": "markdown",
   "id": "82052da1-4b99-4972-9b73-e60c954e4043",
   "metadata": {},
   "source": [
    "Question_13: How is covariance different from correlation?"
   ]
  },
  {
   "cell_type": "code",
   "execution_count": null,
   "id": "2b809dcd-8fbf-4470-8d94-3882d686493e",
   "metadata": {},
   "outputs": [],
   "source": [
    "Answer_13 = \"\"\" \n",
    "Covariance and correlation are both statistical measures that describe the relationship between two variables,\n",
    "but they differ in several important ways.\n",
    "\n",
    "Range: The range of covariance is unbounded, which means it can take on any value.\n",
    "In contrast, the range of correlation is between -1 and +1.\n",
    "\n",
    "Standardization: Covariance is not standardized, which means it is affected by the scale of the variables being measured.\n",
    "Correlation, on the other hand, is standardized, which means it is not affected by the scale of the variables.\n",
    "\n",
    "Interpretation: Covariance measures the direction and strength of the linear relationship between two variables.\n",
    "A positive covariance indicates a positive relationship between the variables, while a negative covariance indicates a negative relationship.\n",
    "However, it does not provide any information about the strength of the relationship.\n",
    "Correlation, on the other hand, provides information about both the direction and strength of the linear relationship between two variables.\n",
    "\n",
    "Units: Covariance is measured in units that are the product of the units of the two variables being measured. Correlation is unitless.\n",
    "\"\"\""
   ]
  },
  {
   "cell_type": "markdown",
   "id": "1aa8e5fc-6cd4-446a-9b13-512cf6954fe6",
   "metadata": {},
   "source": [
    "Question_14: How do outliers affect measures of central tendency and dispersion? Provide an example."
   ]
  },
  {
   "cell_type": "code",
   "execution_count": null,
   "id": "83e4a661-e87b-4ebc-be38-aabb8501f04a",
   "metadata": {},
   "outputs": [],
   "source": [
    "Answer_14 = \"\"\" \n",
    "Outliers are data points that are significantly different from other observations in a dataset.\n",
    "Outliers can have a significant impact on measures of central tendency and dispersion.\n",
    "\n",
    "Measures of central tendency, such as the mean, are affected by outliers because they are calculated using all the data points in the dataset.\n",
    "If there are outliers present, they can significantly pull the mean in one direction or another,\n",
    "causing it to be an inaccurate representation of the center of the dataset.\n",
    "\n",
    "For example, suppose we have the following dataset: [2, 3, 4, 5, 6, 7, 100].\n",
    "The mean of this dataset is (2+3+4+5+6+7+100) / 7 = 18.43.\n",
    "However, the outlier value of 100 is significantly larger than all the other values in the dataset,\n",
    "which makes the mean an inaccurate representation of the center of the dataset.\n",
    "\n",
    "Outliers can also affect measures of dispersion, such as the range, variance, and standard deviation.\n",
    "Outliers can increase the range of the dataset, which makes it difficult to interpret the spread of the data.\n",
    "Outliers can also increase the variance and standard deviation, which makes the spread of the data appear larger than it actually is.\n",
    "\n",
    "For example, suppose we have the following dataset: [2, 3, 4, 5, 6, 7, 100].\n",
    "The range of this dataset is 98,\n",
    "which makes the spread of the data appear much larger than it actually is.\n",
    "The variance of this dataset is 1372.8,\n",
    "which is also significantly larger than it would be if the outlier were not present.\n",
    "\"\"\""
   ]
  }
 ],
 "metadata": {
  "kernelspec": {
   "display_name": "Python 3 (ipykernel)",
   "language": "python",
   "name": "python3"
  },
  "language_info": {
   "codemirror_mode": {
    "name": "ipython",
    "version": 3
   },
   "file_extension": ".py",
   "mimetype": "text/x-python",
   "name": "python",
   "nbconvert_exporter": "python",
   "pygments_lexer": "ipython3",
   "version": "3.10.8"
  }
 },
 "nbformat": 4,
 "nbformat_minor": 5
}
