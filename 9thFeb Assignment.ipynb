{
 "cells": [
  {
   "cell_type": "code",
   "execution_count": 9,
   "id": "e0b467fc-4f58-4854-a699-c0fd54c8aaf2",
   "metadata": {},
   "outputs": [
    {
     "name": "stdout",
     "output_type": "stream",
     "text": [
      "There goes the details of object you created:-\n",
      "Name:- Tata Sierra Ev\n",
      "max_speed:- 120\n",
      "average:- 60\n"
     ]
    }
   ],
   "source": [
    "# Question: Create a vehicle class with an init method having instance variables as name_of_vehicle, max_speed and average_of_vehicles.\n",
    "class vehicle:\n",
    "    def __init__(self, name_of_vehicle, max_speed, average_of_vehicle):\n",
    "        self.name = name_of_vehicle;\n",
    "        self.max_speed = max_speed;\n",
    "        self.average = average_of_vehicle;\n",
    "    def print_details(self):\n",
    "        print(\"There goes the details of object you created:-\");\n",
    "        print(\"Name:-\" , self.name);\n",
    "        print(\"max_speed:-\", self.max_speed);\n",
    "        print(\"average:-\", self.average);\n",
    "obj = vehicle(\"Tata Sierra Ev\" , 120, 60);\n",
    "obj.print_details();"
   ]
  },
  {
   "cell_type": "code",
   "execution_count": 12,
   "id": "d4c0eb01-ca2d-4198-8ce3-30362fcdbd83",
   "metadata": {},
   "outputs": [
    {
     "name": "stdout",
     "output_type": "stream",
     "text": [
      "Name of the vehicle:- Tata Sierra Ev\n",
      "Seating Capacity:- 8\n"
     ]
    }
   ],
   "source": [
    "# Question: Create a child class car from the vehicle class created in Que 1, which will inehrit the vehicle class. Create a method named seating_capacity which takes capacity as an argument and returns the name of the vehicle and its seating capacity.\n",
    "class vehicle:\n",
    "    def __init__(self, name_of_vehicle, max_speed, average_of_vehicle):\n",
    "        self.name = name_of_vehicle;\n",
    "        self.max_speed = max_speed;\n",
    "        self.average = average_of_vehicle;\n",
    "\n",
    "class child_class_car(vehicle):\n",
    "    def __init__(self, name,mx, avg):\n",
    "        vehicle.__init__(self, name, mx, avg);\n",
    "    def seating_capacity(self, capacity):\n",
    "        print(\"Name of the vehicle:-\", self.name);\n",
    "        print(\"Seating Capacity:-\", capacity);\n",
    "obj = child_class_car(\"Tata Sierra Ev\" , 120 , 60);\n",
    "obj.seating_capacity(8);"
   ]
  },
  {
   "cell_type": "code",
   "execution_count": 28,
   "id": "b17e8b6b-dddc-4aec-923d-d5d0f40c34af",
   "metadata": {},
   "outputs": [
    {
     "name": "stdout",
     "output_type": "stream",
     "text": [
      "I am in class one.\n",
      "I am in class two.\n",
      "\n",
      "We have functions with same name in both base classes.\n",
      "By default object will acquire the method of first argument i.e ClsOne in this case\n",
      "\n",
      "This common function is in class1\n",
      "\n",
      "we can call the method by our choice by using this syntax\n",
      "class_name.method_name(object_name)\n",
      "\n",
      "This common function is in class1\n",
      "This common function is in class2.\n"
     ]
    }
   ],
   "source": [
    "# Question: What is multiple inehritance? Write a python code to demonstrate multiple inheritance?\n",
    "ans = \"\"\"\n",
    "Multiple Inheritance:- \n",
    "When a class is derived from more than one base class it is called multiple inheritance.\n",
    "The derived class inherits all the featrures of the base case.\n",
    "General Syntax in multiple inheritance:\n",
    "class baseOne:\n",
    "    there goes body of the base class 1.\n",
    "class baseTwo:\n",
    "    there goes body of the base class 2.\n",
    "class baseThree(baseOne, baseTwo):\n",
    "    there goes body of baseThree,\n",
    "    also this class can access the properties of both base classes.\n",
    "\"\"\";\n",
    "# Example:-\n",
    "class ClsOne:\n",
    "    def methodOne(self):\n",
    "        print(\"I am in class one.\");\n",
    "    def Common(self):\n",
    "        print(\"This common function is in class1\")\n",
    "class ClsTwo:\n",
    "    def methodTwo(self):\n",
    "        print(\"I am in class two.\");\n",
    "    def Common(self):\n",
    "        print(\"This common function is in class2.\");\n",
    "class ClsThree(ClsOne , ClsTwo):\n",
    "    pass;\n",
    "obj = ClsThree();\n",
    "obj.methodOne();\n",
    "obj.methodTwo();\n",
    "print();\n",
    "print(\"We have functions with same name in both base classes.\\nBy default object will acquire the method of first argument i.e ClsOne in this case\")\n",
    "print();\n",
    "obj.Common();\n",
    "print();\n",
    "print(\"we can call the method by our choice by using this syntax\\nclass_name.method_name(object_name)\");\n",
    "print();\n",
    "ClsOne.Common(obj);\n",
    "ClsTwo.Common(obj);"
   ]
  },
  {
   "cell_type": "code",
   "execution_count": 24,
   "id": "707341b4-cf08-42d7-8454-2851659fc48a",
   "metadata": {},
   "outputs": [
    {
     "name": "stdout",
     "output_type": "stream",
     "text": [
      "Shafin\n",
      "20\n"
     ]
    }
   ],
   "source": [
    "# Question: What are getter and setter in python? Create a class and create a getter and a setter method in this class?\n",
    "ans = \"\"\"\n",
    "    Getter and setters are generally used to ensure data encapsulation.\n",
    "    In python we use getters and setters to add validation logic around geeting and setting a value.\n",
    "    To avoid direct access of a class field i.e private variables cannot be accessed directly or modified by external user.\n",
    "\"\"\";\n",
    "# There goes the example:\n",
    "class demo_getter_setter:\n",
    "    def __init__(self, name = \"\", number=0):\n",
    "        self._name = name;\n",
    "        self._number = number;\n",
    "    def get_name(self):\n",
    "        return self._name;\n",
    "    def get_number(self):\n",
    "        return self._number;\n",
    "    def set_name(self, name):\n",
    "        self._name = name;\n",
    "    def set_number(self, number):\n",
    "        self._number = number;\n",
    "demo = demo_getter_setter();\n",
    "demo.set_name(\"Shafin\");\n",
    "demo.set_number(20);\n",
    "print(demo.get_name());\n",
    "print(demo.get_number());"
   ]
  },
  {
   "cell_type": "code",
   "execution_count": 29,
   "id": "c3d7482a-67fb-40b9-bbca-bacaca16d91c",
   "metadata": {},
   "outputs": [
    {
     "name": "stdout",
     "output_type": "stream",
     "text": [
      "When created object of parent and called show() method we will get inside parent! printed on console\n",
      "\n",
      "Inside parent!!\n",
      "When created object of child, show method will be overriden return Inside child as the value to be printed on console.\n",
      " If there would not have been any show method defined in child class, then Inside Parent would be returned as value.\n",
      "Inside Child\n"
     ]
    }
   ],
   "source": [
    "# Question: What is method overriding in python? Write a python code to demonstrate method overriding?\n",
    "ans = \"\"\"\n",
    "Method Overriding:-\n",
    "It is an ability of any object-oriented programming languate that allows a subclass or child class,\n",
    "to provide a specific implementation of a method that is already provided by one of its super-classes or parent classes.\n",
    "When the method in a sub class has the same name, same parameters or signature and same return type(or sub-type),\n",
    "as a method in its super-class, then the method in the subclass is said to override the method in the super-class.\n",
    "The version of a method that is executed will be determined by the object that is used to invoke it.\n",
    "It an object of a parent class is used to invoke the method, then the version in the parent class will be executed,\n",
    "but if an object of the subclass is used to invoke the method, then the version in the child class will be executed.\n",
    "\"\"\";\n",
    "# There goes an example:-\n",
    "class Parent():\n",
    "    def __init__(self):\n",
    "        self.state= \"Inside parent!!\";\n",
    "    def show(self):\n",
    "        print(self.state);\n",
    "class Child(Parent):\n",
    "    def __init__(self):\n",
    "        self.state = \"Inside Child\";\n",
    "    def show(self):\n",
    "        print(self.state);\n",
    "obj1 = Parent();\n",
    "obj2 = Child();\n",
    "print(\"When created object of parent and called show() method we will get inside parent! printed on console\\n\");\n",
    "obj1.show();\n",
    "print(\"When created object of child, show method will be overriden return Inside child as the value to be printed on console.\\n If there would not have been any show method defined in child class, then Inside Parent would be returned as value.\")\n",
    "obj2.show();"
   ]
  },
  {
   "cell_type": "code",
   "execution_count": null,
   "id": "d31ed675-ca21-486b-9879-ed8732057643",
   "metadata": {},
   "outputs": [],
   "source": []
  }
 ],
 "metadata": {
  "kernelspec": {
   "display_name": "Python 3 (ipykernel)",
   "language": "python",
   "name": "python3"
  },
  "language_info": {
   "codemirror_mode": {
    "name": "ipython",
    "version": 3
   },
   "file_extension": ".py",
   "mimetype": "text/x-python",
   "name": "python",
   "nbconvert_exporter": "python",
   "pygments_lexer": "ipython3",
   "version": "3.10.8"
  }
 },
 "nbformat": 4,
 "nbformat_minor": 5
}
