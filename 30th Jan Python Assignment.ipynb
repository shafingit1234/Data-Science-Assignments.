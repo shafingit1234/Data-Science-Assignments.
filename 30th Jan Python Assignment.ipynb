{
 "cells": [
  {
   "cell_type": "code",
   "execution_count": null,
   "id": "563fb239-38d0-43e5-a781-1f6a87957f25",
   "metadata": {},
   "outputs": [],
   "source": [
    "# Write a program to accept percentage from the user and display the grade according to the following criteria?\n",
    "percent = float(input('Enter percentage: '));\n",
    "if percent > 90:\n",
    "    print('A');\n",
    "elif percent > 80 and percent <= 90:\n",
    "    print('B');\n",
    "elif percent >= 60 and percent <= 80:\n",
    "    print('C');\n",
    "elif percent < 60:\n",
    "    print('D');\n"
   ]
  },
  {
   "cell_type": "code",
   "execution_count": null,
   "id": "2140c36f-407b-482a-a6c9-aabe8f883dfa",
   "metadata": {},
   "outputs": [],
   "source": [
    "# write a program to accept the cost price of a bike and display the road tax to be paid according to the following criteria:\n",
    "cost_price = float(input('Enter price: '));\n",
    "if cost_price > 100000:\n",
    "    print('15%');\n",
    "elif cost_price > 50000 and cost_price <= 100000:\n",
    "    print('10%');\n",
    "elif cost_price <= 50000:\n",
    "    print('5%');"
   ]
  },
  {
   "cell_type": "code",
   "execution_count": null,
   "id": "385e426f-8e7a-47c2-8da9-abab5e50c6f8",
   "metadata": {},
   "outputs": [],
   "source": [
    "city = input('Enter city name: ');\n",
    "if city == 'Delhi':\n",
    "    print(\"Red Fort\");\n",
    "elif city == 'Agra':\n",
    "    print(\"Taj Mahal\");\n",
    "elif city == 'Jaipur':\n",
    "    print(\"Jal Mahal\");\n",
    "else:\n",
    "    print(\"Give Valid input\");"
   ]
  },
  {
   "cell_type": "code",
   "execution_count": null,
   "id": "1f1543dd-d414-4888-82fc-302909a0a81f",
   "metadata": {},
   "outputs": [],
   "source": [
    "# Check how many times a given number can be divided by 3 before it is less than or equal to 10:\n",
    "num = int(input('Enter a number: '));\n",
    "orig = num;\n",
    "count = 0;\n",
    "while num > 10:\n",
    "    num= num/3;\n",
    "    count = count+1;\n",
    "print(\"number\",orig, \"can be divided by 3 before it is less than or equal to 10 for\" , count, \"times.\");"
   ]
  },
  {
   "cell_type": "code",
   "execution_count": null,
   "id": "754af5d5-d441-4fdb-8f91-11572ab68fba",
   "metadata": {},
   "outputs": [],
   "source": [
    "# why and when to use while loop in python, give a detailed decription with example?\n",
    "ans = \"\"\" Python while loop is used to run a block code until a certain condition is met. Whereas For statement iterates through a collection or iterable object or generator function.\n",
    "It depends on what our data structures are, that governs when to use while statements and when to use other loop statements.\n",
    "If we don't have a tidy data structure to iterate through, then we prefer using while loop else for loop. \n",
    "For example, if we have a list l = [1,2,3,4,5,5], to iterate the list using for loop code will look like:\n",
    "for i in l:\n",
    "    print(i, end = \" \");\n",
    "but if I use while loop, code will look like,\n",
    "i = 0;\n",
    "while i<len(l):\n",
    "    print(l[i],end=\" \");\n",
    "For data structures like list for loop is much preferable as compared to while loop, since it is easier to implement.\n",
    "\"\"\""
   ]
  },
  {
   "cell_type": "code",
   "execution_count": null,
   "id": "1d30c2a9-a6ea-47f7-bca5-b950c97dc4e4",
   "metadata": {},
   "outputs": [],
   "source": [
    "# Use nested while loop to print 3 different pattern.\n",
    "def patternOne(n):\n",
    "    print(\"Pattern One goes here: \");\n",
    "    i=0;\n",
    "    while i < n:\n",
    "        j=0;\n",
    "        while j < (i+1):\n",
    "            print(\"* \", end = \"\");\n",
    "            j=j+1;\n",
    "        print(\"\\r\");\n",
    "        i = i+1;\n",
    "def patternTwo(n):\n",
    "    print(\"Pattern Two goes here: \");\n",
    "    spaces = 2*n - 2;\n",
    "    i=0;\n",
    "    # for i in range(0,n):\n",
    "    while i < n:\n",
    "        j=0;\n",
    "        # for j in range(0,spaces):\n",
    "        while j < spaces:\n",
    "            print(end = \" \");\n",
    "            j=j+1;\n",
    "        spaces = spaces-2;\n",
    "        j=0;\n",
    "        # for j in range(0,i+1):\n",
    "        while j < (i+1):\n",
    "            print(\"* \" , end=\"\");\n",
    "            j=j+1;\n",
    "        print(\"\\r\");\n",
    "        i=i+1;\n",
    "def patternThree(n):\n",
    "    print(\"Pattern Three Goes here: \");\n",
    "    spaces = n - 1;\n",
    "    i=0;\n",
    "    # for i in range(0 , n):\n",
    "    while i < n:\n",
    "        j=0;\n",
    "        # for j in range(0 , spaces):\n",
    "        while j < spaces:\n",
    "            print(end= \" \");\n",
    "            j=j+1;\n",
    "        spaces = spaces-1;\n",
    "        # for j in range(0,i+1):\n",
    "        while j < (i+1):\n",
    "            print(\"* \" , end=\"\");\n",
    "            j=j+1;\n",
    "        print(\"\\r\");\n",
    "        i = i+1;\n",
    "\n",
    "def main():\n",
    "    n = 5;\n",
    "    patternOne(n);\n",
    "    patternTwo(n);\n",
    "    patternThree(n);\n",
    "\n",
    "main();\n"
   ]
  },
  {
   "cell_type": "code",
   "execution_count": null,
   "id": "20439094-1fe6-4287-86c4-a4e732b4672c",
   "metadata": {},
   "outputs": [],
   "source": [
    "# Reverse a while loop to display numbers from 10 to 1.\n",
    "num = 10;\n",
    "while num!=0:\n",
    "    print(num, end=\" \");\n",
    "    num = num-1;\n"
   ]
  },
  {
   "cell_type": "code",
   "execution_count": null,
   "id": "78af74d6-8112-4587-8290-7f1a071aac46",
   "metadata": {},
   "outputs": [],
   "source": [
    "# Reverse a while loop to display numbers from 10 to 1.\n",
    "num = 10;\n",
    "while num!=0:\n",
    "    print(num, end=\" \");\n",
    "    num = num-1;"
   ]
  },
  {
   "cell_type": "code",
   "execution_count": null,
   "id": "616d4ee3-4072-489f-b56e-b4af82e75ffc",
   "metadata": {},
   "outputs": [],
   "source": []
  }
 ],
 "metadata": {
  "kernelspec": {
   "display_name": "Python 3 (ipykernel)",
   "language": "python",
   "name": "python3"
  },
  "language_info": {
   "codemirror_mode": {
    "name": "ipython",
    "version": 3
   },
   "file_extension": ".py",
   "mimetype": "text/x-python",
   "name": "python",
   "nbconvert_exporter": "python",
   "pygments_lexer": "ipython3",
   "version": "3.10.8"
  }
 },
 "nbformat": 4,
 "nbformat_minor": 5
}
