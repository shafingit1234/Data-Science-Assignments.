{
 "cells": [
  {
   "cell_type": "code",
   "execution_count": 1,
   "id": "1e0e351a-fd48-441d-be8d-c2d0d7c5368e",
   "metadata": {},
   "outputs": [],
   "source": [
    "# Question: What is multithreading in python? Why is it used? Name the module used to handle threads in python?\n",
    "ans = \"\"\" \n",
    "    Multithreading is a threading technique in python to run multiple threads,\n",
    "    concurrently by rapidly switching between threads with a CPU help (context switching).\n",
    "    It allows sharing of its data space with the main threads inside a proces that share information and\n",
    "    communication with other threads easier than individual processes.\n",
    "    \n",
    "    Multithreading is used since it aims to perform multiple tasks simultaneously which increases performance,\n",
    "    speed and improves the rendering of the application.\n",
    "\"\"\""
   ]
  },
  {
   "cell_type": "code",
   "execution_count": 2,
   "id": "e1fd3388-ba60-4656-a56d-40936aac6e45",
   "metadata": {},
   "outputs": [],
   "source": [
    "# Question: Why Threading module used? Write the use of the following functions.\n",
    "# 1. activeCount() 2.currentThread() 3. enumerate()\n",
    "ans = \"\"\" \n",
    "    We can make use of either thread module or threading module to implement multithreading oriented ideas.\n",
    "    Threading module is much preferred over thread module.\n",
    "    Thread module exposes a fairly raw view of the underlying OS level processes, which know one wants,\n",
    "    on the other hand threading adds some additional accounting as well as several convenience utilities,\n",
    "    which makes it as an obvious choice for programmers in majority of cases.\n",
    "    1. activeCount(): it is used to count the currently active or running threads.\n",
    "    2. currentThread(): It is used to return the current thread object which corresponds,\n",
    "    to the caller's thread of control.\n",
    "    3. enumerate(): returns a list of all Thread objects currently alive.\n",
    "\"\"\""
   ]
  },
  {
   "cell_type": "code",
   "execution_count": 3,
   "id": "94ff7e0e-549d-4ddd-acf1-433b92787c60",
   "metadata": {},
   "outputs": [],
   "source": [
    "# Question: Explain the following functions>\n",
    "# run(), start(), join(), isAlive()\n",
    "ans = \"\"\" \n",
    "run(): is an inbuilt method of the Thread class of the threading module in python.\n",
    "This method is the entry point for a thread.\n",
    "start(): the start() method starts a thread by calling the run method.\n",
    "join(): The join() waits for threads to terminate.\n",
    "isAlive(): This method checks whether a thread is still executing.\n",
    "\"\"\""
   ]
  },
  {
   "cell_type": "code",
   "execution_count": 13,
   "id": "96c84d62-76fc-422b-8763-bd0efcc17176",
   "metadata": {},
   "outputs": [
    {
     "name": "stdout",
     "output_type": "stream",
     "text": [
      "Squares of first 10 numbers found using threads\n",
      "0 1 4 9 16 25 36 49 64 81 \n",
      "Cubes of first 10 numbers found using threads\n",
      "0 1 8 27 64 125 216 343 512 729 "
     ]
    }
   ],
   "source": [
    "# Question: Write a python program to create two thread. Thread one must pring the list of squreas and thread two must print the list of cubes.\n",
    "import threading;\n",
    "def findSquare(i):\n",
    "    print(i**2 , end = \" \");\n",
    "def findCube(i):\n",
    "    print(i**3 , end = \" \");\n",
    "thread1 = [threading.Thread(target = findSquare , args = (i ,)) for i in range(10) ];\n",
    "thread2 = [threading.Thread(target = findCube , args = (i,)) for i in range(10)];\n",
    "print(\"Squares of first 10 numbers found using threads\");\n",
    "for t in thread1:\n",
    "    t.start();\n",
    "print();\n",
    "print(\"Cubes of first 10 numbers found using threads\");\n",
    "for t in thread2:\n",
    "    t.start();"
   ]
  },
  {
   "cell_type": "code",
   "execution_count": 5,
   "id": "396b1b75-c2bc-4eda-8f93-064537d02d3e",
   "metadata": {},
   "outputs": [],
   "source": [
    "# State advantages and disadvantages of multithreading.\n",
    "ans = \"\"\" \n",
    "Advantages:\n",
    "1.Enhanced performance by decreased development time.\n",
    "2. Better resource utilization.\n",
    "3. Simplified and streamlined program coding.\n",
    "4. Parallelixed occurence of tasks.\n",
    "5. Decreased cost of maintenance.\n",
    "6. Better use of CPU resource.\n",
    "Disadvantages:\n",
    "1. Complex Debugging and testing processes.\n",
    "2. Overhead switching of context.\n",
    "3. Increased potential for deadlock occurence.\n",
    "4. Unpredictable results.\n",
    "\"\"\""
   ]
  },
  {
   "cell_type": "code",
   "execution_count": null,
   "id": "3ded3a45-5200-4622-9fce-5185f3751a40",
   "metadata": {},
   "outputs": [],
   "source": [
    "# Explain Deadlocks and race conditions?\n",
    "ans = \"\"\" \n",
    "Deadlocks:- A deadlock is a situation in which two computer programs sharing the same resource,\n",
    "are effectively preventing each other from accessing the resource causing endless starvation, and\n",
    "resulting in system crash.\n",
    "Race Conditions:- A race condition is an undesirable situation that occurs when a device or system\n",
    "attempts to perform two or more operations at the same time, but because of the nature of the device or system,\n",
    "the operations must be done in the proper sequence to be done correctly.\n",
    "\"\"\""
   ]
  }
 ],
 "metadata": {
  "kernelspec": {
   "display_name": "Python 3 (ipykernel)",
   "language": "python",
   "name": "python3"
  },
  "language_info": {
   "codemirror_mode": {
    "name": "ipython",
    "version": 3
   },
   "file_extension": ".py",
   "mimetype": "text/x-python",
   "name": "python",
   "nbconvert_exporter": "python",
   "pygments_lexer": "ipython3",
   "version": "3.10.8"
  }
 },
 "nbformat": 4,
 "nbformat_minor": 5
}
