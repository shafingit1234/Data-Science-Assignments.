{
 "cells": [
  {
   "cell_type": "code",
   "execution_count": 6,
   "id": "0a51d56a-a22f-45ef-adb0-cd0feaecfe81",
   "metadata": {},
   "outputs": [],
   "source": [
    "# Question: Which function is used to open to file? What are the different modes of opening a file? Explain each mode of file opening.\n",
    "ans = \"\"\" \n",
    "    Function that helps in opening or creating a file is open(), it takes two parameters filename and mode.\n",
    "    Different modes that can be used to govern file operations are:\n",
    "    1. \"r\": read - Default value, opens a file for reading, error if the file does not exist.\n",
    "    2. \"a\": append- opens a file for appending, creates the file if it does not exist, do not truncates previously written information.\n",
    "    3. \"w\": write - opens a file for writing, creates the file if it does not exist, truncates previously written data in the file.\n",
    "    4. \"x\": create- Creates the specified file, returns an error if the file exists.\n",
    "    5. \"t\": text - Default value, that is text mode.\n",
    "    6. \"b\": binary mode, deals with images, videos or audio files.\n",
    "\"\"\";\n",
    "# Example of write mode.\n",
    "f = open(\"text.txt\" , 'w');\n",
    "f.write(\"We are in text.txt, this line is written using file handling operations of python.\");\n",
    "f.close();\n",
    "# Example of read mode;\n",
    "f = open(\"text.txt\" , 'r');\n",
    "data = f.read();\n",
    "data\n",
    "f.close();\n",
    "#Example of append mode;\n",
    "f = open(\"text.txt\" , \"a\");\n",
    "f.write(\"This line is appended using append mode\");\n",
    "f.close();\n",
    "\n"
   ]
  },
  {
   "cell_type": "code",
   "execution_count": 7,
   "id": "fb2e6ead-d38c-4eed-bbb2-4a656c1953df",
   "metadata": {},
   "outputs": [],
   "source": [
    "# Question: Why close() function is used? Why is it important to close a file?\n",
    "ans = \"\"\" \n",
    "python close() function closes the opened file. A closed file cannot be read or written any more.\n",
    "It is important to use close() function at the end, reason if the file has any sort of buffering behind it and if close() is not called then we might lose data.\n",
    "Also if close() is not called, then we are wasting os resources.\n",
    "\"\"\" "
   ]
  },
  {
   "cell_type": "code",
   "execution_count": 8,
   "id": "e5135cc4-a13b-4255-9790-7f4402ab37c8",
   "metadata": {},
   "outputs": [
    {
     "data": {
      "text/plain": [
       "'I want to become a Data Scientist'"
      ]
     },
     "execution_count": 8,
     "metadata": {},
     "output_type": "execute_result"
    }
   ],
   "source": [
    "# Question: Write a python program to create a text file? Write I want to become a data scientist in that file. Then close the file. Open this file and read the content of the file.\n",
    "f = open(\"sample.txt\" , \"w\");\n",
    "f.write(\"I want to become a Data Scientist\");\n",
    "f.close();\n",
    "f = open(\"sample.txt\" , \"r\");\n",
    "data = f.read();\n",
    "data"
   ]
  },
  {
   "cell_type": "code",
   "execution_count": 19,
   "id": "f8652d0f-1ad9-4eb3-84f1-e4273484b036",
   "metadata": {},
   "outputs": [
    {
     "name": "stdout",
     "output_type": "stream",
     "text": [
      "This is sampleTwo.txt.\n",
      "Hello, I am shafin\n",
      "I am learning data science\n",
      " Apart from this I am a mern stack developer\n",
      "Solved 1000+ DSA problems\n",
      " Also enthusiast about blockchain development.\n",
      "----------------------\n",
      "This is sampleTwo.txt.\n",
      "\n",
      "['This is sampleTwo.txt.\\n', 'Hello, I am shafin\\n', 'I am learning data science\\n', ' Apart from this I am a mern stack developer\\n', 'Solved 1000+ DSA problems\\n', ' Also enthusiast about blockchain development.']\n"
     ]
    }
   ],
   "source": [
    "# Question: Explain the following with python code: read(), readline(), readlines()\n",
    "# Let's make a file having some sentences written in there.\n",
    "f = open(\"sampleTwo.txt\" , \"w\");\n",
    "f.write(\"This is sampleTwo.txt.\\nHello, I am shafin\\nI am learning data science\\n Apart from this I am a mern stack developer\\nSolved 1000+ DSA problems\\n Also enthusiast about blockchain development.\");\n",
    "f.close();\n",
    "read = \"\"\" read() method reads some quantity of data and returns it as a string or bytes object. Size is an optional numeric argument.\"\"\"\n",
    "f = open(\"sampleTwo.txt\", \"r\");\n",
    "dataOne = f.read();\n",
    "print(dataOne)\n",
    "f.close();\n",
    "readline = \"\"\" reads a single line from the file. \"\"\"\n",
    "print(\"----------------------\")\n",
    "f = open(\"sampleTwo.txt\" , \"r\");\n",
    "dataTwo = f.readline();\n",
    "print(dataTwo);\n",
    "f.close();\n",
    "readlines = \"\"\" gets a list of string values from the file, one string for each line of text.\"\"\"\n",
    "f = open(\"sampleTwo.txt\" , \"r\");\n",
    "dataThree = f.readlines();\n",
    "print(dataThree);\n",
    "f.close();"
   ]
  },
  {
   "cell_type": "code",
   "execution_count": 20,
   "id": "c82f1c2b-490a-4c7a-b364-dec6b4b45524",
   "metadata": {},
   "outputs": [],
   "source": [
    "# Question: Explain why with statement is used with open()? What is the advantage of using with statement and open() together?\n",
    "ans = \"\"\" \n",
    "    in python, you can access a file by using the open() method. However, using the open() method directly requires you to use the close() method to close the file.\n",
    "    Instead we can create a context using the with open statement in python which will return a file object having methods and attributes for getting information about how the opened file can be manipulated.\n",
    "    There is no need to write f.close() while using with open statement.\n",
    "    It helps in writing a much cleaner file handling code.\n",
    "    General syntax using 'with open' statement.\n",
    "    with open(\"text.txt\") as f:\n",
    "        data = f.read();\n",
    "    Syntax without using 'with open' statement.\n",
    "    f = open(\"text.txt\");\n",
    "    data = f.read();\n",
    "    f.close();\n",
    "    \n",
    "\"\"\""
   ]
  },
  {
   "cell_type": "code",
   "execution_count": 24,
   "id": "70c9b403-2863-4dfc-8af8-f6beeece473f",
   "metadata": {},
   "outputs": [
    {
     "name": "stdout",
     "output_type": "stream",
     "text": [
      "write() method example\n"
     ]
    },
    {
     "name": "stdin",
     "output_type": "stream",
     "text": [
      "Enter name: shafin\n",
      "Enter name: kirpal\n",
      "Enter name: nishan\n"
     ]
    },
    {
     "name": "stdout",
     "output_type": "stream",
     "text": [
      "shafin\n",
      "kirpal\n",
      "nishan\n",
      "\n",
      "writelines() method example\n"
     ]
    },
    {
     "name": "stdin",
     "output_type": "stream",
     "text": [
      "Enter name: kirpal\n",
      "Enter name: shafin\n",
      "Enter name: nishan\n"
     ]
    },
    {
     "name": "stdout",
     "output_type": "stream",
     "text": [
      "kirpal\n",
      "shafin\n",
      "nishan\n",
      "\n"
     ]
    }
   ],
   "source": [
    "# Question: Explain write() and writelines() functions. Give a suitabe example?\n",
    "ans = \"\"\" \n",
    "    write() function writes the content in the file without adding any extra characters.\n",
    "    Write does not add a newline character to the end of the string.\n",
    "    write() returns none.\n",
    "    \n",
    "    writelines() writes the content of a list of strings to a file.\n",
    "    similar to write() it does not add a newline character to the end of the string.\n",
    "\"\"\";\n",
    "print(\"write() method example\");\n",
    "f1 = open(\"text.txt\" , \"w\");\n",
    "for i in range(3):\n",
    "    name = input(\"Enter name:\");\n",
    "    f1.write(name);\n",
    "    f1.write('\\n');\n",
    "f1.close();\n",
    "f1 = open(\"text.txt\" , \"r\");\n",
    "data = f1.read();\n",
    "print(data);\n",
    "# print();\n",
    "print(\"writelines() method example\");\n",
    "f1 = open(\"text.txt\" , \"w\");\n",
    "lst = list();\n",
    "for i in range(3):\n",
    "    name = input(\"Enter name:\");\n",
    "    lst.append(name + '\\n'); \n",
    "f1.writelines(lst);\n",
    "f1.close();\n",
    "f1 = open(\"text.txt\" , \"r\");\n",
    "data = f1.read();\n",
    "print(data);\n"
   ]
  },
  {
   "cell_type": "code",
   "execution_count": null,
   "id": "b7e3c0e5-3621-4d30-853f-294e7b0002ef",
   "metadata": {},
   "outputs": [],
   "source": []
  }
 ],
 "metadata": {
  "kernelspec": {
   "display_name": "Python 3 (ipykernel)",
   "language": "python",
   "name": "python3"
  },
  "language_info": {
   "codemirror_mode": {
    "name": "ipython",
    "version": 3
   },
   "file_extension": ".py",
   "mimetype": "text/x-python",
   "name": "python",
   "nbconvert_exporter": "python",
   "pygments_lexer": "ipython3",
   "version": "3.10.8"
  }
 },
 "nbformat": 4,
 "nbformat_minor": 5
}
