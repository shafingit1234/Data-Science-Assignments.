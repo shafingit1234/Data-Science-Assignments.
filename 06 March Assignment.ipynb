{
 "cells": [
  {
   "cell_type": "markdown",
   "id": "afdb06ad-f2d0-4375-b6a5-2577ff1a7b36",
   "metadata": {},
   "source": [
    "Question 1: What is Statistics?"
   ]
  },
  {
   "cell_type": "code",
   "execution_count": 4,
   "id": "bba2fa31-0c9a-45c6-9960-dd3f178bcd14",
   "metadata": {},
   "outputs": [],
   "source": [
    "Answer_1 = \"\"\"Statistics in data science is the study of how to collect, analyze, interpret, and present data.\n",
    "It is a branch of mathematics that deals with the analysis of data, which can be used to gain insights, make predictions and inform decision making.\n",
    "In Data-Science, statistics is used to summarize and describe data through measures such as mean, median, mode, and standard deviation.\n",
    "It is also used to test hypothesis and make inferences about populations based on samples of data.\n",
    "Additionally, statistical models are used to make predictions and identify relationships between variables.\"\"\""
   ]
  },
  {
   "cell_type": "markdown",
   "id": "465391db-4ae1-4b2c-92f3-a9c7dd232376",
   "metadata": {},
   "source": [
    "Question2: Define the different types of statistics and give an example of when each type might be used."
   ]
  },
  {
   "cell_type": "code",
   "execution_count": 5,
   "id": "52f37620-bb97-4f9e-b96d-448af195b741",
   "metadata": {},
   "outputs": [],
   "source": [
    "Answer_2 = \"\"\" There are two major types of Statistics:-\n",
    "1. Descriptive Statistics:\n",
    "   It involves the collection, analysis, and presentation of data to summarize and describe characteristics of a dataset.\n",
    "   It is used to provide concise and meaningful summary of data through measures such as central tendency, variability, and shape.\n",
    "   Descriptive statistics is generally used when data is available for the entire population of interest,\n",
    "   or when a sample is used to estimate population parameters.\n",
    "\n",
    "2. Inferential Statistics:\n",
    "   It involves making predictions or generalizations about a population based on data from a sample.\n",
    "   It is used to draw conclusions or test hypotheses about the population using the sample data. \n",
    "   Inferential statistics is generally used when data is not available for the entire population,\n",
    "   and a sample is used to make inferences about the population.\n",
    "\n",
    "Examples:-\n",
    "Descriptive:- A researcher collects data on the heights of 100 students in a school.\n",
    "The researcher used descriptive statistics to summarize the data by calculating the mean height,\n",
    "standard deviation, and creating a histogram to visualize the distribution of heights.\n",
    "\n",
    "Inferential:- A company wants to determine whether a new product will be successful among its target market.\n",
    "The company collects a sample of data from a group of customers who have purchased the product and uses inferential statistics,\n",
    "to determine whether the data supports the conclusion that the product will be successful among the entire target market.\n",
    "The company may use techniques such as hypothesis testing, confidence intervals, or regression analysis to draw conclusions about the population.\"\"\"\n"
   ]
  },
  {
   "cell_type": "markdown",
   "id": "48721988-8d20-4049-8ce4-263973063ec2",
   "metadata": {},
   "source": [
    "Question 3: What are differrent types of data and how do they differ from each other? Provide an example of each type of data."
   ]
  },
  {
   "cell_type": "code",
   "execution_count": 6,
   "id": "193c3ad7-46e0-4956-affd-484a52ee5bc8",
   "metadata": {},
   "outputs": [],
   "source": [
    "Answer_3= \"\"\"\n",
    "The Two Major types of data are:-\n",
    "1. Quantitative Data: When data is collected about a variable that can be measured with numerical values, it is called quantitative data.\n",
    "Examples of quantitative data include age, height, weight, and number of hours worked.\n",
    "2. Qualitative Data: When data is collected about a variable that represents categories or attributes, it is called qualitative data.\n",
    "Examples of qualitative data include gender, occupation, color, and type of car.\n",
    "\n",
    "Therefore, the type of data collected is determined by the nature of the variable being measured. If the variable is numeric,\n",
    "the resulting data will be quantitative. If the variable is categorical, the resulting data will be qualitative.\n",
    "Both types of data play an important role in statistical analysis and can provide valuable insights depending on the research question and context.\n",
    "\"\"\""
   ]
  },
  {
   "cell_type": "markdown",
   "id": "7e6d6229-83fe-4811-90f7-bf900e8dc3b8",
   "metadata": {},
   "source": [
    "Question 4: Categorise the following datasets with respect to quantitative and qualitive data types:"
   ]
  },
  {
   "cell_type": "code",
   "execution_count": 7,
   "id": "1f33ba3a-40f7-448a-9df9-f86794f848e7",
   "metadata": {},
   "outputs": [],
   "source": [
    "Answer_4 = \"\"\"\n",
    "1. Grading in exam: A+, A, B+, B, C+, C, D, E\n",
    "Qualitative (Categorical) Data Type\n",
    "\n",
    "2. Colour of mangoes: yellow, green, orange, red\n",
    "Qualitative (Categorical) Data Type\n",
    "\n",
    "3. Height data of a class: [178.9, 179, 179.5, 176, 177.2, 178.3, 175.8,...]\n",
    "Quantitative (Continuous) Data Type\n",
    "\n",
    "4. Number of mangoes exported by a farm: [500, 600, 478, 672, ...]\n",
    "Quantitative (Discrete) Data Type\n",
    "\"\"\""
   ]
  },
  {
   "cell_type": "markdown",
   "id": "09a26075-7f1e-4a42-a3d3-989e2bf723ba",
   "metadata": {},
   "source": [
    "Question 5: Explain the concept of levels of measurement and give an example of a variable for each level?"
   ]
  },
  {
   "cell_type": "code",
   "execution_count": 8,
   "id": "5c1862fe-3a7c-4df6-a541-d56200d1a736",
   "metadata": {},
   "outputs": [],
   "source": [
    "Answer_5 = \"\"\" \n",
    "1. Nominal Level:\n",
    "You can categorize your data by labelling them in mutually exclusive groups, but there is no order between the categories.\n",
    "Examples: City of birth, Gender, Ethnicity, Car brands, Marital status\n",
    "\n",
    "2. Ordinal Level:\n",
    "You can categorize and rank your data in an order, but you cannot say anything about the intervals between the rankings.\n",
    "Although you can rank the top 5 Olympic medallists, this scale does not tell you how close or far apart they are in number of wins.\n",
    "\n",
    "Examples: Top 5 Olympic medallists, Language ability (e.g., beginner, intermediate, fluent)\n",
    "\n",
    "3. Interval Level:\n",
    "You can categorize, rank, and infer equal intervals between neighboring data points, but there is no true zero point.\n",
    "\n",
    "For example, the difference between any two adjacent temperatures is the same: one degree.\n",
    "But zero degrees is defined differently depending on the scale – it doesn’t mean an absolute absence of temperature.\n",
    "Other Examples: Test scores (e.g., IQ or exams), Personality inventories, Temperature in Fahrenheit or Celsius\n",
    "\n",
    "4. Ratio Level:\n",
    "You can categorize, rank, and infer equal intervals between neighboring data points, and there is a true zero point.\n",
    "A true zero means there is an absence of the variable of interest. In ratio scales, zero does mean an absolute lack of the variable.\n",
    "\n",
    "For example, in the Kelvin temperature scale, there are no negative degrees of temperature – zero means an absolute lack of thermal energy.\n",
    "Other Exmaples: Height, Age, Weight\n",
    "\"\"\""
   ]
  },
  {
   "cell_type": "markdown",
   "id": "6594fbb1-c647-4bb1-b15b-e32c2c1f9f67",
   "metadata": {},
   "source": [
    "Question 6: Why is it important to understand the level of measurement when analyzing data? Provide an example to illustrate your answer."
   ]
  },
  {
   "cell_type": "code",
   "execution_count": 9,
   "id": "cb4f83af-4952-4004-b232-67fd922ca2b7",
   "metadata": {},
   "outputs": [],
   "source": [
    "Answer_6 = \"\"\" \n",
    "Understanding the level of measuerment is important when analyzing data because it determines the type of statistical analyses,\n",
    "that can be performed on the data, as well as the appropriate way to interpret the results.\n",
    "Different types of statistical analysis are suited for different levels of measurement,\n",
    "and using an inappropriate analysis can result in inaccurate conclusions.\n",
    "\n",
    "If a variable is nominal, it is inappropriate to perform calculations such as mean or standard deviation,\n",
    "as these statistics are not meaningful for categorical data.\n",
    "Instead, appropriate measures for nominal data include frequency counts and percentages. If a variable is ordinal,\n",
    "it is appropriate to use measuers such as median or mode, but not mean,\n",
    "as the ranking of the values does not necessarily correspond to equal intervals.\n",
    "If a variable is interval or ratio, all three measuers (mean, median, and mode) can be used,\n",
    "as well as measuers such as standard deviation and correlation.\n",
    "\n",
    "An example to illustrate the importance of understanding the level of measurement is the analysis of income data.\n",
    "If income is measured as a nominal variable with categories such as \"less than 20,000\", \"20,000 to 40,000\", and \"more than 40,000\",\n",
    "it would be inappropriate to calculate the mean income, as the categories do not represent equal intervals. \n",
    "Instead, appropriate measures would include the frequency counts and percentages of individuals in each income category. \n",
    "If income is measured as a ratio variable in dollars, the mean income can be calculated and compared across different groups or time periods, \n",
    "and statistical tests such as t-tests or ANOVA can be used to determine whether there are significant differences in income between groups.\n",
    "\"\"\""
   ]
  },
  {
   "cell_type": "markdown",
   "id": "eb5433b8-8780-4fec-ae01-c3f670aed70d",
   "metadata": {},
   "source": [
    "Question 7: How nominal data type is different from ordinal data type."
   ]
  },
  {
   "cell_type": "code",
   "execution_count": 10,
   "id": "f995ce43-3475-43e3-9ca0-ba2eb3e7fe6a",
   "metadata": {},
   "outputs": [],
   "source": [
    "Answer_7 = \"\"\" \n",
    "Nominal data is a type of categorical data where the categories are unordered and do not have any inherent ranking or order.\n",
    "Nominal data simply represents different categories or groups, without any implied order or hierarchy.\n",
    "Examples of nominal data include gender (male/female), hair color (blonde, brown, black, etc.),\n",
    "or political affiliation (Republican, Democrat, Independent, etc.).\n",
    "\n",
    "Ordinal data, on the other hand, is also a type of categorical data, but the categories have a specific order or hierarchy.\n",
    "In other words, the categories can be ranked in a meaningful way.\n",
    "Examples of ordinal data include educational level (e.g. high school, some college, bachelor's degree, master's degree, etc.),\n",
    "socioeconomic status (e.g. low, middle, high), or level of agreement (e.g. strongly disagree, disagree, neutral, agree, strongly agree).\n",
    "\n",
    "The main difference between nominal and ordinal data is that ordinal data has a specific order or ranking of the categories,\n",
    "while nominal data does not\n",
    "\"\"\""
   ]
  },
  {
   "cell_type": "markdown",
   "id": "d3b70034-874a-44c1-9119-bfd17848016e",
   "metadata": {},
   "source": [
    "Question 8: Which type of plot can be used to display data in terms of range?"
   ]
  },
  {
   "cell_type": "code",
   "execution_count": 11,
   "id": "4f968054-05f1-4cb9-8150-408843fa1a2c",
   "metadata": {},
   "outputs": [],
   "source": [
    "Answer_8 = \"\"\" \n",
    "A type of plot that can be used to display data in terms of range is a box plot (also known as a box-and-whisker plot).\n",
    "A box plot is a graphical representation of the distribution of a set of continuous data,\n",
    "using five summary statistics: the minimum value, the first quartile (Q1), the median, the third quartile (Q3), and the maximum value.\n",
    "\n",
    "For example, a box plot could be used to display the range of temperatures recorded in a city over a given period of time.\n",
    "The minimum and maximum values would be represented by the whiskers, and the box would represent the interquartile range (the middle 50% of the data). The median temperature would be represented by a line inside the box. This would allow for easy comparison of temperature ranges across different months or years, and also identify any unusually high or low temperatures as outliers.\n",
    "\"\"\""
   ]
  },
  {
   "cell_type": "markdown",
   "id": "30246534-ed5e-4cf8-85e7-e05d7f07d8a8",
   "metadata": {},
   "source": [
    "Question_9: Describe the difference between descriptive and inferential statistics. Give an example of each type of statistics and explain how they are used?"
   ]
  },
  {
   "cell_type": "code",
   "execution_count": 13,
   "id": "25abe600-9245-48d2-83b4-8f61c6c8644c",
   "metadata": {},
   "outputs": [],
   "source": [
    "Answer_9 = \"\"\" \n",
    "Descriptive statistics involves summarizing and describing the main features of a data set,\n",
    "such as measures of central tendency (mean, median, mode) and measures of dispersion (range, standard deviation, variance).\n",
    "Descriptive statistics is used to provide a snapshot or summary of the data,\n",
    "in order to gain an understanding of the characteristics and patterns of the data set.\n",
    "Examples of descriptive statistics include calculating the mean height of a group of people or the standard deviation of their weights.\n",
    "\n",
    "Inferential statistics, on the other hand, involves using statistical methods to make inferences or draw conclusions about a population,\n",
    "based on a sample of data.\n",
    "Inferential statistics is used to test hypotheses or answer research questions,\n",
    "by making predictions or generalizations about a larger group based on a smaller subset of data.\n",
    "Examples of inferential statistics include hypothesis testing, confidence intervals, and regression analysis.\n",
    "\"\"\""
   ]
  },
  {
   "cell_type": "markdown",
   "id": "65f3a433-4f83-49a5-a75f-7285fc313d6c",
   "metadata": {},
   "source": [
    "Question 10: What are some common measures of central tendency and variabiliy used in statistics? Explain how each measure can be used to describe a dataset."
   ]
  },
  {
   "cell_type": "code",
   "execution_count": null,
   "id": "f8f5f22d-d0c1-4743-8c19-02ffbd81b2d4",
   "metadata": {},
   "outputs": [],
   "source": [
    "Answer_10 = \"\"\" \n",
    "Some of the common Measures of Central Tendency used in Statistics are:\n",
    "\n",
    "1. Mean: The arithmetic mean, or average, is calculated by summing all the values in a dataset and dividing by the number of values.\n",
    "   The mean is a useful measure of central tendency when the data is normally distributed and there are no extreme values or outliers.\n",
    "\n",
    "2. Median: The median is the middle value in a dataset when the values are arranged in order.\n",
    "   The median is useful when there are extreme values or outliers in the dataset,\n",
    "   since it is not affected by these values in the same way as the mean.\n",
    "\n",
    "3. Mode: The mode is the most common value in a dataset.\n",
    "   The mode is useful when dealing with categorical data or discrete variables, where there may be several values that occur with the same frequency.\n",
    "\n",
    "Some of the common Measures of Variability used in Statistics are:\n",
    "\n",
    "1. Range: The range is the difference between the largest and smallest values in a dataset.\n",
    "   The range provides a simple measure of variability, but it can be sensitive to extreme values or outliers.\n",
    "\n",
    "2. Variance: The variance measures the average squared deviation from the mean in a dataset.\n",
    "   The variance is useful when you want to quantify the spread of a dataset, and it is used in many statistical tests and models.\n",
    "\n",
    "3. Standard deviation: The standard deviation is the square root of the variance.\n",
    "   The standard deviation provides a more intuitive measure of variability, since it is in the same units as the original data.\n",
    "\"\"\""
   ]
  }
 ],
 "metadata": {
  "kernelspec": {
   "display_name": "Python 3 (ipykernel)",
   "language": "python",
   "name": "python3"
  },
  "language_info": {
   "codemirror_mode": {
    "name": "ipython",
    "version": 3
   },
   "file_extension": ".py",
   "mimetype": "text/x-python",
   "name": "python",
   "nbconvert_exporter": "python",
   "pygments_lexer": "ipython3",
   "version": "3.10.8"
  }
 },
 "nbformat": 4,
 "nbformat_minor": 5
}
